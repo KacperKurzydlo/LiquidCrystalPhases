{
  "cells": [
    {
      "cell_type": "markdown",
      "metadata": {
        "id": "view-in-github",
        "colab_type": "text"
      },
      "source": [
        "<a href=\"https://colab.research.google.com/github/KacperKurzydlo/LiquidCrystalPhases/blob/main/LCP_100x100_1.ipynb\" target=\"_parent\"><img src=\"https://colab.research.google.com/assets/colab-badge.svg\" alt=\"Open In Colab\"/></a>"
      ]
    },
    {
      "cell_type": "code",
      "execution_count": 1,
      "metadata": {
        "colab": {
          "base_uri": "https://localhost:8080/"
        },
        "id": "647sNsjCJ0hX",
        "outputId": "e314dc42-db8d-4594-c442-3ebb177ad046"
      },
      "outputs": [
        {
          "output_type": "stream",
          "name": "stdout",
          "text": [
            "Requirement already satisfied: h5py in /usr/local/lib/python3.10/dist-packages (3.8.0)\n",
            "Requirement already satisfied: numpy>=1.14.5 in /usr/local/lib/python3.10/dist-packages (from h5py) (1.22.4)\n",
            "Requirement already satisfied: typing-extensions in /usr/local/lib/python3.10/dist-packages (4.7.1)\n",
            "Requirement already satisfied: wheel in /usr/local/lib/python3.10/dist-packages (0.41.0)\n"
          ]
        }
      ],
      "source": [
        "!pip install h5py\n",
        "!pip install typing-extensions\n",
        "!pip install wheel"
      ]
    },
    {
      "cell_type": "code",
      "execution_count": 2,
      "metadata": {
        "colab": {
          "base_uri": "https://localhost:8080/"
        },
        "id": "kq6qJdUqIWCQ",
        "outputId": "4e2a79fe-b538-4201-e53f-55a17f858a85"
      },
      "outputs": [
        {
          "output_type": "stream",
          "name": "stdout",
          "text": [
            "Collecting tensorflow==2.8\n",
            "  Downloading tensorflow-2.8.0-cp310-cp310-manylinux2010_x86_64.whl (497.6 MB)\n",
            "\u001b[2K     \u001b[90m━━━━━━━━━━━━━━━━━━━━━━━━━━━━━━━━━━━━━━━\u001b[0m \u001b[32m497.6/497.6 MB\u001b[0m \u001b[31m2.5 MB/s\u001b[0m eta \u001b[36m0:00:00\u001b[0m\n",
            "\u001b[?25hRequirement already satisfied: absl-py>=0.4.0 in /usr/local/lib/python3.10/dist-packages (from tensorflow==2.8) (1.4.0)\n",
            "Requirement already satisfied: astunparse>=1.6.0 in /usr/local/lib/python3.10/dist-packages (from tensorflow==2.8) (1.6.3)\n",
            "Requirement already satisfied: flatbuffers>=1.12 in /usr/local/lib/python3.10/dist-packages (from tensorflow==2.8) (23.5.26)\n",
            "Requirement already satisfied: gast>=0.2.1 in /usr/local/lib/python3.10/dist-packages (from tensorflow==2.8) (0.4.0)\n",
            "Requirement already satisfied: google-pasta>=0.1.1 in /usr/local/lib/python3.10/dist-packages (from tensorflow==2.8) (0.2.0)\n",
            "Requirement already satisfied: h5py>=2.9.0 in /usr/local/lib/python3.10/dist-packages (from tensorflow==2.8) (3.8.0)\n",
            "Collecting keras-preprocessing>=1.1.1 (from tensorflow==2.8)\n",
            "  Downloading Keras_Preprocessing-1.1.2-py2.py3-none-any.whl (42 kB)\n",
            "\u001b[2K     \u001b[90m━━━━━━━━━━━━━━━━━━━━━━━━━━━━━━━━━━━━━━━━\u001b[0m \u001b[32m42.6/42.6 kB\u001b[0m \u001b[31m3.7 MB/s\u001b[0m eta \u001b[36m0:00:00\u001b[0m\n",
            "\u001b[?25hRequirement already satisfied: libclang>=9.0.1 in /usr/local/lib/python3.10/dist-packages (from tensorflow==2.8) (16.0.6)\n",
            "Requirement already satisfied: numpy>=1.20 in /usr/local/lib/python3.10/dist-packages (from tensorflow==2.8) (1.22.4)\n",
            "Requirement already satisfied: opt-einsum>=2.3.2 in /usr/local/lib/python3.10/dist-packages (from tensorflow==2.8) (3.3.0)\n",
            "Requirement already satisfied: protobuf>=3.9.2 in /usr/local/lib/python3.10/dist-packages (from tensorflow==2.8) (3.20.3)\n",
            "Requirement already satisfied: setuptools in /usr/local/lib/python3.10/dist-packages (from tensorflow==2.8) (67.7.2)\n",
            "Requirement already satisfied: six>=1.12.0 in /usr/local/lib/python3.10/dist-packages (from tensorflow==2.8) (1.16.0)\n",
            "Requirement already satisfied: termcolor>=1.1.0 in /usr/local/lib/python3.10/dist-packages (from tensorflow==2.8) (2.3.0)\n",
            "Requirement already satisfied: typing-extensions>=3.6.6 in /usr/local/lib/python3.10/dist-packages (from tensorflow==2.8) (4.7.1)\n",
            "Requirement already satisfied: wrapt>=1.11.0 in /usr/local/lib/python3.10/dist-packages (from tensorflow==2.8) (1.14.1)\n",
            "Collecting tensorboard<2.9,>=2.8 (from tensorflow==2.8)\n",
            "  Downloading tensorboard-2.8.0-py3-none-any.whl (5.8 MB)\n",
            "\u001b[2K     \u001b[90m━━━━━━━━━━━━━━━━━━━━━━━━━━━━━━━━━━━━━━━━\u001b[0m \u001b[32m5.8/5.8 MB\u001b[0m \u001b[31m80.0 MB/s\u001b[0m eta \u001b[36m0:00:00\u001b[0m\n",
            "\u001b[?25hCollecting tf-estimator-nightly==2.8.0.dev2021122109 (from tensorflow==2.8)\n",
            "  Downloading tf_estimator_nightly-2.8.0.dev2021122109-py2.py3-none-any.whl (462 kB)\n",
            "\u001b[2K     \u001b[90m━━━━━━━━━━━━━━━━━━━━━━━━━━━━━━━━━━━━━━\u001b[0m \u001b[32m462.5/462.5 kB\u001b[0m \u001b[31m41.1 MB/s\u001b[0m eta \u001b[36m0:00:00\u001b[0m\n",
            "\u001b[?25hCollecting keras<2.9,>=2.8.0rc0 (from tensorflow==2.8)\n",
            "  Downloading keras-2.8.0-py2.py3-none-any.whl (1.4 MB)\n",
            "\u001b[2K     \u001b[90m━━━━━━━━━━━━━━━━━━━━━━━━━━━━━━━━━━━━━━━━\u001b[0m \u001b[32m1.4/1.4 MB\u001b[0m \u001b[31m19.6 MB/s\u001b[0m eta \u001b[36m0:00:00\u001b[0m\n",
            "\u001b[?25hRequirement already satisfied: tensorflow-io-gcs-filesystem>=0.23.1 in /usr/local/lib/python3.10/dist-packages (from tensorflow==2.8) (0.32.0)\n",
            "Requirement already satisfied: grpcio<2.0,>=1.24.3 in /usr/local/lib/python3.10/dist-packages (from tensorflow==2.8) (1.56.2)\n",
            "Requirement already satisfied: wheel<1.0,>=0.23.0 in /usr/local/lib/python3.10/dist-packages (from astunparse>=1.6.0->tensorflow==2.8) (0.41.0)\n",
            "Requirement already satisfied: google-auth<3,>=1.6.3 in /usr/local/lib/python3.10/dist-packages (from tensorboard<2.9,>=2.8->tensorflow==2.8) (2.17.3)\n",
            "Collecting google-auth-oauthlib<0.5,>=0.4.1 (from tensorboard<2.9,>=2.8->tensorflow==2.8)\n",
            "  Downloading google_auth_oauthlib-0.4.6-py2.py3-none-any.whl (18 kB)\n",
            "Requirement already satisfied: markdown>=2.6.8 in /usr/local/lib/python3.10/dist-packages (from tensorboard<2.9,>=2.8->tensorflow==2.8) (3.4.4)\n",
            "Requirement already satisfied: requests<3,>=2.21.0 in /usr/local/lib/python3.10/dist-packages (from tensorboard<2.9,>=2.8->tensorflow==2.8) (2.27.1)\n",
            "Collecting tensorboard-data-server<0.7.0,>=0.6.0 (from tensorboard<2.9,>=2.8->tensorflow==2.8)\n",
            "  Downloading tensorboard_data_server-0.6.1-py3-none-manylinux2010_x86_64.whl (4.9 MB)\n",
            "\u001b[2K     \u001b[90m━━━━━━━━━━━━━━━━━━━━━━━━━━━━━━━━━━━━━━━━\u001b[0m \u001b[32m4.9/4.9 MB\u001b[0m \u001b[31m80.2 MB/s\u001b[0m eta \u001b[36m0:00:00\u001b[0m\n",
            "\u001b[?25hCollecting tensorboard-plugin-wit>=1.6.0 (from tensorboard<2.9,>=2.8->tensorflow==2.8)\n",
            "  Downloading tensorboard_plugin_wit-1.8.1-py3-none-any.whl (781 kB)\n",
            "\u001b[2K     \u001b[90m━━━━━━━━━━━━━━━━━━━━━━━━━━━━━━━━━━━━━━\u001b[0m \u001b[32m781.3/781.3 kB\u001b[0m \u001b[31m44.8 MB/s\u001b[0m eta \u001b[36m0:00:00\u001b[0m\n",
            "\u001b[?25hRequirement already satisfied: werkzeug>=0.11.15 in /usr/local/lib/python3.10/dist-packages (from tensorboard<2.9,>=2.8->tensorflow==2.8) (2.3.6)\n",
            "Requirement already satisfied: cachetools<6.0,>=2.0.0 in /usr/local/lib/python3.10/dist-packages (from google-auth<3,>=1.6.3->tensorboard<2.9,>=2.8->tensorflow==2.8) (5.3.1)\n",
            "Requirement already satisfied: pyasn1-modules>=0.2.1 in /usr/local/lib/python3.10/dist-packages (from google-auth<3,>=1.6.3->tensorboard<2.9,>=2.8->tensorflow==2.8) (0.3.0)\n",
            "Requirement already satisfied: rsa<5,>=3.1.4 in /usr/local/lib/python3.10/dist-packages (from google-auth<3,>=1.6.3->tensorboard<2.9,>=2.8->tensorflow==2.8) (4.9)\n",
            "Requirement already satisfied: requests-oauthlib>=0.7.0 in /usr/local/lib/python3.10/dist-packages (from google-auth-oauthlib<0.5,>=0.4.1->tensorboard<2.9,>=2.8->tensorflow==2.8) (1.3.1)\n",
            "Requirement already satisfied: urllib3<1.27,>=1.21.1 in /usr/local/lib/python3.10/dist-packages (from requests<3,>=2.21.0->tensorboard<2.9,>=2.8->tensorflow==2.8) (1.26.16)\n",
            "Requirement already satisfied: certifi>=2017.4.17 in /usr/local/lib/python3.10/dist-packages (from requests<3,>=2.21.0->tensorboard<2.9,>=2.8->tensorflow==2.8) (2023.7.22)\n",
            "Requirement already satisfied: charset-normalizer~=2.0.0 in /usr/local/lib/python3.10/dist-packages (from requests<3,>=2.21.0->tensorboard<2.9,>=2.8->tensorflow==2.8) (2.0.12)\n",
            "Requirement already satisfied: idna<4,>=2.5 in /usr/local/lib/python3.10/dist-packages (from requests<3,>=2.21.0->tensorboard<2.9,>=2.8->tensorflow==2.8) (3.4)\n",
            "Requirement already satisfied: MarkupSafe>=2.1.1 in /usr/local/lib/python3.10/dist-packages (from werkzeug>=0.11.15->tensorboard<2.9,>=2.8->tensorflow==2.8) (2.1.3)\n",
            "Requirement already satisfied: pyasn1<0.6.0,>=0.4.6 in /usr/local/lib/python3.10/dist-packages (from pyasn1-modules>=0.2.1->google-auth<3,>=1.6.3->tensorboard<2.9,>=2.8->tensorflow==2.8) (0.5.0)\n",
            "Requirement already satisfied: oauthlib>=3.0.0 in /usr/local/lib/python3.10/dist-packages (from requests-oauthlib>=0.7.0->google-auth-oauthlib<0.5,>=0.4.1->tensorboard<2.9,>=2.8->tensorflow==2.8) (3.2.2)\n",
            "Installing collected packages: tf-estimator-nightly, tensorboard-plugin-wit, keras, tensorboard-data-server, keras-preprocessing, google-auth-oauthlib, tensorboard, tensorflow\n",
            "  Attempting uninstall: keras\n",
            "    Found existing installation: keras 2.12.0\n",
            "    Uninstalling keras-2.12.0:\n",
            "      Successfully uninstalled keras-2.12.0\n",
            "  Attempting uninstall: tensorboard-data-server\n",
            "    Found existing installation: tensorboard-data-server 0.7.1\n",
            "    Uninstalling tensorboard-data-server-0.7.1:\n",
            "      Successfully uninstalled tensorboard-data-server-0.7.1\n",
            "  Attempting uninstall: google-auth-oauthlib\n",
            "    Found existing installation: google-auth-oauthlib 1.0.0\n",
            "    Uninstalling google-auth-oauthlib-1.0.0:\n",
            "      Successfully uninstalled google-auth-oauthlib-1.0.0\n",
            "  Attempting uninstall: tensorboard\n",
            "    Found existing installation: tensorboard 2.12.3\n",
            "    Uninstalling tensorboard-2.12.3:\n",
            "      Successfully uninstalled tensorboard-2.12.3\n",
            "  Attempting uninstall: tensorflow\n",
            "    Found existing installation: tensorflow 2.12.0\n",
            "    Uninstalling tensorflow-2.12.0:\n",
            "      Successfully uninstalled tensorflow-2.12.0\n",
            "Successfully installed google-auth-oauthlib-0.4.6 keras-2.8.0 keras-preprocessing-1.1.2 tensorboard-2.8.0 tensorboard-data-server-0.6.1 tensorboard-plugin-wit-1.8.1 tensorflow-2.8.0 tf-estimator-nightly-2.8.0.dev2021122109\n"
          ]
        }
      ],
      "source": [
        "!pip install tensorflow==2.8"
      ]
    },
    {
      "cell_type": "code",
      "execution_count": 3,
      "metadata": {
        "colab": {
          "base_uri": "https://localhost:8080/",
          "height": 35
        },
        "id": "I0X9qkMXs_pp",
        "outputId": "23befe52-ddf8-45c6-bd74-bb5cdc8458ea"
      },
      "outputs": [
        {
          "output_type": "execute_result",
          "data": {
            "text/plain": [
              "'2.8.0'"
            ],
            "application/vnd.google.colaboratory.intrinsic+json": {
              "type": "string"
            }
          },
          "metadata": {},
          "execution_count": 3
        }
      ],
      "source": [
        "import matplotlib.pyplot as plt\n",
        "import seaborn as sns\n",
        "import zipfile\n",
        "import numpy as np\n",
        "import cv2\n",
        "from google.colab.patches import cv2_imshow\n",
        "import tensorflow as tf\n",
        "from tensorflow.keras.callbacks import ReduceLROnPlateau\n",
        "from tensorflow.keras import regularizers\n",
        "from tensorflow.keras.callbacks import ModelCheckpoint, EarlyStopping\n",
        "from tensorflow.keras.models import Sequential\n",
        "from tensorflow.keras.layers import Conv2D, MaxPool2D, Flatten, Dense, BatchNormalization, Dropout\n",
        "from tensorflow.keras.preprocessing.image import ImageDataGenerator\n",
        "tf.__version__"
      ]
    },
    {
      "cell_type": "code",
      "execution_count": 4,
      "metadata": {
        "colab": {
          "base_uri": "https://localhost:8080/"
        },
        "id": "yQMOvsd99H-V",
        "outputId": "21763efa-e89e-46fb-ff67-f6e077f6db98"
      },
      "outputs": [
        {
          "output_type": "stream",
          "name": "stdout",
          "text": [
            "Mounted at /content/drive\n"
          ]
        }
      ],
      "source": [
        "from google.colab import drive\n",
        "drive.mount('/content/drive')"
      ]
    },
    {
      "cell_type": "code",
      "execution_count": 5,
      "metadata": {
        "id": "Y_BgiI3JxA9q"
      },
      "outputs": [],
      "source": [
        "path = '/content/drive/MyDrive/Praktyki/gotowe.zip'\n",
        "zip_object = zipfile.ZipFile(file=path, mode='r')\n",
        "zip_object.extractall('./')\n",
        "zip_object.close()"
      ]
    },
    {
      "cell_type": "code",
      "execution_count": 6,
      "metadata": {
        "id": "7-PhxwM60uM7"
      },
      "outputs": [],
      "source": [
        "training_generator = ImageDataGenerator(rescale=1./255,\n",
        "                                        horizontal_flip=True,\n",
        "                                        vertical_flip=True)\n"
      ]
    },
    {
      "cell_type": "code",
      "execution_count": 7,
      "metadata": {
        "colab": {
          "base_uri": "https://localhost:8080/"
        },
        "id": "jMErkkVv_mXw",
        "outputId": "786a49f8-09d4-4f7b-b657-7f18e92046c6"
      },
      "outputs": [
        {
          "output_type": "stream",
          "name": "stdout",
          "text": [
            "Found 11158 images belonging to 7 classes.\n"
          ]
        }
      ],
      "source": [
        "train_dataset = training_generator.flow_from_directory('/content/gotowe/train_set',\n",
        "                                                       target_size = (100, 100),\n",
        "                                                       batch_size = 10,\n",
        "                                                       color_mode='rgb',\n",
        "                                                       class_mode = 'categorical',\n",
        "                                                       shuffle = True)"
      ]
    },
    {
      "cell_type": "code",
      "execution_count": 8,
      "metadata": {
        "colab": {
          "base_uri": "https://localhost:8080/"
        },
        "id": "C4errPxfAukM",
        "outputId": "4e49a3f3-a65b-4f62-d02b-ba4fbc6535f2"
      },
      "outputs": [
        {
          "output_type": "execute_result",
          "data": {
            "text/plain": [
              "array([0, 0, 0, ..., 6, 6, 6], dtype=int32)"
            ]
          },
          "metadata": {},
          "execution_count": 8
        }
      ],
      "source": [
        "train_dataset.classes"
      ]
    },
    {
      "cell_type": "code",
      "execution_count": 9,
      "metadata": {
        "colab": {
          "base_uri": "https://localhost:8080/"
        },
        "id": "jYCiD3adA5xf",
        "outputId": "77918a39-a6dd-4f70-da9c-d62dd0ccbf6b"
      },
      "outputs": [
        {
          "output_type": "execute_result",
          "data": {
            "text/plain": [
              "{'nematyk': 0,\n",
              " 'smektyk_C': 1,\n",
              " 'smektyk_F': 2,\n",
              " 'smektyk_GMosaic': 3,\n",
              " 'smektyk_GSchliren': 4,\n",
              " 'smektyk_H': 5,\n",
              " 'smektyk_I': 6}"
            ]
          },
          "metadata": {},
          "execution_count": 9
        }
      ],
      "source": [
        "train_dataset.class_indices"
      ]
    },
    {
      "cell_type": "code",
      "execution_count": 10,
      "metadata": {
        "id": "6VK7xyH-BkSq"
      },
      "outputs": [],
      "source": [
        "test_generator = ImageDataGenerator(rescale=1./255)\n",
        "val_generator = ImageDataGenerator(rescale=1./255)"
      ]
    },
    {
      "cell_type": "code",
      "execution_count": 11,
      "metadata": {
        "colab": {
          "base_uri": "https://localhost:8080/"
        },
        "id": "84kKwMy6U7oh",
        "outputId": "85721678-89d8-4985-edee-6ce8b4b7767c"
      },
      "outputs": [
        {
          "output_type": "stream",
          "name": "stdout",
          "text": [
            "Found 1395 images belonging to 7 classes.\n"
          ]
        }
      ],
      "source": [
        "validation_dataset = val_generator.flow_from_directory('/content/gotowe/val_set',\n",
        "                                                        target_size=(100, 100),\n",
        "                                                        batch_size=1,\n",
        "                                                        class_mode='categorical',\n",
        "                                                        color_mode='rgb',\n",
        "                                                        shuffle=True) # set as validation data"
      ]
    },
    {
      "cell_type": "code",
      "execution_count": 12,
      "metadata": {
        "id": "PB2pU5bzXPTa"
      },
      "outputs": [],
      "source": [
        "L2 = 0.00001"
      ]
    },
    {
      "cell_type": "code",
      "execution_count": 13,
      "metadata": {
        "colab": {
          "base_uri": "https://localhost:8080/"
        },
        "id": "SdqIBmxiBvU1",
        "outputId": "f0e8a33b-03ef-42c0-ffe4-8accd116fdf4"
      },
      "outputs": [
        {
          "output_type": "stream",
          "name": "stdout",
          "text": [
            "Found 1396 images belonging to 7 classes.\n"
          ]
        }
      ],
      "source": [
        "test_datatset = test_generator.flow_from_directory('/content/gotowe/test_set',\n",
        "                                                   target_size = (100, 100),\n",
        "                                                   batch_size = 1,\n",
        "                                                   color_mode='rgb',\n",
        "                                                   class_mode = 'categorical',\n",
        "                                                   shuffle = False)"
      ]
    },
    {
      "cell_type": "code",
      "execution_count": 14,
      "metadata": {
        "id": "xVLgf1bADs_C"
      },
      "outputs": [],
      "source": [
        "initializer1 = tf.keras.initializers.HeNormal()\n",
        "initializer2 = tf.keras.initializers.GlorotUniform()"
      ]
    },
    {
      "cell_type": "code",
      "execution_count": 18,
      "metadata": {
        "colab": {
          "base_uri": "https://localhost:8080/"
        },
        "id": "QTr7SiKfD6UI",
        "outputId": "7e2a9c60-2d90-47c9-a399-95be35d41074"
      },
      "outputs": [
        {
          "output_type": "stream",
          "name": "stdout",
          "text": [
            "Model: \"sequential_3\"\n",
            "_________________________________________________________________\n",
            " Layer (type)                Output Shape              Param #   \n",
            "=================================================================\n",
            " conv2d_28 (Conv2D)          (None, 98, 98, 32)        896       \n",
            "                                                                 \n",
            " batch_normalization_31 (Bat  (None, 98, 98, 32)       128       \n",
            " chNormalization)                                                \n",
            "                                                                 \n",
            " max_pooling2d_19 (MaxPoolin  (None, 49, 49, 32)       0         \n",
            " g2D)                                                            \n",
            "                                                                 \n",
            " conv2d_29 (Conv2D)          (None, 49, 49, 64)        18496     \n",
            "                                                                 \n",
            " conv2d_30 (Conv2D)          (None, 49, 49, 64)        36928     \n",
            "                                                                 \n",
            " batch_normalization_32 (Bat  (None, 49, 49, 64)       256       \n",
            " chNormalization)                                                \n",
            "                                                                 \n",
            " max_pooling2d_20 (MaxPoolin  (None, 24, 24, 64)       0         \n",
            " g2D)                                                            \n",
            "                                                                 \n",
            " conv2d_31 (Conv2D)          (None, 24, 24, 128)       73856     \n",
            "                                                                 \n",
            " conv2d_32 (Conv2D)          (None, 24, 24, 128)       147584    \n",
            "                                                                 \n",
            " batch_normalization_33 (Bat  (None, 24, 24, 128)      512       \n",
            " chNormalization)                                                \n",
            "                                                                 \n",
            " max_pooling2d_21 (MaxPoolin  (None, 12, 12, 128)      0         \n",
            " g2D)                                                            \n",
            "                                                                 \n",
            " conv2d_33 (Conv2D)          (None, 12, 12, 256)       33024     \n",
            "                                                                 \n",
            " conv2d_34 (Conv2D)          (None, 12, 12, 256)       65792     \n",
            "                                                                 \n",
            " batch_normalization_34 (Bat  (None, 12, 12, 256)      1024      \n",
            " chNormalization)                                                \n",
            "                                                                 \n",
            " max_pooling2d_22 (MaxPoolin  (None, 6, 6, 256)        0         \n",
            " g2D)                                                            \n",
            "                                                                 \n",
            " conv2d_35 (Conv2D)          (None, 6, 6, 512)         131584    \n",
            "                                                                 \n",
            " batch_normalization_35 (Bat  (None, 6, 6, 512)        2048      \n",
            " chNormalization)                                                \n",
            "                                                                 \n",
            " max_pooling2d_23 (MaxPoolin  (None, 3, 3, 512)        0         \n",
            " g2D)                                                            \n",
            "                                                                 \n",
            " conv2d_36 (Conv2D)          (None, 3, 3, 1024)        525312    \n",
            "                                                                 \n",
            " batch_normalization_36 (Bat  (None, 3, 3, 1024)       4096      \n",
            " chNormalization)                                                \n",
            "                                                                 \n",
            " max_pooling2d_24 (MaxPoolin  (None, 1, 1, 1024)       0         \n",
            " g2D)                                                            \n",
            "                                                                 \n",
            " flatten_2 (Flatten)         (None, 1024)              0         \n",
            "                                                                 \n",
            " dense_14 (Dense)            (None, 1024)              1049600   \n",
            "                                                                 \n",
            " batch_normalization_37 (Bat  (None, 1024)             4096      \n",
            " chNormalization)                                                \n",
            "                                                                 \n",
            " dense_15 (Dense)            (None, 512)               524800    \n",
            "                                                                 \n",
            " batch_normalization_38 (Bat  (None, 512)              2048      \n",
            " chNormalization)                                                \n",
            "                                                                 \n",
            " dense_16 (Dense)            (None, 256)               131328    \n",
            "                                                                 \n",
            " batch_normalization_39 (Bat  (None, 256)              1024      \n",
            " chNormalization)                                                \n",
            "                                                                 \n",
            " dense_17 (Dense)            (None, 128)               32896     \n",
            "                                                                 \n",
            " batch_normalization_40 (Bat  (None, 128)              512       \n",
            " chNormalization)                                                \n",
            "                                                                 \n",
            " dense_18 (Dense)            (None, 64)                8256      \n",
            "                                                                 \n",
            " batch_normalization_41 (Bat  (None, 64)               256       \n",
            " chNormalization)                                                \n",
            "                                                                 \n",
            " dense_19 (Dense)            (None, 32)                2080      \n",
            "                                                                 \n",
            " batch_normalization_42 (Bat  (None, 32)               128       \n",
            " chNormalization)                                                \n",
            "                                                                 \n",
            " dense_20 (Dense)            (None, 7)                 231       \n",
            "                                                                 \n",
            "=================================================================\n",
            "Total params: 2,798,791\n",
            "Trainable params: 2,790,727\n",
            "Non-trainable params: 8,064\n",
            "_________________________________________________________________\n"
          ]
        }
      ],
      "source": [
        "network = Sequential()\n",
        "network.add(Conv2D(filters=32, kernel_size=(3,3), activation = 'relu', input_shape = (100,100,3), kernel_initializer=initializer1))\n",
        "network.add(BatchNormalization())\n",
        "network.add(MaxPool2D(pool_size=(2,2)))\n",
        "\n",
        "network.add(Conv2D(filters=64, kernel_size=(3,3), activation = 'relu', padding='same', kernel_initializer=initializer1))\n",
        "network.add(Conv2D(filters=64, kernel_size=(3,3), activation = 'relu', padding='same', kernel_initializer=initializer1))\n",
        "network.add(BatchNormalization())\n",
        "network.add(MaxPool2D(pool_size=(2,2)))\n",
        "\n",
        "network.add(Conv2D(filters=128, kernel_size=(3,3), activation = 'relu', padding='same', kernel_initializer=initializer1))\n",
        "network.add(Conv2D(filters=128, kernel_size=(3,3), activation = 'relu', padding='same', kernel_initializer=initializer1))\n",
        "network.add(BatchNormalization())\n",
        "network.add(MaxPool2D(pool_size=(2,2)))\n",
        "\n",
        "network.add(Conv2D(filters=256, kernel_size=(1,1), activation = 'relu', padding='same', kernel_initializer=initializer1))\n",
        "network.add(Conv2D(filters=256, kernel_size=(1,1), activation = 'relu', padding='same', kernel_initializer=initializer1))\n",
        "network.add(BatchNormalization())\n",
        "network.add(MaxPool2D(pool_size=(2,2)))\n",
        "\n",
        "network.add(Conv2D(filters=512, kernel_size=(1,1), activation = 'relu', padding='same', kernel_initializer=initializer1))\n",
        "network.add(BatchNormalization())\n",
        "network.add(MaxPool2D(pool_size=(2,2)))\n",
        "\n",
        "network.add(Conv2D(filters=1024, kernel_size=(1,1), activation = 'relu', padding='same', kernel_initializer=initializer1))\n",
        "network.add(BatchNormalization())\n",
        "network.add(MaxPool2D(pool_size=(2,2)))\n",
        "\n",
        "network.add(Flatten())\n",
        "\n",
        "#network.add(Dropout(0.2))\n",
        "\n",
        "network.add(Dense(units = 1024, activation = 'relu', kernel_initializer=initializer1))\n",
        "network.add(BatchNormalization())\n",
        "network.add(Dense(units = 512, activation = 'relu', kernel_initializer=initializer1))\n",
        "network.add(BatchNormalization())\n",
        "network.add(Dense(units = 256, activation = 'relu', kernel_initializer=initializer1))\n",
        "network.add(BatchNormalization())\n",
        "network.add(Dense(units = 128, activation = 'relu', kernel_initializer=initializer1))\n",
        "network.add(BatchNormalization())\n",
        "network.add(Dense(units = 64, activation = 'relu', kernel_initializer=initializer1))\n",
        "network.add(BatchNormalization())\n",
        "network.add(Dense(units = 32, activation = 'relu', kernel_initializer=initializer1, kernel_regularizer=tf.keras.regularizers.L1L2()))\n",
        "network.add(BatchNormalization())\n",
        "network.add(Dense(units = 7, activation = 'softmax', kernel_initializer=initializer2))\n",
        "network.summary()"
      ]
    },
    {
      "cell_type": "code",
      "execution_count": 19,
      "metadata": {
        "id": "6viOH_kUE4Bq"
      },
      "outputs": [],
      "source": [
        "from tensorflow.keras.optimizers import Adam\n",
        "#opt = Adam(lr=0.005)\n",
        "opt = Adam()\n",
        "network.compile(optimizer='Adam', loss='categorical_crossentropy', metrics = ['accuracy'])\n"
      ]
    },
    {
      "cell_type": "code",
      "execution_count": 20,
      "metadata": {
        "id": "5IXmjfYmbuYh"
      },
      "outputs": [],
      "source": [
        "es = EarlyStopping(monitor = 'val_accuracy', min_delta = 0.001, patience = 20, verbose =1)\n",
        "model_cp = ModelCheckpoint(filepath = 'best_model1.h5', monitor = 'val_accuracy', save_best_only = True, verbose = 1)\n",
        "learning_rate_reduction = ReduceLROnPlateau(monitor='val_accuracy', patience = 5, verbose=1, factor=0.5, min_lr=0.00001)"
      ]
    },
    {
      "cell_type": "code",
      "execution_count": 21,
      "metadata": {
        "colab": {
          "base_uri": "https://localhost:8080/"
        },
        "id": "Uk8BSV5gGazz",
        "outputId": "30b3f14a-7895-4ae3-a349-e366e402c729"
      },
      "outputs": [
        {
          "output_type": "stream",
          "name": "stdout",
          "text": [
            "Epoch 1/100\n"
          ]
        },
        {
          "output_type": "stream",
          "name": "stderr",
          "text": [
            "<ipython-input-21-d45876fe1552>:1: UserWarning: `Model.fit_generator` is deprecated and will be removed in a future version. Please use `Model.fit`, which supports generators.\n",
            "  history = network.fit_generator(train_dataset,\n"
          ]
        },
        {
          "output_type": "stream",
          "name": "stdout",
          "text": [
            "50/50 [==============================] - ETA: 0s - loss: 1.8382 - accuracy: 0.3193\n",
            "Epoch 1: val_accuracy improved from -inf to 0.06000, saving model to best_model1.h5\n",
            "50/50 [==============================] - 27s 492ms/step - loss: 1.8382 - accuracy: 0.3193 - val_loss: 3.2420 - val_accuracy: 0.0600 - lr: 0.0010\n",
            "Epoch 2/100\n",
            "50/50 [==============================] - ETA: 0s - loss: 1.5816 - accuracy: 0.4300\n",
            "Epoch 2: val_accuracy improved from 0.06000 to 0.14000, saving model to best_model1.h5\n",
            "50/50 [==============================] - 23s 461ms/step - loss: 1.5816 - accuracy: 0.4300 - val_loss: 4.9488 - val_accuracy: 0.1400 - lr: 0.0010\n",
            "Epoch 3/100\n",
            "50/50 [==============================] - ETA: 0s - loss: 1.4431 - accuracy: 0.4820\n",
            "Epoch 3: val_accuracy improved from 0.14000 to 0.34000, saving model to best_model1.h5\n",
            "50/50 [==============================] - 22s 445ms/step - loss: 1.4431 - accuracy: 0.4820 - val_loss: 3.3952 - val_accuracy: 0.3400 - lr: 0.0010\n",
            "Epoch 4/100\n",
            "50/50 [==============================] - ETA: 0s - loss: 1.3277 - accuracy: 0.5260\n",
            "Epoch 4: val_accuracy did not improve from 0.34000\n",
            "50/50 [==============================] - 24s 484ms/step - loss: 1.3277 - accuracy: 0.5260 - val_loss: 2.7139 - val_accuracy: 0.2000 - lr: 0.0010\n",
            "Epoch 5/100\n",
            "50/50 [==============================] - ETA: 0s - loss: 1.2200 - accuracy: 0.5920\n",
            "Epoch 5: val_accuracy improved from 0.34000 to 0.36000, saving model to best_model1.h5\n",
            "50/50 [==============================] - 23s 462ms/step - loss: 1.2200 - accuracy: 0.5920 - val_loss: 2.3533 - val_accuracy: 0.3600 - lr: 0.0010\n",
            "Epoch 6/100\n",
            "50/50 [==============================] - ETA: 0s - loss: 1.2735 - accuracy: 0.5880\n",
            "Epoch 6: val_accuracy improved from 0.36000 to 0.38000, saving model to best_model1.h5\n",
            "50/50 [==============================] - 22s 440ms/step - loss: 1.2735 - accuracy: 0.5880 - val_loss: 1.6913 - val_accuracy: 0.3800 - lr: 0.0010\n",
            "Epoch 7/100\n",
            "50/50 [==============================] - ETA: 0s - loss: 1.2642 - accuracy: 0.5500\n",
            "Epoch 7: val_accuracy improved from 0.38000 to 0.46000, saving model to best_model1.h5\n",
            "50/50 [==============================] - 23s 457ms/step - loss: 1.2642 - accuracy: 0.5500 - val_loss: 1.8364 - val_accuracy: 0.4600 - lr: 0.0010\n",
            "Epoch 8/100\n",
            "50/50 [==============================] - ETA: 0s - loss: 1.1775 - accuracy: 0.6000\n",
            "Epoch 8: val_accuracy did not improve from 0.46000\n",
            "50/50 [==============================] - 24s 491ms/step - loss: 1.1775 - accuracy: 0.6000 - val_loss: 1.6164 - val_accuracy: 0.4600 - lr: 0.0010\n",
            "Epoch 9/100\n",
            "50/50 [==============================] - ETA: 0s - loss: 1.1286 - accuracy: 0.5980\n",
            "Epoch 9: val_accuracy improved from 0.46000 to 0.64000, saving model to best_model1.h5\n",
            "50/50 [==============================] - 22s 445ms/step - loss: 1.1286 - accuracy: 0.5980 - val_loss: 1.0746 - val_accuracy: 0.6400 - lr: 0.0010\n",
            "Epoch 10/100\n",
            "50/50 [==============================] - ETA: 0s - loss: 1.1420 - accuracy: 0.5940\n",
            "Epoch 10: val_accuracy did not improve from 0.64000\n",
            "50/50 [==============================] - 23s 462ms/step - loss: 1.1420 - accuracy: 0.5940 - val_loss: 0.9741 - val_accuracy: 0.6000 - lr: 0.0010\n",
            "Epoch 11/100\n",
            "50/50 [==============================] - ETA: 0s - loss: 1.0987 - accuracy: 0.6240\n",
            "Epoch 11: val_accuracy did not improve from 0.64000\n",
            "50/50 [==============================] - 23s 452ms/step - loss: 1.0987 - accuracy: 0.6240 - val_loss: 1.1595 - val_accuracy: 0.5800 - lr: 0.0010\n",
            "Epoch 12/100\n",
            "50/50 [==============================] - ETA: 0s - loss: 1.1058 - accuracy: 0.6160\n",
            "Epoch 12: val_accuracy did not improve from 0.64000\n",
            "50/50 [==============================] - 24s 489ms/step - loss: 1.1058 - accuracy: 0.6160 - val_loss: 1.1738 - val_accuracy: 0.5600 - lr: 0.0010\n",
            "Epoch 13/100\n",
            "50/50 [==============================] - ETA: 0s - loss: 1.1685 - accuracy: 0.5900\n",
            "Epoch 13: val_accuracy improved from 0.64000 to 0.70000, saving model to best_model1.h5\n",
            "50/50 [==============================] - 25s 492ms/step - loss: 1.1685 - accuracy: 0.5900 - val_loss: 0.8133 - val_accuracy: 0.7000 - lr: 0.0010\n",
            "Epoch 14/100\n",
            "50/50 [==============================] - ETA: 0s - loss: 1.1687 - accuracy: 0.5840\n",
            "Epoch 14: val_accuracy did not improve from 0.70000\n",
            "50/50 [==============================] - 24s 487ms/step - loss: 1.1687 - accuracy: 0.5840 - val_loss: 1.0032 - val_accuracy: 0.6800 - lr: 0.0010\n",
            "Epoch 15/100\n",
            "50/50 [==============================] - ETA: 0s - loss: 1.0585 - accuracy: 0.6160\n",
            "Epoch 15: val_accuracy improved from 0.70000 to 0.74000, saving model to best_model1.h5\n",
            "50/50 [==============================] - 23s 452ms/step - loss: 1.0585 - accuracy: 0.6160 - val_loss: 0.7538 - val_accuracy: 0.7400 - lr: 0.0010\n",
            "Epoch 16/100\n",
            "50/50 [==============================] - ETA: 0s - loss: 1.1681 - accuracy: 0.5720\n",
            "Epoch 16: val_accuracy improved from 0.74000 to 0.76000, saving model to best_model1.h5\n",
            "50/50 [==============================] - 25s 495ms/step - loss: 1.1681 - accuracy: 0.5720 - val_loss: 0.8295 - val_accuracy: 0.7600 - lr: 0.0010\n",
            "Epoch 17/100\n",
            "50/50 [==============================] - ETA: 0s - loss: 1.1141 - accuracy: 0.6040\n",
            "Epoch 17: val_accuracy did not improve from 0.76000\n",
            "50/50 [==============================] - 24s 488ms/step - loss: 1.1141 - accuracy: 0.6040 - val_loss: 0.9598 - val_accuracy: 0.6800 - lr: 0.0010\n",
            "Epoch 18/100\n",
            "50/50 [==============================] - ETA: 0s - loss: 1.0106 - accuracy: 0.6300\n",
            "Epoch 18: val_accuracy did not improve from 0.76000\n",
            "50/50 [==============================] - 22s 441ms/step - loss: 1.0106 - accuracy: 0.6300 - val_loss: 0.8240 - val_accuracy: 0.7000 - lr: 0.0010\n",
            "Epoch 19/100\n",
            "50/50 [==============================] - ETA: 0s - loss: 0.9995 - accuracy: 0.6460\n",
            "Epoch 19: val_accuracy did not improve from 0.76000\n",
            "50/50 [==============================] - 25s 497ms/step - loss: 0.9995 - accuracy: 0.6460 - val_loss: 0.8464 - val_accuracy: 0.6400 - lr: 0.0010\n",
            "Epoch 20/100\n",
            "50/50 [==============================] - ETA: 0s - loss: 1.0741 - accuracy: 0.6020\n",
            "Epoch 20: val_accuracy did not improve from 0.76000\n",
            "50/50 [==============================] - 23s 463ms/step - loss: 1.0741 - accuracy: 0.6020 - val_loss: 1.0139 - val_accuracy: 0.6800 - lr: 0.0010\n",
            "Epoch 21/100\n",
            "50/50 [==============================] - ETA: 0s - loss: 1.0160 - accuracy: 0.6200\n",
            "Epoch 21: val_accuracy did not improve from 0.76000\n",
            "\n",
            "Epoch 21: ReduceLROnPlateau reducing learning rate to 0.0005000000237487257.\n",
            "50/50 [==============================] - 22s 450ms/step - loss: 1.0160 - accuracy: 0.6200 - val_loss: 0.9781 - val_accuracy: 0.6400 - lr: 0.0010\n",
            "Epoch 22/100\n",
            "50/50 [==============================] - ETA: 0s - loss: 0.8899 - accuracy: 0.7040\n",
            "Epoch 22: val_accuracy did not improve from 0.76000\n",
            "50/50 [==============================] - 23s 454ms/step - loss: 0.8899 - accuracy: 0.7040 - val_loss: 0.8103 - val_accuracy: 0.6400 - lr: 5.0000e-04\n",
            "Epoch 23/100\n",
            "50/50 [==============================] - ETA: 0s - loss: 1.0029 - accuracy: 0.6520\n",
            "Epoch 23: val_accuracy improved from 0.76000 to 0.80000, saving model to best_model1.h5\n",
            "50/50 [==============================] - 23s 456ms/step - loss: 1.0029 - accuracy: 0.6520 - val_loss: 0.6648 - val_accuracy: 0.8000 - lr: 5.0000e-04\n",
            "Epoch 24/100\n",
            "50/50 [==============================] - ETA: 0s - loss: 1.0212 - accuracy: 0.6580\n",
            "Epoch 24: val_accuracy did not improve from 0.80000\n",
            "50/50 [==============================] - 24s 490ms/step - loss: 1.0212 - accuracy: 0.6580 - val_loss: 0.5864 - val_accuracy: 0.8000 - lr: 5.0000e-04\n",
            "Epoch 25/100\n",
            "50/50 [==============================] - ETA: 0s - loss: 1.0281 - accuracy: 0.6225\n",
            "Epoch 25: val_accuracy did not improve from 0.80000\n",
            "50/50 [==============================] - 24s 487ms/step - loss: 1.0281 - accuracy: 0.6225 - val_loss: 0.8511 - val_accuracy: 0.7200 - lr: 5.0000e-04\n",
            "Epoch 26/100\n",
            "50/50 [==============================] - ETA: 0s - loss: 0.9314 - accuracy: 0.6620\n",
            "Epoch 26: val_accuracy did not improve from 0.80000\n",
            "50/50 [==============================] - 23s 457ms/step - loss: 0.9314 - accuracy: 0.6620 - val_loss: 0.8634 - val_accuracy: 0.7200 - lr: 5.0000e-04\n",
            "Epoch 27/100\n",
            "50/50 [==============================] - ETA: 0s - loss: 0.9347 - accuracy: 0.6420\n",
            "Epoch 27: val_accuracy did not improve from 0.80000\n",
            "50/50 [==============================] - 23s 454ms/step - loss: 0.9347 - accuracy: 0.6420 - val_loss: 0.5124 - val_accuracy: 0.8000 - lr: 5.0000e-04\n",
            "Epoch 28/100\n",
            "50/50 [==============================] - ETA: 0s - loss: 0.9679 - accuracy: 0.6420\n",
            "Epoch 28: val_accuracy did not improve from 0.80000\n",
            "\n",
            "Epoch 28: ReduceLROnPlateau reducing learning rate to 0.0002500000118743628.\n",
            "50/50 [==============================] - 22s 440ms/step - loss: 0.9679 - accuracy: 0.6420 - val_loss: 0.9754 - val_accuracy: 0.6000 - lr: 5.0000e-04\n",
            "Epoch 29/100\n",
            "50/50 [==============================] - ETA: 0s - loss: 0.8817 - accuracy: 0.6540\n",
            "Epoch 29: val_accuracy did not improve from 0.80000\n",
            "50/50 [==============================] - 22s 448ms/step - loss: 0.8817 - accuracy: 0.6540 - val_loss: 0.9229 - val_accuracy: 0.6800 - lr: 2.5000e-04\n",
            "Epoch 30/100\n",
            "50/50 [==============================] - ETA: 0s - loss: 0.8870 - accuracy: 0.7040\n",
            "Epoch 30: val_accuracy did not improve from 0.80000\n",
            "50/50 [==============================] - 24s 487ms/step - loss: 0.8870 - accuracy: 0.7040 - val_loss: 0.5231 - val_accuracy: 0.8000 - lr: 2.5000e-04\n",
            "Epoch 31/100\n",
            "50/50 [==============================] - ETA: 0s - loss: 0.9266 - accuracy: 0.6720\n",
            "Epoch 31: val_accuracy did not improve from 0.80000\n",
            "50/50 [==============================] - 23s 455ms/step - loss: 0.9266 - accuracy: 0.6720 - val_loss: 0.7324 - val_accuracy: 0.7800 - lr: 2.5000e-04\n",
            "Epoch 32/100\n",
            "50/50 [==============================] - ETA: 0s - loss: 0.9114 - accuracy: 0.6620\n",
            "Epoch 32: val_accuracy did not improve from 0.80000\n",
            "50/50 [==============================] - 24s 485ms/step - loss: 0.9114 - accuracy: 0.6620 - val_loss: 0.8511 - val_accuracy: 0.6400 - lr: 2.5000e-04\n",
            "Epoch 33/100\n",
            "50/50 [==============================] - ETA: 0s - loss: 0.9170 - accuracy: 0.6720\n",
            "Epoch 33: val_accuracy did not improve from 0.80000\n",
            "\n",
            "Epoch 33: ReduceLROnPlateau reducing learning rate to 0.0001250000059371814.\n",
            "50/50 [==============================] - 24s 483ms/step - loss: 0.9170 - accuracy: 0.6720 - val_loss: 0.6219 - val_accuracy: 0.8000 - lr: 2.5000e-04\n",
            "Epoch 34/100\n",
            "50/50 [==============================] - ETA: 0s - loss: 0.7884 - accuracy: 0.7180\n",
            "Epoch 34: val_accuracy improved from 0.80000 to 0.84000, saving model to best_model1.h5\n",
            "50/50 [==============================] - 25s 504ms/step - loss: 0.7884 - accuracy: 0.7180 - val_loss: 0.5621 - val_accuracy: 0.8400 - lr: 1.2500e-04\n",
            "Epoch 35/100\n",
            "50/50 [==============================] - ETA: 0s - loss: 0.9153 - accuracy: 0.6647\n",
            "Epoch 35: val_accuracy did not improve from 0.84000\n",
            "50/50 [==============================] - 22s 446ms/step - loss: 0.9153 - accuracy: 0.6647 - val_loss: 0.5734 - val_accuracy: 0.8200 - lr: 1.2500e-04\n",
            "Epoch 36/100\n",
            "50/50 [==============================] - ETA: 0s - loss: 0.9007 - accuracy: 0.6760\n",
            "Epoch 36: val_accuracy did not improve from 0.84000\n",
            "50/50 [==============================] - 24s 489ms/step - loss: 0.9007 - accuracy: 0.6760 - val_loss: 0.6561 - val_accuracy: 0.8200 - lr: 1.2500e-04\n",
            "Epoch 37/100\n",
            "50/50 [==============================] - ETA: 0s - loss: 0.8076 - accuracy: 0.6980\n",
            "Epoch 37: val_accuracy did not improve from 0.84000\n",
            "50/50 [==============================] - 23s 461ms/step - loss: 0.8076 - accuracy: 0.6980 - val_loss: 0.5716 - val_accuracy: 0.8000 - lr: 1.2500e-04\n",
            "Epoch 38/100\n",
            "50/50 [==============================] - ETA: 0s - loss: 0.8758 - accuracy: 0.6840\n",
            "Epoch 38: val_accuracy did not improve from 0.84000\n",
            "50/50 [==============================] - 22s 450ms/step - loss: 0.8758 - accuracy: 0.6840 - val_loss: 0.6267 - val_accuracy: 0.8000 - lr: 1.2500e-04\n",
            "Epoch 39/100\n",
            "50/50 [==============================] - ETA: 0s - loss: 0.8254 - accuracy: 0.7040\n",
            "Epoch 39: val_accuracy improved from 0.84000 to 0.92000, saving model to best_model1.h5\n",
            "50/50 [==============================] - 24s 488ms/step - loss: 0.8254 - accuracy: 0.7040 - val_loss: 0.3779 - val_accuracy: 0.9200 - lr: 1.2500e-04\n",
            "Epoch 40/100\n",
            "50/50 [==============================] - ETA: 0s - loss: 0.8652 - accuracy: 0.7068\n",
            "Epoch 40: val_accuracy did not improve from 0.92000\n",
            "50/50 [==============================] - 25s 504ms/step - loss: 0.8652 - accuracy: 0.7068 - val_loss: 0.8124 - val_accuracy: 0.7200 - lr: 1.2500e-04\n",
            "Epoch 41/100\n",
            "50/50 [==============================] - ETA: 0s - loss: 0.8031 - accuracy: 0.7220\n",
            "Epoch 41: val_accuracy did not improve from 0.92000\n",
            "50/50 [==============================] - 22s 446ms/step - loss: 0.8031 - accuracy: 0.7220 - val_loss: 0.9259 - val_accuracy: 0.7200 - lr: 1.2500e-04\n",
            "Epoch 42/100\n",
            "50/50 [==============================] - ETA: 0s - loss: 0.7869 - accuracy: 0.7220\n",
            "Epoch 42: val_accuracy did not improve from 0.92000\n",
            "50/50 [==============================] - 24s 489ms/step - loss: 0.7869 - accuracy: 0.7220 - val_loss: 0.4974 - val_accuracy: 0.8800 - lr: 1.2500e-04\n",
            "Epoch 43/100\n",
            "50/50 [==============================] - ETA: 0s - loss: 0.7676 - accuracy: 0.7200\n",
            "Epoch 43: val_accuracy did not improve from 0.92000\n",
            "50/50 [==============================] - 23s 459ms/step - loss: 0.7676 - accuracy: 0.7200 - val_loss: 0.6328 - val_accuracy: 0.7800 - lr: 1.2500e-04\n",
            "Epoch 44/100\n",
            "50/50 [==============================] - ETA: 0s - loss: 0.7807 - accuracy: 0.7420\n",
            "Epoch 44: val_accuracy did not improve from 0.92000\n",
            "\n",
            "Epoch 44: ReduceLROnPlateau reducing learning rate to 6.25000029685907e-05.\n",
            "50/50 [==============================] - 25s 489ms/step - loss: 0.7807 - accuracy: 0.7420 - val_loss: 0.7608 - val_accuracy: 0.7400 - lr: 1.2500e-04\n",
            "Epoch 45/100\n",
            "50/50 [==============================] - ETA: 0s - loss: 0.8777 - accuracy: 0.6580\n",
            "Epoch 45: val_accuracy did not improve from 0.92000\n",
            "50/50 [==============================] - 23s 464ms/step - loss: 0.8777 - accuracy: 0.6580 - val_loss: 0.5717 - val_accuracy: 0.7600 - lr: 6.2500e-05\n",
            "Epoch 46/100\n",
            "50/50 [==============================] - ETA: 0s - loss: 0.8451 - accuracy: 0.7080\n",
            "Epoch 46: val_accuracy did not improve from 0.92000\n",
            "50/50 [==============================] - 23s 466ms/step - loss: 0.8451 - accuracy: 0.7080 - val_loss: 0.5778 - val_accuracy: 0.8200 - lr: 6.2500e-05\n",
            "Epoch 47/100\n",
            "50/50 [==============================] - ETA: 0s - loss: 0.9070 - accuracy: 0.6720\n",
            "Epoch 47: val_accuracy did not improve from 0.92000\n",
            "50/50 [==============================] - 25s 508ms/step - loss: 0.9070 - accuracy: 0.6720 - val_loss: 0.5897 - val_accuracy: 0.8800 - lr: 6.2500e-05\n",
            "Epoch 48/100\n",
            "50/50 [==============================] - ETA: 0s - loss: 0.8055 - accuracy: 0.7100\n",
            "Epoch 48: val_accuracy did not improve from 0.92000\n",
            "50/50 [==============================] - 23s 453ms/step - loss: 0.8055 - accuracy: 0.7100 - val_loss: 0.4523 - val_accuracy: 0.9000 - lr: 6.2500e-05\n",
            "Epoch 49/100\n",
            "50/50 [==============================] - ETA: 0s - loss: 0.7308 - accuracy: 0.7360\n",
            "Epoch 49: val_accuracy did not improve from 0.92000\n",
            "\n",
            "Epoch 49: ReduceLROnPlateau reducing learning rate to 3.125000148429535e-05.\n",
            "50/50 [==============================] - 22s 448ms/step - loss: 0.7308 - accuracy: 0.7360 - val_loss: 0.4331 - val_accuracy: 0.8600 - lr: 6.2500e-05\n",
            "Epoch 50/100\n",
            "50/50 [==============================] - ETA: 0s - loss: 0.8342 - accuracy: 0.7320\n",
            "Epoch 50: val_accuracy did not improve from 0.92000\n",
            "50/50 [==============================] - 24s 480ms/step - loss: 0.8342 - accuracy: 0.7320 - val_loss: 0.5668 - val_accuracy: 0.7800 - lr: 3.1250e-05\n",
            "Epoch 51/100\n",
            "50/50 [==============================] - ETA: 0s - loss: 0.8502 - accuracy: 0.6800\n",
            "Epoch 51: val_accuracy did not improve from 0.92000\n",
            "50/50 [==============================] - 25s 495ms/step - loss: 0.8502 - accuracy: 0.6800 - val_loss: 0.5208 - val_accuracy: 0.8600 - lr: 3.1250e-05\n",
            "Epoch 52/100\n",
            "50/50 [==============================] - ETA: 0s - loss: 0.7840 - accuracy: 0.7108\n",
            "Epoch 52: val_accuracy did not improve from 0.92000\n",
            "50/50 [==============================] - 23s 451ms/step - loss: 0.7840 - accuracy: 0.7108 - val_loss: 0.4918 - val_accuracy: 0.8800 - lr: 3.1250e-05\n",
            "Epoch 53/100\n",
            "50/50 [==============================] - ETA: 0s - loss: 0.8419 - accuracy: 0.6960\n",
            "Epoch 53: val_accuracy did not improve from 0.92000\n",
            "50/50 [==============================] - 28s 554ms/step - loss: 0.8419 - accuracy: 0.6960 - val_loss: 0.5744 - val_accuracy: 0.8200 - lr: 3.1250e-05\n",
            "Epoch 54/100\n",
            "50/50 [==============================] - ETA: 0s - loss: 0.7856 - accuracy: 0.7180\n",
            "Epoch 54: val_accuracy did not improve from 0.92000\n",
            "\n",
            "Epoch 54: ReduceLROnPlateau reducing learning rate to 1.5625000742147677e-05.\n",
            "50/50 [==============================] - 25s 492ms/step - loss: 0.7856 - accuracy: 0.7180 - val_loss: 0.4858 - val_accuracy: 0.8600 - lr: 3.1250e-05\n",
            "Epoch 55/100\n",
            "50/50 [==============================] - ETA: 0s - loss: 0.8018 - accuracy: 0.7280\n",
            "Epoch 55: val_accuracy did not improve from 0.92000\n",
            "50/50 [==============================] - 23s 457ms/step - loss: 0.8018 - accuracy: 0.7280 - val_loss: 0.6603 - val_accuracy: 0.7200 - lr: 1.5625e-05\n",
            "Epoch 56/100\n",
            "50/50 [==============================] - ETA: 0s - loss: 0.7513 - accuracy: 0.7160\n",
            "Epoch 56: val_accuracy did not improve from 0.92000\n",
            "50/50 [==============================] - 22s 442ms/step - loss: 0.7513 - accuracy: 0.7160 - val_loss: 0.5858 - val_accuracy: 0.8200 - lr: 1.5625e-05\n",
            "Epoch 57/100\n",
            "50/50 [==============================] - ETA: 0s - loss: 0.7754 - accuracy: 0.7340\n",
            "Epoch 57: val_accuracy did not improve from 0.92000\n",
            "50/50 [==============================] - 22s 440ms/step - loss: 0.7754 - accuracy: 0.7340 - val_loss: 0.5281 - val_accuracy: 0.8600 - lr: 1.5625e-05\n",
            "Epoch 58/100\n",
            "50/50 [==============================] - ETA: 0s - loss: 0.8270 - accuracy: 0.7100\n",
            "Epoch 58: val_accuracy did not improve from 0.92000\n",
            "50/50 [==============================] - 24s 484ms/step - loss: 0.8270 - accuracy: 0.7100 - val_loss: 0.7253 - val_accuracy: 0.7200 - lr: 1.5625e-05\n",
            "Epoch 59/100\n",
            "50/50 [==============================] - ETA: 0s - loss: 0.7801 - accuracy: 0.7300\n",
            "Epoch 59: val_accuracy did not improve from 0.92000\n",
            "\n",
            "Epoch 59: ReduceLROnPlateau reducing learning rate to 1e-05.\n",
            "50/50 [==============================] - 22s 437ms/step - loss: 0.7801 - accuracy: 0.7300 - val_loss: 0.6337 - val_accuracy: 0.8000 - lr: 1.5625e-05\n",
            "Epoch 59: early stopping\n"
          ]
        }
      ],
      "source": [
        "history = network.fit_generator(train_dataset,\n",
        "                                steps_per_epoch = 50,\n",
        "                                validation_data = validation_dataset,\n",
        "                                validation_steps = 50,\n",
        "                                epochs=100,\n",
        "                                callbacks=[es, model_cp, learning_rate_reduction])"
      ]
    },
    {
      "cell_type": "markdown",
      "metadata": {
        "id": "0yfuhbovltQA"
      },
      "source": []
    },
    {
      "cell_type": "code",
      "execution_count": 22,
      "metadata": {
        "id": "4xXIb__YN8jO"
      },
      "outputs": [],
      "source": [
        "predictions=network.predict(test_datatset)\n",
        "predictions = np.argmax(predictions, axis=1)"
      ]
    },
    {
      "cell_type": "code",
      "execution_count": 23,
      "metadata": {
        "colab": {
          "base_uri": "https://localhost:8080/"
        },
        "id": "MfitKd4WOO0c",
        "outputId": "4c931923-3e95-4905-a725-7061fe4731a5"
      },
      "outputs": [
        {
          "output_type": "execute_result",
          "data": {
            "text/plain": [
              "0.8094555873925502"
            ]
          },
          "metadata": {},
          "execution_count": 23
        }
      ],
      "source": [
        "from sklearn.metrics import accuracy_score\n",
        "accuracy_score(test_datatset.classes, predictions)"
      ]
    },
    {
      "cell_type": "code",
      "execution_count": 24,
      "metadata": {
        "colab": {
          "base_uri": "https://localhost:8080/",
          "height": 430
        },
        "id": "CwufQs6AOjVu",
        "outputId": "53b15df6-78a0-40de-d608-f7a6b2866f7a"
      },
      "outputs": [
        {
          "output_type": "display_data",
          "data": {
            "text/plain": [
              "<Figure size 640x480 with 2 Axes>"
            ],
            "image/png": "[encoded data removed]"
          },
          "metadata": {}
        }
      ],
      "source": [
        "from sklearn.metrics import confusion_matrix\n",
        "cm = confusion_matrix(test_datatset.classes, predictions)\n",
        "sns.heatmap(cm, annot=True);"
      ]
    },
    {
      "cell_type": "code",
      "execution_count": 25,
      "metadata": {
        "colab": {
          "base_uri": "https://localhost:8080/"
        },
        "id": "lfg484OCPGqq",
        "outputId": "2e33ed3f-b1d6-42e4-cf0f-e6c0a24c5b7a"
      },
      "outputs": [
        {
          "output_type": "stream",
          "name": "stdout",
          "text": [
            "              precision    recall  f1-score   support\n",
            "\n",
            "           0       0.86      0.97      0.91       198\n",
            "           1       0.99      0.99      0.99       200\n",
            "           2       0.73      0.74      0.73       200\n",
            "           3       0.65      0.55      0.60       199\n",
            "           4       0.82      0.89      0.85       200\n",
            "           5       0.79      0.66      0.72       199\n",
            "           6       0.81      0.86      0.83       200\n",
            "\n",
            "    accuracy                           0.81      1396\n",
            "   macro avg       0.80      0.81      0.80      1396\n",
            "weighted avg       0.80      0.81      0.80      1396\n",
            "\n"
          ]
        }
      ],
      "source": [
        "from sklearn.metrics import classification_report\n",
        "print(classification_report(test_datatset.classes, predictions))"
      ]
    },
    {
      "cell_type": "code",
      "execution_count": 26,
      "metadata": {
        "colab": {
          "base_uri": "https://localhost:8080/",
          "height": 472
        },
        "id": "AwBdQqe9Porm",
        "outputId": "1e81b879-1d0b-4aa5-9318-839a2bd90f7d"
      },
      "outputs": [
        {
          "output_type": "display_data",
          "data": {
            "text/plain": [
              "<Figure size 640x480 with 1 Axes>"
            ],
            "image/png": "[encoded data removed]"
          },
          "metadata": {}
        }
      ],
      "source": [
        "plt.plot(history.history['accuracy'])\n",
        "plt.plot(history.history['val_accuracy'])\n",
        "plt.title('model accuracy')\n",
        "plt.ylabel('accuracy')\n",
        "plt.xlabel('epoch')\n",
        "plt.legend(['train', 'val'], loc='upper left')\n",
        "plt.show()"
      ]
    },
    {
      "cell_type": "code",
      "execution_count": 27,
      "metadata": {
        "colab": {
          "base_uri": "https://localhost:8080/",
          "height": 472
        },
        "id": "vVr7AUw8SNre",
        "outputId": "643c9978-bf20-4010-ef80-feb0524b5fb0"
      },
      "outputs": [
        {
          "output_type": "display_data",
          "data": {
            "text/plain": [
              "<Figure size 640x480 with 1 Axes>"
            ],
            "image/png": "[encoded data removed]"
          },
          "metadata": {}
        }
      ],
      "source": [
        "plt.plot(history.history['loss'])\n",
        "plt.plot(history.history['val_loss'])\n",
        "plt.title('model loss')\n",
        "plt.ylabel('loss')\n",
        "plt.xlabel('epoch')\n",
        "plt.legend(['train', 'val'], loc='upper left')\n",
        "plt.show()"
      ]
    },
    {
      "cell_type": "code",
      "execution_count": 28,
      "metadata": {
        "id": "pnmlR6M8gih2"
      },
      "outputs": [],
      "source": [
        "from tensorflow.keras.models import load_model\n",
        "model = load_model('/content/best_model1.h5')"
      ]
    },
    {
      "cell_type": "code",
      "execution_count": 29,
      "metadata": {
        "colab": {
          "base_uri": "https://localhost:8080/"
        },
        "id": "P5SUDIaUg8-G",
        "outputId": "b414778c-858f-4a6e-c4cc-0368671d0996"
      },
      "outputs": [
        {
          "output_type": "stream",
          "name": "stdout",
          "text": [
            "1396/1396 [==============================] - 24s 17ms/step - loss: 0.6325 - accuracy: 0.8001\n"
          ]
        },
        {
          "output_type": "execute_result",
          "data": {
            "text/plain": [
              "[0.632458508014679, 0.8001432418823242]"
            ]
          },
          "metadata": {},
          "execution_count": 29
        }
      ],
      "source": [
        "model.evaluate(test_datatset)"
      ]
    },
    {
      "cell_type": "code",
      "execution_count": 30,
      "metadata": {
        "colab": {
          "base_uri": "https://localhost:8080/",
          "height": 435
        },
        "id": "Zqq4ec2JhKgt",
        "outputId": "8d014627-0b59-478e-ad09-63dc5b0d4af1"
      },
      "outputs": [
        {
          "output_type": "display_data",
          "data": {
            "text/plain": [
              "<Figure size 640x480 with 2 Axes>"
            ],
            "image/png": "[encoded data removed]"
          },
          "metadata": {}
        }
      ],
      "source": [
        "pred = model.predict(test_datatset)\n",
        "pred = np.argmax(pred, axis=1)\n",
        "cm = confusion_matrix(test_datatset.classes, pred)\n",
        "sns.heatmap(cm, annot=True);"
      ]
    },
    {
      "cell_type": "code",
      "execution_count": 31,
      "metadata": {
        "colab": {
          "base_uri": "https://localhost:8080/"
        },
        "id": "e2TSljdej81S",
        "outputId": "b8efeba8-9f3c-45df-d404-ab5d06e8099a"
      },
      "outputs": [
        {
          "output_type": "stream",
          "name": "stdout",
          "text": [
            "              precision    recall  f1-score   support\n",
            "\n",
            "           0       0.91      0.94      0.93       198\n",
            "           1       0.93      1.00      0.96       200\n",
            "           2       0.66      0.72      0.69       200\n",
            "           3       0.67      0.52      0.59       199\n",
            "           4       0.79      0.94      0.86       200\n",
            "           5       0.81      0.64      0.71       199\n",
            "           6       0.81      0.83      0.82       200\n",
            "\n",
            "    accuracy                           0.80      1396\n",
            "   macro avg       0.80      0.80      0.79      1396\n",
            "weighted avg       0.80      0.80      0.79      1396\n",
            "\n"
          ]
        }
      ],
      "source": [
        "print(classification_report(test_datatset.classes, pred))"
      ]
    },
    {
      "cell_type": "code",
      "execution_count": 32,
      "metadata": {
        "id": "jzbwiv0ikEVG"
      },
      "outputs": [],
      "source": [
        "network.save('network.h5')"
      ]
    },
    {
      "cell_type": "code",
      "execution_count": 33,
      "metadata": {
        "id": "mTxEZdsQtlC4"
      },
      "outputs": [],
      "source": [
        "net = load_model('/content/network.h5')"
      ]
    },
    {
      "cell_type": "code",
      "execution_count": 34,
      "metadata": {
        "colab": {
          "base_uri": "https://localhost:8080/"
        },
        "id": "JgEg6VxztpAx",
        "outputId": "2515e299-e2b4-4263-a474-2b2b815abdca"
      },
      "outputs": [
        {
          "output_type": "stream",
          "name": "stdout",
          "text": [
            "1396/1396 [==============================] - 25s 18ms/step - loss: 0.5840 - accuracy: 0.8095\n"
          ]
        },
        {
          "output_type": "execute_result",
          "data": {
            "text/plain": [
              "[0.5839619040489197, 0.8094555735588074]"
            ]
          },
          "metadata": {},
          "execution_count": 34
        }
      ],
      "source": [
        "net.evaluate(test_datatset)"
      ]
    },
    {
      "cell_type": "code",
      "execution_count": 35,
      "metadata": {
        "colab": {
          "base_uri": "https://localhost:8080/",
          "height": 430
        },
        "id": "6wbroQ7EvUvp",
        "outputId": "8e240c4a-65fb-4273-d988-403c648d7747"
      },
      "outputs": [
        {
          "output_type": "display_data",
          "data": {
            "text/plain": [
              "<Figure size 640x480 with 2 Axes>"
            ],
            "image/png": "[encoded data removed]"
          },
          "metadata": {}
        }
      ],
      "source": [
        "pre = net.predict(test_datatset)\n",
        "pre = np.argmax(pre, axis=1)\n",
        "cm = confusion_matrix(test_datatset.classes, pre)\n",
        "sns.heatmap(cm, annot=True);"
      ]
    },
    {
      "cell_type": "code",
      "execution_count": 36,
      "metadata": {
        "colab": {
          "base_uri": "https://localhost:8080/"
        },
        "id": "0c6L1deT_TAY",
        "outputId": "34e4b2ac-a346-4234-f459-70f89dce2573"
      },
      "outputs": [
        {
          "output_type": "stream",
          "name": "stdout",
          "text": [
            "              precision    recall  f1-score   support\n",
            "\n",
            "           0       0.91      0.94      0.93       198\n",
            "           1       0.93      1.00      0.96       200\n",
            "           2       0.66      0.72      0.69       200\n",
            "           3       0.67      0.52      0.59       199\n",
            "           4       0.79      0.94      0.86       200\n",
            "           5       0.81      0.64      0.71       199\n",
            "           6       0.81      0.83      0.82       200\n",
            "\n",
            "    accuracy                           0.80      1396\n",
            "   macro avg       0.80      0.80      0.79      1396\n",
            "weighted avg       0.80      0.80      0.79      1396\n",
            "\n"
          ]
        }
      ],
      "source": [
        "print(classification_report(test_datatset.classes, pred))"
      ]
    },
    {
      "cell_type": "markdown",
      "source": [],
      "metadata": {
        "id": "I501GKF6LLsg"
      }
    }
  ],
  "metadata": {
    "colab": {
      "provenance": [],
      "include_colab_link": true
    },
    "kernelspec": {
      "display_name": "Python 3",
      "name": "python3"
    },
    "language_info": {
      "name": "python"
    }
  },
  "nbformat": 4,
  "nbformat_minor": 0
}