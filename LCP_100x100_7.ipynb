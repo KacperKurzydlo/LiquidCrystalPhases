{
  "cells": [
    {
      "cell_type": "markdown",
      "metadata": {
        "id": "view-in-github",
        "colab_type": "text"
      },
      "source": [
        "<a href=\"https://colab.research.google.com/github/KacperKurzydlo/LiquidCrystalPhases/blob/main/LCP_100x100_7.ipynb\" target=\"_parent\"><img src=\"https://colab.research.google.com/assets/colab-badge.svg\" alt=\"Open In Colab\"/></a>"
      ]
    },
    {
      "cell_type": "code",
      "execution_count": 1,
      "metadata": {
        "colab": {
          "base_uri": "https://localhost:8080/"
        },
        "id": "647sNsjCJ0hX",
        "outputId": "09f29af9-2c25-4b99-e13c-078281b143de"
      },
      "outputs": [
        {
          "output_type": "stream",
          "name": "stdout",
          "text": [
            "Requirement already satisfied: h5py in /usr/local/lib/python3.10/dist-packages (3.8.0)\n",
            "Requirement already satisfied: numpy>=1.14.5 in /usr/local/lib/python3.10/dist-packages (from h5py) (1.22.4)\n",
            "Requirement already satisfied: typing-extensions in /usr/local/lib/python3.10/dist-packages (4.7.1)\n",
            "Requirement already satisfied: wheel in /usr/local/lib/python3.10/dist-packages (0.41.0)\n"
          ]
        }
      ],
      "source": [
        "!pip install h5py\n",
        "!pip install typing-extensions\n",
        "!pip install wheel"
      ]
    },
    {
      "cell_type": "code",
      "execution_count": 2,
      "metadata": {
        "colab": {
          "base_uri": "https://localhost:8080/"
        },
        "id": "kq6qJdUqIWCQ",
        "outputId": "5bbe1b0d-742b-4fe9-cb80-a47eb9197881"
      },
      "outputs": [
        {
          "output_type": "stream",
          "name": "stdout",
          "text": [
            "Collecting tensorflow==2.8\n",
            "  Downloading tensorflow-2.8.0-cp310-cp310-manylinux2010_x86_64.whl (497.6 MB)\n",
            "\u001b[2K     \u001b[90m━━━━━━━━━━━━━━━━━━━━━━━━━━━━━━━━━━━━━━━\u001b[0m \u001b[32m497.6/497.6 MB\u001b[0m \u001b[31m3.3 MB/s\u001b[0m eta \u001b[36m0:00:00\u001b[0m\n",
            "\u001b[?25hRequirement already satisfied: absl-py>=0.4.0 in /usr/local/lib/python3.10/dist-packages (from tensorflow==2.8) (1.4.0)\n",
            "Requirement already satisfied: astunparse>=1.6.0 in /usr/local/lib/python3.10/dist-packages (from tensorflow==2.8) (1.6.3)\n",
            "Requirement already satisfied: flatbuffers>=1.12 in /usr/local/lib/python3.10/dist-packages (from tensorflow==2.8) (23.5.26)\n",
            "Requirement already satisfied: gast>=0.2.1 in /usr/local/lib/python3.10/dist-packages (from tensorflow==2.8) (0.4.0)\n",
            "Requirement already satisfied: google-pasta>=0.1.1 in /usr/local/lib/python3.10/dist-packages (from tensorflow==2.8) (0.2.0)\n",
            "Requirement already satisfied: h5py>=2.9.0 in /usr/local/lib/python3.10/dist-packages (from tensorflow==2.8) (3.8.0)\n",
            "Collecting keras-preprocessing>=1.1.1 (from tensorflow==2.8)\n",
            "  Downloading Keras_Preprocessing-1.1.2-py2.py3-none-any.whl (42 kB)\n",
            "\u001b[2K     \u001b[90m━━━━━━━━━━━━━━━━━━━━━━━━━━━━━━━━━━━━━━━━\u001b[0m \u001b[32m42.6/42.6 kB\u001b[0m \u001b[31m4.3 MB/s\u001b[0m eta \u001b[36m0:00:00\u001b[0m\n",
            "\u001b[?25hRequirement already satisfied: libclang>=9.0.1 in /usr/local/lib/python3.10/dist-packages (from tensorflow==2.8) (16.0.6)\n",
            "Requirement already satisfied: numpy>=1.20 in /usr/local/lib/python3.10/dist-packages (from tensorflow==2.8) (1.22.4)\n",
            "Requirement already satisfied: opt-einsum>=2.3.2 in /usr/local/lib/python3.10/dist-packages (from tensorflow==2.8) (3.3.0)\n",
            "Requirement already satisfied: protobuf>=3.9.2 in /usr/local/lib/python3.10/dist-packages (from tensorflow==2.8) (3.20.3)\n",
            "Requirement already satisfied: setuptools in /usr/local/lib/python3.10/dist-packages (from tensorflow==2.8) (67.7.2)\n",
            "Requirement already satisfied: six>=1.12.0 in /usr/local/lib/python3.10/dist-packages (from tensorflow==2.8) (1.16.0)\n",
            "Requirement already satisfied: termcolor>=1.1.0 in /usr/local/lib/python3.10/dist-packages (from tensorflow==2.8) (2.3.0)\n",
            "Requirement already satisfied: typing-extensions>=3.6.6 in /usr/local/lib/python3.10/dist-packages (from tensorflow==2.8) (4.7.1)\n",
            "Requirement already satisfied: wrapt>=1.11.0 in /usr/local/lib/python3.10/dist-packages (from tensorflow==2.8) (1.14.1)\n",
            "Collecting tensorboard<2.9,>=2.8 (from tensorflow==2.8)\n",
            "  Downloading tensorboard-2.8.0-py3-none-any.whl (5.8 MB)\n",
            "\u001b[2K     \u001b[90m━━━━━━━━━━━━━━━━━━━━━━━━━━━━━━━━━━━━━━━━\u001b[0m \u001b[32m5.8/5.8 MB\u001b[0m \u001b[31m100.8 MB/s\u001b[0m eta \u001b[36m0:00:00\u001b[0m\n",
            "\u001b[?25hCollecting tf-estimator-nightly==2.8.0.dev2021122109 (from tensorflow==2.8)\n",
            "  Downloading tf_estimator_nightly-2.8.0.dev2021122109-py2.py3-none-any.whl (462 kB)\n",
            "\u001b[2K     \u001b[90m━━━━━━━━━━━━━━━━━━━━━━━━━━━━━━━━━━━━━━\u001b[0m \u001b[32m462.5/462.5 kB\u001b[0m \u001b[31m41.4 MB/s\u001b[0m eta \u001b[36m0:00:00\u001b[0m\n",
            "\u001b[?25hCollecting keras<2.9,>=2.8.0rc0 (from tensorflow==2.8)\n",
            "  Downloading keras-2.8.0-py2.py3-none-any.whl (1.4 MB)\n",
            "\u001b[2K     \u001b[90m━━━━━━━━━━━━━━━━━━━━━━━━━━━━━━━━━━━━━━━━\u001b[0m \u001b[32m1.4/1.4 MB\u001b[0m \u001b[31m85.3 MB/s\u001b[0m eta \u001b[36m0:00:00\u001b[0m\n",
            "\u001b[?25hRequirement already satisfied: tensorflow-io-gcs-filesystem>=0.23.1 in /usr/local/lib/python3.10/dist-packages (from tensorflow==2.8) (0.32.0)\n",
            "Requirement already satisfied: grpcio<2.0,>=1.24.3 in /usr/local/lib/python3.10/dist-packages (from tensorflow==2.8) (1.56.2)\n",
            "Requirement already satisfied: wheel<1.0,>=0.23.0 in /usr/local/lib/python3.10/dist-packages (from astunparse>=1.6.0->tensorflow==2.8) (0.41.0)\n",
            "Requirement already satisfied: google-auth<3,>=1.6.3 in /usr/local/lib/python3.10/dist-packages (from tensorboard<2.9,>=2.8->tensorflow==2.8) (2.17.3)\n",
            "Collecting google-auth-oauthlib<0.5,>=0.4.1 (from tensorboard<2.9,>=2.8->tensorflow==2.8)\n",
            "  Downloading google_auth_oauthlib-0.4.6-py2.py3-none-any.whl (18 kB)\n",
            "Requirement already satisfied: markdown>=2.6.8 in /usr/local/lib/python3.10/dist-packages (from tensorboard<2.9,>=2.8->tensorflow==2.8) (3.4.4)\n",
            "Requirement already satisfied: requests<3,>=2.21.0 in /usr/local/lib/python3.10/dist-packages (from tensorboard<2.9,>=2.8->tensorflow==2.8) (2.27.1)\n",
            "Collecting tensorboard-data-server<0.7.0,>=0.6.0 (from tensorboard<2.9,>=2.8->tensorflow==2.8)\n",
            "  Downloading tensorboard_data_server-0.6.1-py3-none-manylinux2010_x86_64.whl (4.9 MB)\n",
            "\u001b[2K     \u001b[90m━━━━━━━━━━━━━━━━━━━━━━━━━━━━━━━━━━━━━━━━\u001b[0m \u001b[32m4.9/4.9 MB\u001b[0m \u001b[31m123.0 MB/s\u001b[0m eta \u001b[36m0:00:00\u001b[0m\n",
            "\u001b[?25hCollecting tensorboard-plugin-wit>=1.6.0 (from tensorboard<2.9,>=2.8->tensorflow==2.8)\n",
            "  Downloading tensorboard_plugin_wit-1.8.1-py3-none-any.whl (781 kB)\n",
            "\u001b[2K     \u001b[90m━━━━━━━━━━━━━━━━━━━━━━━━━━━━━━━━━━━━━━\u001b[0m \u001b[32m781.3/781.3 kB\u001b[0m \u001b[31m59.9 MB/s\u001b[0m eta \u001b[36m0:00:00\u001b[0m\n",
            "\u001b[?25hRequirement already satisfied: werkzeug>=0.11.15 in /usr/local/lib/python3.10/dist-packages (from tensorboard<2.9,>=2.8->tensorflow==2.8) (2.3.6)\n",
            "Requirement already satisfied: cachetools<6.0,>=2.0.0 in /usr/local/lib/python3.10/dist-packages (from google-auth<3,>=1.6.3->tensorboard<2.9,>=2.8->tensorflow==2.8) (5.3.1)\n",
            "Requirement already satisfied: pyasn1-modules>=0.2.1 in /usr/local/lib/python3.10/dist-packages (from google-auth<3,>=1.6.3->tensorboard<2.9,>=2.8->tensorflow==2.8) (0.3.0)\n",
            "Requirement already satisfied: rsa<5,>=3.1.4 in /usr/local/lib/python3.10/dist-packages (from google-auth<3,>=1.6.3->tensorboard<2.9,>=2.8->tensorflow==2.8) (4.9)\n",
            "Requirement already satisfied: requests-oauthlib>=0.7.0 in /usr/local/lib/python3.10/dist-packages (from google-auth-oauthlib<0.5,>=0.4.1->tensorboard<2.9,>=2.8->tensorflow==2.8) (1.3.1)\n",
            "Requirement already satisfied: urllib3<1.27,>=1.21.1 in /usr/local/lib/python3.10/dist-packages (from requests<3,>=2.21.0->tensorboard<2.9,>=2.8->tensorflow==2.8) (1.26.16)\n",
            "Requirement already satisfied: certifi>=2017.4.17 in /usr/local/lib/python3.10/dist-packages (from requests<3,>=2.21.0->tensorboard<2.9,>=2.8->tensorflow==2.8) (2023.7.22)\n",
            "Requirement already satisfied: charset-normalizer~=2.0.0 in /usr/local/lib/python3.10/dist-packages (from requests<3,>=2.21.0->tensorboard<2.9,>=2.8->tensorflow==2.8) (2.0.12)\n",
            "Requirement already satisfied: idna<4,>=2.5 in /usr/local/lib/python3.10/dist-packages (from requests<3,>=2.21.0->tensorboard<2.9,>=2.8->tensorflow==2.8) (3.4)\n",
            "Requirement already satisfied: MarkupSafe>=2.1.1 in /usr/local/lib/python3.10/dist-packages (from werkzeug>=0.11.15->tensorboard<2.9,>=2.8->tensorflow==2.8) (2.1.3)\n",
            "Requirement already satisfied: pyasn1<0.6.0,>=0.4.6 in /usr/local/lib/python3.10/dist-packages (from pyasn1-modules>=0.2.1->google-auth<3,>=1.6.3->tensorboard<2.9,>=2.8->tensorflow==2.8) (0.5.0)\n",
            "Requirement already satisfied: oauthlib>=3.0.0 in /usr/local/lib/python3.10/dist-packages (from requests-oauthlib>=0.7.0->google-auth-oauthlib<0.5,>=0.4.1->tensorboard<2.9,>=2.8->tensorflow==2.8) (3.2.2)\n",
            "Installing collected packages: tf-estimator-nightly, tensorboard-plugin-wit, keras, tensorboard-data-server, keras-preprocessing, google-auth-oauthlib, tensorboard, tensorflow\n",
            "  Attempting uninstall: keras\n",
            "    Found existing installation: keras 2.12.0\n",
            "    Uninstalling keras-2.12.0:\n",
            "      Successfully uninstalled keras-2.12.0\n",
            "  Attempting uninstall: tensorboard-data-server\n",
            "    Found existing installation: tensorboard-data-server 0.7.1\n",
            "    Uninstalling tensorboard-data-server-0.7.1:\n",
            "      Successfully uninstalled tensorboard-data-server-0.7.1\n",
            "  Attempting uninstall: google-auth-oauthlib\n",
            "    Found existing installation: google-auth-oauthlib 1.0.0\n",
            "    Uninstalling google-auth-oauthlib-1.0.0:\n",
            "      Successfully uninstalled google-auth-oauthlib-1.0.0\n",
            "  Attempting uninstall: tensorboard\n",
            "    Found existing installation: tensorboard 2.12.3\n",
            "    Uninstalling tensorboard-2.12.3:\n",
            "      Successfully uninstalled tensorboard-2.12.3\n",
            "  Attempting uninstall: tensorflow\n",
            "    Found existing installation: tensorflow 2.12.0\n",
            "    Uninstalling tensorflow-2.12.0:\n",
            "      Successfully uninstalled tensorflow-2.12.0\n",
            "Successfully installed google-auth-oauthlib-0.4.6 keras-2.8.0 keras-preprocessing-1.1.2 tensorboard-2.8.0 tensorboard-data-server-0.6.1 tensorboard-plugin-wit-1.8.1 tensorflow-2.8.0 tf-estimator-nightly-2.8.0.dev2021122109\n"
          ]
        }
      ],
      "source": [
        "!pip install tensorflow==2.8"
      ]
    },
    {
      "cell_type": "code",
      "execution_count": 3,
      "metadata": {
        "colab": {
          "base_uri": "https://localhost:8080/",
          "height": 35
        },
        "id": "I0X9qkMXs_pp",
        "outputId": "3fa3627c-577d-42d9-9ba1-1006c5cb88cd"
      },
      "outputs": [
        {
          "output_type": "execute_result",
          "data": {
            "text/plain": [
              "'2.8.0'"
            ],
            "application/vnd.google.colaboratory.intrinsic+json": {
              "type": "string"
            }
          },
          "metadata": {},
          "execution_count": 3
        }
      ],
      "source": [
        "import matplotlib.pyplot as plt\n",
        "import seaborn as sns\n",
        "import zipfile\n",
        "import numpy as np\n",
        "import cv2\n",
        "from google.colab.patches import cv2_imshow\n",
        "import tensorflow as tf\n",
        "from tensorflow.keras.callbacks import ReduceLROnPlateau\n",
        "from tensorflow.keras import regularizers\n",
        "from tensorflow.keras.callbacks import ModelCheckpoint, EarlyStopping\n",
        "from tensorflow.keras.models import Sequential\n",
        "from tensorflow.keras.layers import Conv2D, MaxPool2D, Flatten, Dense, BatchNormalization, Dropout\n",
        "from tensorflow.keras.preprocessing.image import ImageDataGenerator\n",
        "tf.__version__"
      ]
    },
    {
      "cell_type": "code",
      "execution_count": 4,
      "metadata": {
        "colab": {
          "base_uri": "https://localhost:8080/"
        },
        "id": "yQMOvsd99H-V",
        "outputId": "c3f1ecba-5dbd-47b8-d69b-1b7b67a654cc"
      },
      "outputs": [
        {
          "output_type": "stream",
          "name": "stdout",
          "text": [
            "Mounted at /content/drive\n"
          ]
        }
      ],
      "source": [
        "from google.colab import drive\n",
        "drive.mount('/content/drive')"
      ]
    },
    {
      "cell_type": "code",
      "execution_count": 5,
      "metadata": {
        "id": "Y_BgiI3JxA9q"
      },
      "outputs": [],
      "source": [
        "path = '/content/drive/MyDrive/Praktyki/gotowe.zip'\n",
        "zip_object = zipfile.ZipFile(file=path, mode='r')\n",
        "zip_object.extractall('./')\n",
        "zip_object.close()"
      ]
    },
    {
      "cell_type": "code",
      "execution_count": 6,
      "metadata": {
        "id": "7-PhxwM60uM7"
      },
      "outputs": [],
      "source": [
        "training_generator = ImageDataGenerator(rescale=1./255,\n",
        "                                        horizontal_flip=True,\n",
        "                                        vertical_flip=True)\n"
      ]
    },
    {
      "cell_type": "code",
      "execution_count": 7,
      "metadata": {
        "colab": {
          "base_uri": "https://localhost:8080/"
        },
        "id": "jMErkkVv_mXw",
        "outputId": "737dc954-7e8e-4721-e787-cda0e91bee02"
      },
      "outputs": [
        {
          "output_type": "stream",
          "name": "stdout",
          "text": [
            "Found 11158 images belonging to 7 classes.\n"
          ]
        }
      ],
      "source": [
        "train_dataset = training_generator.flow_from_directory('/content/gotowe/train_set',\n",
        "                                                       target_size = (100, 100),\n",
        "                                                       batch_size = 10,\n",
        "                                                       color_mode='rgb',\n",
        "                                                       class_mode = 'categorical',\n",
        "                                                       shuffle = True)"
      ]
    },
    {
      "cell_type": "code",
      "execution_count": 8,
      "metadata": {
        "colab": {
          "base_uri": "https://localhost:8080/"
        },
        "id": "C4errPxfAukM",
        "outputId": "a58e4024-f73b-46cb-e71c-dcf26d74e5c9"
      },
      "outputs": [
        {
          "output_type": "execute_result",
          "data": {
            "text/plain": [
              "array([0, 0, 0, ..., 6, 6, 6], dtype=int32)"
            ]
          },
          "metadata": {},
          "execution_count": 8
        }
      ],
      "source": [
        "train_dataset.classes"
      ]
    },
    {
      "cell_type": "code",
      "execution_count": 9,
      "metadata": {
        "colab": {
          "base_uri": "https://localhost:8080/"
        },
        "id": "jYCiD3adA5xf",
        "outputId": "30d6f500-7af5-4fcd-8bf9-2c615c6f266b"
      },
      "outputs": [
        {
          "output_type": "execute_result",
          "data": {
            "text/plain": [
              "{'nematyk': 0,\n",
              " 'smektyk_C': 1,\n",
              " 'smektyk_F': 2,\n",
              " 'smektyk_GMosaic': 3,\n",
              " 'smektyk_GSchliren': 4,\n",
              " 'smektyk_H': 5,\n",
              " 'smektyk_I': 6}"
            ]
          },
          "metadata": {},
          "execution_count": 9
        }
      ],
      "source": [
        "train_dataset.class_indices"
      ]
    },
    {
      "cell_type": "code",
      "execution_count": 10,
      "metadata": {
        "id": "6VK7xyH-BkSq"
      },
      "outputs": [],
      "source": [
        "test_generator = ImageDataGenerator(rescale=1./255)\n",
        "val_generator = ImageDataGenerator(rescale=1./255)"
      ]
    },
    {
      "cell_type": "code",
      "execution_count": 11,
      "metadata": {
        "colab": {
          "base_uri": "https://localhost:8080/"
        },
        "id": "84kKwMy6U7oh",
        "outputId": "a4ec3a87-8dfd-401d-9a0e-5edabdca6762"
      },
      "outputs": [
        {
          "output_type": "stream",
          "name": "stdout",
          "text": [
            "Found 1395 images belonging to 7 classes.\n"
          ]
        }
      ],
      "source": [
        "validation_dataset = val_generator.flow_from_directory('/content/gotowe/val_set',\n",
        "                                                        target_size=(100, 100),\n",
        "                                                        batch_size=1,\n",
        "                                                        class_mode='categorical',\n",
        "                                                        color_mode='rgb',\n",
        "                                                        shuffle=True) # set as validation data"
      ]
    },
    {
      "cell_type": "code",
      "execution_count": 12,
      "metadata": {
        "id": "PB2pU5bzXPTa"
      },
      "outputs": [],
      "source": [
        "L2 = 0.00001"
      ]
    },
    {
      "cell_type": "code",
      "execution_count": 13,
      "metadata": {
        "colab": {
          "base_uri": "https://localhost:8080/"
        },
        "id": "SdqIBmxiBvU1",
        "outputId": "855d7767-7805-4c02-c060-2413b7d74f39"
      },
      "outputs": [
        {
          "output_type": "stream",
          "name": "stdout",
          "text": [
            "Found 1396 images belonging to 7 classes.\n"
          ]
        }
      ],
      "source": [
        "test_datatset = test_generator.flow_from_directory('/content/gotowe/test_set',\n",
        "                                                   target_size = (100, 100),\n",
        "                                                   batch_size = 1,\n",
        "                                                   color_mode='rgb',\n",
        "                                                   class_mode = 'categorical',\n",
        "                                                   shuffle = False)"
      ]
    },
    {
      "cell_type": "code",
      "execution_count": 14,
      "metadata": {
        "id": "xVLgf1bADs_C"
      },
      "outputs": [],
      "source": [
        "initializer1 = tf.keras.initializers.HeNormal()\n",
        "initializer2 = tf.keras.initializers.GlorotUniform()"
      ]
    },
    {
      "cell_type": "code",
      "execution_count": 98,
      "metadata": {
        "colab": {
          "base_uri": "https://localhost:8080/"
        },
        "id": "QTr7SiKfD6UI",
        "outputId": "71b9033c-508b-41e0-d99c-83eca99b795c"
      },
      "outputs": [
        {
          "output_type": "stream",
          "name": "stdout",
          "text": [
            "Model: \"sequential_9\"\n",
            "_________________________________________________________________\n",
            " Layer (type)                Output Shape              Param #   \n",
            "=================================================================\n",
            " conv2d_93 (Conv2D)          (None, 98, 98, 16)        448       \n",
            "                                                                 \n",
            " conv2d_94 (Conv2D)          (None, 96, 96, 16)        2320      \n",
            "                                                                 \n",
            " conv2d_95 (Conv2D)          (None, 94, 94, 16)        2320      \n",
            "                                                                 \n",
            " batch_normalization_108 (Ba  (None, 94, 94, 16)       64        \n",
            " tchNormalization)                                               \n",
            "                                                                 \n",
            " max_pooling2d_54 (MaxPoolin  (None, 47, 47, 16)       0         \n",
            " g2D)                                                            \n",
            "                                                                 \n",
            " conv2d_96 (Conv2D)          (None, 47, 47, 32)        12832     \n",
            "                                                                 \n",
            " conv2d_97 (Conv2D)          (None, 47, 47, 32)        25632     \n",
            "                                                                 \n",
            " batch_normalization_109 (Ba  (None, 47, 47, 32)       128       \n",
            " tchNormalization)                                               \n",
            "                                                                 \n",
            " max_pooling2d_55 (MaxPoolin  (None, 23, 23, 32)       0         \n",
            " g2D)                                                            \n",
            "                                                                 \n",
            " conv2d_98 (Conv2D)          (None, 23, 23, 64)        32832     \n",
            "                                                                 \n",
            " batch_normalization_110 (Ba  (None, 23, 23, 64)       256       \n",
            " tchNormalization)                                               \n",
            "                                                                 \n",
            " max_pooling2d_56 (MaxPoolin  (None, 11, 11, 64)       0         \n",
            " g2D)                                                            \n",
            "                                                                 \n",
            " conv2d_99 (Conv2D)          (None, 11, 11, 128)       131200    \n",
            "                                                                 \n",
            " batch_normalization_111 (Ba  (None, 11, 11, 128)      512       \n",
            " tchNormalization)                                               \n",
            "                                                                 \n",
            " max_pooling2d_57 (MaxPoolin  (None, 5, 5, 128)        0         \n",
            " g2D)                                                            \n",
            "                                                                 \n",
            " conv2d_100 (Conv2D)         (None, 5, 5, 256)         295168    \n",
            "                                                                 \n",
            " conv2d_101 (Conv2D)         (None, 5, 5, 256)         590080    \n",
            "                                                                 \n",
            " batch_normalization_112 (Ba  (None, 5, 5, 256)        1024      \n",
            " tchNormalization)                                               \n",
            "                                                                 \n",
            " max_pooling2d_58 (MaxPoolin  (None, 2, 2, 256)        0         \n",
            " g2D)                                                            \n",
            "                                                                 \n",
            " conv2d_102 (Conv2D)         (None, 2, 2, 512)         1180160   \n",
            "                                                                 \n",
            " batch_normalization_113 (Ba  (None, 2, 2, 512)        2048      \n",
            " tchNormalization)                                               \n",
            "                                                                 \n",
            " max_pooling2d_59 (MaxPoolin  (None, 1, 1, 512)        0         \n",
            " g2D)                                                            \n",
            "                                                                 \n",
            " flatten_9 (Flatten)         (None, 512)               0         \n",
            "                                                                 \n",
            " dense_63 (Dense)            (None, 1024)              525312    \n",
            "                                                                 \n",
            " batch_normalization_114 (Ba  (None, 1024)             4096      \n",
            " tchNormalization)                                               \n",
            "                                                                 \n",
            " dense_64 (Dense)            (None, 512)               524800    \n",
            "                                                                 \n",
            " batch_normalization_115 (Ba  (None, 512)              2048      \n",
            " tchNormalization)                                               \n",
            "                                                                 \n",
            " dense_65 (Dense)            (None, 256)               131328    \n",
            "                                                                 \n",
            " batch_normalization_116 (Ba  (None, 256)              1024      \n",
            " tchNormalization)                                               \n",
            "                                                                 \n",
            " dense_66 (Dense)            (None, 128)               32896     \n",
            "                                                                 \n",
            " batch_normalization_117 (Ba  (None, 128)              512       \n",
            " tchNormalization)                                               \n",
            "                                                                 \n",
            " dense_67 (Dense)            (None, 64)                8256      \n",
            "                                                                 \n",
            " batch_normalization_118 (Ba  (None, 64)               256       \n",
            " tchNormalization)                                               \n",
            "                                                                 \n",
            " dense_68 (Dense)            (None, 32)                2080      \n",
            "                                                                 \n",
            " batch_normalization_119 (Ba  (None, 32)               128       \n",
            " tchNormalization)                                               \n",
            "                                                                 \n",
            " dense_69 (Dense)            (None, 7)                 231       \n",
            "                                                                 \n",
            "=================================================================\n",
            "Total params: 3,509,991\n",
            "Trainable params: 3,503,943\n",
            "Non-trainable params: 6,048\n",
            "_________________________________________________________________\n"
          ]
        }
      ],
      "source": [
        "network = Sequential()\n",
        "\n",
        "network.add(Conv2D(filters=16, kernel_size=(3,3), activation = 'relu', input_shape = (100,100,3), kernel_initializer=initializer1))\n",
        "network.add(Conv2D(filters=16, kernel_size=(3,3), activation = 'relu', input_shape = (100,100,3), kernel_initializer=initializer1))\n",
        "network.add(Conv2D(filters=16, kernel_size=(3,3), activation = 'relu', input_shape = (100,100,3), kernel_initializer=initializer1))\n",
        "network.add(BatchNormalization())\n",
        "network.add(MaxPool2D(pool_size=(2,2)))\n",
        "\n",
        "network.add(Conv2D(filters=32, kernel_size=(5,5), activation = 'relu', padding='same', kernel_initializer=initializer1))\n",
        "network.add(Conv2D(filters=32, kernel_size=(5,5), activation = 'relu', padding='same', kernel_initializer=initializer1))\n",
        "network.add(BatchNormalization())\n",
        "network.add(MaxPool2D(pool_size=(2,2)))\n",
        "\n",
        "network.add(Conv2D(filters=64, kernel_size=(4,4), activation = 'relu', padding='same', kernel_initializer=initializer1))\n",
        "network.add(BatchNormalization())\n",
        "network.add(MaxPool2D(pool_size=(2,2)))\n",
        "\n",
        "network.add(Conv2D(filters=128, kernel_size=(4,4), activation = 'relu', padding='same', kernel_initializer=initializer1))\n",
        "network.add(BatchNormalization())\n",
        "network.add(MaxPool2D(pool_size=(2,2)))\n",
        "\n",
        "network.add(Conv2D(filters=256, kernel_size=(3,3), activation = 'relu', padding='same', kernel_initializer=initializer1))\n",
        "network.add(Conv2D(filters=256, kernel_size=(3,3), activation = 'relu', padding='same', kernel_initializer=initializer1))\n",
        "network.add(BatchNormalization())\n",
        "network.add(MaxPool2D(pool_size=(2,2)))\n",
        "\n",
        "network.add(Conv2D(filters=512, kernel_size=(3,3), activation = 'relu', padding='same', kernel_initializer=initializer1))\n",
        "network.add(BatchNormalization())\n",
        "network.add(MaxPool2D(pool_size=(2,2)))\n",
        "\n",
        "#network.add(Conv2D(filters=1024, kernel_size=(3,3), activation = 'relu', padding='same', kernel_initializer=initializer1))\n",
        "#network.add(BatchNormalization())\n",
        "#network.add(MaxPool2D(pool_size=(2,2)))\n",
        "\n",
        "network.add(Flatten())\n",
        "\n",
        "#network.add(Dropout(0.2))\n",
        "\n",
        "network.add(Dense(units = 1024, activation = 'relu', kernel_initializer=initializer1))\n",
        "network.add(BatchNormalization())\n",
        "network.add(Dense(units = 512, activation = 'relu', kernel_initializer=initializer1))\n",
        "network.add(BatchNormalization())\n",
        "network.add(Dense(units = 256, activation = 'relu', kernel_initializer=initializer1))\n",
        "network.add(BatchNormalization())\n",
        "network.add(Dense(units = 128, activation = 'relu', kernel_initializer=initializer1))\n",
        "network.add(BatchNormalization())\n",
        "network.add(Dense(units = 64, activation = 'relu', kernel_initializer=initializer1))\n",
        "network.add(BatchNormalization())\n",
        "network.add(Dense(units = 32, activation = 'relu', kernel_initializer=initializer1, kernel_regularizer=tf.keras.regularizers.L1L2()))\n",
        "network.add(BatchNormalization())\n",
        "network.add(Dense(units = 7, activation = 'softmax', kernel_initializer=initializer2))\n",
        "network.summary()"
      ]
    },
    {
      "cell_type": "code",
      "execution_count": 99,
      "metadata": {
        "id": "6viOH_kUE4Bq"
      },
      "outputs": [],
      "source": [
        "from tensorflow.keras.optimizers import Adam\n",
        "#opt = Adam(lr=0.005)\n",
        "opt = Adam()\n",
        "network.compile(optimizer='Adam', loss='categorical_crossentropy', metrics = ['accuracy'])\n"
      ]
    },
    {
      "cell_type": "code",
      "execution_count": 100,
      "metadata": {
        "id": "5IXmjfYmbuYh"
      },
      "outputs": [],
      "source": [
        "es = EarlyStopping(monitor = 'val_accuracy', min_delta = 0.001, patience = 20, verbose =1)\n",
        "model_cp = ModelCheckpoint(filepath = 'best_model1.h5', monitor = 'val_accuracy', save_best_only = True, verbose = 1)\n",
        "learning_rate_reduction = ReduceLROnPlateau(monitor='val_accuracy', patience = 5, verbose=1, factor=0.5, min_lr=0.00001)"
      ]
    },
    {
      "cell_type": "code",
      "execution_count": 101,
      "metadata": {
        "colab": {
          "base_uri": "https://localhost:8080/"
        },
        "id": "Uk8BSV5gGazz",
        "outputId": "3004063e-4ea4-4d48-92ad-da5cc678aa8e"
      },
      "outputs": [
        {
          "output_type": "stream",
          "name": "stdout",
          "text": [
            "Epoch 1/100\n"
          ]
        },
        {
          "output_type": "stream",
          "name": "stderr",
          "text": [
            "<ipython-input-101-d45876fe1552>:1: UserWarning: `Model.fit_generator` is deprecated and will be removed in a future version. Please use `Model.fit`, which supports generators.\n",
            "  history = network.fit_generator(train_dataset,\n"
          ]
        },
        {
          "output_type": "stream",
          "name": "stdout",
          "text": [
            "50/50 [==============================] - ETA: 0s - loss: 2.0474 - accuracy: 0.2720\n",
            "Epoch 1: val_accuracy improved from -inf to 0.16000, saving model to best_model1.h5\n",
            "50/50 [==============================] - 25s 473ms/step - loss: 2.0474 - accuracy: 0.2720 - val_loss: 121.1164 - val_accuracy: 0.1600 - lr: 0.0010\n",
            "Epoch 2/100\n",
            "50/50 [==============================] - ETA: 0s - loss: 1.7686 - accuracy: 0.3160\n",
            "Epoch 2: val_accuracy improved from 0.16000 to 0.18000, saving model to best_model1.h5\n",
            "50/50 [==============================] - 22s 440ms/step - loss: 1.7686 - accuracy: 0.3160 - val_loss: 7.7934 - val_accuracy: 0.1800 - lr: 0.0010\n",
            "Epoch 3/100\n",
            "50/50 [==============================] - ETA: 0s - loss: 1.6146 - accuracy: 0.3800\n",
            "Epoch 3: val_accuracy did not improve from 0.18000\n",
            "50/50 [==============================] - 21s 423ms/step - loss: 1.6146 - accuracy: 0.3800 - val_loss: 2.0317 - val_accuracy: 0.1800 - lr: 0.0010\n",
            "Epoch 4/100\n",
            "50/50 [==============================] - ETA: 0s - loss: 1.5337 - accuracy: 0.4400\n",
            "Epoch 4: val_accuracy improved from 0.18000 to 0.44000, saving model to best_model1.h5\n",
            "50/50 [==============================] - 23s 462ms/step - loss: 1.5337 - accuracy: 0.4400 - val_loss: 1.5914 - val_accuracy: 0.4400 - lr: 0.0010\n",
            "Epoch 5/100\n",
            "50/50 [==============================] - ETA: 0s - loss: 1.5336 - accuracy: 0.4080\n",
            "Epoch 5: val_accuracy did not improve from 0.44000\n",
            "50/50 [==============================] - 23s 465ms/step - loss: 1.5336 - accuracy: 0.4080 - val_loss: 1.6527 - val_accuracy: 0.3400 - lr: 0.0010\n",
            "Epoch 6/100\n",
            "50/50 [==============================] - ETA: 0s - loss: 1.4825 - accuracy: 0.4160\n",
            "Epoch 6: val_accuracy did not improve from 0.44000\n",
            "50/50 [==============================] - 21s 423ms/step - loss: 1.4825 - accuracy: 0.4160 - val_loss: 1.6009 - val_accuracy: 0.3400 - lr: 0.0010\n",
            "Epoch 7/100\n",
            "50/50 [==============================] - ETA: 0s - loss: 1.4679 - accuracy: 0.4498\n",
            "Epoch 7: val_accuracy did not improve from 0.44000\n",
            "50/50 [==============================] - 23s 459ms/step - loss: 1.4679 - accuracy: 0.4498 - val_loss: 1.7105 - val_accuracy: 0.3200 - lr: 0.0010\n",
            "Epoch 8/100\n",
            "50/50 [==============================] - ETA: 0s - loss: 1.3136 - accuracy: 0.5200\n",
            "Epoch 8: val_accuracy improved from 0.44000 to 0.46000, saving model to best_model1.h5\n",
            "50/50 [==============================] - 22s 451ms/step - loss: 1.3136 - accuracy: 0.5200 - val_loss: 1.5999 - val_accuracy: 0.4600 - lr: 0.0010\n",
            "Epoch 9/100\n",
            "50/50 [==============================] - ETA: 0s - loss: 1.3928 - accuracy: 0.4779\n",
            "Epoch 9: val_accuracy did not improve from 0.46000\n",
            "50/50 [==============================] - 21s 421ms/step - loss: 1.3928 - accuracy: 0.4779 - val_loss: 1.6933 - val_accuracy: 0.3200 - lr: 0.0010\n",
            "Epoch 10/100\n",
            "50/50 [==============================] - ETA: 0s - loss: 1.3717 - accuracy: 0.5020\n",
            "Epoch 10: val_accuracy improved from 0.46000 to 0.64000, saving model to best_model1.h5\n",
            "50/50 [==============================] - 21s 428ms/step - loss: 1.3717 - accuracy: 0.5020 - val_loss: 1.1897 - val_accuracy: 0.6400 - lr: 0.0010\n",
            "Epoch 11/100\n",
            "50/50 [==============================] - ETA: 0s - loss: 1.3409 - accuracy: 0.4860\n",
            "Epoch 11: val_accuracy did not improve from 0.64000\n",
            "50/50 [==============================] - 21s 422ms/step - loss: 1.3409 - accuracy: 0.4860 - val_loss: 1.2505 - val_accuracy: 0.5800 - lr: 0.0010\n",
            "Epoch 12/100\n",
            "50/50 [==============================] - ETA: 0s - loss: 1.3407 - accuracy: 0.4920\n",
            "Epoch 12: val_accuracy did not improve from 0.64000\n",
            "50/50 [==============================] - 25s 499ms/step - loss: 1.3407 - accuracy: 0.4920 - val_loss: 1.3408 - val_accuracy: 0.4600 - lr: 0.0010\n",
            "Epoch 13/100\n",
            "50/50 [==============================] - ETA: 0s - loss: 1.2745 - accuracy: 0.5120\n",
            "Epoch 13: val_accuracy did not improve from 0.64000\n",
            "50/50 [==============================] - 23s 461ms/step - loss: 1.2745 - accuracy: 0.5120 - val_loss: 1.1147 - val_accuracy: 0.5400 - lr: 0.0010\n",
            "Epoch 14/100\n",
            "50/50 [==============================] - ETA: 0s - loss: 1.3084 - accuracy: 0.5080\n",
            "Epoch 14: val_accuracy did not improve from 0.64000\n",
            "50/50 [==============================] - 21s 422ms/step - loss: 1.3084 - accuracy: 0.5080 - val_loss: 1.3303 - val_accuracy: 0.5400 - lr: 0.0010\n",
            "Epoch 15/100\n",
            "50/50 [==============================] - ETA: 0s - loss: 1.2537 - accuracy: 0.5340\n",
            "Epoch 15: val_accuracy did not improve from 0.64000\n",
            "\n",
            "Epoch 15: ReduceLROnPlateau reducing learning rate to 0.0005000000237487257.\n",
            "50/50 [==============================] - 21s 422ms/step - loss: 1.2537 - accuracy: 0.5340 - val_loss: 2.4409 - val_accuracy: 0.4200 - lr: 0.0010\n",
            "Epoch 16/100\n",
            "50/50 [==============================] - ETA: 0s - loss: 1.1986 - accuracy: 0.5560\n",
            "Epoch 16: val_accuracy did not improve from 0.64000\n",
            "50/50 [==============================] - 23s 457ms/step - loss: 1.1986 - accuracy: 0.5560 - val_loss: 0.9973 - val_accuracy: 0.6400 - lr: 5.0000e-04\n",
            "Epoch 17/100\n",
            "50/50 [==============================] - ETA: 0s - loss: 1.2135 - accuracy: 0.5500\n",
            "Epoch 17: val_accuracy did not improve from 0.64000\n",
            "50/50 [==============================] - 21s 423ms/step - loss: 1.2135 - accuracy: 0.5500 - val_loss: 1.2299 - val_accuracy: 0.5800 - lr: 5.0000e-04\n",
            "Epoch 18/100\n",
            "50/50 [==============================] - ETA: 0s - loss: 1.2069 - accuracy: 0.5040\n",
            "Epoch 18: val_accuracy improved from 0.64000 to 0.66000, saving model to best_model1.h5\n",
            "50/50 [==============================] - 23s 455ms/step - loss: 1.2069 - accuracy: 0.5040 - val_loss: 1.0351 - val_accuracy: 0.6600 - lr: 5.0000e-04\n",
            "Epoch 19/100\n",
            "50/50 [==============================] - ETA: 0s - loss: 1.2604 - accuracy: 0.5500\n",
            "Epoch 19: val_accuracy did not improve from 0.66000\n",
            "50/50 [==============================] - 21s 430ms/step - loss: 1.2604 - accuracy: 0.5500 - val_loss: 0.9540 - val_accuracy: 0.6400 - lr: 5.0000e-04\n",
            "Epoch 20/100\n",
            "50/50 [==============================] - ETA: 0s - loss: 1.1369 - accuracy: 0.6080\n",
            "Epoch 20: val_accuracy improved from 0.66000 to 0.74000, saving model to best_model1.h5\n",
            "50/50 [==============================] - 23s 452ms/step - loss: 1.1369 - accuracy: 0.6080 - val_loss: 0.8353 - val_accuracy: 0.7400 - lr: 5.0000e-04\n",
            "Epoch 21/100\n",
            "50/50 [==============================] - ETA: 0s - loss: 1.1343 - accuracy: 0.5800\n",
            "Epoch 21: val_accuracy did not improve from 0.74000\n",
            "50/50 [==============================] - 21s 425ms/step - loss: 1.1343 - accuracy: 0.5800 - val_loss: 0.8328 - val_accuracy: 0.7200 - lr: 5.0000e-04\n",
            "Epoch 22/100\n",
            "50/50 [==============================] - ETA: 0s - loss: 1.1226 - accuracy: 0.5820\n",
            "Epoch 22: val_accuracy did not improve from 0.74000\n",
            "50/50 [==============================] - 23s 455ms/step - loss: 1.1226 - accuracy: 0.5820 - val_loss: 1.2052 - val_accuracy: 0.4600 - lr: 5.0000e-04\n",
            "Epoch 23/100\n",
            "50/50 [==============================] - ETA: 0s - loss: 1.1115 - accuracy: 0.5880\n",
            "Epoch 23: val_accuracy did not improve from 0.74000\n",
            "50/50 [==============================] - 21s 423ms/step - loss: 1.1115 - accuracy: 0.5880 - val_loss: 1.0124 - val_accuracy: 0.7200 - lr: 5.0000e-04\n",
            "Epoch 24/100\n",
            "50/50 [==============================] - ETA: 0s - loss: 1.1964 - accuracy: 0.5360\n",
            "Epoch 24: val_accuracy did not improve from 0.74000\n",
            "50/50 [==============================] - 23s 461ms/step - loss: 1.1964 - accuracy: 0.5360 - val_loss: 0.9385 - val_accuracy: 0.6200 - lr: 5.0000e-04\n",
            "Epoch 25/100\n",
            "50/50 [==============================] - ETA: 0s - loss: 1.1734 - accuracy: 0.5640\n",
            "Epoch 25: val_accuracy did not improve from 0.74000\n",
            "\n",
            "Epoch 25: ReduceLROnPlateau reducing learning rate to 0.0002500000118743628.\n",
            "50/50 [==============================] - 21s 423ms/step - loss: 1.1734 - accuracy: 0.5640 - val_loss: 1.1674 - val_accuracy: 0.4800 - lr: 5.0000e-04\n",
            "Epoch 26/100\n",
            "50/50 [==============================] - ETA: 0s - loss: 1.1991 - accuracy: 0.5620\n",
            "Epoch 26: val_accuracy did not improve from 0.74000\n",
            "50/50 [==============================] - 23s 461ms/step - loss: 1.1991 - accuracy: 0.5620 - val_loss: 1.1249 - val_accuracy: 0.5600 - lr: 2.5000e-04\n",
            "Epoch 27/100\n",
            "50/50 [==============================] - ETA: 0s - loss: 1.1401 - accuracy: 0.5600\n",
            "Epoch 27: val_accuracy did not improve from 0.74000\n",
            "50/50 [==============================] - 21s 423ms/step - loss: 1.1401 - accuracy: 0.5600 - val_loss: 0.8233 - val_accuracy: 0.7000 - lr: 2.5000e-04\n",
            "Epoch 28/100\n",
            "50/50 [==============================] - ETA: 0s - loss: 1.1328 - accuracy: 0.5680\n",
            "Epoch 28: val_accuracy did not improve from 0.74000\n",
            "50/50 [==============================] - 21s 422ms/step - loss: 1.1328 - accuracy: 0.5680 - val_loss: 0.8916 - val_accuracy: 0.6600 - lr: 2.5000e-04\n",
            "Epoch 29/100\n",
            "50/50 [==============================] - ETA: 0s - loss: 1.0755 - accuracy: 0.5840\n",
            "Epoch 29: val_accuracy did not improve from 0.74000\n",
            "50/50 [==============================] - 21s 424ms/step - loss: 1.0755 - accuracy: 0.5840 - val_loss: 0.8189 - val_accuracy: 0.6800 - lr: 2.5000e-04\n",
            "Epoch 30/100\n",
            "50/50 [==============================] - ETA: 0s - loss: 1.0914 - accuracy: 0.6020\n",
            "Epoch 30: val_accuracy did not improve from 0.74000\n",
            "\n",
            "Epoch 30: ReduceLROnPlateau reducing learning rate to 0.0001250000059371814.\n",
            "50/50 [==============================] - 23s 462ms/step - loss: 1.0914 - accuracy: 0.6020 - val_loss: 0.9884 - val_accuracy: 0.6200 - lr: 2.5000e-04\n",
            "Epoch 31/100\n",
            "50/50 [==============================] - ETA: 0s - loss: 1.1848 - accuracy: 0.5460\n",
            "Epoch 31: val_accuracy did not improve from 0.74000\n",
            "50/50 [==============================] - 21s 423ms/step - loss: 1.1848 - accuracy: 0.5460 - val_loss: 0.8323 - val_accuracy: 0.6600 - lr: 1.2500e-04\n",
            "Epoch 32/100\n",
            "50/50 [==============================] - ETA: 0s - loss: 0.9866 - accuracy: 0.6280\n",
            "Epoch 32: val_accuracy did not improve from 0.74000\n",
            "50/50 [==============================] - 23s 462ms/step - loss: 0.9866 - accuracy: 0.6280 - val_loss: 0.7791 - val_accuracy: 0.7200 - lr: 1.2500e-04\n",
            "Epoch 33/100\n",
            "50/50 [==============================] - ETA: 0s - loss: 1.0054 - accuracy: 0.6220\n",
            "Epoch 33: val_accuracy did not improve from 0.74000\n",
            "50/50 [==============================] - 23s 452ms/step - loss: 1.0054 - accuracy: 0.6220 - val_loss: 0.8940 - val_accuracy: 0.6400 - lr: 1.2500e-04\n",
            "Epoch 34/100\n",
            "50/50 [==============================] - ETA: 0s - loss: 1.0299 - accuracy: 0.6240\n",
            "Epoch 34: val_accuracy did not improve from 0.74000\n",
            "50/50 [==============================] - 22s 432ms/step - loss: 1.0299 - accuracy: 0.6240 - val_loss: 0.8489 - val_accuracy: 0.6800 - lr: 1.2500e-04\n",
            "Epoch 35/100\n",
            "50/50 [==============================] - ETA: 0s - loss: 1.0422 - accuracy: 0.6100\n",
            "Epoch 35: val_accuracy improved from 0.74000 to 0.82000, saving model to best_model1.h5\n",
            "50/50 [==============================] - 21s 429ms/step - loss: 1.0422 - accuracy: 0.6100 - val_loss: 0.7291 - val_accuracy: 0.8200 - lr: 1.2500e-04\n",
            "Epoch 36/100\n",
            "50/50 [==============================] - ETA: 0s - loss: 0.9798 - accuracy: 0.6360\n",
            "Epoch 36: val_accuracy did not improve from 0.82000\n",
            "50/50 [==============================] - 21s 423ms/step - loss: 0.9798 - accuracy: 0.6360 - val_loss: 0.9022 - val_accuracy: 0.7000 - lr: 1.2500e-04\n",
            "Epoch 37/100\n",
            "50/50 [==============================] - ETA: 0s - loss: 1.0623 - accuracy: 0.6140\n",
            "Epoch 37: val_accuracy did not improve from 0.82000\n",
            "50/50 [==============================] - 23s 461ms/step - loss: 1.0623 - accuracy: 0.6140 - val_loss: 0.9020 - val_accuracy: 0.7400 - lr: 1.2500e-04\n",
            "Epoch 38/100\n",
            "50/50 [==============================] - ETA: 0s - loss: 1.0267 - accuracy: 0.6300\n",
            "Epoch 38: val_accuracy did not improve from 0.82000\n",
            "50/50 [==============================] - 21s 423ms/step - loss: 1.0267 - accuracy: 0.6300 - val_loss: 0.8408 - val_accuracy: 0.7000 - lr: 1.2500e-04\n",
            "Epoch 39/100\n",
            "50/50 [==============================] - ETA: 0s - loss: 1.0264 - accuracy: 0.6260\n",
            "Epoch 39: val_accuracy did not improve from 0.82000\n",
            "50/50 [==============================] - 21s 424ms/step - loss: 1.0264 - accuracy: 0.6260 - val_loss: 0.8489 - val_accuracy: 0.7400 - lr: 1.2500e-04\n",
            "Epoch 40/100\n",
            "50/50 [==============================] - ETA: 0s - loss: 0.9553 - accuracy: 0.6600\n",
            "Epoch 40: val_accuracy did not improve from 0.82000\n",
            "\n",
            "Epoch 40: ReduceLROnPlateau reducing learning rate to 6.25000029685907e-05.\n",
            "50/50 [==============================] - 21s 421ms/step - loss: 0.9553 - accuracy: 0.6600 - val_loss: 0.6696 - val_accuracy: 0.7800 - lr: 1.2500e-04\n",
            "Epoch 41/100\n",
            "50/50 [==============================] - ETA: 0s - loss: 1.0027 - accuracy: 0.6460\n",
            "Epoch 41: val_accuracy did not improve from 0.82000\n",
            "50/50 [==============================] - 21s 423ms/step - loss: 1.0027 - accuracy: 0.6460 - val_loss: 0.8517 - val_accuracy: 0.5800 - lr: 6.2500e-05\n",
            "Epoch 42/100\n",
            "50/50 [==============================] - ETA: 0s - loss: 0.9933 - accuracy: 0.6280\n",
            "Epoch 42: val_accuracy did not improve from 0.82000\n",
            "50/50 [==============================] - 21s 421ms/step - loss: 0.9933 - accuracy: 0.6280 - val_loss: 0.7077 - val_accuracy: 0.7800 - lr: 6.2500e-05\n",
            "Epoch 43/100\n",
            "50/50 [==============================] - ETA: 0s - loss: 0.8859 - accuracy: 0.6840\n",
            "Epoch 43: val_accuracy did not improve from 0.82000\n",
            "50/50 [==============================] - 21s 423ms/step - loss: 0.8859 - accuracy: 0.6840 - val_loss: 0.6033 - val_accuracy: 0.8000 - lr: 6.2500e-05\n",
            "Epoch 44/100\n",
            "50/50 [==============================] - ETA: 0s - loss: 1.0621 - accuracy: 0.6240\n",
            "Epoch 44: val_accuracy did not improve from 0.82000\n",
            "50/50 [==============================] - 21s 424ms/step - loss: 1.0621 - accuracy: 0.6240 - val_loss: 0.8855 - val_accuracy: 0.7200 - lr: 6.2500e-05\n",
            "Epoch 45/100\n",
            "50/50 [==============================] - ETA: 0s - loss: 0.9973 - accuracy: 0.6580\n",
            "Epoch 45: val_accuracy did not improve from 0.82000\n",
            "\n",
            "Epoch 45: ReduceLROnPlateau reducing learning rate to 3.125000148429535e-05.\n",
            "50/50 [==============================] - 21s 423ms/step - loss: 0.9973 - accuracy: 0.6580 - val_loss: 0.7571 - val_accuracy: 0.7800 - lr: 6.2500e-05\n",
            "Epoch 46/100\n",
            "50/50 [==============================] - ETA: 0s - loss: 0.9251 - accuracy: 0.6540\n",
            "Epoch 46: val_accuracy improved from 0.82000 to 0.84000, saving model to best_model1.h5\n",
            "50/50 [==============================] - 24s 475ms/step - loss: 0.9251 - accuracy: 0.6540 - val_loss: 0.5894 - val_accuracy: 0.8400 - lr: 3.1250e-05\n",
            "Epoch 47/100\n",
            "50/50 [==============================] - ETA: 0s - loss: 0.9277 - accuracy: 0.6380\n",
            "Epoch 47: val_accuracy did not improve from 0.84000\n",
            "50/50 [==============================] - 21s 426ms/step - loss: 0.9277 - accuracy: 0.6380 - val_loss: 0.6177 - val_accuracy: 0.8200 - lr: 3.1250e-05\n",
            "Epoch 48/100\n",
            "50/50 [==============================] - ETA: 0s - loss: 0.9696 - accuracy: 0.6560\n",
            "Epoch 48: val_accuracy did not improve from 0.84000\n",
            "50/50 [==============================] - 21s 427ms/step - loss: 0.9696 - accuracy: 0.6560 - val_loss: 0.8496 - val_accuracy: 0.6600 - lr: 3.1250e-05\n",
            "Epoch 49/100\n",
            "50/50 [==============================] - ETA: 0s - loss: 1.0254 - accuracy: 0.6120\n",
            "Epoch 49: val_accuracy did not improve from 0.84000\n",
            "50/50 [==============================] - 23s 466ms/step - loss: 1.0254 - accuracy: 0.6120 - val_loss: 0.7818 - val_accuracy: 0.7000 - lr: 3.1250e-05\n",
            "Epoch 50/100\n",
            "50/50 [==============================] - ETA: 0s - loss: 0.9247 - accuracy: 0.6720\n",
            "Epoch 50: val_accuracy improved from 0.84000 to 0.86000, saving model to best_model1.h5\n",
            "50/50 [==============================] - 24s 473ms/step - loss: 0.9247 - accuracy: 0.6720 - val_loss: 0.5926 - val_accuracy: 0.8600 - lr: 3.1250e-05\n",
            "Epoch 51/100\n",
            "50/50 [==============================] - ETA: 0s - loss: 0.9723 - accuracy: 0.6360\n",
            "Epoch 51: val_accuracy did not improve from 0.86000\n",
            "50/50 [==============================] - 21s 426ms/step - loss: 0.9723 - accuracy: 0.6360 - val_loss: 0.8004 - val_accuracy: 0.7600 - lr: 3.1250e-05\n",
            "Epoch 52/100\n",
            "50/50 [==============================] - ETA: 0s - loss: 0.9284 - accuracy: 0.6540\n",
            "Epoch 52: val_accuracy did not improve from 0.86000\n",
            "50/50 [==============================] - 21s 425ms/step - loss: 0.9284 - accuracy: 0.6540 - val_loss: 0.6554 - val_accuracy: 0.7600 - lr: 3.1250e-05\n",
            "Epoch 53/100\n",
            "50/50 [==============================] - ETA: 0s - loss: 0.8988 - accuracy: 0.6560\n",
            "Epoch 53: val_accuracy improved from 0.86000 to 0.90000, saving model to best_model1.h5\n",
            "50/50 [==============================] - 21s 430ms/step - loss: 0.8988 - accuracy: 0.6560 - val_loss: 0.5578 - val_accuracy: 0.9000 - lr: 3.1250e-05\n",
            "Epoch 54/100\n",
            "50/50 [==============================] - ETA: 0s - loss: 0.9343 - accuracy: 0.6720\n",
            "Epoch 54: val_accuracy did not improve from 0.90000\n",
            "50/50 [==============================] - 23s 465ms/step - loss: 0.9343 - accuracy: 0.6720 - val_loss: 0.8091 - val_accuracy: 0.7600 - lr: 3.1250e-05\n",
            "Epoch 55/100\n",
            "50/50 [==============================] - ETA: 0s - loss: 0.8950 - accuracy: 0.6940\n",
            "Epoch 55: val_accuracy did not improve from 0.90000\n",
            "50/50 [==============================] - 22s 441ms/step - loss: 0.8950 - accuracy: 0.6940 - val_loss: 0.6657 - val_accuracy: 0.8000 - lr: 3.1250e-05\n",
            "Epoch 56/100\n",
            "50/50 [==============================] - ETA: 0s - loss: 0.9811 - accuracy: 0.6260\n",
            "Epoch 56: val_accuracy did not improve from 0.90000\n",
            "50/50 [==============================] - 22s 432ms/step - loss: 0.9811 - accuracy: 0.6260 - val_loss: 0.8044 - val_accuracy: 0.7400 - lr: 3.1250e-05\n",
            "Epoch 57/100\n",
            "50/50 [==============================] - ETA: 0s - loss: 0.9397 - accuracy: 0.6580\n",
            "Epoch 57: val_accuracy did not improve from 0.90000\n",
            "50/50 [==============================] - 23s 460ms/step - loss: 0.9397 - accuracy: 0.6580 - val_loss: 0.8496 - val_accuracy: 0.7200 - lr: 3.1250e-05\n",
            "Epoch 58/100\n",
            "50/50 [==============================] - ETA: 0s - loss: 0.9089 - accuracy: 0.6920\n",
            "Epoch 58: val_accuracy did not improve from 0.90000\n",
            "\n",
            "Epoch 58: ReduceLROnPlateau reducing learning rate to 1.5625000742147677e-05.\n",
            "50/50 [==============================] - 23s 468ms/step - loss: 0.9089 - accuracy: 0.6920 - val_loss: 0.6943 - val_accuracy: 0.8000 - lr: 3.1250e-05\n",
            "Epoch 59/100\n",
            "50/50 [==============================] - ETA: 0s - loss: 0.9147 - accuracy: 0.6680\n",
            "Epoch 59: val_accuracy did not improve from 0.90000\n",
            "50/50 [==============================] - 23s 463ms/step - loss: 0.9147 - accuracy: 0.6680 - val_loss: 0.6253 - val_accuracy: 0.7800 - lr: 1.5625e-05\n",
            "Epoch 60/100\n",
            "50/50 [==============================] - ETA: 0s - loss: 0.9087 - accuracy: 0.6560\n",
            "Epoch 60: val_accuracy did not improve from 0.90000\n",
            "50/50 [==============================] - 22s 434ms/step - loss: 0.9087 - accuracy: 0.6560 - val_loss: 0.5813 - val_accuracy: 0.8000 - lr: 1.5625e-05\n",
            "Epoch 61/100\n",
            "50/50 [==============================] - ETA: 0s - loss: 0.8769 - accuracy: 0.6740\n",
            "Epoch 61: val_accuracy did not improve from 0.90000\n",
            "50/50 [==============================] - 23s 450ms/step - loss: 0.8769 - accuracy: 0.6740 - val_loss: 0.7340 - val_accuracy: 0.7600 - lr: 1.5625e-05\n",
            "Epoch 62/100\n",
            "50/50 [==============================] - ETA: 0s - loss: 1.0167 - accuracy: 0.6320\n",
            "Epoch 62: val_accuracy did not improve from 0.90000\n",
            "50/50 [==============================] - 23s 464ms/step - loss: 1.0167 - accuracy: 0.6320 - val_loss: 0.5353 - val_accuracy: 0.8400 - lr: 1.5625e-05\n",
            "Epoch 63/100\n",
            "50/50 [==============================] - ETA: 0s - loss: 0.9924 - accuracy: 0.6600\n",
            "Epoch 63: val_accuracy did not improve from 0.90000\n",
            "\n",
            "Epoch 63: ReduceLROnPlateau reducing learning rate to 1e-05.\n",
            "50/50 [==============================] - 21s 425ms/step - loss: 0.9924 - accuracy: 0.6600 - val_loss: 0.6054 - val_accuracy: 0.7000 - lr: 1.5625e-05\n",
            "Epoch 64/100\n",
            "50/50 [==============================] - ETA: 0s - loss: 0.9026 - accuracy: 0.6940\n",
            "Epoch 64: val_accuracy did not improve from 0.90000\n",
            "50/50 [==============================] - 21s 425ms/step - loss: 0.9026 - accuracy: 0.6940 - val_loss: 0.7812 - val_accuracy: 0.7800 - lr: 1.0000e-05\n",
            "Epoch 65/100\n",
            "50/50 [==============================] - ETA: 0s - loss: 1.0006 - accuracy: 0.6600\n",
            "Epoch 65: val_accuracy did not improve from 0.90000\n",
            "50/50 [==============================] - 23s 465ms/step - loss: 1.0006 - accuracy: 0.6600 - val_loss: 0.7666 - val_accuracy: 0.7200 - lr: 1.0000e-05\n",
            "Epoch 66/100\n",
            "50/50 [==============================] - ETA: 0s - loss: 0.8927 - accuracy: 0.6820\n",
            "Epoch 66: val_accuracy did not improve from 0.90000\n",
            "50/50 [==============================] - 21s 426ms/step - loss: 0.8927 - accuracy: 0.6820 - val_loss: 0.5966 - val_accuracy: 0.8800 - lr: 1.0000e-05\n",
            "Epoch 67/100\n",
            "50/50 [==============================] - ETA: 0s - loss: 0.8740 - accuracy: 0.6900\n",
            "Epoch 67: val_accuracy did not improve from 0.90000\n",
            "50/50 [==============================] - 23s 466ms/step - loss: 0.8740 - accuracy: 0.6900 - val_loss: 0.8145 - val_accuracy: 0.7400 - lr: 1.0000e-05\n",
            "Epoch 68/100\n",
            "50/50 [==============================] - ETA: 0s - loss: 0.9437 - accuracy: 0.6620\n",
            "Epoch 68: val_accuracy did not improve from 0.90000\n",
            "50/50 [==============================] - 21s 424ms/step - loss: 0.9437 - accuracy: 0.6620 - val_loss: 0.5480 - val_accuracy: 0.8400 - lr: 1.0000e-05\n",
            "Epoch 69/100\n",
            "50/50 [==============================] - ETA: 0s - loss: 0.8430 - accuracy: 0.6840\n",
            "Epoch 69: val_accuracy did not improve from 0.90000\n",
            "50/50 [==============================] - 21s 422ms/step - loss: 0.8430 - accuracy: 0.6840 - val_loss: 0.6848 - val_accuracy: 0.7400 - lr: 1.0000e-05\n",
            "Epoch 70/100\n",
            "50/50 [==============================] - ETA: 0s - loss: 0.8600 - accuracy: 0.6920\n",
            "Epoch 70: val_accuracy did not improve from 0.90000\n",
            "50/50 [==============================] - 21s 422ms/step - loss: 0.8600 - accuracy: 0.6920 - val_loss: 0.5472 - val_accuracy: 0.8600 - lr: 1.0000e-05\n",
            "Epoch 71/100\n",
            "50/50 [==============================] - ETA: 0s - loss: 0.9318 - accuracy: 0.6540\n",
            "Epoch 71: val_accuracy did not improve from 0.90000\n",
            "50/50 [==============================] - 23s 463ms/step - loss: 0.9318 - accuracy: 0.6540 - val_loss: 0.8312 - val_accuracy: 0.7200 - lr: 1.0000e-05\n",
            "Epoch 72/100\n",
            "50/50 [==============================] - ETA: 0s - loss: 0.9432 - accuracy: 0.6720\n",
            "Epoch 72: val_accuracy did not improve from 0.90000\n",
            "50/50 [==============================] - 21s 423ms/step - loss: 0.9432 - accuracy: 0.6720 - val_loss: 0.5998 - val_accuracy: 0.8400 - lr: 1.0000e-05\n",
            "Epoch 73/100\n",
            "50/50 [==============================] - ETA: 0s - loss: 0.8575 - accuracy: 0.6740\n",
            "Epoch 73: val_accuracy did not improve from 0.90000\n",
            "50/50 [==============================] - 21s 422ms/step - loss: 0.8575 - accuracy: 0.6740 - val_loss: 0.6647 - val_accuracy: 0.7600 - lr: 1.0000e-05\n",
            "Epoch 73: early stopping\n"
          ]
        }
      ],
      "source": [
        "history = network.fit_generator(train_dataset,\n",
        "                                steps_per_epoch = 50,\n",
        "                                validation_data = validation_dataset,\n",
        "                                validation_steps = 50,\n",
        "                                epochs=100,\n",
        "                                callbacks=[es, model_cp, learning_rate_reduction])"
      ]
    },
    {
      "cell_type": "markdown",
      "metadata": {
        "id": "0yfuhbovltQA"
      },
      "source": []
    },
    {
      "cell_type": "code",
      "execution_count": 102,
      "metadata": {
        "id": "4xXIb__YN8jO"
      },
      "outputs": [],
      "source": [
        "predictions=network.predict(test_datatset)\n",
        "predictions = np.argmax(predictions, axis=1)"
      ]
    },
    {
      "cell_type": "code",
      "execution_count": 103,
      "metadata": {
        "colab": {
          "base_uri": "https://localhost:8080/"
        },
        "id": "MfitKd4WOO0c",
        "outputId": "41869b77-a8bc-4c19-907b-abf6450f26af"
      },
      "outputs": [
        {
          "output_type": "execute_result",
          "data": {
            "text/plain": [
              "0.7628939828080229"
            ]
          },
          "metadata": {},
          "execution_count": 103
        }
      ],
      "source": [
        "from sklearn.metrics import accuracy_score\n",
        "accuracy_score(test_datatset.classes, predictions)"
      ]
    },
    {
      "cell_type": "code",
      "execution_count": 104,
      "metadata": {
        "colab": {
          "base_uri": "https://localhost:8080/",
          "height": 430
        },
        "id": "CwufQs6AOjVu",
        "outputId": "d31be2b1-42b1-420b-ad73-5894a8a7a278"
      },
      "outputs": [
        {
          "output_type": "display_data",
          "data": {
            "text/plain": [
              "<Figure size 640x480 with 2 Axes>"
            ],
            "image/png": "[encoded data removed]"
          },
          "metadata": {}
        }
      ],
      "source": [
        "from sklearn.metrics import confusion_matrix\n",
        "cm = confusion_matrix(test_datatset.classes, predictions)\n",
        "sns.heatmap(cm, annot=True);"
      ]
    },
    {
      "cell_type": "code",
      "execution_count": 105,
      "metadata": {
        "colab": {
          "base_uri": "https://localhost:8080/"
        },
        "id": "lfg484OCPGqq",
        "outputId": "32b24156-feef-4d1e-fc93-be6d255cb502"
      },
      "outputs": [
        {
          "output_type": "stream",
          "name": "stdout",
          "text": [
            "              precision    recall  f1-score   support\n",
            "\n",
            "           0       0.80      0.94      0.86       198\n",
            "           1       0.97      0.97      0.97       200\n",
            "           2       0.66      0.69      0.68       200\n",
            "           3       0.56      0.43      0.49       199\n",
            "           4       0.75      0.94      0.83       200\n",
            "           5       0.73      0.60      0.66       199\n",
            "           6       0.83      0.76      0.79       200\n",
            "\n",
            "    accuracy                           0.76      1396\n",
            "   macro avg       0.76      0.76      0.75      1396\n",
            "weighted avg       0.76      0.76      0.75      1396\n",
            "\n"
          ]
        }
      ],
      "source": [
        "from sklearn.metrics import classification_report\n",
        "print(classification_report(test_datatset.classes, predictions))"
      ]
    },
    {
      "cell_type": "code",
      "execution_count": 106,
      "metadata": {
        "colab": {
          "base_uri": "https://localhost:8080/",
          "height": 472
        },
        "id": "AwBdQqe9Porm",
        "outputId": "bc5a1e09-edb3-4ebf-820c-9d91528a2c8e"
      },
      "outputs": [
        {
          "output_type": "display_data",
          "data": {
            "text/plain": [
              "<Figure size 640x480 with 1 Axes>"
            ],
            "image/png": "[encoded data removed]"
          },
          "metadata": {}
        }
      ],
      "source": [
        "plt.plot(history.history['accuracy'])\n",
        "plt.plot(history.history['val_accuracy'])\n",
        "plt.title('model accuracy')\n",
        "plt.ylabel('accuracy')\n",
        "plt.xlabel('epoch')\n",
        "plt.legend(['train', 'val'], loc='upper left')\n",
        "plt.show()"
      ]
    },
    {
      "cell_type": "code",
      "execution_count": 107,
      "metadata": {
        "colab": {
          "base_uri": "https://localhost:8080/",
          "height": 472
        },
        "id": "vVr7AUw8SNre",
        "outputId": "32eacee1-311d-4df7-cff9-8bab03b55257"
      },
      "outputs": [
        {
          "output_type": "display_data",
          "data": {
            "text/plain": [
              "<Figure size 640x480 with 1 Axes>"
            ],
            "image/png": "[encoded data removed]"
          },
          "metadata": {}
        }
      ],
      "source": [
        "plt.plot(history.history['loss'])\n",
        "plt.plot(history.history['val_loss'])\n",
        "plt.title('model loss')\n",
        "plt.ylabel('loss')\n",
        "plt.xlabel('epoch')\n",
        "plt.legend(['train', 'val'], loc='upper left')\n",
        "plt.show()"
      ]
    },
    {
      "cell_type": "code",
      "execution_count": 108,
      "metadata": {
        "id": "pnmlR6M8gih2"
      },
      "outputs": [],
      "source": [
        "from tensorflow.keras.models import load_model\n",
        "model = load_model('/content/best_model1.h5')"
      ]
    },
    {
      "cell_type": "code",
      "execution_count": 109,
      "metadata": {
        "colab": {
          "base_uri": "https://localhost:8080/"
        },
        "id": "P5SUDIaUg8-G",
        "outputId": "d4eda35f-349f-4e56-bbfd-4a2434a2d28c"
      },
      "outputs": [
        {
          "output_type": "stream",
          "name": "stdout",
          "text": [
            "1396/1396 [==============================] - 21s 15ms/step - loss: 0.6895 - accuracy: 0.7708\n"
          ]
        },
        {
          "output_type": "execute_result",
          "data": {
            "text/plain": [
              "[0.6894807815551758, 0.7707736492156982]"
            ]
          },
          "metadata": {},
          "execution_count": 109
        }
      ],
      "source": [
        "model.evaluate(test_datatset)"
      ]
    },
    {
      "cell_type": "code",
      "execution_count": 110,
      "metadata": {
        "colab": {
          "base_uri": "https://localhost:8080/",
          "height": 430
        },
        "id": "Zqq4ec2JhKgt",
        "outputId": "fc8ea4ee-4421-49ca-e0ce-45975566a10a"
      },
      "outputs": [
        {
          "output_type": "display_data",
          "data": {
            "text/plain": [
              "<Figure size 640x480 with 2 Axes>"
            ],
            "image/png": "[encoded data removed]"
          },
          "metadata": {}
        }
      ],
      "source": [
        "pred = model.predict(test_datatset)\n",
        "pred = np.argmax(pred, axis=1)\n",
        "cm = confusion_matrix(test_datatset.classes, pred)\n",
        "sns.heatmap(cm, annot=True);"
      ]
    },
    {
      "cell_type": "code",
      "execution_count": 111,
      "metadata": {
        "colab": {
          "base_uri": "https://localhost:8080/"
        },
        "id": "e2TSljdej81S",
        "outputId": "787e003d-0356-47c0-fdcf-2bf7a267b7e2"
      },
      "outputs": [
        {
          "output_type": "stream",
          "name": "stdout",
          "text": [
            "              precision    recall  f1-score   support\n",
            "\n",
            "           0       0.84      0.93      0.88       198\n",
            "           1       0.99      0.98      0.99       200\n",
            "           2       0.64      0.74      0.69       200\n",
            "           3       0.64      0.40      0.49       199\n",
            "           4       0.77      0.93      0.84       200\n",
            "           5       0.76      0.58      0.66       199\n",
            "           6       0.73      0.84      0.78       200\n",
            "\n",
            "    accuracy                           0.77      1396\n",
            "   macro avg       0.77      0.77      0.76      1396\n",
            "weighted avg       0.77      0.77      0.76      1396\n",
            "\n"
          ]
        }
      ],
      "source": [
        "print(classification_report(test_datatset.classes, pred))"
      ]
    },
    {
      "cell_type": "code",
      "execution_count": 112,
      "metadata": {
        "id": "jzbwiv0ikEVG"
      },
      "outputs": [],
      "source": [
        "network.save('network.h5')"
      ]
    },
    {
      "cell_type": "code",
      "execution_count": 113,
      "metadata": {
        "id": "mTxEZdsQtlC4"
      },
      "outputs": [],
      "source": [
        "net = load_model('/content/network.h5')"
      ]
    },
    {
      "cell_type": "code",
      "execution_count": 114,
      "metadata": {
        "colab": {
          "base_uri": "https://localhost:8080/"
        },
        "id": "JgEg6VxztpAx",
        "outputId": "3e424c2f-8ccf-4ce8-e77c-737b0c2e972e"
      },
      "outputs": [
        {
          "output_type": "stream",
          "name": "stdout",
          "text": [
            "1396/1396 [==============================] - 20s 14ms/step - loss: 0.6785 - accuracy: 0.7629\n"
          ]
        },
        {
          "output_type": "execute_result",
          "data": {
            "text/plain": [
              "[0.6785030961036682, 0.7628939747810364]"
            ]
          },
          "metadata": {},
          "execution_count": 114
        }
      ],
      "source": [
        "net.evaluate(test_datatset)"
      ]
    },
    {
      "cell_type": "code",
      "execution_count": 115,
      "metadata": {
        "colab": {
          "base_uri": "https://localhost:8080/",
          "height": 430
        },
        "id": "6wbroQ7EvUvp",
        "outputId": "425a3a87-82da-4d83-8a6c-9bbbf67bc8ab"
      },
      "outputs": [
        {
          "output_type": "display_data",
          "data": {
            "text/plain": [
              "<Figure size 640x480 with 2 Axes>"
            ],
            "image/png": "[encoded data removed]"
          },
          "metadata": {}
        }
      ],
      "source": [
        "pre = net.predict(test_datatset)\n",
        "pre = np.argmax(pre, axis=1)\n",
        "cm = confusion_matrix(test_datatset.classes, pre)\n",
        "sns.heatmap(cm, annot=True);"
      ]
    },
    {
      "cell_type": "code",
      "execution_count": 116,
      "metadata": {
        "colab": {
          "base_uri": "https://localhost:8080/"
        },
        "id": "0c6L1deT_TAY",
        "outputId": "66d3bc5d-e1e0-4a14-ed41-9be6c30a677c"
      },
      "outputs": [
        {
          "output_type": "stream",
          "name": "stdout",
          "text": [
            "              precision    recall  f1-score   support\n",
            "\n",
            "           0       0.84      0.93      0.88       198\n",
            "           1       0.99      0.98      0.99       200\n",
            "           2       0.64      0.74      0.69       200\n",
            "           3       0.64      0.40      0.49       199\n",
            "           4       0.77      0.93      0.84       200\n",
            "           5       0.76      0.58      0.66       199\n",
            "           6       0.73      0.84      0.78       200\n",
            "\n",
            "    accuracy                           0.77      1396\n",
            "   macro avg       0.77      0.77      0.76      1396\n",
            "weighted avg       0.77      0.77      0.76      1396\n",
            "\n"
          ]
        }
      ],
      "source": [
        "print(classification_report(test_datatset.classes, pred))"
      ]
    },
    {
      "cell_type": "markdown",
      "source": [],
      "metadata": {
        "id": "I501GKF6LLsg"
      }
    }
  ],
  "metadata": {
    "colab": {
      "provenance": [],
      "include_colab_link": true
    },
    "kernelspec": {
      "display_name": "Python 3",
      "name": "python3"
    },
    "language_info": {
      "name": "python"
    }
  },
  "nbformat": 4,
  "nbformat_minor": 0
}