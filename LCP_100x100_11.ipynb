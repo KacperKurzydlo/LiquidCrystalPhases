{
  "cells": [
    {
      "cell_type": "markdown",
      "metadata": {
        "id": "view-in-github",
        "colab_type": "text"
      },
      "source": [
        "<a href=\"https://colab.research.google.com/github/KacperKurzydlo/LiquidCrystalPhases/blob/main/LCP_100x100_11.ipynb\" target=\"_parent\"><img src=\"https://colab.research.google.com/assets/colab-badge.svg\" alt=\"Open In Colab\"/></a>"
      ]
    },
    {
      "cell_type": "code",
      "execution_count": 1,
      "metadata": {
        "colab": {
          "base_uri": "https://localhost:8080/"
        },
        "id": "647sNsjCJ0hX",
        "outputId": "753bcbc8-d7d9-4c19-c1a2-4caf43c2b811"
      },
      "outputs": [
        {
          "output_type": "stream",
          "name": "stdout",
          "text": [
            "Requirement already satisfied: h5py in /usr/local/lib/python3.10/dist-packages (3.8.0)\n",
            "Requirement already satisfied: numpy>=1.14.5 in /usr/local/lib/python3.10/dist-packages (from h5py) (1.22.4)\n",
            "Requirement already satisfied: typing-extensions in /usr/local/lib/python3.10/dist-packages (4.7.1)\n",
            "Requirement already satisfied: wheel in /usr/local/lib/python3.10/dist-packages (0.41.0)\n"
          ]
        }
      ],
      "source": [
        "!pip install h5py\n",
        "!pip install typing-extensions\n",
        "!pip install wheel"
      ]
    },
    {
      "cell_type": "code",
      "execution_count": 2,
      "metadata": {
        "colab": {
          "base_uri": "https://localhost:8080/"
        },
        "id": "kq6qJdUqIWCQ",
        "outputId": "508014d1-513f-47bd-b226-2146b577056a"
      },
      "outputs": [
        {
          "output_type": "stream",
          "name": "stdout",
          "text": [
            "Collecting tensorflow==2.8\n",
            "  Downloading tensorflow-2.8.0-cp310-cp310-manylinux2010_x86_64.whl (497.6 MB)\n",
            "\u001b[2K     \u001b[90m━━━━━━━━━━━━━━━━━━━━━━━━━━━━━━━━━━━━━━━\u001b[0m \u001b[32m497.6/497.6 MB\u001b[0m \u001b[31m2.6 MB/s\u001b[0m eta \u001b[36m0:00:00\u001b[0m\n",
            "\u001b[?25hRequirement already satisfied: absl-py>=0.4.0 in /usr/local/lib/python3.10/dist-packages (from tensorflow==2.8) (1.4.0)\n",
            "Requirement already satisfied: astunparse>=1.6.0 in /usr/local/lib/python3.10/dist-packages (from tensorflow==2.8) (1.6.3)\n",
            "Requirement already satisfied: flatbuffers>=1.12 in /usr/local/lib/python3.10/dist-packages (from tensorflow==2.8) (23.5.26)\n",
            "Requirement already satisfied: gast>=0.2.1 in /usr/local/lib/python3.10/dist-packages (from tensorflow==2.8) (0.4.0)\n",
            "Requirement already satisfied: google-pasta>=0.1.1 in /usr/local/lib/python3.10/dist-packages (from tensorflow==2.8) (0.2.0)\n",
            "Requirement already satisfied: h5py>=2.9.0 in /usr/local/lib/python3.10/dist-packages (from tensorflow==2.8) (3.8.0)\n",
            "Collecting keras-preprocessing>=1.1.1 (from tensorflow==2.8)\n",
            "  Downloading Keras_Preprocessing-1.1.2-py2.py3-none-any.whl (42 kB)\n",
            "\u001b[2K     \u001b[90m━━━━━━━━━━━━━━━━━━━━━━━━━━━━━━━━━━━━━━━━\u001b[0m \u001b[32m42.6/42.6 kB\u001b[0m \u001b[31m4.1 MB/s\u001b[0m eta \u001b[36m0:00:00\u001b[0m\n",
            "\u001b[?25hRequirement already satisfied: libclang>=9.0.1 in /usr/local/lib/python3.10/dist-packages (from tensorflow==2.8) (16.0.6)\n",
            "Requirement already satisfied: numpy>=1.20 in /usr/local/lib/python3.10/dist-packages (from tensorflow==2.8) (1.22.4)\n",
            "Requirement already satisfied: opt-einsum>=2.3.2 in /usr/local/lib/python3.10/dist-packages (from tensorflow==2.8) (3.3.0)\n",
            "Requirement already satisfied: protobuf>=3.9.2 in /usr/local/lib/python3.10/dist-packages (from tensorflow==2.8) (3.20.3)\n",
            "Requirement already satisfied: setuptools in /usr/local/lib/python3.10/dist-packages (from tensorflow==2.8) (67.7.2)\n",
            "Requirement already satisfied: six>=1.12.0 in /usr/local/lib/python3.10/dist-packages (from tensorflow==2.8) (1.16.0)\n",
            "Requirement already satisfied: termcolor>=1.1.0 in /usr/local/lib/python3.10/dist-packages (from tensorflow==2.8) (2.3.0)\n",
            "Requirement already satisfied: typing-extensions>=3.6.6 in /usr/local/lib/python3.10/dist-packages (from tensorflow==2.8) (4.7.1)\n",
            "Requirement already satisfied: wrapt>=1.11.0 in /usr/local/lib/python3.10/dist-packages (from tensorflow==2.8) (1.14.1)\n",
            "Collecting tensorboard<2.9,>=2.8 (from tensorflow==2.8)\n",
            "  Downloading tensorboard-2.8.0-py3-none-any.whl (5.8 MB)\n",
            "\u001b[2K     \u001b[90m━━━━━━━━━━━━━━━━━━━━━━━━━━━━━━━━━━━━━━━━\u001b[0m \u001b[32m5.8/5.8 MB\u001b[0m \u001b[31m56.2 MB/s\u001b[0m eta \u001b[36m0:00:00\u001b[0m\n",
            "\u001b[?25hCollecting tf-estimator-nightly==2.8.0.dev2021122109 (from tensorflow==2.8)\n",
            "  Downloading tf_estimator_nightly-2.8.0.dev2021122109-py2.py3-none-any.whl (462 kB)\n",
            "\u001b[2K     \u001b[90m━━━━━━━━━━━━━━━━━━━━━━━━━━━━━━━━━━━━━━\u001b[0m \u001b[32m462.5/462.5 kB\u001b[0m \u001b[31m22.8 MB/s\u001b[0m eta \u001b[36m0:00:00\u001b[0m\n",
            "\u001b[?25hCollecting keras<2.9,>=2.8.0rc0 (from tensorflow==2.8)\n",
            "  Downloading keras-2.8.0-py2.py3-none-any.whl (1.4 MB)\n",
            "\u001b[2K     \u001b[90m━━━━━━━━━━━━━━━━━━━━━━━━━━━━━━━━━━━━━━━━\u001b[0m \u001b[32m1.4/1.4 MB\u001b[0m \u001b[31m20.0 MB/s\u001b[0m eta \u001b[36m0:00:00\u001b[0m\n",
            "\u001b[?25hRequirement already satisfied: tensorflow-io-gcs-filesystem>=0.23.1 in /usr/local/lib/python3.10/dist-packages (from tensorflow==2.8) (0.32.0)\n",
            "Requirement already satisfied: grpcio<2.0,>=1.24.3 in /usr/local/lib/python3.10/dist-packages (from tensorflow==2.8) (1.56.2)\n",
            "Requirement already satisfied: wheel<1.0,>=0.23.0 in /usr/local/lib/python3.10/dist-packages (from astunparse>=1.6.0->tensorflow==2.8) (0.41.0)\n",
            "Requirement already satisfied: google-auth<3,>=1.6.3 in /usr/local/lib/python3.10/dist-packages (from tensorboard<2.9,>=2.8->tensorflow==2.8) (2.17.3)\n",
            "Collecting google-auth-oauthlib<0.5,>=0.4.1 (from tensorboard<2.9,>=2.8->tensorflow==2.8)\n",
            "  Downloading google_auth_oauthlib-0.4.6-py2.py3-none-any.whl (18 kB)\n",
            "Requirement already satisfied: markdown>=2.6.8 in /usr/local/lib/python3.10/dist-packages (from tensorboard<2.9,>=2.8->tensorflow==2.8) (3.4.4)\n",
            "Requirement already satisfied: requests<3,>=2.21.0 in /usr/local/lib/python3.10/dist-packages (from tensorboard<2.9,>=2.8->tensorflow==2.8) (2.27.1)\n",
            "Collecting tensorboard-data-server<0.7.0,>=0.6.0 (from tensorboard<2.9,>=2.8->tensorflow==2.8)\n",
            "  Downloading tensorboard_data_server-0.6.1-py3-none-manylinux2010_x86_64.whl (4.9 MB)\n",
            "\u001b[2K     \u001b[90m━━━━━━━━━━━━━━━━━━━━━━━━━━━━━━━━━━━━━━━━\u001b[0m \u001b[32m4.9/4.9 MB\u001b[0m \u001b[31m41.6 MB/s\u001b[0m eta \u001b[36m0:00:00\u001b[0m\n",
            "\u001b[?25hCollecting tensorboard-plugin-wit>=1.6.0 (from tensorboard<2.9,>=2.8->tensorflow==2.8)\n",
            "  Downloading tensorboard_plugin_wit-1.8.1-py3-none-any.whl (781 kB)\n",
            "\u001b[2K     \u001b[90m━━━━━━━━━━━━━━━━━━━━━━━━━━━━━━━━━━━━━━\u001b[0m \u001b[32m781.3/781.3 kB\u001b[0m \u001b[31m21.0 MB/s\u001b[0m eta \u001b[36m0:00:00\u001b[0m\n",
            "\u001b[?25hRequirement already satisfied: werkzeug>=0.11.15 in /usr/local/lib/python3.10/dist-packages (from tensorboard<2.9,>=2.8->tensorflow==2.8) (2.3.6)\n",
            "Requirement already satisfied: cachetools<6.0,>=2.0.0 in /usr/local/lib/python3.10/dist-packages (from google-auth<3,>=1.6.3->tensorboard<2.9,>=2.8->tensorflow==2.8) (5.3.1)\n",
            "Requirement already satisfied: pyasn1-modules>=0.2.1 in /usr/local/lib/python3.10/dist-packages (from google-auth<3,>=1.6.3->tensorboard<2.9,>=2.8->tensorflow==2.8) (0.3.0)\n",
            "Requirement already satisfied: rsa<5,>=3.1.4 in /usr/local/lib/python3.10/dist-packages (from google-auth<3,>=1.6.3->tensorboard<2.9,>=2.8->tensorflow==2.8) (4.9)\n",
            "Requirement already satisfied: requests-oauthlib>=0.7.0 in /usr/local/lib/python3.10/dist-packages (from google-auth-oauthlib<0.5,>=0.4.1->tensorboard<2.9,>=2.8->tensorflow==2.8) (1.3.1)\n",
            "Requirement already satisfied: urllib3<1.27,>=1.21.1 in /usr/local/lib/python3.10/dist-packages (from requests<3,>=2.21.0->tensorboard<2.9,>=2.8->tensorflow==2.8) (1.26.16)\n",
            "Requirement already satisfied: certifi>=2017.4.17 in /usr/local/lib/python3.10/dist-packages (from requests<3,>=2.21.0->tensorboard<2.9,>=2.8->tensorflow==2.8) (2023.7.22)\n",
            "Requirement already satisfied: charset-normalizer~=2.0.0 in /usr/local/lib/python3.10/dist-packages (from requests<3,>=2.21.0->tensorboard<2.9,>=2.8->tensorflow==2.8) (2.0.12)\n",
            "Requirement already satisfied: idna<4,>=2.5 in /usr/local/lib/python3.10/dist-packages (from requests<3,>=2.21.0->tensorboard<2.9,>=2.8->tensorflow==2.8) (3.4)\n",
            "Requirement already satisfied: MarkupSafe>=2.1.1 in /usr/local/lib/python3.10/dist-packages (from werkzeug>=0.11.15->tensorboard<2.9,>=2.8->tensorflow==2.8) (2.1.3)\n",
            "Requirement already satisfied: pyasn1<0.6.0,>=0.4.6 in /usr/local/lib/python3.10/dist-packages (from pyasn1-modules>=0.2.1->google-auth<3,>=1.6.3->tensorboard<2.9,>=2.8->tensorflow==2.8) (0.5.0)\n",
            "Requirement already satisfied: oauthlib>=3.0.0 in /usr/local/lib/python3.10/dist-packages (from requests-oauthlib>=0.7.0->google-auth-oauthlib<0.5,>=0.4.1->tensorboard<2.9,>=2.8->tensorflow==2.8) (3.2.2)\n",
            "Installing collected packages: tf-estimator-nightly, tensorboard-plugin-wit, keras, tensorboard-data-server, keras-preprocessing, google-auth-oauthlib, tensorboard, tensorflow\n",
            "  Attempting uninstall: keras\n",
            "    Found existing installation: keras 2.12.0\n",
            "    Uninstalling keras-2.12.0:\n",
            "      Successfully uninstalled keras-2.12.0\n",
            "  Attempting uninstall: tensorboard-data-server\n",
            "    Found existing installation: tensorboard-data-server 0.7.1\n",
            "    Uninstalling tensorboard-data-server-0.7.1:\n",
            "      Successfully uninstalled tensorboard-data-server-0.7.1\n",
            "  Attempting uninstall: google-auth-oauthlib\n",
            "    Found existing installation: google-auth-oauthlib 1.0.0\n",
            "    Uninstalling google-auth-oauthlib-1.0.0:\n",
            "      Successfully uninstalled google-auth-oauthlib-1.0.0\n",
            "  Attempting uninstall: tensorboard\n",
            "    Found existing installation: tensorboard 2.12.3\n",
            "    Uninstalling tensorboard-2.12.3:\n",
            "      Successfully uninstalled tensorboard-2.12.3\n",
            "  Attempting uninstall: tensorflow\n",
            "    Found existing installation: tensorflow 2.12.0\n",
            "    Uninstalling tensorflow-2.12.0:\n",
            "      Successfully uninstalled tensorflow-2.12.0\n",
            "Successfully installed google-auth-oauthlib-0.4.6 keras-2.8.0 keras-preprocessing-1.1.2 tensorboard-2.8.0 tensorboard-data-server-0.6.1 tensorboard-plugin-wit-1.8.1 tensorflow-2.8.0 tf-estimator-nightly-2.8.0.dev2021122109\n"
          ]
        }
      ],
      "source": [
        "!pip install tensorflow==2.8"
      ]
    },
    {
      "cell_type": "code",
      "execution_count": 3,
      "metadata": {
        "colab": {
          "base_uri": "https://localhost:8080/",
          "height": 35
        },
        "id": "I0X9qkMXs_pp",
        "outputId": "27c044f2-f06b-4a85-bc54-ee76bb8b2ed9"
      },
      "outputs": [
        {
          "output_type": "execute_result",
          "data": {
            "text/plain": [
              "'2.8.0'"
            ],
            "application/vnd.google.colaboratory.intrinsic+json": {
              "type": "string"
            }
          },
          "metadata": {},
          "execution_count": 3
        }
      ],
      "source": [
        "import matplotlib.pyplot as plt\n",
        "import seaborn as sns\n",
        "import zipfile\n",
        "import numpy as np\n",
        "import cv2\n",
        "from google.colab.patches import cv2_imshow\n",
        "import tensorflow as tf\n",
        "from tensorflow.keras.callbacks import ReduceLROnPlateau\n",
        "from tensorflow.keras import regularizers\n",
        "from tensorflow.keras.callbacks import ModelCheckpoint, EarlyStopping\n",
        "from tensorflow.keras.models import Sequential\n",
        "from tensorflow.keras.layers import Conv2D, MaxPool2D, Flatten, Dense, BatchNormalization, Dropout\n",
        "from tensorflow.keras.preprocessing.image import ImageDataGenerator\n",
        "tf.__version__"
      ]
    },
    {
      "cell_type": "code",
      "execution_count": 4,
      "metadata": {
        "colab": {
          "base_uri": "https://localhost:8080/"
        },
        "id": "yQMOvsd99H-V",
        "outputId": "3fea5acb-c7ba-4a98-a2d5-3f9847b171d8"
      },
      "outputs": [
        {
          "output_type": "stream",
          "name": "stdout",
          "text": [
            "Mounted at /content/drive\n"
          ]
        }
      ],
      "source": [
        "from google.colab import drive\n",
        "drive.mount('/content/drive')"
      ]
    },
    {
      "cell_type": "code",
      "execution_count": 5,
      "metadata": {
        "id": "Y_BgiI3JxA9q"
      },
      "outputs": [],
      "source": [
        "path = '/content/drive/MyDrive/Praktyki/gotowe.zip'\n",
        "zip_object = zipfile.ZipFile(file=path, mode='r')\n",
        "zip_object.extractall('./')\n",
        "zip_object.close()"
      ]
    },
    {
      "cell_type": "code",
      "execution_count": 6,
      "metadata": {
        "id": "7-PhxwM60uM7"
      },
      "outputs": [],
      "source": [
        "training_generator = ImageDataGenerator(rescale=1./255,\n",
        "                                        horizontal_flip=True,\n",
        "                                        vertical_flip=True)\n"
      ]
    },
    {
      "cell_type": "code",
      "execution_count": 7,
      "metadata": {
        "colab": {
          "base_uri": "https://localhost:8080/"
        },
        "id": "jMErkkVv_mXw",
        "outputId": "a34d1b6b-ccb4-4405-9477-804979e6b12b"
      },
      "outputs": [
        {
          "output_type": "stream",
          "name": "stdout",
          "text": [
            "Found 11158 images belonging to 7 classes.\n"
          ]
        }
      ],
      "source": [
        "train_dataset = training_generator.flow_from_directory('/content/gotowe/train_set',\n",
        "                                                       target_size = (100, 100),\n",
        "                                                       batch_size = 10,\n",
        "                                                       color_mode='rgb',\n",
        "                                                       class_mode = 'categorical',\n",
        "                                                       shuffle = True)"
      ]
    },
    {
      "cell_type": "code",
      "execution_count": 8,
      "metadata": {
        "colab": {
          "base_uri": "https://localhost:8080/"
        },
        "id": "C4errPxfAukM",
        "outputId": "6592d5ab-2ef7-4aca-cb4b-3ab33c600416"
      },
      "outputs": [
        {
          "output_type": "execute_result",
          "data": {
            "text/plain": [
              "array([0, 0, 0, ..., 6, 6, 6], dtype=int32)"
            ]
          },
          "metadata": {},
          "execution_count": 8
        }
      ],
      "source": [
        "train_dataset.classes"
      ]
    },
    {
      "cell_type": "code",
      "execution_count": 9,
      "metadata": {
        "colab": {
          "base_uri": "https://localhost:8080/"
        },
        "id": "jYCiD3adA5xf",
        "outputId": "b4b1f90f-e05e-4003-9db9-9f064227a725"
      },
      "outputs": [
        {
          "output_type": "execute_result",
          "data": {
            "text/plain": [
              "{'nematyk': 0,\n",
              " 'smektyk_C': 1,\n",
              " 'smektyk_F': 2,\n",
              " 'smektyk_GMosaic': 3,\n",
              " 'smektyk_GSchliren': 4,\n",
              " 'smektyk_H': 5,\n",
              " 'smektyk_I': 6}"
            ]
          },
          "metadata": {},
          "execution_count": 9
        }
      ],
      "source": [
        "train_dataset.class_indices"
      ]
    },
    {
      "cell_type": "code",
      "execution_count": 10,
      "metadata": {
        "id": "6VK7xyH-BkSq"
      },
      "outputs": [],
      "source": [
        "test_generator = ImageDataGenerator(rescale=1./255)\n",
        "val_generator = ImageDataGenerator(rescale=1./255)"
      ]
    },
    {
      "cell_type": "code",
      "execution_count": 11,
      "metadata": {
        "colab": {
          "base_uri": "https://localhost:8080/"
        },
        "id": "84kKwMy6U7oh",
        "outputId": "6954cc73-2f95-46c8-b9c6-c166a0261742"
      },
      "outputs": [
        {
          "output_type": "stream",
          "name": "stdout",
          "text": [
            "Found 1395 images belonging to 7 classes.\n"
          ]
        }
      ],
      "source": [
        "validation_dataset = val_generator.flow_from_directory('/content/gotowe/val_set',\n",
        "                                                        target_size=(100, 100),\n",
        "                                                        batch_size=1,\n",
        "                                                        class_mode='categorical',\n",
        "                                                        color_mode='rgb',\n",
        "                                                        shuffle=True) # set as validation data"
      ]
    },
    {
      "cell_type": "code",
      "execution_count": 12,
      "metadata": {
        "id": "PB2pU5bzXPTa"
      },
      "outputs": [],
      "source": [
        "L2 = 0.00001"
      ]
    },
    {
      "cell_type": "code",
      "execution_count": 13,
      "metadata": {
        "colab": {
          "base_uri": "https://localhost:8080/"
        },
        "id": "SdqIBmxiBvU1",
        "outputId": "a44379e1-1ded-4407-f908-391487e4fba4"
      },
      "outputs": [
        {
          "output_type": "stream",
          "name": "stdout",
          "text": [
            "Found 1396 images belonging to 7 classes.\n"
          ]
        }
      ],
      "source": [
        "test_datatset = test_generator.flow_from_directory('/content/gotowe/test_set',\n",
        "                                                   target_size = (100, 100),\n",
        "                                                   batch_size = 1,\n",
        "                                                   color_mode='rgb',\n",
        "                                                   class_mode = 'categorical',\n",
        "                                                   shuffle = False)"
      ]
    },
    {
      "cell_type": "code",
      "execution_count": 14,
      "metadata": {
        "id": "xVLgf1bADs_C"
      },
      "outputs": [],
      "source": [
        "initializer1 = tf.keras.initializers.HeNormal()\n",
        "initializer2 = tf.keras.initializers.GlorotUniform()"
      ]
    },
    {
      "cell_type": "code",
      "execution_count": 16,
      "metadata": {
        "colab": {
          "base_uri": "https://localhost:8080/"
        },
        "id": "QTr7SiKfD6UI",
        "outputId": "6be46dc1-b006-497d-9dbb-b5a3627b6f63"
      },
      "outputs": [
        {
          "output_type": "stream",
          "name": "stdout",
          "text": [
            "Model: \"sequential_1\"\n",
            "_________________________________________________________________\n",
            " Layer (type)                Output Shape              Param #   \n",
            "=================================================================\n",
            " conv2d_14 (Conv2D)          (None, 95, 95, 32)        3488      \n",
            "                                                                 \n",
            " batch_normalization_12 (Bat  (None, 95, 95, 32)       128       \n",
            " chNormalization)                                                \n",
            "                                                                 \n",
            " max_pooling2d_6 (MaxPooling  (None, 47, 47, 32)       0         \n",
            " 2D)                                                             \n",
            "                                                                 \n",
            " conv2d_15 (Conv2D)          (None, 47, 47, 64)        18496     \n",
            "                                                                 \n",
            " conv2d_16 (Conv2D)          (None, 47, 47, 64)        36928     \n",
            "                                                                 \n",
            " conv2d_17 (Conv2D)          (None, 47, 47, 64)        36928     \n",
            "                                                                 \n",
            " conv2d_18 (Conv2D)          (None, 47, 47, 64)        36928     \n",
            "                                                                 \n",
            " batch_normalization_13 (Bat  (None, 47, 47, 64)       256       \n",
            " chNormalization)                                                \n",
            "                                                                 \n",
            " max_pooling2d_7 (MaxPooling  (None, 23, 23, 64)       0         \n",
            " 2D)                                                             \n",
            "                                                                 \n",
            " conv2d_19 (Conv2D)          (None, 23, 23, 128)       73856     \n",
            "                                                                 \n",
            " conv2d_20 (Conv2D)          (None, 23, 23, 128)       147584    \n",
            "                                                                 \n",
            " conv2d_21 (Conv2D)          (None, 23, 23, 128)       147584    \n",
            "                                                                 \n",
            " conv2d_22 (Conv2D)          (None, 23, 23, 128)       147584    \n",
            "                                                                 \n",
            " batch_normalization_14 (Bat  (None, 23, 23, 128)      512       \n",
            " chNormalization)                                                \n",
            "                                                                 \n",
            " max_pooling2d_8 (MaxPooling  (None, 11, 11, 128)      0         \n",
            " 2D)                                                             \n",
            "                                                                 \n",
            " conv2d_23 (Conv2D)          (None, 11, 11, 256)       295168    \n",
            "                                                                 \n",
            " conv2d_24 (Conv2D)          (None, 11, 11, 256)       590080    \n",
            "                                                                 \n",
            " conv2d_25 (Conv2D)          (None, 11, 11, 256)       590080    \n",
            "                                                                 \n",
            " batch_normalization_15 (Bat  (None, 11, 11, 256)      1024      \n",
            " chNormalization)                                                \n",
            "                                                                 \n",
            " max_pooling2d_9 (MaxPooling  (None, 5, 5, 256)        0         \n",
            " 2D)                                                             \n",
            "                                                                 \n",
            " conv2d_26 (Conv2D)          (None, 5, 5, 512)         524800    \n",
            "                                                                 \n",
            " conv2d_27 (Conv2D)          (None, 5, 5, 512)         1049088   \n",
            "                                                                 \n",
            " conv2d_28 (Conv2D)          (None, 5, 5, 512)         1049088   \n",
            "                                                                 \n",
            " batch_normalization_16 (Bat  (None, 5, 5, 512)        2048      \n",
            " chNormalization)                                                \n",
            "                                                                 \n",
            " max_pooling2d_10 (MaxPoolin  (None, 2, 2, 512)        0         \n",
            " g2D)                                                            \n",
            "                                                                 \n",
            " conv2d_29 (Conv2D)          (None, 2, 2, 1024)        2098176   \n",
            "                                                                 \n",
            " conv2d_30 (Conv2D)          (None, 2, 2, 1024)        4195328   \n",
            "                                                                 \n",
            " conv2d_31 (Conv2D)          (None, 2, 2, 1024)        4195328   \n",
            "                                                                 \n",
            " batch_normalization_17 (Bat  (None, 2, 2, 1024)       4096      \n",
            " chNormalization)                                                \n",
            "                                                                 \n",
            " max_pooling2d_11 (MaxPoolin  (None, 1, 1, 1024)       0         \n",
            " g2D)                                                            \n",
            "                                                                 \n",
            " flatten_1 (Flatten)         (None, 1024)              0         \n",
            "                                                                 \n",
            " dense_7 (Dense)             (None, 1024)              1049600   \n",
            "                                                                 \n",
            " batch_normalization_18 (Bat  (None, 1024)             4096      \n",
            " chNormalization)                                                \n",
            "                                                                 \n",
            " dense_8 (Dense)             (None, 512)               524800    \n",
            "                                                                 \n",
            " batch_normalization_19 (Bat  (None, 512)              2048      \n",
            " chNormalization)                                                \n",
            "                                                                 \n",
            " dense_9 (Dense)             (None, 256)               131328    \n",
            "                                                                 \n",
            " batch_normalization_20 (Bat  (None, 256)              1024      \n",
            " chNormalization)                                                \n",
            "                                                                 \n",
            " dense_10 (Dense)            (None, 128)               32896     \n",
            "                                                                 \n",
            " batch_normalization_21 (Bat  (None, 128)              512       \n",
            " chNormalization)                                                \n",
            "                                                                 \n",
            " dense_11 (Dense)            (None, 64)                8256      \n",
            "                                                                 \n",
            " batch_normalization_22 (Bat  (None, 64)               256       \n",
            " chNormalization)                                                \n",
            "                                                                 \n",
            " dense_12 (Dense)            (None, 32)                2080      \n",
            "                                                                 \n",
            " batch_normalization_23 (Bat  (None, 32)               128       \n",
            " chNormalization)                                                \n",
            "                                                                 \n",
            " dense_13 (Dense)            (None, 7)                 231       \n",
            "                                                                 \n",
            "=================================================================\n",
            "Total params: 17,001,831\n",
            "Trainable params: 16,993,767\n",
            "Non-trainable params: 8,064\n",
            "_________________________________________________________________\n"
          ]
        }
      ],
      "source": [
        "network = Sequential()\n",
        "\n",
        "network.add(Conv2D(filters=32, kernel_size=(6,6), activation = 'relu', input_shape = (100,100,3), kernel_initializer=initializer1))\n",
        "network.add(BatchNormalization())\n",
        "network.add(MaxPool2D(pool_size=(2,2)))\n",
        "\n",
        "network.add(Conv2D(filters=64, kernel_size=(3,3), activation = 'relu', padding='same', kernel_initializer=initializer1))\n",
        "network.add(Conv2D(filters=64, kernel_size=(3,3), activation = 'relu', padding='same', kernel_initializer=initializer1))\n",
        "network.add(Conv2D(filters=64, kernel_size=(3,3), activation = 'relu', padding='same', kernel_initializer=initializer1))\n",
        "network.add(Conv2D(filters=64, kernel_size=(3,3), activation = 'relu', padding='same', kernel_initializer=initializer1))\n",
        "network.add(BatchNormalization())\n",
        "network.add(MaxPool2D(pool_size=(2,2)))\n",
        "\n",
        "network.add(Conv2D(filters=128, kernel_size=(3,3), activation = 'relu', padding='same', kernel_initializer=initializer1))\n",
        "network.add(Conv2D(filters=128, kernel_size=(3,3), activation = 'relu', padding='same', kernel_initializer=initializer1))\n",
        "network.add(Conv2D(filters=128, kernel_size=(3,3), activation = 'relu', padding='same', kernel_initializer=initializer1))\n",
        "network.add(Conv2D(filters=128, kernel_size=(3,3), activation = 'relu', padding='same', kernel_initializer=initializer1))\n",
        "network.add(BatchNormalization())\n",
        "network.add(MaxPool2D(pool_size=(2,2)))\n",
        "\n",
        "network.add(Conv2D(filters=256, kernel_size=(3,3), activation = 'relu', padding='same', kernel_initializer=initializer1))\n",
        "network.add(Conv2D(filters=256, kernel_size=(3,3), activation = 'relu', padding='same', kernel_initializer=initializer1))\n",
        "network.add(Conv2D(filters=256, kernel_size=(3,3), activation = 'relu', padding='same', kernel_initializer=initializer1))\n",
        "network.add(BatchNormalization())\n",
        "network.add(MaxPool2D(pool_size=(2,2)))\n",
        "\n",
        "network.add(Conv2D(filters=512, kernel_size=(2,2), activation = 'relu', padding='same', kernel_initializer=initializer1))\n",
        "network.add(Conv2D(filters=512, kernel_size=(2,2), activation = 'relu', padding='same', kernel_initializer=initializer1))\n",
        "network.add(Conv2D(filters=512, kernel_size=(2,2), activation = 'relu', padding='same', kernel_initializer=initializer1))\n",
        "network.add(BatchNormalization())\n",
        "network.add(MaxPool2D(pool_size=(2,2)))\n",
        "\n",
        "network.add(Conv2D(filters=1024, kernel_size=(2,2), activation = 'relu', padding='same', kernel_initializer=initializer1))\n",
        "network.add(Conv2D(filters=1024, kernel_size=(2,2), activation = 'relu', padding='same', kernel_initializer=initializer1))\n",
        "network.add(Conv2D(filters=1024, kernel_size=(2,2), activation = 'relu', padding='same', kernel_initializer=initializer1))\n",
        "network.add(BatchNormalization())\n",
        "network.add(MaxPool2D(pool_size=(2,2)))\n",
        "\n",
        "network.add(Flatten())\n",
        "\n",
        "#network.add(Dropout(0.2))\n",
        "\n",
        "network.add(Dense(units = 1024, activation = 'relu', kernel_initializer=initializer1))\n",
        "network.add(BatchNormalization())\n",
        "network.add(Dense(units = 512, activation = 'relu', kernel_initializer=initializer1))\n",
        "network.add(BatchNormalization())\n",
        "network.add(Dense(units = 256, activation = 'relu', kernel_initializer=initializer1))\n",
        "network.add(BatchNormalization())\n",
        "network.add(Dense(units = 128, activation = 'relu', kernel_initializer=initializer1))\n",
        "network.add(BatchNormalization())\n",
        "network.add(Dense(units = 64, activation = 'relu', kernel_initializer=initializer1))\n",
        "network.add(BatchNormalization())\n",
        "network.add(Dense(units = 32, activation = 'relu', kernel_initializer=initializer1, kernel_regularizer=tf.keras.regularizers.L1L2()))\n",
        "network.add(BatchNormalization())\n",
        "network.add(Dense(units = 7, activation = 'softmax', kernel_initializer=initializer2))\n",
        "network.summary()"
      ]
    },
    {
      "cell_type": "code",
      "execution_count": 17,
      "metadata": {
        "id": "6viOH_kUE4Bq"
      },
      "outputs": [],
      "source": [
        "from tensorflow.keras.optimizers import Adam\n",
        "#opt = Adam(lr=0.005)\n",
        "opt = Adam()\n",
        "network.compile(optimizer='Adam', loss='categorical_crossentropy', metrics = ['accuracy'])\n"
      ]
    },
    {
      "cell_type": "code",
      "execution_count": 18,
      "metadata": {
        "id": "5IXmjfYmbuYh"
      },
      "outputs": [],
      "source": [
        "es = EarlyStopping(monitor = 'val_accuracy', min_delta = 0.001, patience = 20, verbose =1)\n",
        "model_cp = ModelCheckpoint(filepath = 'best_model1.h5', monitor = 'val_accuracy', save_best_only = True, verbose = 1)\n",
        "learning_rate_reduction = ReduceLROnPlateau(monitor='val_accuracy', patience = 5, verbose=1, factor=0.5, min_lr=0.00001)"
      ]
    },
    {
      "cell_type": "code",
      "execution_count": 19,
      "metadata": {
        "colab": {
          "base_uri": "https://localhost:8080/"
        },
        "id": "Uk8BSV5gGazz",
        "outputId": "e18e35d9-fcba-4a5e-dad8-7985c1176435"
      },
      "outputs": [
        {
          "output_type": "stream",
          "name": "stdout",
          "text": [
            "Epoch 1/100\n"
          ]
        },
        {
          "output_type": "stream",
          "name": "stderr",
          "text": [
            "<ipython-input-19-d45876fe1552>:1: UserWarning: `Model.fit_generator` is deprecated and will be removed in a future version. Please use `Model.fit`, which supports generators.\n",
            "  history = network.fit_generator(train_dataset,\n"
          ]
        },
        {
          "output_type": "stream",
          "name": "stdout",
          "text": [
            "50/50 [==============================] - ETA: 0s - loss: 2.2697 - accuracy: 0.1760\n",
            "Epoch 1: val_accuracy improved from -inf to 0.14000, saving model to best_model1.h5\n",
            "50/50 [==============================] - 156s 3s/step - loss: 2.2697 - accuracy: 0.1760 - val_loss: 8.4047 - val_accuracy: 0.1400 - lr: 0.0010\n",
            "Epoch 2/100\n",
            "50/50 [==============================] - ETA: 0s - loss: 2.0225 - accuracy: 0.2120\n",
            "Epoch 2: val_accuracy did not improve from 0.14000\n",
            "50/50 [==============================] - 154s 3s/step - loss: 2.0225 - accuracy: 0.2120 - val_loss: 2.8885 - val_accuracy: 0.0800 - lr: 0.0010\n",
            "Epoch 3/100\n",
            "50/50 [==============================] - ETA: 0s - loss: 1.9157 - accuracy: 0.2280\n",
            "Epoch 3: val_accuracy did not improve from 0.14000\n",
            "50/50 [==============================] - 151s 3s/step - loss: 1.9157 - accuracy: 0.2280 - val_loss: 2.2654 - val_accuracy: 0.0400 - lr: 0.0010\n",
            "Epoch 4/100\n",
            "50/50 [==============================] - ETA: 0s - loss: 1.7709 - accuracy: 0.3060\n",
            "Epoch 4: val_accuracy improved from 0.14000 to 0.18000, saving model to best_model1.h5\n",
            "50/50 [==============================] - 151s 3s/step - loss: 1.7709 - accuracy: 0.3060 - val_loss: 2.1144 - val_accuracy: 0.1800 - lr: 0.0010\n",
            "Epoch 5/100\n",
            "50/50 [==============================] - ETA: 0s - loss: 1.6908 - accuracy: 0.3460\n",
            "Epoch 5: val_accuracy did not improve from 0.18000\n",
            "50/50 [==============================] - 149s 3s/step - loss: 1.6908 - accuracy: 0.3460 - val_loss: 2.0921 - val_accuracy: 0.1600 - lr: 0.0010\n",
            "Epoch 6/100\n",
            "50/50 [==============================] - ETA: 0s - loss: 1.7881 - accuracy: 0.2960\n",
            "Epoch 6: val_accuracy did not improve from 0.18000\n",
            "50/50 [==============================] - 152s 3s/step - loss: 1.7881 - accuracy: 0.2960 - val_loss: 2.0129 - val_accuracy: 0.1200 - lr: 0.0010\n",
            "Epoch 7/100\n",
            "50/50 [==============================] - ETA: 0s - loss: 1.7764 - accuracy: 0.3140\n",
            "Epoch 7: val_accuracy improved from 0.18000 to 0.22000, saving model to best_model1.h5\n",
            "50/50 [==============================] - 151s 3s/step - loss: 1.7764 - accuracy: 0.3140 - val_loss: 2.0324 - val_accuracy: 0.2200 - lr: 0.0010\n",
            "Epoch 8/100\n",
            "50/50 [==============================] - ETA: 0s - loss: 1.7149 - accuracy: 0.3320\n",
            "Epoch 8: val_accuracy improved from 0.22000 to 0.30000, saving model to best_model1.h5\n",
            "50/50 [==============================] - 151s 3s/step - loss: 1.7149 - accuracy: 0.3320 - val_loss: 1.6969 - val_accuracy: 0.3000 - lr: 0.0010\n",
            "Epoch 9/100\n",
            "50/50 [==============================] - ETA: 0s - loss: 1.6726 - accuracy: 0.3500\n",
            "Epoch 9: val_accuracy improved from 0.30000 to 0.40000, saving model to best_model1.h5\n",
            "50/50 [==============================] - 152s 3s/step - loss: 1.6726 - accuracy: 0.3500 - val_loss: 1.6115 - val_accuracy: 0.4000 - lr: 0.0010\n",
            "Epoch 10/100\n",
            "50/50 [==============================] - ETA: 0s - loss: 1.7074 - accuracy: 0.3340\n",
            "Epoch 10: val_accuracy did not improve from 0.40000\n",
            "50/50 [==============================] - 151s 3s/step - loss: 1.7074 - accuracy: 0.3340 - val_loss: 1.5918 - val_accuracy: 0.3600 - lr: 0.0010\n",
            "Epoch 11/100\n",
            "50/50 [==============================] - ETA: 0s - loss: 1.6630 - accuracy: 0.3700\n",
            "Epoch 11: val_accuracy did not improve from 0.40000\n",
            "50/50 [==============================] - 147s 3s/step - loss: 1.6630 - accuracy: 0.3700 - val_loss: 1.7954 - val_accuracy: 0.3600 - lr: 0.0010\n",
            "Epoch 12/100\n",
            "50/50 [==============================] - ETA: 0s - loss: 1.6643 - accuracy: 0.3500\n",
            "Epoch 12: val_accuracy improved from 0.40000 to 0.42000, saving model to best_model1.h5\n",
            "50/50 [==============================] - 155s 3s/step - loss: 1.6643 - accuracy: 0.3500 - val_loss: 1.4512 - val_accuracy: 0.4200 - lr: 0.0010\n",
            "Epoch 13/100\n",
            "50/50 [==============================] - ETA: 0s - loss: 1.6242 - accuracy: 0.3800\n",
            "Epoch 13: val_accuracy improved from 0.42000 to 0.46000, saving model to best_model1.h5\n",
            "50/50 [==============================] - 153s 3s/step - loss: 1.6242 - accuracy: 0.3800 - val_loss: 1.5582 - val_accuracy: 0.4600 - lr: 0.0010\n",
            "Epoch 14/100\n",
            "50/50 [==============================] - ETA: 0s - loss: 1.6305 - accuracy: 0.3500\n",
            "Epoch 14: val_accuracy did not improve from 0.46000\n",
            "50/50 [==============================] - 151s 3s/step - loss: 1.6305 - accuracy: 0.3500 - val_loss: 1.4287 - val_accuracy: 0.4200 - lr: 0.0010\n",
            "Epoch 15/100\n",
            "50/50 [==============================] - ETA: 0s - loss: 1.6363 - accuracy: 0.3600\n",
            "Epoch 15: val_accuracy did not improve from 0.46000\n",
            "50/50 [==============================] - 147s 3s/step - loss: 1.6363 - accuracy: 0.3600 - val_loss: 1.6186 - val_accuracy: 0.3600 - lr: 0.0010\n",
            "Epoch 16/100\n",
            "50/50 [==============================] - ETA: 0s - loss: 1.6371 - accuracy: 0.3920\n",
            "Epoch 16: val_accuracy did not improve from 0.46000\n",
            "50/50 [==============================] - 151s 3s/step - loss: 1.6371 - accuracy: 0.3920 - val_loss: 1.5667 - val_accuracy: 0.4400 - lr: 0.0010\n",
            "Epoch 17/100\n",
            "50/50 [==============================] - ETA: 0s - loss: 1.5661 - accuracy: 0.3900\n",
            "Epoch 17: val_accuracy did not improve from 0.46000\n",
            "50/50 [==============================] - 150s 3s/step - loss: 1.5661 - accuracy: 0.3900 - val_loss: 1.4733 - val_accuracy: 0.3800 - lr: 0.0010\n",
            "Epoch 18/100\n",
            "50/50 [==============================] - ETA: 0s - loss: 1.6550 - accuracy: 0.3420\n",
            "Epoch 18: val_accuracy did not improve from 0.46000\n",
            "\n",
            "Epoch 18: ReduceLROnPlateau reducing learning rate to 0.0005000000237487257.\n",
            "50/50 [==============================] - 149s 3s/step - loss: 1.6550 - accuracy: 0.3420 - val_loss: 1.3156 - val_accuracy: 0.4600 - lr: 0.0010\n",
            "Epoch 19/100\n",
            "50/50 [==============================] - ETA: 0s - loss: 1.5746 - accuracy: 0.3896\n",
            "Epoch 19: val_accuracy did not improve from 0.46000\n",
            "50/50 [==============================] - 148s 3s/step - loss: 1.5746 - accuracy: 0.3896 - val_loss: 1.3652 - val_accuracy: 0.4000 - lr: 5.0000e-04\n",
            "Epoch 20/100\n",
            "50/50 [==============================] - ETA: 0s - loss: 1.5494 - accuracy: 0.3880\n",
            "Epoch 20: val_accuracy did not improve from 0.46000\n",
            "50/50 [==============================] - 152s 3s/step - loss: 1.5494 - accuracy: 0.3880 - val_loss: 1.3790 - val_accuracy: 0.4000 - lr: 5.0000e-04\n",
            "Epoch 21/100\n",
            "50/50 [==============================] - ETA: 0s - loss: 1.5530 - accuracy: 0.3880\n",
            "Epoch 21: val_accuracy improved from 0.46000 to 0.50000, saving model to best_model1.h5\n",
            "50/50 [==============================] - 150s 3s/step - loss: 1.5530 - accuracy: 0.3880 - val_loss: 1.2410 - val_accuracy: 0.5000 - lr: 5.0000e-04\n",
            "Epoch 22/100\n",
            "50/50 [==============================] - ETA: 0s - loss: 1.4980 - accuracy: 0.4060\n",
            "Epoch 22: val_accuracy improved from 0.50000 to 0.54000, saving model to best_model1.h5\n",
            "50/50 [==============================] - 149s 3s/step - loss: 1.4980 - accuracy: 0.4060 - val_loss: 1.2770 - val_accuracy: 0.5400 - lr: 5.0000e-04\n",
            "Epoch 23/100\n",
            "50/50 [==============================] - ETA: 0s - loss: 1.5898 - accuracy: 0.3840\n",
            "Epoch 23: val_accuracy improved from 0.54000 to 0.56000, saving model to best_model1.h5\n",
            "50/50 [==============================] - 149s 3s/step - loss: 1.5898 - accuracy: 0.3840 - val_loss: 1.2543 - val_accuracy: 0.5600 - lr: 5.0000e-04\n",
            "Epoch 24/100\n",
            "50/50 [==============================] - ETA: 0s - loss: 1.5747 - accuracy: 0.3560\n",
            "Epoch 24: val_accuracy did not improve from 0.56000\n",
            "50/50 [==============================] - 146s 3s/step - loss: 1.5747 - accuracy: 0.3560 - val_loss: 1.3814 - val_accuracy: 0.4800 - lr: 5.0000e-04\n",
            "Epoch 25/100\n",
            "50/50 [==============================] - ETA: 0s - loss: 1.4714 - accuracy: 0.4160\n",
            "Epoch 25: val_accuracy did not improve from 0.56000\n",
            "50/50 [==============================] - 147s 3s/step - loss: 1.4714 - accuracy: 0.4160 - val_loss: 1.2029 - val_accuracy: 0.5400 - lr: 5.0000e-04\n",
            "Epoch 26/100\n",
            "50/50 [==============================] - ETA: 0s - loss: 1.4184 - accuracy: 0.4540\n",
            "Epoch 26: val_accuracy did not improve from 0.56000\n",
            "50/50 [==============================] - 150s 3s/step - loss: 1.4184 - accuracy: 0.4540 - val_loss: 1.3126 - val_accuracy: 0.4600 - lr: 5.0000e-04\n",
            "Epoch 27/100\n",
            "50/50 [==============================] - ETA: 0s - loss: 1.5111 - accuracy: 0.4080\n",
            "Epoch 27: val_accuracy did not improve from 0.56000\n",
            "50/50 [==============================] - 150s 3s/step - loss: 1.5111 - accuracy: 0.4080 - val_loss: 1.4489 - val_accuracy: 0.4600 - lr: 5.0000e-04\n",
            "Epoch 28/100\n",
            "50/50 [==============================] - ETA: 0s - loss: 1.4879 - accuracy: 0.4180\n",
            "Epoch 28: val_accuracy did not improve from 0.56000\n",
            "\n",
            "Epoch 28: ReduceLROnPlateau reducing learning rate to 0.0002500000118743628.\n",
            "50/50 [==============================] - 147s 3s/step - loss: 1.4879 - accuracy: 0.4180 - val_loss: 1.5791 - val_accuracy: 0.3200 - lr: 5.0000e-04\n",
            "Epoch 29/100\n",
            "50/50 [==============================] - ETA: 0s - loss: 1.4563 - accuracy: 0.4100\n",
            "Epoch 29: val_accuracy did not improve from 0.56000\n",
            "50/50 [==============================] - 147s 3s/step - loss: 1.4563 - accuracy: 0.4100 - val_loss: 1.1958 - val_accuracy: 0.5000 - lr: 2.5000e-04\n",
            "Epoch 30/100\n",
            "50/50 [==============================] - ETA: 0s - loss: 1.3849 - accuracy: 0.4600\n",
            "Epoch 30: val_accuracy did not improve from 0.56000\n",
            "50/50 [==============================] - 152s 3s/step - loss: 1.3849 - accuracy: 0.4600 - val_loss: 1.3060 - val_accuracy: 0.5000 - lr: 2.5000e-04\n",
            "Epoch 31/100\n",
            "50/50 [==============================] - ETA: 0s - loss: 1.4041 - accuracy: 0.4520\n",
            "Epoch 31: val_accuracy did not improve from 0.56000\n",
            "50/50 [==============================] - 153s 3s/step - loss: 1.4041 - accuracy: 0.4520 - val_loss: 1.2896 - val_accuracy: 0.5200 - lr: 2.5000e-04\n",
            "Epoch 32/100\n",
            "50/50 [==============================] - ETA: 0s - loss: 1.3615 - accuracy: 0.4760\n",
            "Epoch 32: val_accuracy did not improve from 0.56000\n",
            "50/50 [==============================] - 147s 3s/step - loss: 1.3615 - accuracy: 0.4760 - val_loss: 1.1267 - val_accuracy: 0.5200 - lr: 2.5000e-04\n",
            "Epoch 33/100\n",
            "50/50 [==============================] - ETA: 0s - loss: 1.4784 - accuracy: 0.4380\n",
            "Epoch 33: val_accuracy did not improve from 0.56000\n",
            "\n",
            "Epoch 33: ReduceLROnPlateau reducing learning rate to 0.0001250000059371814.\n",
            "50/50 [==============================] - 152s 3s/step - loss: 1.4784 - accuracy: 0.4380 - val_loss: 1.2388 - val_accuracy: 0.4400 - lr: 2.5000e-04\n",
            "Epoch 34/100\n",
            "50/50 [==============================] - ETA: 0s - loss: 1.4121 - accuracy: 0.4460\n",
            "Epoch 34: val_accuracy improved from 0.56000 to 0.62000, saving model to best_model1.h5\n",
            "50/50 [==============================] - 152s 3s/step - loss: 1.4121 - accuracy: 0.4460 - val_loss: 1.0748 - val_accuracy: 0.6200 - lr: 1.2500e-04\n",
            "Epoch 35/100\n",
            "50/50 [==============================] - ETA: 0s - loss: 1.3891 - accuracy: 0.4500\n",
            "Epoch 35: val_accuracy did not improve from 0.62000\n",
            "50/50 [==============================] - 149s 3s/step - loss: 1.3891 - accuracy: 0.4500 - val_loss: 1.2541 - val_accuracy: 0.5000 - lr: 1.2500e-04\n",
            "Epoch 36/100\n",
            "50/50 [==============================] - ETA: 0s - loss: 1.3551 - accuracy: 0.4800\n",
            "Epoch 36: val_accuracy did not improve from 0.62000\n",
            "50/50 [==============================] - 149s 3s/step - loss: 1.3551 - accuracy: 0.4800 - val_loss: 1.1572 - val_accuracy: 0.5800 - lr: 1.2500e-04\n",
            "Epoch 37/100\n",
            "50/50 [==============================] - ETA: 0s - loss: 1.4246 - accuracy: 0.4680\n",
            "Epoch 37: val_accuracy did not improve from 0.62000\n",
            "50/50 [==============================] - 152s 3s/step - loss: 1.4246 - accuracy: 0.4680 - val_loss: 1.1585 - val_accuracy: 0.5800 - lr: 1.2500e-04\n",
            "Epoch 38/100\n",
            "50/50 [==============================] - ETA: 0s - loss: 1.3598 - accuracy: 0.4660\n",
            "Epoch 38: val_accuracy improved from 0.62000 to 0.66000, saving model to best_model1.h5\n",
            "50/50 [==============================] - 153s 3s/step - loss: 1.3598 - accuracy: 0.4660 - val_loss: 0.9977 - val_accuracy: 0.6600 - lr: 1.2500e-04\n",
            "Epoch 39/100\n",
            "50/50 [==============================] - ETA: 0s - loss: 1.3314 - accuracy: 0.5020\n",
            "Epoch 39: val_accuracy did not improve from 0.66000\n",
            "50/50 [==============================] - 150s 3s/step - loss: 1.3314 - accuracy: 0.5020 - val_loss: 1.0476 - val_accuracy: 0.6400 - lr: 1.2500e-04\n",
            "Epoch 40/100\n",
            "50/50 [==============================] - ETA: 0s - loss: 1.4012 - accuracy: 0.4320\n",
            "Epoch 40: val_accuracy did not improve from 0.66000\n",
            "50/50 [==============================] - 150s 3s/step - loss: 1.4012 - accuracy: 0.4320 - val_loss: 1.1495 - val_accuracy: 0.5800 - lr: 1.2500e-04\n",
            "Epoch 41/100\n",
            "50/50 [==============================] - ETA: 0s - loss: 1.3049 - accuracy: 0.5060\n",
            "Epoch 41: val_accuracy did not improve from 0.66000\n",
            "50/50 [==============================] - 151s 3s/step - loss: 1.3049 - accuracy: 0.5060 - val_loss: 1.0789 - val_accuracy: 0.6200 - lr: 1.2500e-04\n",
            "Epoch 42/100\n",
            "50/50 [==============================] - ETA: 0s - loss: 1.2796 - accuracy: 0.5180\n",
            "Epoch 42: val_accuracy improved from 0.66000 to 0.70000, saving model to best_model1.h5\n",
            "50/50 [==============================] - 151s 3s/step - loss: 1.2796 - accuracy: 0.5180 - val_loss: 1.0253 - val_accuracy: 0.7000 - lr: 1.2500e-04\n",
            "Epoch 43/100\n",
            "50/50 [==============================] - ETA: 0s - loss: 1.3355 - accuracy: 0.4900\n",
            "Epoch 43: val_accuracy did not improve from 0.70000\n",
            "50/50 [==============================] - 154s 3s/step - loss: 1.3355 - accuracy: 0.4900 - val_loss: 1.0994 - val_accuracy: 0.6000 - lr: 1.2500e-04\n",
            "Epoch 44/100\n",
            "50/50 [==============================] - ETA: 0s - loss: 1.3858 - accuracy: 0.4740\n",
            "Epoch 44: val_accuracy did not improve from 0.70000\n",
            "50/50 [==============================] - 151s 3s/step - loss: 1.3858 - accuracy: 0.4740 - val_loss: 1.1100 - val_accuracy: 0.6600 - lr: 1.2500e-04\n",
            "Epoch 45/100\n",
            "50/50 [==============================] - ETA: 0s - loss: 1.2659 - accuracy: 0.4940\n",
            "Epoch 45: val_accuracy did not improve from 0.70000\n",
            "50/50 [==============================] - 150s 3s/step - loss: 1.2659 - accuracy: 0.4940 - val_loss: 1.0040 - val_accuracy: 0.5800 - lr: 1.2500e-04\n",
            "Epoch 46/100\n",
            "50/50 [==============================] - ETA: 0s - loss: 1.3430 - accuracy: 0.4740\n",
            "Epoch 46: val_accuracy did not improve from 0.70000\n",
            "50/50 [==============================] - 147s 3s/step - loss: 1.3430 - accuracy: 0.4740 - val_loss: 1.2064 - val_accuracy: 0.5600 - lr: 1.2500e-04\n",
            "Epoch 47/100\n",
            "50/50 [==============================] - ETA: 0s - loss: 1.2964 - accuracy: 0.4760\n",
            "Epoch 47: val_accuracy did not improve from 0.70000\n",
            "\n",
            "Epoch 47: ReduceLROnPlateau reducing learning rate to 6.25000029685907e-05.\n",
            "50/50 [==============================] - 152s 3s/step - loss: 1.2964 - accuracy: 0.4760 - val_loss: 1.0293 - val_accuracy: 0.5800 - lr: 1.2500e-04\n",
            "Epoch 48/100\n",
            "50/50 [==============================] - ETA: 0s - loss: 1.2889 - accuracy: 0.4779\n",
            "Epoch 48: val_accuracy did not improve from 0.70000\n",
            "50/50 [==============================] - 149s 3s/step - loss: 1.2889 - accuracy: 0.4779 - val_loss: 1.0780 - val_accuracy: 0.5200 - lr: 6.2500e-05\n",
            "Epoch 49/100\n",
            "50/50 [==============================] - ETA: 0s - loss: 1.2685 - accuracy: 0.4920\n",
            "Epoch 49: val_accuracy did not improve from 0.70000\n",
            "50/50 [==============================] - 147s 3s/step - loss: 1.2685 - accuracy: 0.4920 - val_loss: 1.1076 - val_accuracy: 0.5600 - lr: 6.2500e-05\n",
            "Epoch 50/100\n",
            "50/50 [==============================] - ETA: 0s - loss: 1.3096 - accuracy: 0.4980\n",
            "Epoch 50: val_accuracy did not improve from 0.70000\n",
            "50/50 [==============================] - 152s 3s/step - loss: 1.3096 - accuracy: 0.4980 - val_loss: 1.1508 - val_accuracy: 0.5600 - lr: 6.2500e-05\n",
            "Epoch 51/100\n",
            "50/50 [==============================] - ETA: 0s - loss: 1.2452 - accuracy: 0.4880\n",
            "Epoch 51: val_accuracy did not improve from 0.70000\n",
            "50/50 [==============================] - 152s 3s/step - loss: 1.2452 - accuracy: 0.4880 - val_loss: 1.2192 - val_accuracy: 0.5600 - lr: 6.2500e-05\n",
            "Epoch 52/100\n",
            "50/50 [==============================] - ETA: 0s - loss: 1.2420 - accuracy: 0.5180\n",
            "Epoch 52: val_accuracy did not improve from 0.70000\n",
            "\n",
            "Epoch 52: ReduceLROnPlateau reducing learning rate to 3.125000148429535e-05.\n",
            "50/50 [==============================] - 149s 3s/step - loss: 1.2420 - accuracy: 0.5180 - val_loss: 0.9981 - val_accuracy: 0.6600 - lr: 6.2500e-05\n",
            "Epoch 53/100\n",
            "50/50 [==============================] - ETA: 0s - loss: 1.2533 - accuracy: 0.4920\n",
            "Epoch 53: val_accuracy did not improve from 0.70000\n",
            "50/50 [==============================] - 151s 3s/step - loss: 1.2533 - accuracy: 0.4920 - val_loss: 1.0499 - val_accuracy: 0.6400 - lr: 3.1250e-05\n",
            "Epoch 54/100\n",
            "50/50 [==============================] - ETA: 0s - loss: 1.2543 - accuracy: 0.5060\n",
            "Epoch 54: val_accuracy did not improve from 0.70000\n",
            "50/50 [==============================] - 154s 3s/step - loss: 1.2543 - accuracy: 0.5060 - val_loss: 0.9434 - val_accuracy: 0.5600 - lr: 3.1250e-05\n",
            "Epoch 55/100\n",
            "50/50 [==============================] - ETA: 0s - loss: 1.2329 - accuracy: 0.5260\n",
            "Epoch 55: val_accuracy did not improve from 0.70000\n",
            "50/50 [==============================] - 149s 3s/step - loss: 1.2329 - accuracy: 0.5260 - val_loss: 1.0044 - val_accuracy: 0.6600 - lr: 3.1250e-05\n",
            "Epoch 56/100\n",
            "50/50 [==============================] - ETA: 0s - loss: 1.1552 - accuracy: 0.5382\n",
            "Epoch 56: val_accuracy did not improve from 0.70000\n",
            "50/50 [==============================] - 150s 3s/step - loss: 1.1552 - accuracy: 0.5382 - val_loss: 1.0530 - val_accuracy: 0.5400 - lr: 3.1250e-05\n",
            "Epoch 57/100\n",
            "50/50 [==============================] - ETA: 0s - loss: 1.2895 - accuracy: 0.4780\n",
            "Epoch 57: val_accuracy did not improve from 0.70000\n",
            "\n",
            "Epoch 57: ReduceLROnPlateau reducing learning rate to 1.5625000742147677e-05.\n",
            "50/50 [==============================] - 151s 3s/step - loss: 1.2895 - accuracy: 0.4780 - val_loss: 0.9666 - val_accuracy: 0.5800 - lr: 3.1250e-05\n",
            "Epoch 58/100\n",
            "50/50 [==============================] - ETA: 0s - loss: 1.2235 - accuracy: 0.5120\n",
            "Epoch 58: val_accuracy did not improve from 0.70000\n",
            "50/50 [==============================] - 148s 3s/step - loss: 1.2235 - accuracy: 0.5120 - val_loss: 0.9225 - val_accuracy: 0.6800 - lr: 1.5625e-05\n",
            "Epoch 59/100\n",
            "50/50 [==============================] - ETA: 0s - loss: 1.2288 - accuracy: 0.5520\n",
            "Epoch 59: val_accuracy did not improve from 0.70000\n",
            "50/50 [==============================] - 147s 3s/step - loss: 1.2288 - accuracy: 0.5520 - val_loss: 1.1068 - val_accuracy: 0.5400 - lr: 1.5625e-05\n",
            "Epoch 60/100\n",
            "50/50 [==============================] - ETA: 0s - loss: 1.2253 - accuracy: 0.5140\n",
            "Epoch 60: val_accuracy did not improve from 0.70000\n",
            "50/50 [==============================] - 154s 3s/step - loss: 1.2253 - accuracy: 0.5140 - val_loss: 0.8402 - val_accuracy: 0.6800 - lr: 1.5625e-05\n",
            "Epoch 61/100\n",
            "50/50 [==============================] - ETA: 0s - loss: 1.3066 - accuracy: 0.4820\n",
            "Epoch 61: val_accuracy did not improve from 0.70000\n",
            "50/50 [==============================] - 148s 3s/step - loss: 1.3066 - accuracy: 0.4820 - val_loss: 1.1059 - val_accuracy: 0.4600 - lr: 1.5625e-05\n",
            "Epoch 62/100\n",
            "50/50 [==============================] - ETA: 0s - loss: 1.2423 - accuracy: 0.5440\n",
            "Epoch 62: val_accuracy did not improve from 0.70000\n",
            "\n",
            "Epoch 62: ReduceLROnPlateau reducing learning rate to 1e-05.\n",
            "50/50 [==============================] - 152s 3s/step - loss: 1.2423 - accuracy: 0.5440 - val_loss: 1.0380 - val_accuracy: 0.6000 - lr: 1.5625e-05\n",
            "Epoch 62: early stopping\n"
          ]
        }
      ],
      "source": [
        "history = network.fit_generator(train_dataset,\n",
        "                                steps_per_epoch = 50,\n",
        "                                validation_data = validation_dataset,\n",
        "                                validation_steps = 50,\n",
        "                                epochs=100,\n",
        "                                callbacks=[es, model_cp, learning_rate_reduction])"
      ]
    },
    {
      "cell_type": "markdown",
      "metadata": {
        "id": "0yfuhbovltQA"
      },
      "source": []
    },
    {
      "cell_type": "code",
      "execution_count": 20,
      "metadata": {
        "id": "4xXIb__YN8jO"
      },
      "outputs": [],
      "source": [
        "predictions=network.predict(test_datatset)\n",
        "predictions = np.argmax(predictions, axis=1)"
      ]
    },
    {
      "cell_type": "code",
      "execution_count": 21,
      "metadata": {
        "colab": {
          "base_uri": "https://localhost:8080/"
        },
        "id": "MfitKd4WOO0c",
        "outputId": "27fa76d7-77ae-4ac1-d4bd-5645a75f2498"
      },
      "outputs": [
        {
          "output_type": "execute_result",
          "data": {
            "text/plain": [
              "0.6153295128939829"
            ]
          },
          "metadata": {},
          "execution_count": 21
        }
      ],
      "source": [
        "from sklearn.metrics import accuracy_score\n",
        "accuracy_score(test_datatset.classes, predictions)"
      ]
    },
    {
      "cell_type": "code",
      "execution_count": 22,
      "metadata": {
        "colab": {
          "base_uri": "https://localhost:8080/",
          "height": 430
        },
        "id": "CwufQs6AOjVu",
        "outputId": "758b0281-8d68-4d43-9922-83ce6a5ab854"
      },
      "outputs": [
        {
          "output_type": "display_data",
          "data": {
            "text/plain": [
              "<Figure size 640x480 with 2 Axes>"
            ],
            "image/png": "[encoded data removed]"
          },
          "metadata": {}
        }
      ],
      "source": [
        "from sklearn.metrics import confusion_matrix\n",
        "cm = confusion_matrix(test_datatset.classes, predictions)\n",
        "sns.heatmap(cm, annot=True);"
      ]
    },
    {
      "cell_type": "code",
      "execution_count": 23,
      "metadata": {
        "colab": {
          "base_uri": "https://localhost:8080/"
        },
        "id": "lfg484OCPGqq",
        "outputId": "f5dda65f-c33e-4653-a1c7-3dadad393174"
      },
      "outputs": [
        {
          "output_type": "stream",
          "name": "stdout",
          "text": [
            "              precision    recall  f1-score   support\n",
            "\n",
            "           0       0.69      0.88      0.78       198\n",
            "           1       0.98      0.92      0.95       200\n",
            "           2       0.45      0.48      0.47       200\n",
            "           3       0.42      0.20      0.27       199\n",
            "           4       0.64      0.87      0.74       200\n",
            "           5       0.45      0.35      0.39       199\n",
            "           6       0.54      0.61      0.58       200\n",
            "\n",
            "    accuracy                           0.62      1396\n",
            "   macro avg       0.60      0.62      0.60      1396\n",
            "weighted avg       0.60      0.62      0.60      1396\n",
            "\n"
          ]
        }
      ],
      "source": [
        "from sklearn.metrics import classification_report\n",
        "print(classification_report(test_datatset.classes, predictions))"
      ]
    },
    {
      "cell_type": "code",
      "execution_count": 24,
      "metadata": {
        "colab": {
          "base_uri": "https://localhost:8080/",
          "height": 472
        },
        "id": "AwBdQqe9Porm",
        "outputId": "9f30c377-b0f4-4aff-8e03-a7dae9992cfa"
      },
      "outputs": [
        {
          "output_type": "display_data",
          "data": {
            "text/plain": [
              "<Figure size 640x480 with 1 Axes>"
            ],
            "image/png": "[encoded data removed]"
          },
          "metadata": {}
        }
      ],
      "source": [
        "plt.plot(history.history['accuracy'])\n",
        "plt.plot(history.history['val_accuracy'])\n",
        "plt.title('model accuracy')\n",
        "plt.ylabel('accuracy')\n",
        "plt.xlabel('epoch')\n",
        "plt.legend(['train', 'val'], loc='upper left')\n",
        "plt.show()"
      ]
    },
    {
      "cell_type": "code",
      "execution_count": 25,
      "metadata": {
        "colab": {
          "base_uri": "https://localhost:8080/",
          "height": 472
        },
        "id": "vVr7AUw8SNre",
        "outputId": "49caa350-af43-4e27-8de7-b1c490b4cc9f"
      },
      "outputs": [
        {
          "output_type": "display_data",
          "data": {
            "text/plain": [
              "<Figure size 640x480 with 1 Axes>"
            ],
            "image/png": "[encoded data removed]"
          },
          "metadata": {}
        }
      ],
      "source": [
        "plt.plot(history.history['loss'])\n",
        "plt.plot(history.history['val_loss'])\n",
        "plt.title('model loss')\n",
        "plt.ylabel('loss')\n",
        "plt.xlabel('epoch')\n",
        "plt.legend(['train', 'val'], loc='upper left')\n",
        "plt.show()"
      ]
    },
    {
      "cell_type": "code",
      "execution_count": 26,
      "metadata": {
        "id": "pnmlR6M8gih2"
      },
      "outputs": [],
      "source": [
        "from tensorflow.keras.models import load_model\n",
        "model = load_model('/content/best_model1.h5')"
      ]
    },
    {
      "cell_type": "code",
      "execution_count": 27,
      "metadata": {
        "colab": {
          "base_uri": "https://localhost:8080/"
        },
        "id": "P5SUDIaUg8-G",
        "outputId": "d97e8e7b-ddc1-4a8d-84fc-08fa4f40526f"
      },
      "outputs": [
        {
          "output_type": "stream",
          "name": "stdout",
          "text": [
            "1396/1396 [==============================] - 107s 76ms/step - loss: 1.1367 - accuracy: 0.5666\n"
          ]
        },
        {
          "output_type": "execute_result",
          "data": {
            "text/plain": [
              "[1.136741280555725, 0.5666189193725586]"
            ]
          },
          "metadata": {},
          "execution_count": 27
        }
      ],
      "source": [
        "model.evaluate(test_datatset)"
      ]
    },
    {
      "cell_type": "code",
      "execution_count": 28,
      "metadata": {
        "colab": {
          "base_uri": "https://localhost:8080/",
          "height": 430
        },
        "id": "Zqq4ec2JhKgt",
        "outputId": "456ed214-2f47-49dc-85da-998e10d42d7b"
      },
      "outputs": [
        {
          "output_type": "display_data",
          "data": {
            "text/plain": [
              "<Figure size 640x480 with 2 Axes>"
            ],
            "image/png": "[encoded data removed]"
          },
          "metadata": {}
        }
      ],
      "source": [
        "pred = model.predict(test_datatset)\n",
        "pred = np.argmax(pred, axis=1)\n",
        "cm = confusion_matrix(test_datatset.classes, pred)\n",
        "sns.heatmap(cm, annot=True);"
      ]
    },
    {
      "cell_type": "code",
      "execution_count": 29,
      "metadata": {
        "colab": {
          "base_uri": "https://localhost:8080/"
        },
        "id": "e2TSljdej81S",
        "outputId": "14706727-1f02-48bc-f9cd-d9d596472616"
      },
      "outputs": [
        {
          "output_type": "stream",
          "name": "stdout",
          "text": [
            "              precision    recall  f1-score   support\n",
            "\n",
            "           0       0.64      0.80      0.71       198\n",
            "           1       0.94      0.91      0.92       200\n",
            "           2       0.39      0.33      0.36       200\n",
            "           3       0.35      0.28      0.31       199\n",
            "           4       0.60      0.88      0.71       200\n",
            "           5       0.37      0.21      0.27       199\n",
            "           6       0.51      0.56      0.53       200\n",
            "\n",
            "    accuracy                           0.57      1396\n",
            "   macro avg       0.54      0.57      0.54      1396\n",
            "weighted avg       0.54      0.57      0.54      1396\n",
            "\n"
          ]
        }
      ],
      "source": [
        "print(classification_report(test_datatset.classes, pred))"
      ]
    },
    {
      "cell_type": "code",
      "execution_count": 30,
      "metadata": {
        "id": "jzbwiv0ikEVG"
      },
      "outputs": [],
      "source": [
        "network.save('network.h5')"
      ]
    },
    {
      "cell_type": "code",
      "execution_count": 31,
      "metadata": {
        "id": "mTxEZdsQtlC4"
      },
      "outputs": [],
      "source": [
        "net = load_model('/content/network.h5')"
      ]
    },
    {
      "cell_type": "code",
      "execution_count": 32,
      "metadata": {
        "colab": {
          "base_uri": "https://localhost:8080/"
        },
        "id": "JgEg6VxztpAx",
        "outputId": "7bf01944-3dc2-4b3b-d3a9-dacc2b2d5849"
      },
      "outputs": [
        {
          "output_type": "stream",
          "name": "stdout",
          "text": [
            "1396/1396 [==============================] - 102s 72ms/step - loss: 1.0290 - accuracy: 0.6153\n"
          ]
        },
        {
          "output_type": "execute_result",
          "data": {
            "text/plain": [
              "[1.028969168663025, 0.6153295040130615]"
            ]
          },
          "metadata": {},
          "execution_count": 32
        }
      ],
      "source": [
        "net.evaluate(test_datatset)"
      ]
    },
    {
      "cell_type": "code",
      "execution_count": 33,
      "metadata": {
        "colab": {
          "base_uri": "https://localhost:8080/",
          "height": 430
        },
        "id": "6wbroQ7EvUvp",
        "outputId": "6a8e8f35-ba84-4568-9135-cbc785945547"
      },
      "outputs": [
        {
          "output_type": "display_data",
          "data": {
            "text/plain": [
              "<Figure size 640x480 with 2 Axes>"
            ],
            "image/png": "[encoded data removed]"
          },
          "metadata": {}
        }
      ],
      "source": [
        "pre = net.predict(test_datatset)\n",
        "pre = np.argmax(pre, axis=1)\n",
        "cm = confusion_matrix(test_datatset.classes, pre)\n",
        "sns.heatmap(cm, annot=True);"
      ]
    },
    {
      "cell_type": "code",
      "execution_count": 34,
      "metadata": {
        "colab": {
          "base_uri": "https://localhost:8080/"
        },
        "id": "0c6L1deT_TAY",
        "outputId": "a35bca2a-24cb-4f30-a175-96ef512f499d"
      },
      "outputs": [
        {
          "output_type": "stream",
          "name": "stdout",
          "text": [
            "              precision    recall  f1-score   support\n",
            "\n",
            "           0       0.64      0.80      0.71       198\n",
            "           1       0.94      0.91      0.92       200\n",
            "           2       0.39      0.33      0.36       200\n",
            "           3       0.35      0.28      0.31       199\n",
            "           4       0.60      0.88      0.71       200\n",
            "           5       0.37      0.21      0.27       199\n",
            "           6       0.51      0.56      0.53       200\n",
            "\n",
            "    accuracy                           0.57      1396\n",
            "   macro avg       0.54      0.57      0.54      1396\n",
            "weighted avg       0.54      0.57      0.54      1396\n",
            "\n"
          ]
        }
      ],
      "source": [
        "print(classification_report(test_datatset.classes, pred))"
      ]
    },
    {
      "cell_type": "markdown",
      "source": [],
      "metadata": {
        "id": "I501GKF6LLsg"
      }
    }
  ],
  "metadata": {
    "colab": {
      "provenance": [],
      "include_colab_link": true
    },
    "kernelspec": {
      "display_name": "Python 3",
      "name": "python3"
    },
    "language_info": {
      "name": "python"
    }
  },
  "nbformat": 4,
  "nbformat_minor": 0
}