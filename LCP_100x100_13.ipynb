{
  "cells": [
    {
      "cell_type": "markdown",
      "metadata": {
        "id": "view-in-github",
        "colab_type": "text"
      },
      "source": [
        "<a href=\"https://colab.research.google.com/github/KacperKurzydlo/LiquidCrystalPhases/blob/main/LCP_100x100_13.ipynb\" target=\"_parent\"><img src=\"https://colab.research.google.com/assets/colab-badge.svg\" alt=\"Open In Colab\"/></a>"
      ]
    },
    {
      "cell_type": "code",
      "execution_count": 1,
      "metadata": {
        "colab": {
          "base_uri": "https://localhost:8080/"
        },
        "id": "647sNsjCJ0hX",
        "outputId": "e7af93b9-029b-47bc-9b00-4cbbff9d39fa"
      },
      "outputs": [
        {
          "output_type": "stream",
          "name": "stdout",
          "text": [
            "Requirement already satisfied: h5py in /usr/local/lib/python3.10/dist-packages (3.8.0)\n",
            "Requirement already satisfied: numpy>=1.14.5 in /usr/local/lib/python3.10/dist-packages (from h5py) (1.23.5)\n",
            "Requirement already satisfied: typing-extensions in /usr/local/lib/python3.10/dist-packages (4.7.1)\n",
            "Requirement already satisfied: wheel in /usr/local/lib/python3.10/dist-packages (0.41.0)\n"
          ]
        }
      ],
      "source": [
        "!pip install h5py\n",
        "!pip install typing-extensions\n",
        "!pip install wheel"
      ]
    },
    {
      "cell_type": "code",
      "execution_count": 2,
      "metadata": {
        "colab": {
          "base_uri": "https://localhost:8080/"
        },
        "id": "kq6qJdUqIWCQ",
        "outputId": "ba054783-daad-49ed-f5a4-8534648d1a57"
      },
      "outputs": [
        {
          "output_type": "stream",
          "name": "stdout",
          "text": [
            "Collecting tensorflow==2.8\n",
            "  Downloading tensorflow-2.8.0-cp310-cp310-manylinux2010_x86_64.whl (497.6 MB)\n",
            "\u001b[2K     \u001b[90m━━━━━━━━━━━━━━━━━━━━━━━━━━━━━━━━━━━━━━━\u001b[0m \u001b[32m497.6/497.6 MB\u001b[0m \u001b[31m2.6 MB/s\u001b[0m eta \u001b[36m0:00:00\u001b[0m\n",
            "\u001b[?25hRequirement already satisfied: absl-py>=0.4.0 in /usr/local/lib/python3.10/dist-packages (from tensorflow==2.8) (1.4.0)\n",
            "Requirement already satisfied: astunparse>=1.6.0 in /usr/local/lib/python3.10/dist-packages (from tensorflow==2.8) (1.6.3)\n",
            "Requirement already satisfied: flatbuffers>=1.12 in /usr/local/lib/python3.10/dist-packages (from tensorflow==2.8) (23.5.26)\n",
            "Requirement already satisfied: gast>=0.2.1 in /usr/local/lib/python3.10/dist-packages (from tensorflow==2.8) (0.4.0)\n",
            "Requirement already satisfied: google-pasta>=0.1.1 in /usr/local/lib/python3.10/dist-packages (from tensorflow==2.8) (0.2.0)\n",
            "Requirement already satisfied: h5py>=2.9.0 in /usr/local/lib/python3.10/dist-packages (from tensorflow==2.8) (3.8.0)\n",
            "Collecting keras-preprocessing>=1.1.1 (from tensorflow==2.8)\n",
            "  Downloading Keras_Preprocessing-1.1.2-py2.py3-none-any.whl (42 kB)\n",
            "\u001b[2K     \u001b[90m━━━━━━━━━━━━━━━━━━━━━━━━━━━━━━━━━━━━━━━━\u001b[0m \u001b[32m42.6/42.6 kB\u001b[0m \u001b[31m3.7 MB/s\u001b[0m eta \u001b[36m0:00:00\u001b[0m\n",
            "\u001b[?25hRequirement already satisfied: libclang>=9.0.1 in /usr/local/lib/python3.10/dist-packages (from tensorflow==2.8) (16.0.6)\n",
            "Requirement already satisfied: numpy>=1.20 in /usr/local/lib/python3.10/dist-packages (from tensorflow==2.8) (1.23.5)\n",
            "Requirement already satisfied: opt-einsum>=2.3.2 in /usr/local/lib/python3.10/dist-packages (from tensorflow==2.8) (3.3.0)\n",
            "Requirement already satisfied: protobuf>=3.9.2 in /usr/local/lib/python3.10/dist-packages (from tensorflow==2.8) (3.20.3)\n",
            "Requirement already satisfied: setuptools in /usr/local/lib/python3.10/dist-packages (from tensorflow==2.8) (67.7.2)\n",
            "Requirement already satisfied: six>=1.12.0 in /usr/local/lib/python3.10/dist-packages (from tensorflow==2.8) (1.16.0)\n",
            "Requirement already satisfied: termcolor>=1.1.0 in /usr/local/lib/python3.10/dist-packages (from tensorflow==2.8) (2.3.0)\n",
            "Requirement already satisfied: typing-extensions>=3.6.6 in /usr/local/lib/python3.10/dist-packages (from tensorflow==2.8) (4.7.1)\n",
            "Requirement already satisfied: wrapt>=1.11.0 in /usr/local/lib/python3.10/dist-packages (from tensorflow==2.8) (1.14.1)\n",
            "Collecting tensorboard<2.9,>=2.8 (from tensorflow==2.8)\n",
            "  Downloading tensorboard-2.8.0-py3-none-any.whl (5.8 MB)\n",
            "\u001b[2K     \u001b[90m━━━━━━━━━━━━━━━━━━━━━━━━━━━━━━━━━━━━━━━━\u001b[0m \u001b[32m5.8/5.8 MB\u001b[0m \u001b[31m61.7 MB/s\u001b[0m eta \u001b[36m0:00:00\u001b[0m\n",
            "\u001b[?25hCollecting tf-estimator-nightly==2.8.0.dev2021122109 (from tensorflow==2.8)\n",
            "  Downloading tf_estimator_nightly-2.8.0.dev2021122109-py2.py3-none-any.whl (462 kB)\n",
            "\u001b[2K     \u001b[90m━━━━━━━━━━━━━━━━━━━━━━━━━━━━━━━━━━━━━━\u001b[0m \u001b[32m462.5/462.5 kB\u001b[0m \u001b[31m30.7 MB/s\u001b[0m eta \u001b[36m0:00:00\u001b[0m\n",
            "\u001b[?25hCollecting keras<2.9,>=2.8.0rc0 (from tensorflow==2.8)\n",
            "  Downloading keras-2.8.0-py2.py3-none-any.whl (1.4 MB)\n",
            "\u001b[2K     \u001b[90m━━━━━━━━━━━━━━━━━━━━━━━━━━━━━━━━━━━━━━━━\u001b[0m \u001b[32m1.4/1.4 MB\u001b[0m \u001b[31m40.1 MB/s\u001b[0m eta \u001b[36m0:00:00\u001b[0m\n",
            "\u001b[?25hRequirement already satisfied: tensorflow-io-gcs-filesystem>=0.23.1 in /usr/local/lib/python3.10/dist-packages (from tensorflow==2.8) (0.33.0)\n",
            "Requirement already satisfied: grpcio<2.0,>=1.24.3 in /usr/local/lib/python3.10/dist-packages (from tensorflow==2.8) (1.56.2)\n",
            "Requirement already satisfied: wheel<1.0,>=0.23.0 in /usr/local/lib/python3.10/dist-packages (from astunparse>=1.6.0->tensorflow==2.8) (0.41.0)\n",
            "Requirement already satisfied: google-auth<3,>=1.6.3 in /usr/local/lib/python3.10/dist-packages (from tensorboard<2.9,>=2.8->tensorflow==2.8) (2.17.3)\n",
            "Collecting google-auth-oauthlib<0.5,>=0.4.1 (from tensorboard<2.9,>=2.8->tensorflow==2.8)\n",
            "  Downloading google_auth_oauthlib-0.4.6-py2.py3-none-any.whl (18 kB)\n",
            "Requirement already satisfied: markdown>=2.6.8 in /usr/local/lib/python3.10/dist-packages (from tensorboard<2.9,>=2.8->tensorflow==2.8) (3.4.4)\n",
            "Requirement already satisfied: requests<3,>=2.21.0 in /usr/local/lib/python3.10/dist-packages (from tensorboard<2.9,>=2.8->tensorflow==2.8) (2.31.0)\n",
            "Collecting tensorboard-data-server<0.7.0,>=0.6.0 (from tensorboard<2.9,>=2.8->tensorflow==2.8)\n",
            "  Downloading tensorboard_data_server-0.6.1-py3-none-manylinux2010_x86_64.whl (4.9 MB)\n",
            "\u001b[2K     \u001b[90m━━━━━━━━━━━━━━━━━━━━━━━━━━━━━━━━━━━━━━━━\u001b[0m \u001b[32m4.9/4.9 MB\u001b[0m \u001b[31m44.8 MB/s\u001b[0m eta \u001b[36m0:00:00\u001b[0m\n",
            "\u001b[?25hCollecting tensorboard-plugin-wit>=1.6.0 (from tensorboard<2.9,>=2.8->tensorflow==2.8)\n",
            "  Downloading tensorboard_plugin_wit-1.8.1-py3-none-any.whl (781 kB)\n",
            "\u001b[2K     \u001b[90m━━━━━━━━━━━━━━━━━━━━━━━━━━━━━━━━━━━━━━\u001b[0m \u001b[32m781.3/781.3 kB\u001b[0m \u001b[31m37.8 MB/s\u001b[0m eta \u001b[36m0:00:00\u001b[0m\n",
            "\u001b[?25hRequirement already satisfied: werkzeug>=0.11.15 in /usr/local/lib/python3.10/dist-packages (from tensorboard<2.9,>=2.8->tensorflow==2.8) (2.3.6)\n",
            "Requirement already satisfied: cachetools<6.0,>=2.0.0 in /usr/local/lib/python3.10/dist-packages (from google-auth<3,>=1.6.3->tensorboard<2.9,>=2.8->tensorflow==2.8) (5.3.1)\n",
            "Requirement already satisfied: pyasn1-modules>=0.2.1 in /usr/local/lib/python3.10/dist-packages (from google-auth<3,>=1.6.3->tensorboard<2.9,>=2.8->tensorflow==2.8) (0.3.0)\n",
            "Requirement already satisfied: rsa<5,>=3.1.4 in /usr/local/lib/python3.10/dist-packages (from google-auth<3,>=1.6.3->tensorboard<2.9,>=2.8->tensorflow==2.8) (4.9)\n",
            "Requirement already satisfied: requests-oauthlib>=0.7.0 in /usr/local/lib/python3.10/dist-packages (from google-auth-oauthlib<0.5,>=0.4.1->tensorboard<2.9,>=2.8->tensorflow==2.8) (1.3.1)\n",
            "Requirement already satisfied: charset-normalizer<4,>=2 in /usr/local/lib/python3.10/dist-packages (from requests<3,>=2.21.0->tensorboard<2.9,>=2.8->tensorflow==2.8) (3.2.0)\n",
            "Requirement already satisfied: idna<4,>=2.5 in /usr/local/lib/python3.10/dist-packages (from requests<3,>=2.21.0->tensorboard<2.9,>=2.8->tensorflow==2.8) (3.4)\n",
            "Requirement already satisfied: urllib3<3,>=1.21.1 in /usr/local/lib/python3.10/dist-packages (from requests<3,>=2.21.0->tensorboard<2.9,>=2.8->tensorflow==2.8) (1.26.16)\n",
            "Requirement already satisfied: certifi>=2017.4.17 in /usr/local/lib/python3.10/dist-packages (from requests<3,>=2.21.0->tensorboard<2.9,>=2.8->tensorflow==2.8) (2023.7.22)\n",
            "Requirement already satisfied: MarkupSafe>=2.1.1 in /usr/local/lib/python3.10/dist-packages (from werkzeug>=0.11.15->tensorboard<2.9,>=2.8->tensorflow==2.8) (2.1.3)\n",
            "Requirement already satisfied: pyasn1<0.6.0,>=0.4.6 in /usr/local/lib/python3.10/dist-packages (from pyasn1-modules>=0.2.1->google-auth<3,>=1.6.3->tensorboard<2.9,>=2.8->tensorflow==2.8) (0.5.0)\n",
            "Requirement already satisfied: oauthlib>=3.0.0 in /usr/local/lib/python3.10/dist-packages (from requests-oauthlib>=0.7.0->google-auth-oauthlib<0.5,>=0.4.1->tensorboard<2.9,>=2.8->tensorflow==2.8) (3.2.2)\n",
            "Installing collected packages: tf-estimator-nightly, tensorboard-plugin-wit, keras, tensorboard-data-server, keras-preprocessing, google-auth-oauthlib, tensorboard, tensorflow\n",
            "  Attempting uninstall: keras\n",
            "    Found existing installation: keras 2.12.0\n",
            "    Uninstalling keras-2.12.0:\n",
            "      Successfully uninstalled keras-2.12.0\n",
            "  Attempting uninstall: tensorboard-data-server\n",
            "    Found existing installation: tensorboard-data-server 0.7.1\n",
            "    Uninstalling tensorboard-data-server-0.7.1:\n",
            "      Successfully uninstalled tensorboard-data-server-0.7.1\n",
            "  Attempting uninstall: google-auth-oauthlib\n",
            "    Found existing installation: google-auth-oauthlib 1.0.0\n",
            "    Uninstalling google-auth-oauthlib-1.0.0:\n",
            "      Successfully uninstalled google-auth-oauthlib-1.0.0\n",
            "  Attempting uninstall: tensorboard\n",
            "    Found existing installation: tensorboard 2.12.3\n",
            "    Uninstalling tensorboard-2.12.3:\n",
            "      Successfully uninstalled tensorboard-2.12.3\n",
            "  Attempting uninstall: tensorflow\n",
            "    Found existing installation: tensorflow 2.12.0\n",
            "    Uninstalling tensorflow-2.12.0:\n",
            "      Successfully uninstalled tensorflow-2.12.0\n",
            "Successfully installed google-auth-oauthlib-0.4.6 keras-2.8.0 keras-preprocessing-1.1.2 tensorboard-2.8.0 tensorboard-data-server-0.6.1 tensorboard-plugin-wit-1.8.1 tensorflow-2.8.0 tf-estimator-nightly-2.8.0.dev2021122109\n"
          ]
        }
      ],
      "source": [
        "!pip install tensorflow==2.8"
      ]
    },
    {
      "cell_type": "code",
      "execution_count": 3,
      "metadata": {
        "colab": {
          "base_uri": "https://localhost:8080/",
          "height": 35
        },
        "id": "I0X9qkMXs_pp",
        "outputId": "2dd77f3d-2f31-4686-bca6-903e8ff37f57"
      },
      "outputs": [
        {
          "output_type": "execute_result",
          "data": {
            "text/plain": [
              "'2.8.0'"
            ],
            "application/vnd.google.colaboratory.intrinsic+json": {
              "type": "string"
            }
          },
          "metadata": {},
          "execution_count": 3
        }
      ],
      "source": [
        "import matplotlib.pyplot as plt\n",
        "import seaborn as sns\n",
        "import zipfile\n",
        "import numpy as np\n",
        "import cv2\n",
        "from google.colab.patches import cv2_imshow\n",
        "import tensorflow as tf\n",
        "from tensorflow.keras.callbacks import ReduceLROnPlateau\n",
        "from tensorflow.keras import regularizers\n",
        "from tensorflow.keras.callbacks import ModelCheckpoint, EarlyStopping\n",
        "from tensorflow.keras.models import Sequential\n",
        "from tensorflow.keras.layers import Conv2D, MaxPool2D, Flatten, Dense, BatchNormalization, Dropout\n",
        "from tensorflow.keras.preprocessing.image import ImageDataGenerator\n",
        "tf.__version__"
      ]
    },
    {
      "cell_type": "code",
      "execution_count": 4,
      "metadata": {
        "colab": {
          "base_uri": "https://localhost:8080/"
        },
        "id": "yQMOvsd99H-V",
        "outputId": "41adb86a-41fe-4d00-cdb5-2f0dfd381e3a"
      },
      "outputs": [
        {
          "output_type": "stream",
          "name": "stdout",
          "text": [
            "Mounted at /content/drive\n"
          ]
        }
      ],
      "source": [
        "from google.colab import drive\n",
        "drive.mount('/content/drive')"
      ]
    },
    {
      "cell_type": "code",
      "execution_count": 5,
      "metadata": {
        "id": "Y_BgiI3JxA9q"
      },
      "outputs": [],
      "source": [
        "path = '/content/drive/MyDrive/Praktyki/gotowe.zip'\n",
        "zip_object = zipfile.ZipFile(file=path, mode='r')\n",
        "zip_object.extractall('./')\n",
        "zip_object.close()"
      ]
    },
    {
      "cell_type": "code",
      "execution_count": 6,
      "metadata": {
        "id": "7-PhxwM60uM7"
      },
      "outputs": [],
      "source": [
        "training_generator = ImageDataGenerator(rescale=1./255,\n",
        "                                        horizontal_flip=True,\n",
        "                                        vertical_flip=True)\n"
      ]
    },
    {
      "cell_type": "code",
      "execution_count": 7,
      "metadata": {
        "colab": {
          "base_uri": "https://localhost:8080/"
        },
        "id": "jMErkkVv_mXw",
        "outputId": "7762a3f3-0eb8-4a67-9f5a-0960941d2739"
      },
      "outputs": [
        {
          "output_type": "stream",
          "name": "stdout",
          "text": [
            "Found 11158 images belonging to 7 classes.\n"
          ]
        }
      ],
      "source": [
        "train_dataset = training_generator.flow_from_directory('/content/gotowe/train_set',\n",
        "                                                       target_size = (100, 100),\n",
        "                                                       batch_size = 10,\n",
        "                                                       color_mode='rgb',\n",
        "                                                       class_mode = 'categorical',\n",
        "                                                       shuffle = True)"
      ]
    },
    {
      "cell_type": "code",
      "execution_count": 8,
      "metadata": {
        "colab": {
          "base_uri": "https://localhost:8080/"
        },
        "id": "C4errPxfAukM",
        "outputId": "8c936107-ca6e-4dbe-b1bd-c496668404fe"
      },
      "outputs": [
        {
          "output_type": "execute_result",
          "data": {
            "text/plain": [
              "array([0, 0, 0, ..., 6, 6, 6], dtype=int32)"
            ]
          },
          "metadata": {},
          "execution_count": 8
        }
      ],
      "source": [
        "train_dataset.classes"
      ]
    },
    {
      "cell_type": "code",
      "execution_count": 9,
      "metadata": {
        "colab": {
          "base_uri": "https://localhost:8080/"
        },
        "id": "jYCiD3adA5xf",
        "outputId": "04b45c33-da1b-4519-b138-8ca3fbc1ef2a"
      },
      "outputs": [
        {
          "output_type": "execute_result",
          "data": {
            "text/plain": [
              "{'nematyk': 0,\n",
              " 'smektyk_C': 1,\n",
              " 'smektyk_F': 2,\n",
              " 'smektyk_GMosaic': 3,\n",
              " 'smektyk_GSchliren': 4,\n",
              " 'smektyk_H': 5,\n",
              " 'smektyk_I': 6}"
            ]
          },
          "metadata": {},
          "execution_count": 9
        }
      ],
      "source": [
        "train_dataset.class_indices"
      ]
    },
    {
      "cell_type": "code",
      "execution_count": 10,
      "metadata": {
        "id": "6VK7xyH-BkSq"
      },
      "outputs": [],
      "source": [
        "test_generator = ImageDataGenerator(rescale=1./255)\n",
        "val_generator = ImageDataGenerator(rescale=1./255)"
      ]
    },
    {
      "cell_type": "code",
      "execution_count": 11,
      "metadata": {
        "colab": {
          "base_uri": "https://localhost:8080/"
        },
        "id": "84kKwMy6U7oh",
        "outputId": "4d2f85aa-4401-4b12-e707-ec9d0a8f5be3"
      },
      "outputs": [
        {
          "output_type": "stream",
          "name": "stdout",
          "text": [
            "Found 1395 images belonging to 7 classes.\n"
          ]
        }
      ],
      "source": [
        "validation_dataset = val_generator.flow_from_directory('/content/gotowe/val_set',\n",
        "                                                        target_size=(100, 100),\n",
        "                                                        batch_size=1,\n",
        "                                                        class_mode='categorical',\n",
        "                                                        color_mode='rgb',\n",
        "                                                        shuffle=True) # set as validation data"
      ]
    },
    {
      "cell_type": "code",
      "execution_count": 12,
      "metadata": {
        "id": "PB2pU5bzXPTa"
      },
      "outputs": [],
      "source": [
        "L2 = 0.00001"
      ]
    },
    {
      "cell_type": "code",
      "execution_count": 13,
      "metadata": {
        "colab": {
          "base_uri": "https://localhost:8080/"
        },
        "id": "SdqIBmxiBvU1",
        "outputId": "8989690d-6179-4210-d72a-9e59b5f59f75"
      },
      "outputs": [
        {
          "output_type": "stream",
          "name": "stdout",
          "text": [
            "Found 1396 images belonging to 7 classes.\n"
          ]
        }
      ],
      "source": [
        "test_datatset = test_generator.flow_from_directory('/content/gotowe/test_set',\n",
        "                                                   target_size = (100, 100),\n",
        "                                                   batch_size = 1,\n",
        "                                                   color_mode='rgb',\n",
        "                                                   class_mode = 'categorical',\n",
        "                                                   shuffle = False)"
      ]
    },
    {
      "cell_type": "code",
      "execution_count": 14,
      "metadata": {
        "id": "xVLgf1bADs_C"
      },
      "outputs": [],
      "source": [
        "initializer1 = tf.keras.initializers.HeNormal()\n",
        "initializer2 = tf.keras.initializers.GlorotUniform()"
      ]
    },
    {
      "cell_type": "code",
      "execution_count": 15,
      "metadata": {
        "colab": {
          "base_uri": "https://localhost:8080/"
        },
        "id": "QTr7SiKfD6UI",
        "outputId": "da656597-1ad0-4f1a-d959-3d93ecc1b805"
      },
      "outputs": [
        {
          "output_type": "stream",
          "name": "stdout",
          "text": [
            "Model: \"sequential\"\n",
            "_________________________________________________________________\n",
            " Layer (type)                Output Shape              Param #   \n",
            "=================================================================\n",
            " conv2d (Conv2D)             (None, 97, 97, 32)        1568      \n",
            "                                                                 \n",
            " batch_normalization (BatchN  (None, 97, 97, 32)       128       \n",
            " ormalization)                                                   \n",
            "                                                                 \n",
            " max_pooling2d (MaxPooling2D  (None, 48, 48, 32)       0         \n",
            " )                                                               \n",
            "                                                                 \n",
            " conv2d_1 (Conv2D)           (None, 48, 48, 64)        18496     \n",
            "                                                                 \n",
            " conv2d_2 (Conv2D)           (None, 48, 48, 64)        36928     \n",
            "                                                                 \n",
            " batch_normalization_1 (Batc  (None, 48, 48, 64)       256       \n",
            " hNormalization)                                                 \n",
            "                                                                 \n",
            " max_pooling2d_1 (MaxPooling  (None, 24, 24, 64)       0         \n",
            " 2D)                                                             \n",
            "                                                                 \n",
            " conv2d_3 (Conv2D)           (None, 24, 24, 128)       73856     \n",
            "                                                                 \n",
            " conv2d_4 (Conv2D)           (None, 24, 24, 128)       65664     \n",
            "                                                                 \n",
            " batch_normalization_2 (Batc  (None, 24, 24, 128)      512       \n",
            " hNormalization)                                                 \n",
            "                                                                 \n",
            " max_pooling2d_2 (MaxPooling  (None, 12, 12, 128)      0         \n",
            " 2D)                                                             \n",
            "                                                                 \n",
            " conv2d_5 (Conv2D)           (None, 12, 12, 256)       295168    \n",
            "                                                                 \n",
            " conv2d_6 (Conv2D)           (None, 12, 12, 256)       262400    \n",
            "                                                                 \n",
            " batch_normalization_3 (Batc  (None, 12, 12, 256)      1024      \n",
            " hNormalization)                                                 \n",
            "                                                                 \n",
            " max_pooling2d_3 (MaxPooling  (None, 6, 6, 256)        0         \n",
            " 2D)                                                             \n",
            "                                                                 \n",
            " conv2d_7 (Conv2D)           (None, 6, 6, 512)         1180160   \n",
            "                                                                 \n",
            " conv2d_8 (Conv2D)           (None, 6, 6, 512)         1049088   \n",
            "                                                                 \n",
            " batch_normalization_4 (Batc  (None, 6, 6, 512)        2048      \n",
            " hNormalization)                                                 \n",
            "                                                                 \n",
            " max_pooling2d_4 (MaxPooling  (None, 3, 3, 512)        0         \n",
            " 2D)                                                             \n",
            "                                                                 \n",
            " conv2d_9 (Conv2D)           (None, 3, 3, 1024)        2098176   \n",
            "                                                                 \n",
            " batch_normalization_5 (Batc  (None, 3, 3, 1024)       4096      \n",
            " hNormalization)                                                 \n",
            "                                                                 \n",
            " max_pooling2d_5 (MaxPooling  (None, 1, 1, 1024)       0         \n",
            " 2D)                                                             \n",
            "                                                                 \n",
            " flatten (Flatten)           (None, 1024)              0         \n",
            "                                                                 \n",
            " dense (Dense)               (None, 1024)              1049600   \n",
            "                                                                 \n",
            " batch_normalization_6 (Batc  (None, 1024)             4096      \n",
            " hNormalization)                                                 \n",
            "                                                                 \n",
            " dense_1 (Dense)             (None, 512)               524800    \n",
            "                                                                 \n",
            " batch_normalization_7 (Batc  (None, 512)              2048      \n",
            " hNormalization)                                                 \n",
            "                                                                 \n",
            " dense_2 (Dense)             (None, 256)               131328    \n",
            "                                                                 \n",
            " batch_normalization_8 (Batc  (None, 256)              1024      \n",
            " hNormalization)                                                 \n",
            "                                                                 \n",
            " dense_3 (Dense)             (None, 128)               32896     \n",
            "                                                                 \n",
            " batch_normalization_9 (Batc  (None, 128)              512       \n",
            " hNormalization)                                                 \n",
            "                                                                 \n",
            " dense_4 (Dense)             (None, 64)                8256      \n",
            "                                                                 \n",
            " batch_normalization_10 (Bat  (None, 64)               256       \n",
            " chNormalization)                                                \n",
            "                                                                 \n",
            " dense_5 (Dense)             (None, 32)                2080      \n",
            "                                                                 \n",
            " batch_normalization_11 (Bat  (None, 32)               128       \n",
            " chNormalization)                                                \n",
            "                                                                 \n",
            " dense_6 (Dense)             (None, 7)                 231       \n",
            "                                                                 \n",
            "=================================================================\n",
            "Total params: 6,846,823\n",
            "Trainable params: 6,838,759\n",
            "Non-trainable params: 8,064\n",
            "_________________________________________________________________\n"
          ]
        }
      ],
      "source": [
        "network = Sequential()\n",
        "\n",
        "network.add(Conv2D(filters=32, kernel_size=(4,4), activation = 'relu', input_shape = (100,100,3), kernel_initializer=initializer1))\n",
        "network.add(BatchNormalization())\n",
        "network.add(MaxPool2D(pool_size=(2,2)))\n",
        "\n",
        "network.add(Conv2D(filters=64, kernel_size=(3,3), activation = 'relu', padding='same', kernel_initializer=initializer1))\n",
        "network.add(Conv2D(filters=64, kernel_size=(3,3), activation = 'relu', padding='same', kernel_initializer=initializer1))\n",
        "network.add(BatchNormalization())\n",
        "network.add(MaxPool2D(pool_size=(2,2)))\n",
        "\n",
        "network.add(Conv2D(filters=128, kernel_size=(3,3), activation = 'relu', padding='same', kernel_initializer=initializer1))\n",
        "network.add(Conv2D(filters=128, kernel_size=(2,2), activation = 'relu', padding='same', kernel_initializer=initializer1))\n",
        "network.add(BatchNormalization())\n",
        "network.add(MaxPool2D(pool_size=(2,2)))\n",
        "\n",
        "network.add(Conv2D(filters=256, kernel_size=(3,3), activation = 'relu', padding='same', kernel_initializer=initializer1))\n",
        "network.add(Conv2D(filters=256, kernel_size=(2,2), activation = 'relu', padding='same', kernel_initializer=initializer1))\n",
        "network.add(BatchNormalization())\n",
        "network.add(MaxPool2D(pool_size=(2,2)))\n",
        "\n",
        "network.add(Conv2D(filters=512, kernel_size=(3,3), activation = 'relu', padding='same', kernel_initializer=initializer1))\n",
        "network.add(Conv2D(filters=512, kernel_size=(2,2), activation = 'relu', padding='same', kernel_initializer=initializer1))\n",
        "network.add(BatchNormalization())\n",
        "network.add(MaxPool2D(pool_size=(2,2)))\n",
        "\n",
        "network.add(Conv2D(filters=1024, kernel_size=(2,2), activation = 'relu', padding='same', kernel_initializer=initializer1))\n",
        "network.add(BatchNormalization())\n",
        "network.add(MaxPool2D(pool_size=(2,2)))\n",
        "\n",
        "network.add(Flatten())\n",
        "\n",
        "#network.add(Dropout(0.2))\n",
        "\n",
        "network.add(Dense(units = 1024, activation = 'relu', kernel_initializer=initializer1))\n",
        "network.add(BatchNormalization())\n",
        "network.add(Dense(units = 512, activation = 'relu', kernel_initializer=initializer1))\n",
        "network.add(BatchNormalization())\n",
        "network.add(Dense(units = 256, activation = 'relu', kernel_initializer=initializer1))\n",
        "network.add(BatchNormalization())\n",
        "network.add(Dense(units = 128, activation = 'relu', kernel_initializer=initializer1))\n",
        "network.add(BatchNormalization())\n",
        "network.add(Dense(units = 64, activation = 'relu', kernel_initializer=initializer1))\n",
        "network.add(BatchNormalization())\n",
        "network.add(Dense(units = 32, activation = 'relu', kernel_initializer=initializer1, kernel_regularizer=tf.keras.regularizers.L1L2()))\n",
        "network.add(BatchNormalization())\n",
        "network.add(Dense(units = 7, activation = 'softmax', kernel_initializer=initializer2))\n",
        "network.summary()"
      ]
    },
    {
      "cell_type": "code",
      "execution_count": 16,
      "metadata": {
        "id": "6viOH_kUE4Bq"
      },
      "outputs": [],
      "source": [
        "from tensorflow.keras.optimizers import Adam\n",
        "#opt = Adam(lr=0.005)\n",
        "opt = Adam()\n",
        "network.compile(optimizer='Adam', loss='categorical_crossentropy', metrics = ['accuracy'])\n"
      ]
    },
    {
      "cell_type": "code",
      "execution_count": 17,
      "metadata": {
        "id": "5IXmjfYmbuYh"
      },
      "outputs": [],
      "source": [
        "es = EarlyStopping(monitor = 'val_accuracy', min_delta = 0.001, patience = 20, verbose =1)\n",
        "model_cp = ModelCheckpoint(filepath = 'best_model1.h5', monitor = 'val_accuracy', save_best_only = True, verbose = 1)\n",
        "learning_rate_reduction = ReduceLROnPlateau(monitor='val_accuracy', patience = 5, verbose=1, factor=0.5, min_lr=0.00001)"
      ]
    },
    {
      "cell_type": "code",
      "execution_count": 18,
      "metadata": {
        "colab": {
          "base_uri": "https://localhost:8080/"
        },
        "id": "Uk8BSV5gGazz",
        "outputId": "8e39ee08-8620-4bf7-f15f-bf3ecdeb5d87"
      },
      "outputs": [
        {
          "output_type": "stream",
          "name": "stdout",
          "text": [
            "Epoch 1/100\n"
          ]
        },
        {
          "output_type": "stream",
          "name": "stderr",
          "text": [
            "<ipython-input-18-d45876fe1552>:1: UserWarning: `Model.fit_generator` is deprecated and will be removed in a future version. Please use `Model.fit`, which supports generators.\n",
            "  history = network.fit_generator(train_dataset,\n"
          ]
        },
        {
          "output_type": "stream",
          "name": "stdout",
          "text": [
            "50/50 [==============================] - ETA: 0s - loss: 2.0673 - accuracy: 0.2920\n",
            "Epoch 1: val_accuracy improved from -inf to 0.14000, saving model to best_model1.h5\n",
            "50/50 [==============================] - 57s 1s/step - loss: 2.0673 - accuracy: 0.2920 - val_loss: 20.7534 - val_accuracy: 0.1400 - lr: 0.0010\n",
            "Epoch 2/100\n",
            "50/50 [==============================] - ETA: 0s - loss: 1.7738 - accuracy: 0.3240\n",
            "Epoch 2: val_accuracy did not improve from 0.14000\n",
            "50/50 [==============================] - 61s 1s/step - loss: 1.7738 - accuracy: 0.3240 - val_loss: 8.6203 - val_accuracy: 0.1200 - lr: 0.0010\n",
            "Epoch 3/100\n",
            "50/50 [==============================] - ETA: 0s - loss: 1.5328 - accuracy: 0.4360\n",
            "Epoch 3: val_accuracy did not improve from 0.14000\n",
            "50/50 [==============================] - 51s 1s/step - loss: 1.5328 - accuracy: 0.4360 - val_loss: 5.1422 - val_accuracy: 0.1200 - lr: 0.0010\n",
            "Epoch 4/100\n",
            "50/50 [==============================] - ETA: 0s - loss: 1.5502 - accuracy: 0.4020\n",
            "Epoch 4: val_accuracy improved from 0.14000 to 0.18000, saving model to best_model1.h5\n",
            "50/50 [==============================] - 56s 1s/step - loss: 1.5502 - accuracy: 0.4020 - val_loss: 4.1800 - val_accuracy: 0.1800 - lr: 0.0010\n",
            "Epoch 5/100\n",
            "50/50 [==============================] - ETA: 0s - loss: 1.4762 - accuracy: 0.4820\n",
            "Epoch 5: val_accuracy improved from 0.18000 to 0.26000, saving model to best_model1.h5\n",
            "50/50 [==============================] - 54s 1s/step - loss: 1.4762 - accuracy: 0.4820 - val_loss: 2.2889 - val_accuracy: 0.2600 - lr: 0.0010\n",
            "Epoch 6/100\n",
            "50/50 [==============================] - ETA: 0s - loss: 1.3992 - accuracy: 0.5020\n",
            "Epoch 6: val_accuracy improved from 0.26000 to 0.30000, saving model to best_model1.h5\n",
            "50/50 [==============================] - 57s 1s/step - loss: 1.3992 - accuracy: 0.5020 - val_loss: 2.0667 - val_accuracy: 0.3000 - lr: 0.0010\n",
            "Epoch 7/100\n",
            "50/50 [==============================] - ETA: 0s - loss: 1.3310 - accuracy: 0.5280\n",
            "Epoch 7: val_accuracy improved from 0.30000 to 0.34000, saving model to best_model1.h5\n",
            "50/50 [==============================] - 53s 1s/step - loss: 1.3310 - accuracy: 0.5280 - val_loss: 1.9522 - val_accuracy: 0.3400 - lr: 0.0010\n",
            "Epoch 8/100\n",
            "50/50 [==============================] - ETA: 0s - loss: 1.3336 - accuracy: 0.5220\n",
            "Epoch 8: val_accuracy improved from 0.34000 to 0.40000, saving model to best_model1.h5\n",
            "50/50 [==============================] - 52s 1s/step - loss: 1.3336 - accuracy: 0.5220 - val_loss: 1.8730 - val_accuracy: 0.4000 - lr: 0.0010\n",
            "Epoch 9/100\n",
            "50/50 [==============================] - ETA: 0s - loss: 1.3050 - accuracy: 0.5300\n",
            "Epoch 9: val_accuracy improved from 0.40000 to 0.58000, saving model to best_model1.h5\n",
            "50/50 [==============================] - 56s 1s/step - loss: 1.3050 - accuracy: 0.5300 - val_loss: 1.2299 - val_accuracy: 0.5800 - lr: 0.0010\n",
            "Epoch 10/100\n",
            "50/50 [==============================] - ETA: 0s - loss: 1.3049 - accuracy: 0.5140\n",
            "Epoch 10: val_accuracy did not improve from 0.58000\n",
            "50/50 [==============================] - 55s 1s/step - loss: 1.3049 - accuracy: 0.5140 - val_loss: 1.7460 - val_accuracy: 0.4400 - lr: 0.0010\n",
            "Epoch 11/100\n",
            "50/50 [==============================] - ETA: 0s - loss: 1.1937 - accuracy: 0.5700\n",
            "Epoch 11: val_accuracy improved from 0.58000 to 0.64000, saving model to best_model1.h5\n",
            "50/50 [==============================] - 51s 1s/step - loss: 1.1937 - accuracy: 0.5700 - val_loss: 1.2891 - val_accuracy: 0.6400 - lr: 0.0010\n",
            "Epoch 12/100\n",
            "50/50 [==============================] - ETA: 0s - loss: 1.2711 - accuracy: 0.5420\n",
            "Epoch 12: val_accuracy improved from 0.64000 to 0.74000, saving model to best_model1.h5\n",
            "50/50 [==============================] - 52s 1s/step - loss: 1.2711 - accuracy: 0.5420 - val_loss: 1.0114 - val_accuracy: 0.7400 - lr: 0.0010\n",
            "Epoch 13/100\n",
            "50/50 [==============================] - ETA: 0s - loss: 1.1409 - accuracy: 0.6040\n",
            "Epoch 13: val_accuracy did not improve from 0.74000\n",
            "50/50 [==============================] - 58s 1s/step - loss: 1.1409 - accuracy: 0.6040 - val_loss: 0.8590 - val_accuracy: 0.6600 - lr: 0.0010\n",
            "Epoch 14/100\n",
            "50/50 [==============================] - ETA: 0s - loss: 1.2443 - accuracy: 0.5320\n",
            "Epoch 14: val_accuracy did not improve from 0.74000\n",
            "50/50 [==============================] - 56s 1s/step - loss: 1.2443 - accuracy: 0.5320 - val_loss: 1.4275 - val_accuracy: 0.4800 - lr: 0.0010\n",
            "Epoch 15/100\n",
            "50/50 [==============================] - ETA: 0s - loss: 1.1595 - accuracy: 0.5880\n",
            "Epoch 15: val_accuracy did not improve from 0.74000\n",
            "50/50 [==============================] - 52s 1s/step - loss: 1.1595 - accuracy: 0.5880 - val_loss: 0.7963 - val_accuracy: 0.6800 - lr: 0.0010\n",
            "Epoch 16/100\n",
            "50/50 [==============================] - ETA: 0s - loss: 1.2787 - accuracy: 0.5400\n",
            "Epoch 16: val_accuracy did not improve from 0.74000\n",
            "50/50 [==============================] - 49s 987ms/step - loss: 1.2787 - accuracy: 0.5400 - val_loss: 1.5103 - val_accuracy: 0.5000 - lr: 0.0010\n",
            "Epoch 17/100\n",
            "50/50 [==============================] - ETA: 0s - loss: 1.1930 - accuracy: 0.5960\n",
            "Epoch 17: val_accuracy did not improve from 0.74000\n",
            "\n",
            "Epoch 17: ReduceLROnPlateau reducing learning rate to 0.0005000000237487257.\n",
            "50/50 [==============================] - 49s 969ms/step - loss: 1.1930 - accuracy: 0.5960 - val_loss: 1.1612 - val_accuracy: 0.6000 - lr: 0.0010\n",
            "Epoch 18/100\n",
            "50/50 [==============================] - ETA: 0s - loss: 1.0747 - accuracy: 0.6220\n",
            "Epoch 18: val_accuracy improved from 0.74000 to 0.80000, saving model to best_model1.h5\n",
            "50/50 [==============================] - 53s 1s/step - loss: 1.0747 - accuracy: 0.6220 - val_loss: 0.6734 - val_accuracy: 0.8000 - lr: 5.0000e-04\n",
            "Epoch 19/100\n",
            "50/50 [==============================] - ETA: 0s - loss: 1.1157 - accuracy: 0.6120\n",
            "Epoch 19: val_accuracy did not improve from 0.80000\n",
            "50/50 [==============================] - 52s 1s/step - loss: 1.1157 - accuracy: 0.6120 - val_loss: 1.0869 - val_accuracy: 0.6200 - lr: 5.0000e-04\n",
            "Epoch 20/100\n",
            "50/50 [==============================] - ETA: 0s - loss: 1.0593 - accuracy: 0.6360\n",
            "Epoch 20: val_accuracy did not improve from 0.80000\n",
            "50/50 [==============================] - 55s 1s/step - loss: 1.0593 - accuracy: 0.6360 - val_loss: 1.1749 - val_accuracy: 0.6400 - lr: 5.0000e-04\n",
            "Epoch 21/100\n",
            "50/50 [==============================] - ETA: 0s - loss: 1.0815 - accuracy: 0.6240\n",
            "Epoch 21: val_accuracy did not improve from 0.80000\n",
            "50/50 [==============================] - 51s 1s/step - loss: 1.0815 - accuracy: 0.6240 - val_loss: 1.2267 - val_accuracy: 0.5200 - lr: 5.0000e-04\n",
            "Epoch 22/100\n",
            "50/50 [==============================] - ETA: 0s - loss: 1.0826 - accuracy: 0.5860\n",
            "Epoch 22: val_accuracy did not improve from 0.80000\n",
            "50/50 [==============================] - 49s 973ms/step - loss: 1.0826 - accuracy: 0.5860 - val_loss: 0.9820 - val_accuracy: 0.6800 - lr: 5.0000e-04\n",
            "Epoch 23/100\n",
            "50/50 [==============================] - ETA: 0s - loss: 0.9860 - accuracy: 0.6380\n",
            "Epoch 23: val_accuracy did not improve from 0.80000\n",
            "\n",
            "Epoch 23: ReduceLROnPlateau reducing learning rate to 0.0002500000118743628.\n",
            "50/50 [==============================] - 52s 1s/step - loss: 0.9860 - accuracy: 0.6380 - val_loss: 0.6946 - val_accuracy: 0.7400 - lr: 5.0000e-04\n",
            "Epoch 24/100\n",
            "50/50 [==============================] - ETA: 0s - loss: 0.8902 - accuracy: 0.7000\n",
            "Epoch 24: val_accuracy did not improve from 0.80000\n",
            "50/50 [==============================] - 51s 1s/step - loss: 0.8902 - accuracy: 0.7000 - val_loss: 0.9386 - val_accuracy: 0.6200 - lr: 2.5000e-04\n",
            "Epoch 25/100\n",
            "50/50 [==============================] - ETA: 0s - loss: 0.9238 - accuracy: 0.6760\n",
            "Epoch 25: val_accuracy did not improve from 0.80000\n",
            "50/50 [==============================] - 52s 1s/step - loss: 0.9238 - accuracy: 0.6760 - val_loss: 0.9324 - val_accuracy: 0.6400 - lr: 2.5000e-04\n",
            "Epoch 26/100\n",
            "50/50 [==============================] - ETA: 0s - loss: 1.0587 - accuracy: 0.6140\n",
            "Epoch 26: val_accuracy did not improve from 0.80000\n",
            "50/50 [==============================] - 51s 1s/step - loss: 1.0587 - accuracy: 0.6140 - val_loss: 0.7580 - val_accuracy: 0.7800 - lr: 2.5000e-04\n",
            "Epoch 27/100\n",
            "50/50 [==============================] - ETA: 0s - loss: 1.0194 - accuracy: 0.6300\n",
            "Epoch 27: val_accuracy did not improve from 0.80000\n",
            "50/50 [==============================] - 55s 1s/step - loss: 1.0194 - accuracy: 0.6300 - val_loss: 1.1392 - val_accuracy: 0.6200 - lr: 2.5000e-04\n",
            "Epoch 28/100\n",
            "50/50 [==============================] - ETA: 0s - loss: 1.0348 - accuracy: 0.6280\n",
            "Epoch 28: val_accuracy did not improve from 0.80000\n",
            "\n",
            "Epoch 28: ReduceLROnPlateau reducing learning rate to 0.0001250000059371814.\n",
            "50/50 [==============================] - 50s 1s/step - loss: 1.0348 - accuracy: 0.6280 - val_loss: 1.0046 - val_accuracy: 0.6600 - lr: 2.5000e-04\n",
            "Epoch 29/100\n",
            "50/50 [==============================] - ETA: 0s - loss: 1.0141 - accuracy: 0.6380\n",
            "Epoch 29: val_accuracy improved from 0.80000 to 0.82000, saving model to best_model1.h5\n",
            "50/50 [==============================] - 57s 1s/step - loss: 1.0141 - accuracy: 0.6380 - val_loss: 0.9108 - val_accuracy: 0.8200 - lr: 1.2500e-04\n",
            "Epoch 30/100\n",
            "50/50 [==============================] - ETA: 0s - loss: 0.9500 - accuracy: 0.6480\n",
            "Epoch 30: val_accuracy did not improve from 0.82000\n",
            "50/50 [==============================] - 59s 1s/step - loss: 0.9500 - accuracy: 0.6480 - val_loss: 0.7566 - val_accuracy: 0.7400 - lr: 1.2500e-04\n",
            "Epoch 31/100\n",
            "50/50 [==============================] - ETA: 0s - loss: 0.9934 - accuracy: 0.6480\n",
            "Epoch 31: val_accuracy improved from 0.82000 to 0.84000, saving model to best_model1.h5\n",
            "50/50 [==============================] - 52s 1s/step - loss: 0.9934 - accuracy: 0.6480 - val_loss: 0.6035 - val_accuracy: 0.8400 - lr: 1.2500e-04\n",
            "Epoch 32/100\n",
            "50/50 [==============================] - ETA: 0s - loss: 0.9520 - accuracy: 0.6720\n",
            "Epoch 32: val_accuracy did not improve from 0.84000\n",
            "50/50 [==============================] - 51s 1s/step - loss: 0.9520 - accuracy: 0.6720 - val_loss: 0.8302 - val_accuracy: 0.8000 - lr: 1.2500e-04\n",
            "Epoch 33/100\n",
            "50/50 [==============================] - ETA: 0s - loss: 0.9157 - accuracy: 0.6620\n",
            "Epoch 33: val_accuracy did not improve from 0.84000\n",
            "50/50 [==============================] - 50s 997ms/step - loss: 0.9157 - accuracy: 0.6620 - val_loss: 0.7987 - val_accuracy: 0.7400 - lr: 1.2500e-04\n",
            "Epoch 34/100\n",
            "50/50 [==============================] - ETA: 0s - loss: 0.9657 - accuracy: 0.6660\n",
            "Epoch 34: val_accuracy did not improve from 0.84000\n",
            "50/50 [==============================] - 53s 1s/step - loss: 0.9657 - accuracy: 0.6660 - val_loss: 0.6142 - val_accuracy: 0.7800 - lr: 1.2500e-04\n",
            "Epoch 35/100\n",
            "50/50 [==============================] - ETA: 0s - loss: 0.8898 - accuracy: 0.6860\n",
            "Epoch 35: val_accuracy did not improve from 0.84000\n",
            "50/50 [==============================] - 51s 1s/step - loss: 0.8898 - accuracy: 0.6860 - val_loss: 0.9762 - val_accuracy: 0.7600 - lr: 1.2500e-04\n",
            "Epoch 36/100\n",
            "50/50 [==============================] - ETA: 0s - loss: 0.8772 - accuracy: 0.6900\n",
            "Epoch 36: val_accuracy did not improve from 0.84000\n",
            "\n",
            "Epoch 36: ReduceLROnPlateau reducing learning rate to 6.25000029685907e-05.\n",
            "50/50 [==============================] - 51s 1s/step - loss: 0.8772 - accuracy: 0.6900 - val_loss: 0.8813 - val_accuracy: 0.6600 - lr: 1.2500e-04\n",
            "Epoch 37/100\n",
            "50/50 [==============================] - ETA: 0s - loss: 0.9111 - accuracy: 0.6740\n",
            "Epoch 37: val_accuracy did not improve from 0.84000\n",
            "50/50 [==============================] - 51s 1s/step - loss: 0.9111 - accuracy: 0.6740 - val_loss: 0.6636 - val_accuracy: 0.7800 - lr: 6.2500e-05\n",
            "Epoch 38/100\n",
            "50/50 [==============================] - ETA: 0s - loss: 0.9595 - accuracy: 0.6660\n",
            "Epoch 38: val_accuracy did not improve from 0.84000\n",
            "50/50 [==============================] - 54s 1s/step - loss: 0.9595 - accuracy: 0.6660 - val_loss: 0.8901 - val_accuracy: 0.7200 - lr: 6.2500e-05\n",
            "Epoch 39/100\n",
            "50/50 [==============================] - ETA: 0s - loss: 0.9290 - accuracy: 0.6720\n",
            "Epoch 39: val_accuracy did not improve from 0.84000\n",
            "50/50 [==============================] - 50s 996ms/step - loss: 0.9290 - accuracy: 0.6720 - val_loss: 0.8957 - val_accuracy: 0.6800 - lr: 6.2500e-05\n",
            "Epoch 40/100\n",
            "50/50 [==============================] - ETA: 0s - loss: 0.9037 - accuracy: 0.6687\n",
            "Epoch 40: val_accuracy did not improve from 0.84000\n",
            "50/50 [==============================] - 52s 1s/step - loss: 0.9037 - accuracy: 0.6687 - val_loss: 0.8435 - val_accuracy: 0.6800 - lr: 6.2500e-05\n",
            "Epoch 41/100\n",
            "50/50 [==============================] - ETA: 0s - loss: 0.9256 - accuracy: 0.6526\n",
            "Epoch 41: val_accuracy did not improve from 0.84000\n",
            "\n",
            "Epoch 41: ReduceLROnPlateau reducing learning rate to 3.125000148429535e-05.\n",
            "50/50 [==============================] - 52s 1s/step - loss: 0.9256 - accuracy: 0.6526 - val_loss: 1.0158 - val_accuracy: 0.6600 - lr: 6.2500e-05\n",
            "Epoch 42/100\n",
            "50/50 [==============================] - ETA: 0s - loss: 0.8746 - accuracy: 0.7200\n",
            "Epoch 42: val_accuracy did not improve from 0.84000\n",
            "50/50 [==============================] - 56s 1s/step - loss: 0.8746 - accuracy: 0.7200 - val_loss: 0.7653 - val_accuracy: 0.7200 - lr: 3.1250e-05\n",
            "Epoch 43/100\n",
            "50/50 [==============================] - ETA: 0s - loss: 0.8933 - accuracy: 0.6760\n",
            "Epoch 43: val_accuracy did not improve from 0.84000\n",
            "50/50 [==============================] - 55s 1s/step - loss: 0.8933 - accuracy: 0.6760 - val_loss: 0.6819 - val_accuracy: 0.8200 - lr: 3.1250e-05\n",
            "Epoch 44/100\n",
            "50/50 [==============================] - ETA: 0s - loss: 0.9206 - accuracy: 0.6680\n",
            "Epoch 44: val_accuracy did not improve from 0.84000\n",
            "50/50 [==============================] - 50s 995ms/step - loss: 0.9206 - accuracy: 0.6680 - val_loss: 0.9820 - val_accuracy: 0.6600 - lr: 3.1250e-05\n",
            "Epoch 45/100\n",
            "50/50 [==============================] - ETA: 0s - loss: 0.8364 - accuracy: 0.6880\n",
            "Epoch 45: val_accuracy did not improve from 0.84000\n",
            "50/50 [==============================] - 50s 995ms/step - loss: 0.8364 - accuracy: 0.6880 - val_loss: 0.9631 - val_accuracy: 0.7200 - lr: 3.1250e-05\n",
            "Epoch 46/100\n",
            "50/50 [==============================] - ETA: 0s - loss: 0.8259 - accuracy: 0.7140\n",
            "Epoch 46: val_accuracy did not improve from 0.84000\n",
            "\n",
            "Epoch 46: ReduceLROnPlateau reducing learning rate to 1.5625000742147677e-05.\n",
            "50/50 [==============================] - 52s 1s/step - loss: 0.8259 - accuracy: 0.7140 - val_loss: 0.7252 - val_accuracy: 0.7400 - lr: 3.1250e-05\n",
            "Epoch 47/100\n",
            "50/50 [==============================] - ETA: 0s - loss: 0.9006 - accuracy: 0.6800\n",
            "Epoch 47: val_accuracy improved from 0.84000 to 0.86000, saving model to best_model1.h5\n",
            "50/50 [==============================] - 55s 1s/step - loss: 0.9006 - accuracy: 0.6800 - val_loss: 0.5205 - val_accuracy: 0.8600 - lr: 1.5625e-05\n",
            "Epoch 48/100\n",
            "50/50 [==============================] - ETA: 0s - loss: 0.8686 - accuracy: 0.6960\n",
            "Epoch 48: val_accuracy did not improve from 0.86000\n",
            "50/50 [==============================] - 51s 1s/step - loss: 0.8686 - accuracy: 0.6960 - val_loss: 0.6022 - val_accuracy: 0.8200 - lr: 1.5625e-05\n",
            "Epoch 49/100\n",
            "50/50 [==============================] - ETA: 0s - loss: 0.9065 - accuracy: 0.6800\n",
            "Epoch 49: val_accuracy did not improve from 0.86000\n",
            "50/50 [==============================] - 50s 997ms/step - loss: 0.9065 - accuracy: 0.6800 - val_loss: 0.8169 - val_accuracy: 0.7200 - lr: 1.5625e-05\n",
            "Epoch 50/100\n",
            "50/50 [==============================] - ETA: 0s - loss: 0.8829 - accuracy: 0.7140\n",
            "Epoch 50: val_accuracy did not improve from 0.86000\n",
            "50/50 [==============================] - 50s 990ms/step - loss: 0.8829 - accuracy: 0.7140 - val_loss: 0.8506 - val_accuracy: 0.7400 - lr: 1.5625e-05\n",
            "Epoch 51/100\n",
            "50/50 [==============================] - ETA: 0s - loss: 0.8729 - accuracy: 0.6740\n",
            "Epoch 51: val_accuracy did not improve from 0.86000\n",
            "50/50 [==============================] - 56s 1s/step - loss: 0.8729 - accuracy: 0.6740 - val_loss: 0.6902 - val_accuracy: 0.8000 - lr: 1.5625e-05\n",
            "Epoch 52/100\n",
            "50/50 [==============================] - ETA: 0s - loss: 0.8268 - accuracy: 0.7080\n",
            "Epoch 52: val_accuracy did not improve from 0.86000\n",
            "\n",
            "Epoch 52: ReduceLROnPlateau reducing learning rate to 1e-05.\n",
            "50/50 [==============================] - 52s 1s/step - loss: 0.8268 - accuracy: 0.7080 - val_loss: 0.5581 - val_accuracy: 0.8000 - lr: 1.5625e-05\n",
            "Epoch 53/100\n",
            "50/50 [==============================] - ETA: 0s - loss: 0.8999 - accuracy: 0.6860\n",
            "Epoch 53: val_accuracy did not improve from 0.86000\n",
            "50/50 [==============================] - 52s 1s/step - loss: 0.8999 - accuracy: 0.6860 - val_loss: 0.6273 - val_accuracy: 0.8000 - lr: 1.0000e-05\n",
            "Epoch 54/100\n",
            "50/50 [==============================] - ETA: 0s - loss: 0.8806 - accuracy: 0.7180\n",
            "Epoch 54: val_accuracy did not improve from 0.86000\n",
            "50/50 [==============================] - 50s 998ms/step - loss: 0.8806 - accuracy: 0.7180 - val_loss: 0.9852 - val_accuracy: 0.6400 - lr: 1.0000e-05\n",
            "Epoch 55/100\n",
            "50/50 [==============================] - ETA: 0s - loss: 0.7926 - accuracy: 0.7349\n",
            "Epoch 55: val_accuracy did not improve from 0.86000\n",
            "50/50 [==============================] - 53s 1s/step - loss: 0.7926 - accuracy: 0.7349 - val_loss: 0.7448 - val_accuracy: 0.7200 - lr: 1.0000e-05\n",
            "Epoch 56/100\n",
            "50/50 [==============================] - ETA: 0s - loss: 0.8954 - accuracy: 0.6800\n",
            "Epoch 56: val_accuracy improved from 0.86000 to 0.94000, saving model to best_model1.h5\n",
            "50/50 [==============================] - 52s 1s/step - loss: 0.8954 - accuracy: 0.6800 - val_loss: 0.4853 - val_accuracy: 0.9400 - lr: 1.0000e-05\n",
            "Epoch 57/100\n",
            "50/50 [==============================] - ETA: 0s - loss: 0.8788 - accuracy: 0.7200\n",
            "Epoch 57: val_accuracy did not improve from 0.94000\n",
            "50/50 [==============================] - 51s 1s/step - loss: 0.8788 - accuracy: 0.7200 - val_loss: 0.6398 - val_accuracy: 0.7600 - lr: 1.0000e-05\n",
            "Epoch 58/100\n",
            "50/50 [==============================] - ETA: 0s - loss: 0.8409 - accuracy: 0.7060\n",
            "Epoch 58: val_accuracy did not improve from 0.94000\n",
            "50/50 [==============================] - 56s 1s/step - loss: 0.8409 - accuracy: 0.7060 - val_loss: 0.9044 - val_accuracy: 0.7800 - lr: 1.0000e-05\n",
            "Epoch 59/100\n",
            "50/50 [==============================] - ETA: 0s - loss: 0.7993 - accuracy: 0.7340\n",
            "Epoch 59: val_accuracy did not improve from 0.94000\n",
            "50/50 [==============================] - 49s 991ms/step - loss: 0.7993 - accuracy: 0.7340 - val_loss: 0.7289 - val_accuracy: 0.7600 - lr: 1.0000e-05\n",
            "Epoch 60/100\n",
            "50/50 [==============================] - ETA: 0s - loss: 0.8493 - accuracy: 0.6880\n",
            "Epoch 60: val_accuracy did not improve from 0.94000\n",
            "50/50 [==============================] - 49s 985ms/step - loss: 0.8493 - accuracy: 0.6880 - val_loss: 0.7890 - val_accuracy: 0.7800 - lr: 1.0000e-05\n",
            "Epoch 61/100\n",
            "50/50 [==============================] - ETA: 0s - loss: 0.8480 - accuracy: 0.6900\n",
            "Epoch 61: val_accuracy did not improve from 0.94000\n",
            "50/50 [==============================] - 51s 1s/step - loss: 0.8480 - accuracy: 0.6900 - val_loss: 0.7448 - val_accuracy: 0.8000 - lr: 1.0000e-05\n",
            "Epoch 62/100\n",
            "50/50 [==============================] - ETA: 0s - loss: 0.8601 - accuracy: 0.6900\n",
            "Epoch 62: val_accuracy did not improve from 0.94000\n",
            "50/50 [==============================] - 57s 1s/step - loss: 0.8601 - accuracy: 0.6900 - val_loss: 0.5470 - val_accuracy: 0.8600 - lr: 1.0000e-05\n",
            "Epoch 63/100\n",
            "50/50 [==============================] - ETA: 0s - loss: 0.8920 - accuracy: 0.6760\n",
            "Epoch 63: val_accuracy did not improve from 0.94000\n",
            "50/50 [==============================] - 52s 1s/step - loss: 0.8920 - accuracy: 0.6760 - val_loss: 0.5248 - val_accuracy: 0.8400 - lr: 1.0000e-05\n",
            "Epoch 64/100\n",
            "50/50 [==============================] - ETA: 0s - loss: 0.8169 - accuracy: 0.7200\n",
            "Epoch 64: val_accuracy did not improve from 0.94000\n",
            "50/50 [==============================] - 52s 1s/step - loss: 0.8169 - accuracy: 0.7200 - val_loss: 0.7169 - val_accuracy: 0.7800 - lr: 1.0000e-05\n",
            "Epoch 65/100\n",
            "50/50 [==============================] - ETA: 0s - loss: 0.8509 - accuracy: 0.6920\n",
            "Epoch 65: val_accuracy did not improve from 0.94000\n",
            "50/50 [==============================] - 51s 1s/step - loss: 0.8509 - accuracy: 0.6920 - val_loss: 0.9342 - val_accuracy: 0.6600 - lr: 1.0000e-05\n",
            "Epoch 66/100\n",
            "50/50 [==============================] - ETA: 0s - loss: 0.7968 - accuracy: 0.7340\n",
            "Epoch 66: val_accuracy did not improve from 0.94000\n",
            "50/50 [==============================] - 53s 1s/step - loss: 0.7968 - accuracy: 0.7340 - val_loss: 0.6861 - val_accuracy: 0.8200 - lr: 1.0000e-05\n",
            "Epoch 67/100\n",
            "50/50 [==============================] - ETA: 0s - loss: 0.8165 - accuracy: 0.7240\n",
            "Epoch 67: val_accuracy did not improve from 0.94000\n",
            "50/50 [==============================] - 56s 1s/step - loss: 0.8165 - accuracy: 0.7240 - val_loss: 0.6049 - val_accuracy: 0.8200 - lr: 1.0000e-05\n",
            "Epoch 68/100\n",
            "50/50 [==============================] - ETA: 0s - loss: 0.9395 - accuracy: 0.6900\n",
            "Epoch 68: val_accuracy did not improve from 0.94000\n",
            "50/50 [==============================] - 52s 1s/step - loss: 0.9395 - accuracy: 0.6900 - val_loss: 0.5354 - val_accuracy: 0.8200 - lr: 1.0000e-05\n",
            "Epoch 69/100\n",
            "50/50 [==============================] - ETA: 0s - loss: 0.8761 - accuracy: 0.7008\n",
            "Epoch 69: val_accuracy did not improve from 0.94000\n",
            "50/50 [==============================] - 52s 1s/step - loss: 0.8761 - accuracy: 0.7008 - val_loss: 0.4521 - val_accuracy: 0.9000 - lr: 1.0000e-05\n",
            "Epoch 70/100\n",
            "50/50 [==============================] - ETA: 0s - loss: 0.8189 - accuracy: 0.7140\n",
            "Epoch 70: val_accuracy did not improve from 0.94000\n",
            "50/50 [==============================] - 52s 1s/step - loss: 0.8189 - accuracy: 0.7140 - val_loss: 0.6131 - val_accuracy: 0.8400 - lr: 1.0000e-05\n",
            "Epoch 71/100\n",
            "50/50 [==============================] - ETA: 0s - loss: 0.8580 - accuracy: 0.7320\n",
            "Epoch 71: val_accuracy did not improve from 0.94000\n",
            "50/50 [==============================] - 56s 1s/step - loss: 0.8580 - accuracy: 0.7320 - val_loss: 0.7344 - val_accuracy: 0.7800 - lr: 1.0000e-05\n",
            "Epoch 72/100\n",
            "50/50 [==============================] - ETA: 0s - loss: 0.9042 - accuracy: 0.6620\n",
            "Epoch 72: val_accuracy did not improve from 0.94000\n",
            "50/50 [==============================] - 51s 1s/step - loss: 0.9042 - accuracy: 0.6620 - val_loss: 0.7664 - val_accuracy: 0.7400 - lr: 1.0000e-05\n",
            "Epoch 73/100\n",
            "50/50 [==============================] - ETA: 0s - loss: 0.8628 - accuracy: 0.6920\n",
            "Epoch 73: val_accuracy did not improve from 0.94000\n",
            "50/50 [==============================] - 56s 1s/step - loss: 0.8628 - accuracy: 0.6920 - val_loss: 0.5927 - val_accuracy: 0.8200 - lr: 1.0000e-05\n",
            "Epoch 74/100\n",
            "50/50 [==============================] - ETA: 0s - loss: 0.8207 - accuracy: 0.7060\n",
            "Epoch 74: val_accuracy did not improve from 0.94000\n",
            "50/50 [==============================] - 55s 1s/step - loss: 0.8207 - accuracy: 0.7060 - val_loss: 0.7007 - val_accuracy: 0.8200 - lr: 1.0000e-05\n",
            "Epoch 75/100\n",
            "50/50 [==============================] - ETA: 0s - loss: 0.9080 - accuracy: 0.6860\n",
            "Epoch 75: val_accuracy did not improve from 0.94000\n",
            "50/50 [==============================] - 50s 982ms/step - loss: 0.9080 - accuracy: 0.6860 - val_loss: 0.8269 - val_accuracy: 0.7400 - lr: 1.0000e-05\n",
            "Epoch 76/100\n",
            "50/50 [==============================] - ETA: 0s - loss: 0.8138 - accuracy: 0.7200\n",
            "Epoch 76: val_accuracy did not improve from 0.94000\n",
            "50/50 [==============================] - 51s 1s/step - loss: 0.8138 - accuracy: 0.7200 - val_loss: 0.8661 - val_accuracy: 0.7200 - lr: 1.0000e-05\n",
            "Epoch 76: early stopping\n"
          ]
        }
      ],
      "source": [
        "history = network.fit_generator(train_dataset,\n",
        "                                steps_per_epoch = 50,\n",
        "                                validation_data = validation_dataset,\n",
        "                                validation_steps = 50,\n",
        "                                epochs=100,\n",
        "                                callbacks=[es, model_cp, learning_rate_reduction])"
      ]
    },
    {
      "cell_type": "markdown",
      "metadata": {
        "id": "0yfuhbovltQA"
      },
      "source": []
    },
    {
      "cell_type": "code",
      "execution_count": 19,
      "metadata": {
        "id": "4xXIb__YN8jO"
      },
      "outputs": [],
      "source": [
        "predictions=network.predict(test_datatset)\n",
        "predictions = np.argmax(predictions, axis=1)"
      ]
    },
    {
      "cell_type": "code",
      "execution_count": 21,
      "metadata": {
        "colab": {
          "base_uri": "https://localhost:8080/"
        },
        "id": "MfitKd4WOO0c",
        "outputId": "240ff744-d94a-4310-e0fb-306d415f3172"
      },
      "outputs": [
        {
          "output_type": "execute_result",
          "data": {
            "text/plain": [
              "0.7929799426934098"
            ]
          },
          "metadata": {},
          "execution_count": 21
        }
      ],
      "source": [
        "from sklearn.metrics import accuracy_score\n",
        "accuracy_score(test_datatset.classes, predictions)"
      ]
    },
    {
      "cell_type": "code",
      "execution_count": 22,
      "metadata": {
        "colab": {
          "base_uri": "https://localhost:8080/",
          "height": 435
        },
        "id": "CwufQs6AOjVu",
        "outputId": "e3857dd1-a2c4-4efe-8247-aed025147ce6"
      },
      "outputs": [
        {
          "output_type": "display_data",
          "data": {
            "text/plain": [
              "<Figure size 640x480 with 2 Axes>"
            ],
            "image/png": "[encoded data removed]"
          },
          "metadata": {}
        }
      ],
      "source": [
        "from sklearn.metrics import confusion_matrix\n",
        "cm = confusion_matrix(test_datatset.classes, predictions)\n",
        "sns.heatmap(cm, annot=True);"
      ]
    },
    {
      "cell_type": "code",
      "execution_count": 23,
      "metadata": {
        "colab": {
          "base_uri": "https://localhost:8080/"
        },
        "id": "lfg484OCPGqq",
        "outputId": "1614daa8-5a7c-4bab-d943-5a8b59f3f035"
      },
      "outputs": [
        {
          "output_type": "stream",
          "name": "stdout",
          "text": [
            "              precision    recall  f1-score   support\n",
            "\n",
            "           0       0.84      0.97      0.90       198\n",
            "           1       0.95      1.00      0.98       200\n",
            "           2       0.71      0.71      0.71       200\n",
            "           3       0.69      0.50      0.58       199\n",
            "           4       0.73      0.91      0.81       200\n",
            "           5       0.80      0.55      0.65       199\n",
            "           6       0.79      0.90      0.84       200\n",
            "\n",
            "    accuracy                           0.79      1396\n",
            "   macro avg       0.79      0.79      0.78      1396\n",
            "weighted avg       0.79      0.79      0.78      1396\n",
            "\n"
          ]
        }
      ],
      "source": [
        "from sklearn.metrics import classification_report\n",
        "print(classification_report(test_datatset.classes, predictions))"
      ]
    },
    {
      "cell_type": "code",
      "execution_count": 24,
      "metadata": {
        "colab": {
          "base_uri": "https://localhost:8080/",
          "height": 472
        },
        "id": "AwBdQqe9Porm",
        "outputId": "64ad8210-7ce9-450e-a96e-b314ac4c39e0"
      },
      "outputs": [
        {
          "output_type": "display_data",
          "data": {
            "text/plain": [
              "<Figure size 640x480 with 1 Axes>"
            ],
            "image/png": "[encoded data removed]"
          },
          "metadata": {}
        }
      ],
      "source": [
        "plt.plot(history.history['accuracy'])\n",
        "plt.plot(history.history['val_accuracy'])\n",
        "plt.title('model accuracy')\n",
        "plt.ylabel('accuracy')\n",
        "plt.xlabel('epoch')\n",
        "plt.legend(['train', 'val'], loc='upper left')\n",
        "plt.show()"
      ]
    },
    {
      "cell_type": "code",
      "execution_count": 25,
      "metadata": {
        "colab": {
          "base_uri": "https://localhost:8080/",
          "height": 472
        },
        "id": "vVr7AUw8SNre",
        "outputId": "03ef6258-b577-4805-d5ef-212698fb2365"
      },
      "outputs": [
        {
          "output_type": "display_data",
          "data": {
            "text/plain": [
              "<Figure size 640x480 with 1 Axes>"
            ],
            "image/png": "[encoded data removed]"
          },
          "metadata": {}
        }
      ],
      "source": [
        "plt.plot(history.history['loss'])\n",
        "plt.plot(history.history['val_loss'])\n",
        "plt.title('model loss')\n",
        "plt.ylabel('loss')\n",
        "plt.xlabel('epoch')\n",
        "plt.legend(['train', 'val'], loc='upper left')\n",
        "plt.show()"
      ]
    },
    {
      "cell_type": "code",
      "execution_count": 26,
      "metadata": {
        "id": "pnmlR6M8gih2"
      },
      "outputs": [],
      "source": [
        "from tensorflow.keras.models import load_model\n",
        "model = load_model('/content/best_model1.h5')"
      ]
    },
    {
      "cell_type": "code",
      "execution_count": 27,
      "metadata": {
        "colab": {
          "base_uri": "https://localhost:8080/"
        },
        "id": "P5SUDIaUg8-G",
        "outputId": "8c570a57-1c40-4e34-e255-daa8a6160488"
      },
      "outputs": [
        {
          "output_type": "stream",
          "name": "stdout",
          "text": [
            "1396/1396 [==============================] - 51s 36ms/step - loss: 0.6582 - accuracy: 0.7858\n"
          ]
        },
        {
          "output_type": "execute_result",
          "data": {
            "text/plain": [
              "[0.6582353711128235, 0.7858166098594666]"
            ]
          },
          "metadata": {},
          "execution_count": 27
        }
      ],
      "source": [
        "model.evaluate(test_datatset)"
      ]
    },
    {
      "cell_type": "code",
      "execution_count": 28,
      "metadata": {
        "colab": {
          "base_uri": "https://localhost:8080/",
          "height": 435
        },
        "id": "Zqq4ec2JhKgt",
        "outputId": "67aa9666-6ec2-41b1-c50a-00fab2fd90be"
      },
      "outputs": [
        {
          "output_type": "display_data",
          "data": {
            "text/plain": [
              "<Figure size 640x480 with 2 Axes>"
            ],
            "image/png": "[encoded data removed]"
          },
          "metadata": {}
        }
      ],
      "source": [
        "pred = model.predict(test_datatset)\n",
        "pred = np.argmax(pred, axis=1)\n",
        "cm = confusion_matrix(test_datatset.classes, pred)\n",
        "sns.heatmap(cm, annot=True);"
      ]
    },
    {
      "cell_type": "code",
      "execution_count": 29,
      "metadata": {
        "colab": {
          "base_uri": "https://localhost:8080/"
        },
        "id": "e2TSljdej81S",
        "outputId": "303a614b-8f30-4210-c059-3dd2b5538fb6"
      },
      "outputs": [
        {
          "output_type": "stream",
          "name": "stdout",
          "text": [
            "              precision    recall  f1-score   support\n",
            "\n",
            "           0       0.81      0.98      0.89       198\n",
            "           1       0.94      1.00      0.97       200\n",
            "           2       0.71      0.72      0.72       200\n",
            "           3       0.70      0.49      0.58       199\n",
            "           4       0.76      0.88      0.81       200\n",
            "           5       0.77      0.51      0.62       199\n",
            "           6       0.77      0.91      0.83       200\n",
            "\n",
            "    accuracy                           0.79      1396\n",
            "   macro avg       0.78      0.79      0.77      1396\n",
            "weighted avg       0.78      0.79      0.77      1396\n",
            "\n"
          ]
        }
      ],
      "source": [
        "print(classification_report(test_datatset.classes, pred))"
      ]
    },
    {
      "cell_type": "code",
      "execution_count": 30,
      "metadata": {
        "id": "jzbwiv0ikEVG"
      },
      "outputs": [],
      "source": [
        "network.save('network.h5')"
      ]
    },
    {
      "cell_type": "code",
      "execution_count": 31,
      "metadata": {
        "id": "mTxEZdsQtlC4"
      },
      "outputs": [],
      "source": [
        "net = load_model('/content/network.h5')"
      ]
    },
    {
      "cell_type": "code",
      "execution_count": 32,
      "metadata": {
        "colab": {
          "base_uri": "https://localhost:8080/"
        },
        "id": "JgEg6VxztpAx",
        "outputId": "8815afc5-ca31-4657-c169-99b02949739c"
      },
      "outputs": [
        {
          "output_type": "stream",
          "name": "stdout",
          "text": [
            "1396/1396 [==============================] - 49s 35ms/step - loss: 0.6515 - accuracy: 0.7930\n"
          ]
        },
        {
          "output_type": "execute_result",
          "data": {
            "text/plain": [
              "[0.6514678597450256, 0.7929799556732178]"
            ]
          },
          "metadata": {},
          "execution_count": 32
        }
      ],
      "source": [
        "net.evaluate(test_datatset)"
      ]
    },
    {
      "cell_type": "code",
      "execution_count": 33,
      "metadata": {
        "colab": {
          "base_uri": "https://localhost:8080/",
          "height": 435
        },
        "id": "6wbroQ7EvUvp",
        "outputId": "d460d77f-c528-4c1f-f24e-f0db067aa066"
      },
      "outputs": [
        {
          "output_type": "display_data",
          "data": {
            "text/plain": [
              "<Figure size 640x480 with 2 Axes>"
            ],
            "image/png": "[encoded data removed]"
          },
          "metadata": {}
        }
      ],
      "source": [
        "pre = net.predict(test_datatset)\n",
        "pre = np.argmax(pre, axis=1)\n",
        "cm = confusion_matrix(test_datatset.classes, pre)\n",
        "sns.heatmap(cm, annot=True);"
      ]
    },
    {
      "cell_type": "code",
      "execution_count": 34,
      "metadata": {
        "colab": {
          "base_uri": "https://localhost:8080/"
        },
        "id": "0c6L1deT_TAY",
        "outputId": "920f24bb-d7e9-47bb-c248-7f417a2f11d9"
      },
      "outputs": [
        {
          "output_type": "stream",
          "name": "stdout",
          "text": [
            "              precision    recall  f1-score   support\n",
            "\n",
            "           0       0.81      0.98      0.89       198\n",
            "           1       0.94      1.00      0.97       200\n",
            "           2       0.71      0.72      0.72       200\n",
            "           3       0.70      0.49      0.58       199\n",
            "           4       0.76      0.88      0.81       200\n",
            "           5       0.77      0.51      0.62       199\n",
            "           6       0.77      0.91      0.83       200\n",
            "\n",
            "    accuracy                           0.79      1396\n",
            "   macro avg       0.78      0.79      0.77      1396\n",
            "weighted avg       0.78      0.79      0.77      1396\n",
            "\n"
          ]
        }
      ],
      "source": [
        "print(classification_report(test_datatset.classes, pred))"
      ]
    },
    {
      "cell_type": "markdown",
      "source": [],
      "metadata": {
        "id": "I501GKF6LLsg"
      }
    }
  ],
  "metadata": {
    "colab": {
      "provenance": [],
      "include_colab_link": true
    },
    "kernelspec": {
      "display_name": "Python 3",
      "name": "python3"
    },
    "language_info": {
      "name": "python"
    }
  },
  "nbformat": 4,
  "nbformat_minor": 0
}