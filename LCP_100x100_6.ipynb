{
  "cells": [
    {
      "cell_type": "markdown",
      "metadata": {
        "id": "view-in-github",
        "colab_type": "text"
      },
      "source": [
        "<a href=\"https://colab.research.google.com/github/KacperKurzydlo/LiquidCrystalPhases/blob/main/LCP_100x100_6.ipynb\" target=\"_parent\"><img src=\"https://colab.research.google.com/assets/colab-badge.svg\" alt=\"Open In Colab\"/></a>"
      ]
    },
    {
      "cell_type": "code",
      "execution_count": 1,
      "metadata": {
        "colab": {
          "base_uri": "https://localhost:8080/"
        },
        "id": "647sNsjCJ0hX",
        "outputId": "09f29af9-2c25-4b99-e13c-078281b143de"
      },
      "outputs": [
        {
          "output_type": "stream",
          "name": "stdout",
          "text": [
            "Requirement already satisfied: h5py in /usr/local/lib/python3.10/dist-packages (3.8.0)\n",
            "Requirement already satisfied: numpy>=1.14.5 in /usr/local/lib/python3.10/dist-packages (from h5py) (1.22.4)\n",
            "Requirement already satisfied: typing-extensions in /usr/local/lib/python3.10/dist-packages (4.7.1)\n",
            "Requirement already satisfied: wheel in /usr/local/lib/python3.10/dist-packages (0.41.0)\n"
          ]
        }
      ],
      "source": [
        "!pip install h5py\n",
        "!pip install typing-extensions\n",
        "!pip install wheel"
      ]
    },
    {
      "cell_type": "code",
      "execution_count": 2,
      "metadata": {
        "colab": {
          "base_uri": "https://localhost:8080/"
        },
        "id": "kq6qJdUqIWCQ",
        "outputId": "5bbe1b0d-742b-4fe9-cb80-a47eb9197881"
      },
      "outputs": [
        {
          "output_type": "stream",
          "name": "stdout",
          "text": [
            "Collecting tensorflow==2.8\n",
            "  Downloading tensorflow-2.8.0-cp310-cp310-manylinux2010_x86_64.whl (497.6 MB)\n",
            "\u001b[2K     \u001b[90m━━━━━━━━━━━━━━━━━━━━━━━━━━━━━━━━━━━━━━━\u001b[0m \u001b[32m497.6/497.6 MB\u001b[0m \u001b[31m3.3 MB/s\u001b[0m eta \u001b[36m0:00:00\u001b[0m\n",
            "\u001b[?25hRequirement already satisfied: absl-py>=0.4.0 in /usr/local/lib/python3.10/dist-packages (from tensorflow==2.8) (1.4.0)\n",
            "Requirement already satisfied: astunparse>=1.6.0 in /usr/local/lib/python3.10/dist-packages (from tensorflow==2.8) (1.6.3)\n",
            "Requirement already satisfied: flatbuffers>=1.12 in /usr/local/lib/python3.10/dist-packages (from tensorflow==2.8) (23.5.26)\n",
            "Requirement already satisfied: gast>=0.2.1 in /usr/local/lib/python3.10/dist-packages (from tensorflow==2.8) (0.4.0)\n",
            "Requirement already satisfied: google-pasta>=0.1.1 in /usr/local/lib/python3.10/dist-packages (from tensorflow==2.8) (0.2.0)\n",
            "Requirement already satisfied: h5py>=2.9.0 in /usr/local/lib/python3.10/dist-packages (from tensorflow==2.8) (3.8.0)\n",
            "Collecting keras-preprocessing>=1.1.1 (from tensorflow==2.8)\n",
            "  Downloading Keras_Preprocessing-1.1.2-py2.py3-none-any.whl (42 kB)\n",
            "\u001b[2K     \u001b[90m━━━━━━━━━━━━━━━━━━━━━━━━━━━━━━━━━━━━━━━━\u001b[0m \u001b[32m42.6/42.6 kB\u001b[0m \u001b[31m4.3 MB/s\u001b[0m eta \u001b[36m0:00:00\u001b[0m\n",
            "\u001b[?25hRequirement already satisfied: libclang>=9.0.1 in /usr/local/lib/python3.10/dist-packages (from tensorflow==2.8) (16.0.6)\n",
            "Requirement already satisfied: numpy>=1.20 in /usr/local/lib/python3.10/dist-packages (from tensorflow==2.8) (1.22.4)\n",
            "Requirement already satisfied: opt-einsum>=2.3.2 in /usr/local/lib/python3.10/dist-packages (from tensorflow==2.8) (3.3.0)\n",
            "Requirement already satisfied: protobuf>=3.9.2 in /usr/local/lib/python3.10/dist-packages (from tensorflow==2.8) (3.20.3)\n",
            "Requirement already satisfied: setuptools in /usr/local/lib/python3.10/dist-packages (from tensorflow==2.8) (67.7.2)\n",
            "Requirement already satisfied: six>=1.12.0 in /usr/local/lib/python3.10/dist-packages (from tensorflow==2.8) (1.16.0)\n",
            "Requirement already satisfied: termcolor>=1.1.0 in /usr/local/lib/python3.10/dist-packages (from tensorflow==2.8) (2.3.0)\n",
            "Requirement already satisfied: typing-extensions>=3.6.6 in /usr/local/lib/python3.10/dist-packages (from tensorflow==2.8) (4.7.1)\n",
            "Requirement already satisfied: wrapt>=1.11.0 in /usr/local/lib/python3.10/dist-packages (from tensorflow==2.8) (1.14.1)\n",
            "Collecting tensorboard<2.9,>=2.8 (from tensorflow==2.8)\n",
            "  Downloading tensorboard-2.8.0-py3-none-any.whl (5.8 MB)\n",
            "\u001b[2K     \u001b[90m━━━━━━━━━━━━━━━━━━━━━━━━━━━━━━━━━━━━━━━━\u001b[0m \u001b[32m5.8/5.8 MB\u001b[0m \u001b[31m100.8 MB/s\u001b[0m eta \u001b[36m0:00:00\u001b[0m\n",
            "\u001b[?25hCollecting tf-estimator-nightly==2.8.0.dev2021122109 (from tensorflow==2.8)\n",
            "  Downloading tf_estimator_nightly-2.8.0.dev2021122109-py2.py3-none-any.whl (462 kB)\n",
            "\u001b[2K     \u001b[90m━━━━━━━━━━━━━━━━━━━━━━━━━━━━━━━━━━━━━━\u001b[0m \u001b[32m462.5/462.5 kB\u001b[0m \u001b[31m41.4 MB/s\u001b[0m eta \u001b[36m0:00:00\u001b[0m\n",
            "\u001b[?25hCollecting keras<2.9,>=2.8.0rc0 (from tensorflow==2.8)\n",
            "  Downloading keras-2.8.0-py2.py3-none-any.whl (1.4 MB)\n",
            "\u001b[2K     \u001b[90m━━━━━━━━━━━━━━━━━━━━━━━━━━━━━━━━━━━━━━━━\u001b[0m \u001b[32m1.4/1.4 MB\u001b[0m \u001b[31m85.3 MB/s\u001b[0m eta \u001b[36m0:00:00\u001b[0m\n",
            "\u001b[?25hRequirement already satisfied: tensorflow-io-gcs-filesystem>=0.23.1 in /usr/local/lib/python3.10/dist-packages (from tensorflow==2.8) (0.32.0)\n",
            "Requirement already satisfied: grpcio<2.0,>=1.24.3 in /usr/local/lib/python3.10/dist-packages (from tensorflow==2.8) (1.56.2)\n",
            "Requirement already satisfied: wheel<1.0,>=0.23.0 in /usr/local/lib/python3.10/dist-packages (from astunparse>=1.6.0->tensorflow==2.8) (0.41.0)\n",
            "Requirement already satisfied: google-auth<3,>=1.6.3 in /usr/local/lib/python3.10/dist-packages (from tensorboard<2.9,>=2.8->tensorflow==2.8) (2.17.3)\n",
            "Collecting google-auth-oauthlib<0.5,>=0.4.1 (from tensorboard<2.9,>=2.8->tensorflow==2.8)\n",
            "  Downloading google_auth_oauthlib-0.4.6-py2.py3-none-any.whl (18 kB)\n",
            "Requirement already satisfied: markdown>=2.6.8 in /usr/local/lib/python3.10/dist-packages (from tensorboard<2.9,>=2.8->tensorflow==2.8) (3.4.4)\n",
            "Requirement already satisfied: requests<3,>=2.21.0 in /usr/local/lib/python3.10/dist-packages (from tensorboard<2.9,>=2.8->tensorflow==2.8) (2.27.1)\n",
            "Collecting tensorboard-data-server<0.7.0,>=0.6.0 (from tensorboard<2.9,>=2.8->tensorflow==2.8)\n",
            "  Downloading tensorboard_data_server-0.6.1-py3-none-manylinux2010_x86_64.whl (4.9 MB)\n",
            "\u001b[2K     \u001b[90m━━━━━━━━━━━━━━━━━━━━━━━━━━━━━━━━━━━━━━━━\u001b[0m \u001b[32m4.9/4.9 MB\u001b[0m \u001b[31m123.0 MB/s\u001b[0m eta \u001b[36m0:00:00\u001b[0m\n",
            "\u001b[?25hCollecting tensorboard-plugin-wit>=1.6.0 (from tensorboard<2.9,>=2.8->tensorflow==2.8)\n",
            "  Downloading tensorboard_plugin_wit-1.8.1-py3-none-any.whl (781 kB)\n",
            "\u001b[2K     \u001b[90m━━━━━━━━━━━━━━━━━━━━━━━━━━━━━━━━━━━━━━\u001b[0m \u001b[32m781.3/781.3 kB\u001b[0m \u001b[31m59.9 MB/s\u001b[0m eta \u001b[36m0:00:00\u001b[0m\n",
            "\u001b[?25hRequirement already satisfied: werkzeug>=0.11.15 in /usr/local/lib/python3.10/dist-packages (from tensorboard<2.9,>=2.8->tensorflow==2.8) (2.3.6)\n",
            "Requirement already satisfied: cachetools<6.0,>=2.0.0 in /usr/local/lib/python3.10/dist-packages (from google-auth<3,>=1.6.3->tensorboard<2.9,>=2.8->tensorflow==2.8) (5.3.1)\n",
            "Requirement already satisfied: pyasn1-modules>=0.2.1 in /usr/local/lib/python3.10/dist-packages (from google-auth<3,>=1.6.3->tensorboard<2.9,>=2.8->tensorflow==2.8) (0.3.0)\n",
            "Requirement already satisfied: rsa<5,>=3.1.4 in /usr/local/lib/python3.10/dist-packages (from google-auth<3,>=1.6.3->tensorboard<2.9,>=2.8->tensorflow==2.8) (4.9)\n",
            "Requirement already satisfied: requests-oauthlib>=0.7.0 in /usr/local/lib/python3.10/dist-packages (from google-auth-oauthlib<0.5,>=0.4.1->tensorboard<2.9,>=2.8->tensorflow==2.8) (1.3.1)\n",
            "Requirement already satisfied: urllib3<1.27,>=1.21.1 in /usr/local/lib/python3.10/dist-packages (from requests<3,>=2.21.0->tensorboard<2.9,>=2.8->tensorflow==2.8) (1.26.16)\n",
            "Requirement already satisfied: certifi>=2017.4.17 in /usr/local/lib/python3.10/dist-packages (from requests<3,>=2.21.0->tensorboard<2.9,>=2.8->tensorflow==2.8) (2023.7.22)\n",
            "Requirement already satisfied: charset-normalizer~=2.0.0 in /usr/local/lib/python3.10/dist-packages (from requests<3,>=2.21.0->tensorboard<2.9,>=2.8->tensorflow==2.8) (2.0.12)\n",
            "Requirement already satisfied: idna<4,>=2.5 in /usr/local/lib/python3.10/dist-packages (from requests<3,>=2.21.0->tensorboard<2.9,>=2.8->tensorflow==2.8) (3.4)\n",
            "Requirement already satisfied: MarkupSafe>=2.1.1 in /usr/local/lib/python3.10/dist-packages (from werkzeug>=0.11.15->tensorboard<2.9,>=2.8->tensorflow==2.8) (2.1.3)\n",
            "Requirement already satisfied: pyasn1<0.6.0,>=0.4.6 in /usr/local/lib/python3.10/dist-packages (from pyasn1-modules>=0.2.1->google-auth<3,>=1.6.3->tensorboard<2.9,>=2.8->tensorflow==2.8) (0.5.0)\n",
            "Requirement already satisfied: oauthlib>=3.0.0 in /usr/local/lib/python3.10/dist-packages (from requests-oauthlib>=0.7.0->google-auth-oauthlib<0.5,>=0.4.1->tensorboard<2.9,>=2.8->tensorflow==2.8) (3.2.2)\n",
            "Installing collected packages: tf-estimator-nightly, tensorboard-plugin-wit, keras, tensorboard-data-server, keras-preprocessing, google-auth-oauthlib, tensorboard, tensorflow\n",
            "  Attempting uninstall: keras\n",
            "    Found existing installation: keras 2.12.0\n",
            "    Uninstalling keras-2.12.0:\n",
            "      Successfully uninstalled keras-2.12.0\n",
            "  Attempting uninstall: tensorboard-data-server\n",
            "    Found existing installation: tensorboard-data-server 0.7.1\n",
            "    Uninstalling tensorboard-data-server-0.7.1:\n",
            "      Successfully uninstalled tensorboard-data-server-0.7.1\n",
            "  Attempting uninstall: google-auth-oauthlib\n",
            "    Found existing installation: google-auth-oauthlib 1.0.0\n",
            "    Uninstalling google-auth-oauthlib-1.0.0:\n",
            "      Successfully uninstalled google-auth-oauthlib-1.0.0\n",
            "  Attempting uninstall: tensorboard\n",
            "    Found existing installation: tensorboard 2.12.3\n",
            "    Uninstalling tensorboard-2.12.3:\n",
            "      Successfully uninstalled tensorboard-2.12.3\n",
            "  Attempting uninstall: tensorflow\n",
            "    Found existing installation: tensorflow 2.12.0\n",
            "    Uninstalling tensorflow-2.12.0:\n",
            "      Successfully uninstalled tensorflow-2.12.0\n",
            "Successfully installed google-auth-oauthlib-0.4.6 keras-2.8.0 keras-preprocessing-1.1.2 tensorboard-2.8.0 tensorboard-data-server-0.6.1 tensorboard-plugin-wit-1.8.1 tensorflow-2.8.0 tf-estimator-nightly-2.8.0.dev2021122109\n"
          ]
        }
      ],
      "source": [
        "!pip install tensorflow==2.8"
      ]
    },
    {
      "cell_type": "code",
      "execution_count": 3,
      "metadata": {
        "colab": {
          "base_uri": "https://localhost:8080/",
          "height": 35
        },
        "id": "I0X9qkMXs_pp",
        "outputId": "3fa3627c-577d-42d9-9ba1-1006c5cb88cd"
      },
      "outputs": [
        {
          "output_type": "execute_result",
          "data": {
            "text/plain": [
              "'2.8.0'"
            ],
            "application/vnd.google.colaboratory.intrinsic+json": {
              "type": "string"
            }
          },
          "metadata": {},
          "execution_count": 3
        }
      ],
      "source": [
        "import matplotlib.pyplot as plt\n",
        "import seaborn as sns\n",
        "import zipfile\n",
        "import numpy as np\n",
        "import cv2\n",
        "from google.colab.patches import cv2_imshow\n",
        "import tensorflow as tf\n",
        "from tensorflow.keras.callbacks import ReduceLROnPlateau\n",
        "from tensorflow.keras import regularizers\n",
        "from tensorflow.keras.callbacks import ModelCheckpoint, EarlyStopping\n",
        "from tensorflow.keras.models import Sequential\n",
        "from tensorflow.keras.layers import Conv2D, MaxPool2D, Flatten, Dense, BatchNormalization, Dropout\n",
        "from tensorflow.keras.preprocessing.image import ImageDataGenerator\n",
        "tf.__version__"
      ]
    },
    {
      "cell_type": "code",
      "execution_count": 4,
      "metadata": {
        "colab": {
          "base_uri": "https://localhost:8080/"
        },
        "id": "yQMOvsd99H-V",
        "outputId": "c3f1ecba-5dbd-47b8-d69b-1b7b67a654cc"
      },
      "outputs": [
        {
          "output_type": "stream",
          "name": "stdout",
          "text": [
            "Mounted at /content/drive\n"
          ]
        }
      ],
      "source": [
        "from google.colab import drive\n",
        "drive.mount('/content/drive')"
      ]
    },
    {
      "cell_type": "code",
      "execution_count": 5,
      "metadata": {
        "id": "Y_BgiI3JxA9q"
      },
      "outputs": [],
      "source": [
        "path = '/content/drive/MyDrive/Praktyki/gotowe.zip'\n",
        "zip_object = zipfile.ZipFile(file=path, mode='r')\n",
        "zip_object.extractall('./')\n",
        "zip_object.close()"
      ]
    },
    {
      "cell_type": "code",
      "execution_count": 6,
      "metadata": {
        "id": "7-PhxwM60uM7"
      },
      "outputs": [],
      "source": [
        "training_generator = ImageDataGenerator(rescale=1./255,\n",
        "                                        horizontal_flip=True,\n",
        "                                        vertical_flip=True)\n"
      ]
    },
    {
      "cell_type": "code",
      "execution_count": 7,
      "metadata": {
        "colab": {
          "base_uri": "https://localhost:8080/"
        },
        "id": "jMErkkVv_mXw",
        "outputId": "737dc954-7e8e-4721-e787-cda0e91bee02"
      },
      "outputs": [
        {
          "output_type": "stream",
          "name": "stdout",
          "text": [
            "Found 11158 images belonging to 7 classes.\n"
          ]
        }
      ],
      "source": [
        "train_dataset = training_generator.flow_from_directory('/content/gotowe/train_set',\n",
        "                                                       target_size = (100, 100),\n",
        "                                                       batch_size = 10,\n",
        "                                                       color_mode='rgb',\n",
        "                                                       class_mode = 'categorical',\n",
        "                                                       shuffle = True)"
      ]
    },
    {
      "cell_type": "code",
      "execution_count": 8,
      "metadata": {
        "colab": {
          "base_uri": "https://localhost:8080/"
        },
        "id": "C4errPxfAukM",
        "outputId": "a58e4024-f73b-46cb-e71c-dcf26d74e5c9"
      },
      "outputs": [
        {
          "output_type": "execute_result",
          "data": {
            "text/plain": [
              "array([0, 0, 0, ..., 6, 6, 6], dtype=int32)"
            ]
          },
          "metadata": {},
          "execution_count": 8
        }
      ],
      "source": [
        "train_dataset.classes"
      ]
    },
    {
      "cell_type": "code",
      "execution_count": 9,
      "metadata": {
        "colab": {
          "base_uri": "https://localhost:8080/"
        },
        "id": "jYCiD3adA5xf",
        "outputId": "30d6f500-7af5-4fcd-8bf9-2c615c6f266b"
      },
      "outputs": [
        {
          "output_type": "execute_result",
          "data": {
            "text/plain": [
              "{'nematyk': 0,\n",
              " 'smektyk_C': 1,\n",
              " 'smektyk_F': 2,\n",
              " 'smektyk_GMosaic': 3,\n",
              " 'smektyk_GSchliren': 4,\n",
              " 'smektyk_H': 5,\n",
              " 'smektyk_I': 6}"
            ]
          },
          "metadata": {},
          "execution_count": 9
        }
      ],
      "source": [
        "train_dataset.class_indices"
      ]
    },
    {
      "cell_type": "code",
      "execution_count": 10,
      "metadata": {
        "id": "6VK7xyH-BkSq"
      },
      "outputs": [],
      "source": [
        "test_generator = ImageDataGenerator(rescale=1./255)\n",
        "val_generator = ImageDataGenerator(rescale=1./255)"
      ]
    },
    {
      "cell_type": "code",
      "execution_count": 11,
      "metadata": {
        "colab": {
          "base_uri": "https://localhost:8080/"
        },
        "id": "84kKwMy6U7oh",
        "outputId": "a4ec3a87-8dfd-401d-9a0e-5edabdca6762"
      },
      "outputs": [
        {
          "output_type": "stream",
          "name": "stdout",
          "text": [
            "Found 1395 images belonging to 7 classes.\n"
          ]
        }
      ],
      "source": [
        "validation_dataset = val_generator.flow_from_directory('/content/gotowe/val_set',\n",
        "                                                        target_size=(100, 100),\n",
        "                                                        batch_size=1,\n",
        "                                                        class_mode='categorical',\n",
        "                                                        color_mode='rgb',\n",
        "                                                        shuffle=True) # set as validation data"
      ]
    },
    {
      "cell_type": "code",
      "execution_count": 12,
      "metadata": {
        "id": "PB2pU5bzXPTa"
      },
      "outputs": [],
      "source": [
        "L2 = 0.00001"
      ]
    },
    {
      "cell_type": "code",
      "execution_count": 13,
      "metadata": {
        "colab": {
          "base_uri": "https://localhost:8080/"
        },
        "id": "SdqIBmxiBvU1",
        "outputId": "855d7767-7805-4c02-c060-2413b7d74f39"
      },
      "outputs": [
        {
          "output_type": "stream",
          "name": "stdout",
          "text": [
            "Found 1396 images belonging to 7 classes.\n"
          ]
        }
      ],
      "source": [
        "test_datatset = test_generator.flow_from_directory('/content/gotowe/test_set',\n",
        "                                                   target_size = (100, 100),\n",
        "                                                   batch_size = 1,\n",
        "                                                   color_mode='rgb',\n",
        "                                                   class_mode = 'categorical',\n",
        "                                                   shuffle = False)"
      ]
    },
    {
      "cell_type": "code",
      "execution_count": 14,
      "metadata": {
        "id": "xVLgf1bADs_C"
      },
      "outputs": [],
      "source": [
        "initializer1 = tf.keras.initializers.HeNormal()\n",
        "initializer2 = tf.keras.initializers.GlorotUniform()"
      ]
    },
    {
      "cell_type": "code",
      "execution_count": 76,
      "metadata": {
        "colab": {
          "base_uri": "https://localhost:8080/"
        },
        "id": "QTr7SiKfD6UI",
        "outputId": "151079c1-f2e7-4a8f-b0dc-15b78c577994"
      },
      "outputs": [
        {
          "output_type": "stream",
          "name": "stdout",
          "text": [
            "Model: \"sequential_6\"\n",
            "_________________________________________________________________\n",
            " Layer (type)                Output Shape              Param #   \n",
            "=================================================================\n",
            " conv2d_64 (Conv2D)          (None, 97, 97, 32)        1568      \n",
            "                                                                 \n",
            " batch_normalization_72 (Bat  (None, 97, 97, 32)       128       \n",
            " chNormalization)                                                \n",
            "                                                                 \n",
            " max_pooling2d_36 (MaxPoolin  (None, 48, 48, 32)       0         \n",
            " g2D)                                                            \n",
            "                                                                 \n",
            " conv2d_65 (Conv2D)          (None, 48, 48, 64)        32832     \n",
            "                                                                 \n",
            " batch_normalization_73 (Bat  (None, 48, 48, 64)       256       \n",
            " chNormalization)                                                \n",
            "                                                                 \n",
            " max_pooling2d_37 (MaxPoolin  (None, 24, 24, 64)       0         \n",
            " g2D)                                                            \n",
            "                                                                 \n",
            " conv2d_66 (Conv2D)          (None, 24, 24, 128)       73856     \n",
            "                                                                 \n",
            " conv2d_67 (Conv2D)          (None, 24, 24, 128)       147584    \n",
            "                                                                 \n",
            " batch_normalization_74 (Bat  (None, 24, 24, 128)      512       \n",
            " chNormalization)                                                \n",
            "                                                                 \n",
            " max_pooling2d_38 (MaxPoolin  (None, 12, 12, 128)      0         \n",
            " g2D)                                                            \n",
            "                                                                 \n",
            " conv2d_68 (Conv2D)          (None, 12, 12, 256)       295168    \n",
            "                                                                 \n",
            " conv2d_69 (Conv2D)          (None, 12, 12, 256)       590080    \n",
            "                                                                 \n",
            " batch_normalization_75 (Bat  (None, 12, 12, 256)      1024      \n",
            " chNormalization)                                                \n",
            "                                                                 \n",
            " max_pooling2d_39 (MaxPoolin  (None, 6, 6, 256)        0         \n",
            " g2D)                                                            \n",
            "                                                                 \n",
            " conv2d_70 (Conv2D)          (None, 6, 6, 512)         1180160   \n",
            "                                                                 \n",
            " conv2d_71 (Conv2D)          (None, 6, 6, 512)         2359808   \n",
            "                                                                 \n",
            " batch_normalization_76 (Bat  (None, 6, 6, 512)        2048      \n",
            " chNormalization)                                                \n",
            "                                                                 \n",
            " max_pooling2d_40 (MaxPoolin  (None, 3, 3, 512)        0         \n",
            " g2D)                                                            \n",
            "                                                                 \n",
            " conv2d_72 (Conv2D)          (None, 3, 3, 1024)        4719616   \n",
            "                                                                 \n",
            " batch_normalization_77 (Bat  (None, 3, 3, 1024)       4096      \n",
            " chNormalization)                                                \n",
            "                                                                 \n",
            " max_pooling2d_41 (MaxPoolin  (None, 1, 1, 1024)       0         \n",
            " g2D)                                                            \n",
            "                                                                 \n",
            " flatten_6 (Flatten)         (None, 1024)              0         \n",
            "                                                                 \n",
            " dense_42 (Dense)            (None, 1024)              1049600   \n",
            "                                                                 \n",
            " batch_normalization_78 (Bat  (None, 1024)             4096      \n",
            " chNormalization)                                                \n",
            "                                                                 \n",
            " dense_43 (Dense)            (None, 512)               524800    \n",
            "                                                                 \n",
            " batch_normalization_79 (Bat  (None, 512)              2048      \n",
            " chNormalization)                                                \n",
            "                                                                 \n",
            " dense_44 (Dense)            (None, 256)               131328    \n",
            "                                                                 \n",
            " batch_normalization_80 (Bat  (None, 256)              1024      \n",
            " chNormalization)                                                \n",
            "                                                                 \n",
            " dense_45 (Dense)            (None, 128)               32896     \n",
            "                                                                 \n",
            " batch_normalization_81 (Bat  (None, 128)              512       \n",
            " chNormalization)                                                \n",
            "                                                                 \n",
            " dense_46 (Dense)            (None, 64)                8256      \n",
            "                                                                 \n",
            " batch_normalization_82 (Bat  (None, 64)               256       \n",
            " chNormalization)                                                \n",
            "                                                                 \n",
            " dense_47 (Dense)            (None, 32)                2080      \n",
            "                                                                 \n",
            " batch_normalization_83 (Bat  (None, 32)               128       \n",
            " chNormalization)                                                \n",
            "                                                                 \n",
            " dense_48 (Dense)            (None, 7)                 231       \n",
            "                                                                 \n",
            "=================================================================\n",
            "Total params: 11,165,991\n",
            "Trainable params: 11,157,927\n",
            "Non-trainable params: 8,064\n",
            "_________________________________________________________________\n"
          ]
        }
      ],
      "source": [
        "network = Sequential()\n",
        "\n",
        "network.add(Conv2D(filters=32, kernel_size=(4,4), activation = 'relu', input_shape = (100,100,3), kernel_initializer=initializer1))\n",
        "network.add(BatchNormalization())\n",
        "network.add(MaxPool2D(pool_size=(2,2)))\n",
        "\n",
        "network.add(Conv2D(filters=64, kernel_size=(4,4), activation = 'relu', padding='same', kernel_initializer=initializer1))\n",
        "network.add(BatchNormalization())\n",
        "network.add(MaxPool2D(pool_size=(2,2)))\n",
        "\n",
        "network.add(Conv2D(filters=128, kernel_size=(3,3), activation = 'relu', padding='same', kernel_initializer=initializer1))\n",
        "network.add(Conv2D(filters=128, kernel_size=(3,3), activation = 'relu', padding='same', kernel_initializer=initializer1))\n",
        "network.add(BatchNormalization())\n",
        "network.add(MaxPool2D(pool_size=(2,2)))\n",
        "\n",
        "network.add(Conv2D(filters=256, kernel_size=(3,3), activation = 'relu', padding='same', kernel_initializer=initializer1))\n",
        "network.add(Conv2D(filters=256, kernel_size=(3,3), activation = 'relu', padding='same', kernel_initializer=initializer1))\n",
        "network.add(BatchNormalization())\n",
        "network.add(MaxPool2D(pool_size=(2,2)))\n",
        "\n",
        "network.add(Conv2D(filters=512, kernel_size=(3,3), activation = 'relu', padding='same', kernel_initializer=initializer1))\n",
        "network.add(Conv2D(filters=512, kernel_size=(3,3), activation = 'relu', padding='same', kernel_initializer=initializer1))\n",
        "network.add(BatchNormalization())\n",
        "network.add(MaxPool2D(pool_size=(2,2)))\n",
        "\n",
        "network.add(Conv2D(filters=1024, kernel_size=(3,3), activation = 'relu', padding='same', kernel_initializer=initializer1))\n",
        "network.add(BatchNormalization())\n",
        "network.add(MaxPool2D(pool_size=(2,2)))\n",
        "\n",
        "network.add(Flatten())\n",
        "\n",
        "#network.add(Dropout(0.2))\n",
        "\n",
        "network.add(Dense(units = 1024, activation = 'relu', kernel_initializer=initializer1))\n",
        "network.add(BatchNormalization())\n",
        "network.add(Dense(units = 512, activation = 'relu', kernel_initializer=initializer1))\n",
        "network.add(BatchNormalization())\n",
        "network.add(Dense(units = 256, activation = 'relu', kernel_initializer=initializer1))\n",
        "network.add(BatchNormalization())\n",
        "network.add(Dense(units = 128, activation = 'relu', kernel_initializer=initializer1))\n",
        "network.add(BatchNormalization())\n",
        "network.add(Dense(units = 64, activation = 'relu', kernel_initializer=initializer1))\n",
        "network.add(BatchNormalization())\n",
        "network.add(Dense(units = 32, activation = 'relu', kernel_initializer=initializer1, kernel_regularizer=tf.keras.regularizers.L1L2()))\n",
        "network.add(BatchNormalization())\n",
        "network.add(Dense(units = 7, activation = 'softmax', kernel_initializer=initializer2))\n",
        "network.summary()"
      ]
    },
    {
      "cell_type": "code",
      "execution_count": 77,
      "metadata": {
        "id": "6viOH_kUE4Bq"
      },
      "outputs": [],
      "source": [
        "from tensorflow.keras.optimizers import Adam\n",
        "#opt = Adam(lr=0.005)\n",
        "opt = Adam()\n",
        "network.compile(optimizer='Adam', loss='categorical_crossentropy', metrics = ['accuracy'])\n"
      ]
    },
    {
      "cell_type": "code",
      "execution_count": 78,
      "metadata": {
        "id": "5IXmjfYmbuYh"
      },
      "outputs": [],
      "source": [
        "es = EarlyStopping(monitor = 'val_accuracy', min_delta = 0.001, patience = 20, verbose =1)\n",
        "model_cp = ModelCheckpoint(filepath = 'best_model1.h5', monitor = 'val_accuracy', save_best_only = True, verbose = 1)\n",
        "learning_rate_reduction = ReduceLROnPlateau(monitor='val_accuracy', patience = 5, verbose=1, factor=0.5, min_lr=0.00001)"
      ]
    },
    {
      "cell_type": "code",
      "execution_count": 79,
      "metadata": {
        "colab": {
          "base_uri": "https://localhost:8080/"
        },
        "id": "Uk8BSV5gGazz",
        "outputId": "4ee62af7-6cdd-4dde-debd-f8b03744f5dc"
      },
      "outputs": [
        {
          "output_type": "stream",
          "name": "stdout",
          "text": [
            "Epoch 1/100\n"
          ]
        },
        {
          "output_type": "stream",
          "name": "stderr",
          "text": [
            "<ipython-input-79-d45876fe1552>:1: UserWarning: `Model.fit_generator` is deprecated and will be removed in a future version. Please use `Model.fit`, which supports generators.\n",
            "  history = network.fit_generator(train_dataset,\n"
          ]
        },
        {
          "output_type": "stream",
          "name": "stdout",
          "text": [
            "50/50 [==============================] - ETA: 0s - loss: 2.1352 - accuracy: 0.2160\n",
            "Epoch 1: val_accuracy improved from -inf to 0.22000, saving model to best_model1.h5\n",
            "50/50 [==============================] - 44s 827ms/step - loss: 2.1352 - accuracy: 0.2160 - val_loss: 49.4597 - val_accuracy: 0.2200 - lr: 0.0010\n",
            "Epoch 2/100\n",
            "50/50 [==============================] - ETA: 0s - loss: 1.7908 - accuracy: 0.2920\n",
            "Epoch 2: val_accuracy did not improve from 0.22000\n",
            "50/50 [==============================] - 43s 861ms/step - loss: 1.7908 - accuracy: 0.2920 - val_loss: 13.4133 - val_accuracy: 0.1800 - lr: 0.0010\n",
            "Epoch 3/100\n",
            "50/50 [==============================] - ETA: 0s - loss: 1.6143 - accuracy: 0.4020\n",
            "Epoch 3: val_accuracy improved from 0.22000 to 0.50000, saving model to best_model1.h5\n",
            "50/50 [==============================] - 42s 846ms/step - loss: 1.6143 - accuracy: 0.4020 - val_loss: 1.8038 - val_accuracy: 0.5000 - lr: 0.0010\n",
            "Epoch 4/100\n",
            "50/50 [==============================] - ETA: 0s - loss: 1.5120 - accuracy: 0.4180\n",
            "Epoch 4: val_accuracy did not improve from 0.50000\n",
            "50/50 [==============================] - 42s 838ms/step - loss: 1.5120 - accuracy: 0.4180 - val_loss: 1.7079 - val_accuracy: 0.4600 - lr: 0.0010\n",
            "Epoch 5/100\n",
            "50/50 [==============================] - ETA: 0s - loss: 1.4407 - accuracy: 0.4880\n",
            "Epoch 5: val_accuracy did not improve from 0.50000\n",
            "50/50 [==============================] - 41s 828ms/step - loss: 1.4407 - accuracy: 0.4880 - val_loss: 1.8409 - val_accuracy: 0.3200 - lr: 0.0010\n",
            "Epoch 6/100\n",
            "50/50 [==============================] - ETA: 0s - loss: 1.3866 - accuracy: 0.5020\n",
            "Epoch 6: val_accuracy improved from 0.50000 to 0.56000, saving model to best_model1.h5\n",
            "50/50 [==============================] - 41s 809ms/step - loss: 1.3866 - accuracy: 0.5020 - val_loss: 1.7980 - val_accuracy: 0.5600 - lr: 0.0010\n",
            "Epoch 7/100\n",
            "50/50 [==============================] - ETA: 0s - loss: 1.4405 - accuracy: 0.4720\n",
            "Epoch 7: val_accuracy did not improve from 0.56000\n",
            "50/50 [==============================] - 42s 833ms/step - loss: 1.4405 - accuracy: 0.4720 - val_loss: 2.1351 - val_accuracy: 0.2800 - lr: 0.0010\n",
            "Epoch 8/100\n",
            "50/50 [==============================] - ETA: 0s - loss: 1.4104 - accuracy: 0.4740\n",
            "Epoch 8: val_accuracy did not improve from 0.56000\n",
            "50/50 [==============================] - 42s 849ms/step - loss: 1.4104 - accuracy: 0.4740 - val_loss: 1.9981 - val_accuracy: 0.3800 - lr: 0.0010\n",
            "Epoch 9/100\n",
            "50/50 [==============================] - ETA: 0s - loss: 1.2881 - accuracy: 0.5261\n",
            "Epoch 9: val_accuracy did not improve from 0.56000\n",
            "50/50 [==============================] - 42s 841ms/step - loss: 1.2881 - accuracy: 0.5261 - val_loss: 1.6099 - val_accuracy: 0.4200 - lr: 0.0010\n",
            "Epoch 10/100\n",
            "50/50 [==============================] - ETA: 0s - loss: 1.3790 - accuracy: 0.5120\n",
            "Epoch 10: val_accuracy did not improve from 0.56000\n",
            "50/50 [==============================] - 42s 841ms/step - loss: 1.3790 - accuracy: 0.5120 - val_loss: 1.3876 - val_accuracy: 0.5200 - lr: 0.0010\n",
            "Epoch 11/100\n",
            "50/50 [==============================] - ETA: 0s - loss: 1.2970 - accuracy: 0.5080\n",
            "Epoch 11: val_accuracy improved from 0.56000 to 0.60000, saving model to best_model1.h5\n",
            "50/50 [==============================] - 41s 825ms/step - loss: 1.2970 - accuracy: 0.5080 - val_loss: 1.1830 - val_accuracy: 0.6000 - lr: 0.0010\n",
            "Epoch 12/100\n",
            "50/50 [==============================] - ETA: 0s - loss: 1.3471 - accuracy: 0.4860\n",
            "Epoch 12: val_accuracy did not improve from 0.60000\n",
            "50/50 [==============================] - 42s 829ms/step - loss: 1.3471 - accuracy: 0.4860 - val_loss: 1.4734 - val_accuracy: 0.5000 - lr: 0.0010\n",
            "Epoch 13/100\n",
            "50/50 [==============================] - ETA: 0s - loss: 1.3006 - accuracy: 0.5260\n",
            "Epoch 13: val_accuracy did not improve from 0.60000\n",
            "50/50 [==============================] - 43s 849ms/step - loss: 1.3006 - accuracy: 0.5260 - val_loss: 1.2446 - val_accuracy: 0.6000 - lr: 0.0010\n",
            "Epoch 14/100\n",
            "50/50 [==============================] - ETA: 0s - loss: 1.2506 - accuracy: 0.5480\n",
            "Epoch 14: val_accuracy improved from 0.60000 to 0.72000, saving model to best_model1.h5\n",
            "50/50 [==============================] - 43s 859ms/step - loss: 1.2506 - accuracy: 0.5480 - val_loss: 0.8418 - val_accuracy: 0.7200 - lr: 0.0010\n",
            "Epoch 15/100\n",
            "50/50 [==============================] - ETA: 0s - loss: 1.2903 - accuracy: 0.5460\n",
            "Epoch 15: val_accuracy did not improve from 0.72000\n",
            "50/50 [==============================] - 42s 849ms/step - loss: 1.2903 - accuracy: 0.5460 - val_loss: 0.8989 - val_accuracy: 0.7200 - lr: 0.0010\n",
            "Epoch 16/100\n",
            "50/50 [==============================] - ETA: 0s - loss: 1.3149 - accuracy: 0.5160\n",
            "Epoch 16: val_accuracy did not improve from 0.72000\n",
            "50/50 [==============================] - 42s 847ms/step - loss: 1.3149 - accuracy: 0.5160 - val_loss: 1.1738 - val_accuracy: 0.5200 - lr: 0.0010\n",
            "Epoch 17/100\n",
            "50/50 [==============================] - ETA: 0s - loss: 1.0959 - accuracy: 0.6100\n",
            "Epoch 17: val_accuracy did not improve from 0.72000\n",
            "50/50 [==============================] - 42s 840ms/step - loss: 1.0959 - accuracy: 0.6100 - val_loss: 1.0594 - val_accuracy: 0.6400 - lr: 0.0010\n",
            "Epoch 18/100\n",
            "50/50 [==============================] - ETA: 0s - loss: 1.1982 - accuracy: 0.5640\n",
            "Epoch 18: val_accuracy did not improve from 0.72000\n",
            "50/50 [==============================] - 41s 813ms/step - loss: 1.1982 - accuracy: 0.5640 - val_loss: 0.9728 - val_accuracy: 0.7000 - lr: 0.0010\n",
            "Epoch 19/100\n",
            "50/50 [==============================] - ETA: 0s - loss: 1.1673 - accuracy: 0.5800\n",
            "Epoch 19: val_accuracy improved from 0.72000 to 0.78000, saving model to best_model1.h5\n",
            "50/50 [==============================] - 43s 847ms/step - loss: 1.1673 - accuracy: 0.5800 - val_loss: 0.7017 - val_accuracy: 0.7800 - lr: 0.0010\n",
            "Epoch 20/100\n",
            "50/50 [==============================] - ETA: 0s - loss: 1.1920 - accuracy: 0.5723\n",
            "Epoch 20: val_accuracy did not improve from 0.78000\n",
            "50/50 [==============================] - 42s 848ms/step - loss: 1.1920 - accuracy: 0.5723 - val_loss: 0.8115 - val_accuracy: 0.7600 - lr: 0.0010\n",
            "Epoch 21/100\n",
            "50/50 [==============================] - ETA: 0s - loss: 1.1565 - accuracy: 0.6040\n",
            "Epoch 21: val_accuracy did not improve from 0.78000\n",
            "50/50 [==============================] - 42s 852ms/step - loss: 1.1565 - accuracy: 0.6040 - val_loss: 0.8761 - val_accuracy: 0.7000 - lr: 0.0010\n",
            "Epoch 22/100\n",
            "50/50 [==============================] - ETA: 0s - loss: 1.0920 - accuracy: 0.6040\n",
            "Epoch 22: val_accuracy did not improve from 0.78000\n",
            "50/50 [==============================] - 42s 850ms/step - loss: 1.0920 - accuracy: 0.6040 - val_loss: 0.8589 - val_accuracy: 0.6400 - lr: 0.0010\n",
            "Epoch 23/100\n",
            "50/50 [==============================] - ETA: 0s - loss: 1.0984 - accuracy: 0.6000\n",
            "Epoch 23: val_accuracy did not improve from 0.78000\n",
            "50/50 [==============================] - 41s 829ms/step - loss: 1.0984 - accuracy: 0.6000 - val_loss: 0.6977 - val_accuracy: 0.7000 - lr: 0.0010\n",
            "Epoch 24/100\n",
            "50/50 [==============================] - ETA: 0s - loss: 1.0441 - accuracy: 0.6360\n",
            "Epoch 24: val_accuracy improved from 0.78000 to 0.82000, saving model to best_model1.h5\n",
            "50/50 [==============================] - 42s 830ms/step - loss: 1.0441 - accuracy: 0.6360 - val_loss: 0.5994 - val_accuracy: 0.8200 - lr: 0.0010\n",
            "Epoch 25/100\n",
            "50/50 [==============================] - ETA: 0s - loss: 1.0505 - accuracy: 0.6400\n",
            "Epoch 25: val_accuracy did not improve from 0.82000\n",
            "50/50 [==============================] - 42s 840ms/step - loss: 1.0505 - accuracy: 0.6400 - val_loss: 0.6995 - val_accuracy: 0.8000 - lr: 0.0010\n",
            "Epoch 26/100\n",
            "50/50 [==============================] - ETA: 0s - loss: 0.9971 - accuracy: 0.6700\n",
            "Epoch 26: val_accuracy did not improve from 0.82000\n",
            "50/50 [==============================] - 42s 851ms/step - loss: 0.9971 - accuracy: 0.6700 - val_loss: 0.5750 - val_accuracy: 0.8200 - lr: 0.0010\n",
            "Epoch 27/100\n",
            "50/50 [==============================] - ETA: 0s - loss: 0.9891 - accuracy: 0.6460\n",
            "Epoch 27: val_accuracy did not improve from 0.82000\n",
            "50/50 [==============================] - 43s 856ms/step - loss: 0.9891 - accuracy: 0.6460 - val_loss: 0.8836 - val_accuracy: 0.7200 - lr: 0.0010\n",
            "Epoch 28/100\n",
            "50/50 [==============================] - ETA: 0s - loss: 1.0292 - accuracy: 0.6320\n",
            "Epoch 28: val_accuracy did not improve from 0.82000\n",
            "50/50 [==============================] - 42s 846ms/step - loss: 1.0292 - accuracy: 0.6320 - val_loss: 0.6925 - val_accuracy: 0.7600 - lr: 0.0010\n",
            "Epoch 29/100\n",
            "50/50 [==============================] - ETA: 0s - loss: 1.0853 - accuracy: 0.6280\n",
            "Epoch 29: val_accuracy did not improve from 0.82000\n",
            "\n",
            "Epoch 29: ReduceLROnPlateau reducing learning rate to 0.0005000000237487257.\n",
            "50/50 [==============================] - 41s 830ms/step - loss: 1.0853 - accuracy: 0.6280 - val_loss: 0.9446 - val_accuracy: 0.6200 - lr: 0.0010\n",
            "Epoch 30/100\n",
            "50/50 [==============================] - ETA: 0s - loss: 1.0903 - accuracy: 0.5860\n",
            "Epoch 30: val_accuracy did not improve from 0.82000\n",
            "50/50 [==============================] - 44s 881ms/step - loss: 1.0903 - accuracy: 0.5860 - val_loss: 0.8672 - val_accuracy: 0.7200 - lr: 5.0000e-04\n",
            "Epoch 31/100\n",
            "50/50 [==============================] - ETA: 0s - loss: 0.9499 - accuracy: 0.6640\n",
            "Epoch 31: val_accuracy did not improve from 0.82000\n",
            "50/50 [==============================] - 42s 846ms/step - loss: 0.9499 - accuracy: 0.6640 - val_loss: 0.7106 - val_accuracy: 0.7800 - lr: 5.0000e-04\n",
            "Epoch 32/100\n",
            "50/50 [==============================] - ETA: 0s - loss: 0.9841 - accuracy: 0.6400\n",
            "Epoch 32: val_accuracy did not improve from 0.82000\n",
            "50/50 [==============================] - 42s 847ms/step - loss: 0.9841 - accuracy: 0.6400 - val_loss: 0.7567 - val_accuracy: 0.7200 - lr: 5.0000e-04\n",
            "Epoch 33/100\n",
            "50/50 [==============================] - ETA: 0s - loss: 0.9417 - accuracy: 0.6820\n",
            "Epoch 33: val_accuracy did not improve from 0.82000\n",
            "50/50 [==============================] - 42s 848ms/step - loss: 0.9417 - accuracy: 0.6820 - val_loss: 0.8388 - val_accuracy: 0.7000 - lr: 5.0000e-04\n",
            "Epoch 34/100\n",
            "50/50 [==============================] - ETA: 0s - loss: 0.9660 - accuracy: 0.6560\n",
            "Epoch 34: val_accuracy did not improve from 0.82000\n",
            "\n",
            "Epoch 34: ReduceLROnPlateau reducing learning rate to 0.0002500000118743628.\n",
            "50/50 [==============================] - 42s 846ms/step - loss: 0.9660 - accuracy: 0.6560 - val_loss: 0.7983 - val_accuracy: 0.7200 - lr: 5.0000e-04\n",
            "Epoch 35/100\n",
            "50/50 [==============================] - ETA: 0s - loss: 0.9316 - accuracy: 0.6680\n",
            "Epoch 35: val_accuracy did not improve from 0.82000\n",
            "50/50 [==============================] - 41s 815ms/step - loss: 0.9316 - accuracy: 0.6680 - val_loss: 0.6274 - val_accuracy: 0.7800 - lr: 2.5000e-04\n",
            "Epoch 36/100\n",
            "50/50 [==============================] - ETA: 0s - loss: 0.8603 - accuracy: 0.7140\n",
            "Epoch 36: val_accuracy did not improve from 0.82000\n",
            "50/50 [==============================] - 42s 836ms/step - loss: 0.8603 - accuracy: 0.7140 - val_loss: 0.5766 - val_accuracy: 0.8200 - lr: 2.5000e-04\n",
            "Epoch 37/100\n",
            "50/50 [==============================] - ETA: 0s - loss: 0.9037 - accuracy: 0.6640\n",
            "Epoch 37: val_accuracy did not improve from 0.82000\n",
            "50/50 [==============================] - 42s 847ms/step - loss: 0.9037 - accuracy: 0.6640 - val_loss: 0.6094 - val_accuracy: 0.7800 - lr: 2.5000e-04\n",
            "Epoch 38/100\n",
            "50/50 [==============================] - ETA: 0s - loss: 0.9628 - accuracy: 0.6640\n",
            "Epoch 38: val_accuracy improved from 0.82000 to 0.84000, saving model to best_model1.h5\n",
            "50/50 [==============================] - 43s 858ms/step - loss: 0.9628 - accuracy: 0.6640 - val_loss: 0.5708 - val_accuracy: 0.8400 - lr: 2.5000e-04\n",
            "Epoch 39/100\n",
            "50/50 [==============================] - ETA: 0s - loss: 0.8924 - accuracy: 0.6606\n",
            "Epoch 39: val_accuracy did not improve from 0.84000\n",
            "50/50 [==============================] - 42s 844ms/step - loss: 0.8924 - accuracy: 0.6606 - val_loss: 0.7479 - val_accuracy: 0.7400 - lr: 2.5000e-04\n",
            "Epoch 40/100\n",
            "50/50 [==============================] - ETA: 0s - loss: 0.9028 - accuracy: 0.6820\n",
            "Epoch 40: val_accuracy did not improve from 0.84000\n",
            "50/50 [==============================] - 42s 837ms/step - loss: 0.9028 - accuracy: 0.6820 - val_loss: 0.5675 - val_accuracy: 0.8400 - lr: 2.5000e-04\n",
            "Epoch 41/100\n",
            "50/50 [==============================] - ETA: 0s - loss: 0.9174 - accuracy: 0.6640\n",
            "Epoch 41: val_accuracy did not improve from 0.84000\n",
            "50/50 [==============================] - 41s 821ms/step - loss: 0.9174 - accuracy: 0.6640 - val_loss: 0.7150 - val_accuracy: 0.7400 - lr: 2.5000e-04\n",
            "Epoch 42/100\n",
            "50/50 [==============================] - ETA: 0s - loss: 0.7767 - accuracy: 0.7520\n",
            "Epoch 42: val_accuracy did not improve from 0.84000\n",
            "50/50 [==============================] - 43s 847ms/step - loss: 0.7767 - accuracy: 0.7520 - val_loss: 0.7225 - val_accuracy: 0.7000 - lr: 2.5000e-04\n",
            "Epoch 43/100\n",
            "50/50 [==============================] - ETA: 0s - loss: 0.8957 - accuracy: 0.6620\n",
            "Epoch 43: val_accuracy did not improve from 0.84000\n",
            "\n",
            "Epoch 43: ReduceLROnPlateau reducing learning rate to 0.0001250000059371814.\n",
            "50/50 [==============================] - 42s 852ms/step - loss: 0.8957 - accuracy: 0.6620 - val_loss: 0.6106 - val_accuracy: 0.7800 - lr: 2.5000e-04\n",
            "Epoch 44/100\n",
            "50/50 [==============================] - ETA: 0s - loss: 0.9059 - accuracy: 0.6920\n",
            "Epoch 44: val_accuracy improved from 0.84000 to 0.94000, saving model to best_model1.h5\n",
            "50/50 [==============================] - 42s 851ms/step - loss: 0.9059 - accuracy: 0.6920 - val_loss: 0.4189 - val_accuracy: 0.9400 - lr: 1.2500e-04\n",
            "Epoch 45/100\n",
            "50/50 [==============================] - ETA: 0s - loss: 0.8800 - accuracy: 0.7120\n",
            "Epoch 45: val_accuracy did not improve from 0.94000\n",
            "50/50 [==============================] - 42s 848ms/step - loss: 0.8800 - accuracy: 0.7120 - val_loss: 0.4592 - val_accuracy: 0.8000 - lr: 1.2500e-04\n",
            "Epoch 46/100\n",
            "50/50 [==============================] - ETA: 0s - loss: 0.8101 - accuracy: 0.7280\n",
            "Epoch 46: val_accuracy did not improve from 0.94000\n",
            "50/50 [==============================] - 41s 818ms/step - loss: 0.8101 - accuracy: 0.7280 - val_loss: 0.5818 - val_accuracy: 0.7600 - lr: 1.2500e-04\n",
            "Epoch 47/100\n",
            "50/50 [==============================] - ETA: 0s - loss: 0.8153 - accuracy: 0.6920\n",
            "Epoch 47: val_accuracy did not improve from 0.94000\n",
            "50/50 [==============================] - 42s 828ms/step - loss: 0.8153 - accuracy: 0.6920 - val_loss: 0.5212 - val_accuracy: 0.8400 - lr: 1.2500e-04\n",
            "Epoch 48/100\n",
            "50/50 [==============================] - ETA: 0s - loss: 0.8293 - accuracy: 0.7160\n",
            "Epoch 48: val_accuracy did not improve from 0.94000\n",
            "50/50 [==============================] - 43s 857ms/step - loss: 0.8293 - accuracy: 0.7160 - val_loss: 0.5691 - val_accuracy: 0.8000 - lr: 1.2500e-04\n",
            "Epoch 49/100\n",
            "50/50 [==============================] - ETA: 0s - loss: 0.8449 - accuracy: 0.7100\n",
            "Epoch 49: val_accuracy did not improve from 0.94000\n",
            "\n",
            "Epoch 49: ReduceLROnPlateau reducing learning rate to 6.25000029685907e-05.\n",
            "50/50 [==============================] - 42s 850ms/step - loss: 0.8449 - accuracy: 0.7100 - val_loss: 0.7293 - val_accuracy: 0.7400 - lr: 1.2500e-04\n",
            "Epoch 50/100\n",
            "50/50 [==============================] - ETA: 0s - loss: 0.7689 - accuracy: 0.7220\n",
            "Epoch 50: val_accuracy did not improve from 0.94000\n",
            "50/50 [==============================] - 43s 853ms/step - loss: 0.7689 - accuracy: 0.7220 - val_loss: 0.5886 - val_accuracy: 0.8200 - lr: 6.2500e-05\n",
            "Epoch 51/100\n",
            "50/50 [==============================] - ETA: 0s - loss: 0.8985 - accuracy: 0.6820\n",
            "Epoch 51: val_accuracy did not improve from 0.94000\n",
            "50/50 [==============================] - 41s 830ms/step - loss: 0.8985 - accuracy: 0.6820 - val_loss: 0.6037 - val_accuracy: 0.8400 - lr: 6.2500e-05\n",
            "Epoch 52/100\n",
            "50/50 [==============================] - ETA: 0s - loss: 0.8309 - accuracy: 0.7060\n",
            "Epoch 52: val_accuracy did not improve from 0.94000\n",
            "50/50 [==============================] - 41s 818ms/step - loss: 0.8309 - accuracy: 0.7060 - val_loss: 0.5226 - val_accuracy: 0.8600 - lr: 6.2500e-05\n",
            "Epoch 53/100\n",
            "50/50 [==============================] - ETA: 0s - loss: 0.8361 - accuracy: 0.7280\n",
            "Epoch 53: val_accuracy did not improve from 0.94000\n",
            "50/50 [==============================] - 42s 828ms/step - loss: 0.8361 - accuracy: 0.7280 - val_loss: 0.4949 - val_accuracy: 0.8200 - lr: 6.2500e-05\n",
            "Epoch 54/100\n",
            "50/50 [==============================] - ETA: 0s - loss: 0.7739 - accuracy: 0.7400\n",
            "Epoch 54: val_accuracy did not improve from 0.94000\n",
            "\n",
            "Epoch 54: ReduceLROnPlateau reducing learning rate to 3.125000148429535e-05.\n",
            "50/50 [==============================] - 42s 845ms/step - loss: 0.7739 - accuracy: 0.7400 - val_loss: 0.5812 - val_accuracy: 0.8400 - lr: 6.2500e-05\n",
            "Epoch 55/100\n",
            "50/50 [==============================] - ETA: 0s - loss: 0.7951 - accuracy: 0.7200\n",
            "Epoch 55: val_accuracy did not improve from 0.94000\n",
            "50/50 [==============================] - 42s 849ms/step - loss: 0.7951 - accuracy: 0.7200 - val_loss: 0.6883 - val_accuracy: 0.7600 - lr: 3.1250e-05\n",
            "Epoch 56/100\n",
            "50/50 [==============================] - ETA: 0s - loss: 0.7734 - accuracy: 0.7420\n",
            "Epoch 56: val_accuracy did not improve from 0.94000\n",
            "50/50 [==============================] - 42s 852ms/step - loss: 0.7734 - accuracy: 0.7420 - val_loss: 0.6186 - val_accuracy: 0.7800 - lr: 3.1250e-05\n",
            "Epoch 57/100\n",
            "50/50 [==============================] - ETA: 0s - loss: 0.7305 - accuracy: 0.7420\n",
            "Epoch 57: val_accuracy did not improve from 0.94000\n",
            "50/50 [==============================] - 42s 837ms/step - loss: 0.7305 - accuracy: 0.7420 - val_loss: 0.7068 - val_accuracy: 0.7400 - lr: 3.1250e-05\n",
            "Epoch 58/100\n",
            "50/50 [==============================] - ETA: 0s - loss: 0.7364 - accuracy: 0.7440\n",
            "Epoch 58: val_accuracy did not improve from 0.94000\n",
            "50/50 [==============================] - 41s 816ms/step - loss: 0.7364 - accuracy: 0.7440 - val_loss: 0.4827 - val_accuracy: 0.8600 - lr: 3.1250e-05\n",
            "Epoch 59/100\n",
            "50/50 [==============================] - ETA: 0s - loss: 0.7910 - accuracy: 0.7120\n",
            "Epoch 59: val_accuracy did not improve from 0.94000\n",
            "\n",
            "Epoch 59: ReduceLROnPlateau reducing learning rate to 1.5625000742147677e-05.\n",
            "50/50 [==============================] - 42s 842ms/step - loss: 0.7910 - accuracy: 0.7120 - val_loss: 0.6903 - val_accuracy: 0.7200 - lr: 3.1250e-05\n",
            "Epoch 60/100\n",
            "50/50 [==============================] - ETA: 0s - loss: 0.7727 - accuracy: 0.7500\n",
            "Epoch 60: val_accuracy did not improve from 0.94000\n",
            "50/50 [==============================] - 42s 843ms/step - loss: 0.7727 - accuracy: 0.7500 - val_loss: 0.5104 - val_accuracy: 0.8000 - lr: 1.5625e-05\n",
            "Epoch 61/100\n",
            "50/50 [==============================] - ETA: 0s - loss: 0.7610 - accuracy: 0.7300\n",
            "Epoch 61: val_accuracy did not improve from 0.94000\n",
            "50/50 [==============================] - 42s 847ms/step - loss: 0.7610 - accuracy: 0.7300 - val_loss: 0.4673 - val_accuracy: 0.8600 - lr: 1.5625e-05\n",
            "Epoch 62/100\n",
            "50/50 [==============================] - ETA: 0s - loss: 0.7871 - accuracy: 0.7340\n",
            "Epoch 62: val_accuracy did not improve from 0.94000\n",
            "50/50 [==============================] - 42s 845ms/step - loss: 0.7871 - accuracy: 0.7340 - val_loss: 0.5168 - val_accuracy: 0.8800 - lr: 1.5625e-05\n",
            "Epoch 63/100\n",
            "50/50 [==============================] - ETA: 0s - loss: 0.8495 - accuracy: 0.7000\n",
            "Epoch 63: val_accuracy did not improve from 0.94000\n",
            "50/50 [==============================] - 41s 820ms/step - loss: 0.8495 - accuracy: 0.7000 - val_loss: 0.6677 - val_accuracy: 0.7400 - lr: 1.5625e-05\n",
            "Epoch 64/100\n",
            "50/50 [==============================] - ETA: 0s - loss: 0.7306 - accuracy: 0.7460\n",
            "Epoch 64: val_accuracy did not improve from 0.94000\n",
            "\n",
            "Epoch 64: ReduceLROnPlateau reducing learning rate to 1e-05.\n",
            "50/50 [==============================] - 41s 816ms/step - loss: 0.7306 - accuracy: 0.7460 - val_loss: 0.5771 - val_accuracy: 0.7800 - lr: 1.5625e-05\n",
            "Epoch 64: early stopping\n"
          ]
        }
      ],
      "source": [
        "history = network.fit_generator(train_dataset,\n",
        "                                steps_per_epoch = 50,\n",
        "                                validation_data = validation_dataset,\n",
        "                                validation_steps = 50,\n",
        "                                epochs=100,\n",
        "                                callbacks=[es, model_cp, learning_rate_reduction])"
      ]
    },
    {
      "cell_type": "markdown",
      "metadata": {
        "id": "0yfuhbovltQA"
      },
      "source": []
    },
    {
      "cell_type": "code",
      "execution_count": 80,
      "metadata": {
        "id": "4xXIb__YN8jO"
      },
      "outputs": [],
      "source": [
        "predictions=network.predict(test_datatset)\n",
        "predictions = np.argmax(predictions, axis=1)"
      ]
    },
    {
      "cell_type": "code",
      "execution_count": 82,
      "metadata": {
        "colab": {
          "base_uri": "https://localhost:8080/"
        },
        "id": "MfitKd4WOO0c",
        "outputId": "bef324fd-d55b-44af-d9d6-ccf5709ae4ec"
      },
      "outputs": [
        {
          "output_type": "execute_result",
          "data": {
            "text/plain": [
              "0.8259312320916905"
            ]
          },
          "metadata": {},
          "execution_count": 82
        }
      ],
      "source": [
        "from sklearn.metrics import accuracy_score\n",
        "accuracy_score(test_datatset.classes, predictions)"
      ]
    },
    {
      "cell_type": "code",
      "execution_count": 83,
      "metadata": {
        "colab": {
          "base_uri": "https://localhost:8080/",
          "height": 435
        },
        "id": "CwufQs6AOjVu",
        "outputId": "162233b0-91e8-4e73-8295-327f925a275e"
      },
      "outputs": [
        {
          "output_type": "display_data",
          "data": {
            "text/plain": [
              "<Figure size 640x480 with 2 Axes>"
            ],
            "image/png": "[encoded data removed]"
          },
          "metadata": {}
        }
      ],
      "source": [
        "from sklearn.metrics import confusion_matrix\n",
        "cm = confusion_matrix(test_datatset.classes, predictions)\n",
        "sns.heatmap(cm, annot=True);"
      ]
    },
    {
      "cell_type": "code",
      "execution_count": 84,
      "metadata": {
        "colab": {
          "base_uri": "https://localhost:8080/"
        },
        "id": "lfg484OCPGqq",
        "outputId": "e6eeee62-1faf-44d5-a0ca-3d945a210c2c"
      },
      "outputs": [
        {
          "output_type": "stream",
          "name": "stdout",
          "text": [
            "              precision    recall  f1-score   support\n",
            "\n",
            "           0       0.91      0.98      0.94       198\n",
            "           1       0.97      1.00      0.99       200\n",
            "           2       0.67      0.76      0.71       200\n",
            "           3       0.72      0.50      0.59       199\n",
            "           4       0.82      0.95      0.88       200\n",
            "           5       0.81      0.70      0.75       199\n",
            "           6       0.85      0.89      0.87       200\n",
            "\n",
            "    accuracy                           0.83      1396\n",
            "   macro avg       0.82      0.83      0.82      1396\n",
            "weighted avg       0.82      0.83      0.82      1396\n",
            "\n"
          ]
        }
      ],
      "source": [
        "from sklearn.metrics import classification_report\n",
        "print(classification_report(test_datatset.classes, predictions))"
      ]
    },
    {
      "cell_type": "code",
      "execution_count": 85,
      "metadata": {
        "colab": {
          "base_uri": "https://localhost:8080/",
          "height": 472
        },
        "id": "AwBdQqe9Porm",
        "outputId": "9945712c-051f-4f3e-994e-ae8ed170c134"
      },
      "outputs": [
        {
          "output_type": "display_data",
          "data": {
            "text/plain": [
              "<Figure size 640x480 with 1 Axes>"
            ],
            "image/png": "[encoded data removed]"
          },
          "metadata": {}
        }
      ],
      "source": [
        "plt.plot(history.history['accuracy'])\n",
        "plt.plot(history.history['val_accuracy'])\n",
        "plt.title('model accuracy')\n",
        "plt.ylabel('accuracy')\n",
        "plt.xlabel('epoch')\n",
        "plt.legend(['train', 'val'], loc='upper left')\n",
        "plt.show()"
      ]
    },
    {
      "cell_type": "code",
      "execution_count": 86,
      "metadata": {
        "colab": {
          "base_uri": "https://localhost:8080/",
          "height": 472
        },
        "id": "vVr7AUw8SNre",
        "outputId": "c915352f-a8e3-4d63-f2d1-1279db4e853b"
      },
      "outputs": [
        {
          "output_type": "display_data",
          "data": {
            "text/plain": [
              "<Figure size 640x480 with 1 Axes>"
            ],
            "image/png": "[encoded data removed]"
          },
          "metadata": {}
        }
      ],
      "source": [
        "plt.plot(history.history['loss'])\n",
        "plt.plot(history.history['val_loss'])\n",
        "plt.title('model loss')\n",
        "plt.ylabel('loss')\n",
        "plt.xlabel('epoch')\n",
        "plt.legend(['train', 'val'], loc='upper left')\n",
        "plt.show()"
      ]
    },
    {
      "cell_type": "code",
      "execution_count": 87,
      "metadata": {
        "id": "pnmlR6M8gih2"
      },
      "outputs": [],
      "source": [
        "from tensorflow.keras.models import load_model\n",
        "model = load_model('/content/best_model1.h5')"
      ]
    },
    {
      "cell_type": "code",
      "execution_count": 88,
      "metadata": {
        "colab": {
          "base_uri": "https://localhost:8080/"
        },
        "id": "P5SUDIaUg8-G",
        "outputId": "10ab1ef0-0da3-4510-f2e1-5ad6a8d28d5a"
      },
      "outputs": [
        {
          "output_type": "stream",
          "name": "stdout",
          "text": [
            "1396/1396 [==============================] - 35s 25ms/step - loss: 0.6071 - accuracy: 0.7958\n"
          ]
        },
        {
          "output_type": "execute_result",
          "data": {
            "text/plain": [
              "[0.607130229473114, 0.7958452701568604]"
            ]
          },
          "metadata": {},
          "execution_count": 88
        }
      ],
      "source": [
        "model.evaluate(test_datatset)"
      ]
    },
    {
      "cell_type": "code",
      "execution_count": 89,
      "metadata": {
        "colab": {
          "base_uri": "https://localhost:8080/",
          "height": 430
        },
        "id": "Zqq4ec2JhKgt",
        "outputId": "1d6b7443-5290-41c4-f4bd-c122c181baad"
      },
      "outputs": [
        {
          "output_type": "display_data",
          "data": {
            "text/plain": [
              "<Figure size 640x480 with 2 Axes>"
            ],
            "image/png": "[encoded data removed]"
          },
          "metadata": {}
        }
      ],
      "source": [
        "pred = model.predict(test_datatset)\n",
        "pred = np.argmax(pred, axis=1)\n",
        "cm = confusion_matrix(test_datatset.classes, pred)\n",
        "sns.heatmap(cm, annot=True);"
      ]
    },
    {
      "cell_type": "code",
      "execution_count": 90,
      "metadata": {
        "colab": {
          "base_uri": "https://localhost:8080/"
        },
        "id": "e2TSljdej81S",
        "outputId": "5c0b56b6-5f9c-4875-89b8-1e204ccbc351"
      },
      "outputs": [
        {
          "output_type": "stream",
          "name": "stdout",
          "text": [
            "              precision    recall  f1-score   support\n",
            "\n",
            "           0       0.89      0.97      0.93       198\n",
            "           1       0.99      0.99      0.99       200\n",
            "           2       0.61      0.70      0.65       200\n",
            "           3       0.66      0.51      0.58       199\n",
            "           4       0.82      0.92      0.87       200\n",
            "           5       0.80      0.66      0.72       199\n",
            "           6       0.79      0.82      0.80       200\n",
            "\n",
            "    accuracy                           0.80      1396\n",
            "   macro avg       0.79      0.80      0.79      1396\n",
            "weighted avg       0.79      0.80      0.79      1396\n",
            "\n"
          ]
        }
      ],
      "source": [
        "print(classification_report(test_datatset.classes, pred))"
      ]
    },
    {
      "cell_type": "code",
      "execution_count": 91,
      "metadata": {
        "id": "jzbwiv0ikEVG"
      },
      "outputs": [],
      "source": [
        "network.save('network.h5')"
      ]
    },
    {
      "cell_type": "code",
      "execution_count": 92,
      "metadata": {
        "id": "mTxEZdsQtlC4"
      },
      "outputs": [],
      "source": [
        "net = load_model('/content/network.h5')"
      ]
    },
    {
      "cell_type": "code",
      "execution_count": 93,
      "metadata": {
        "colab": {
          "base_uri": "https://localhost:8080/"
        },
        "id": "JgEg6VxztpAx",
        "outputId": "1a82e76c-1690-4615-dc26-4e791f0b8935"
      },
      "outputs": [
        {
          "output_type": "stream",
          "name": "stdout",
          "text": [
            "1396/1396 [==============================] - 34s 24ms/step - loss: 0.5322 - accuracy: 0.8259\n"
          ]
        },
        {
          "output_type": "execute_result",
          "data": {
            "text/plain": [
              "[0.5322293639183044, 0.8259312510490417]"
            ]
          },
          "metadata": {},
          "execution_count": 93
        }
      ],
      "source": [
        "net.evaluate(test_datatset)"
      ]
    },
    {
      "cell_type": "code",
      "execution_count": 94,
      "metadata": {
        "colab": {
          "base_uri": "https://localhost:8080/",
          "height": 435
        },
        "id": "6wbroQ7EvUvp",
        "outputId": "4bb63643-db3e-4c01-c203-538f1579b974"
      },
      "outputs": [
        {
          "output_type": "display_data",
          "data": {
            "text/plain": [
              "<Figure size 640x480 with 2 Axes>"
            ],
            "image/png": "[encoded data removed]"
          },
          "metadata": {}
        }
      ],
      "source": [
        "pre = net.predict(test_datatset)\n",
        "pre = np.argmax(pre, axis=1)\n",
        "cm = confusion_matrix(test_datatset.classes, pre)\n",
        "sns.heatmap(cm, annot=True);"
      ]
    },
    {
      "cell_type": "code",
      "execution_count": 95,
      "metadata": {
        "colab": {
          "base_uri": "https://localhost:8080/"
        },
        "id": "0c6L1deT_TAY",
        "outputId": "fd47e047-09cc-4420-b84e-f2a48d55ef51"
      },
      "outputs": [
        {
          "output_type": "stream",
          "name": "stdout",
          "text": [
            "              precision    recall  f1-score   support\n",
            "\n",
            "           0       0.89      0.97      0.93       198\n",
            "           1       0.99      0.99      0.99       200\n",
            "           2       0.61      0.70      0.65       200\n",
            "           3       0.66      0.51      0.58       199\n",
            "           4       0.82      0.92      0.87       200\n",
            "           5       0.80      0.66      0.72       199\n",
            "           6       0.79      0.82      0.80       200\n",
            "\n",
            "    accuracy                           0.80      1396\n",
            "   macro avg       0.79      0.80      0.79      1396\n",
            "weighted avg       0.79      0.80      0.79      1396\n",
            "\n"
          ]
        }
      ],
      "source": [
        "print(classification_report(test_datatset.classes, pred))"
      ]
    },
    {
      "cell_type": "markdown",
      "source": [],
      "metadata": {
        "id": "I501GKF6LLsg"
      }
    }
  ],
  "metadata": {
    "colab": {
      "provenance": [],
      "include_colab_link": true
    },
    "kernelspec": {
      "display_name": "Python 3",
      "name": "python3"
    },
    "language_info": {
      "name": "python"
    }
  },
  "nbformat": 4,
  "nbformat_minor": 0
}