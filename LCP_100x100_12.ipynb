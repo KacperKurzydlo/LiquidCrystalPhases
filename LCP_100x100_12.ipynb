{
  "cells": [
    {
      "cell_type": "markdown",
      "metadata": {
        "id": "view-in-github",
        "colab_type": "text"
      },
      "source": [
        "<a href=\"https://colab.research.google.com/github/KacperKurzydlo/LiquidCrystalPhases/blob/main/LCP_100x100_12.ipynb\" target=\"_parent\"><img src=\"https://colab.research.google.com/assets/colab-badge.svg\" alt=\"Open In Colab\"/></a>"
      ]
    },
    {
      "cell_type": "code",
      "execution_count": 1,
      "metadata": {
        "colab": {
          "base_uri": "https://localhost:8080/"
        },
        "id": "647sNsjCJ0hX",
        "outputId": "753bcbc8-d7d9-4c19-c1a2-4caf43c2b811"
      },
      "outputs": [
        {
          "output_type": "stream",
          "name": "stdout",
          "text": [
            "Requirement already satisfied: h5py in /usr/local/lib/python3.10/dist-packages (3.8.0)\n",
            "Requirement already satisfied: numpy>=1.14.5 in /usr/local/lib/python3.10/dist-packages (from h5py) (1.22.4)\n",
            "Requirement already satisfied: typing-extensions in /usr/local/lib/python3.10/dist-packages (4.7.1)\n",
            "Requirement already satisfied: wheel in /usr/local/lib/python3.10/dist-packages (0.41.0)\n"
          ]
        }
      ],
      "source": [
        "!pip install h5py\n",
        "!pip install typing-extensions\n",
        "!pip install wheel"
      ]
    },
    {
      "cell_type": "code",
      "execution_count": 2,
      "metadata": {
        "colab": {
          "base_uri": "https://localhost:8080/"
        },
        "id": "kq6qJdUqIWCQ",
        "outputId": "508014d1-513f-47bd-b226-2146b577056a"
      },
      "outputs": [
        {
          "output_type": "stream",
          "name": "stdout",
          "text": [
            "Collecting tensorflow==2.8\n",
            "  Downloading tensorflow-2.8.0-cp310-cp310-manylinux2010_x86_64.whl (497.6 MB)\n",
            "\u001b[2K     \u001b[90m━━━━━━━━━━━━━━━━━━━━━━━━━━━━━━━━━━━━━━━\u001b[0m \u001b[32m497.6/497.6 MB\u001b[0m \u001b[31m2.6 MB/s\u001b[0m eta \u001b[36m0:00:00\u001b[0m\n",
            "\u001b[?25hRequirement already satisfied: absl-py>=0.4.0 in /usr/local/lib/python3.10/dist-packages (from tensorflow==2.8) (1.4.0)\n",
            "Requirement already satisfied: astunparse>=1.6.0 in /usr/local/lib/python3.10/dist-packages (from tensorflow==2.8) (1.6.3)\n",
            "Requirement already satisfied: flatbuffers>=1.12 in /usr/local/lib/python3.10/dist-packages (from tensorflow==2.8) (23.5.26)\n",
            "Requirement already satisfied: gast>=0.2.1 in /usr/local/lib/python3.10/dist-packages (from tensorflow==2.8) (0.4.0)\n",
            "Requirement already satisfied: google-pasta>=0.1.1 in /usr/local/lib/python3.10/dist-packages (from tensorflow==2.8) (0.2.0)\n",
            "Requirement already satisfied: h5py>=2.9.0 in /usr/local/lib/python3.10/dist-packages (from tensorflow==2.8) (3.8.0)\n",
            "Collecting keras-preprocessing>=1.1.1 (from tensorflow==2.8)\n",
            "  Downloading Keras_Preprocessing-1.1.2-py2.py3-none-any.whl (42 kB)\n",
            "\u001b[2K     \u001b[90m━━━━━━━━━━━━━━━━━━━━━━━━━━━━━━━━━━━━━━━━\u001b[0m \u001b[32m42.6/42.6 kB\u001b[0m \u001b[31m4.1 MB/s\u001b[0m eta \u001b[36m0:00:00\u001b[0m\n",
            "\u001b[?25hRequirement already satisfied: libclang>=9.0.1 in /usr/local/lib/python3.10/dist-packages (from tensorflow==2.8) (16.0.6)\n",
            "Requirement already satisfied: numpy>=1.20 in /usr/local/lib/python3.10/dist-packages (from tensorflow==2.8) (1.22.4)\n",
            "Requirement already satisfied: opt-einsum>=2.3.2 in /usr/local/lib/python3.10/dist-packages (from tensorflow==2.8) (3.3.0)\n",
            "Requirement already satisfied: protobuf>=3.9.2 in /usr/local/lib/python3.10/dist-packages (from tensorflow==2.8) (3.20.3)\n",
            "Requirement already satisfied: setuptools in /usr/local/lib/python3.10/dist-packages (from tensorflow==2.8) (67.7.2)\n",
            "Requirement already satisfied: six>=1.12.0 in /usr/local/lib/python3.10/dist-packages (from tensorflow==2.8) (1.16.0)\n",
            "Requirement already satisfied: termcolor>=1.1.0 in /usr/local/lib/python3.10/dist-packages (from tensorflow==2.8) (2.3.0)\n",
            "Requirement already satisfied: typing-extensions>=3.6.6 in /usr/local/lib/python3.10/dist-packages (from tensorflow==2.8) (4.7.1)\n",
            "Requirement already satisfied: wrapt>=1.11.0 in /usr/local/lib/python3.10/dist-packages (from tensorflow==2.8) (1.14.1)\n",
            "Collecting tensorboard<2.9,>=2.8 (from tensorflow==2.8)\n",
            "  Downloading tensorboard-2.8.0-py3-none-any.whl (5.8 MB)\n",
            "\u001b[2K     \u001b[90m━━━━━━━━━━━━━━━━━━━━━━━━━━━━━━━━━━━━━━━━\u001b[0m \u001b[32m5.8/5.8 MB\u001b[0m \u001b[31m56.2 MB/s\u001b[0m eta \u001b[36m0:00:00\u001b[0m\n",
            "\u001b[?25hCollecting tf-estimator-nightly==2.8.0.dev2021122109 (from tensorflow==2.8)\n",
            "  Downloading tf_estimator_nightly-2.8.0.dev2021122109-py2.py3-none-any.whl (462 kB)\n",
            "\u001b[2K     \u001b[90m━━━━━━━━━━━━━━━━━━━━━━━━━━━━━━━━━━━━━━\u001b[0m \u001b[32m462.5/462.5 kB\u001b[0m \u001b[31m22.8 MB/s\u001b[0m eta \u001b[36m0:00:00\u001b[0m\n",
            "\u001b[?25hCollecting keras<2.9,>=2.8.0rc0 (from tensorflow==2.8)\n",
            "  Downloading keras-2.8.0-py2.py3-none-any.whl (1.4 MB)\n",
            "\u001b[2K     \u001b[90m━━━━━━━━━━━━━━━━━━━━━━━━━━━━━━━━━━━━━━━━\u001b[0m \u001b[32m1.4/1.4 MB\u001b[0m \u001b[31m20.0 MB/s\u001b[0m eta \u001b[36m0:00:00\u001b[0m\n",
            "\u001b[?25hRequirement already satisfied: tensorflow-io-gcs-filesystem>=0.23.1 in /usr/local/lib/python3.10/dist-packages (from tensorflow==2.8) (0.32.0)\n",
            "Requirement already satisfied: grpcio<2.0,>=1.24.3 in /usr/local/lib/python3.10/dist-packages (from tensorflow==2.8) (1.56.2)\n",
            "Requirement already satisfied: wheel<1.0,>=0.23.0 in /usr/local/lib/python3.10/dist-packages (from astunparse>=1.6.0->tensorflow==2.8) (0.41.0)\n",
            "Requirement already satisfied: google-auth<3,>=1.6.3 in /usr/local/lib/python3.10/dist-packages (from tensorboard<2.9,>=2.8->tensorflow==2.8) (2.17.3)\n",
            "Collecting google-auth-oauthlib<0.5,>=0.4.1 (from tensorboard<2.9,>=2.8->tensorflow==2.8)\n",
            "  Downloading google_auth_oauthlib-0.4.6-py2.py3-none-any.whl (18 kB)\n",
            "Requirement already satisfied: markdown>=2.6.8 in /usr/local/lib/python3.10/dist-packages (from tensorboard<2.9,>=2.8->tensorflow==2.8) (3.4.4)\n",
            "Requirement already satisfied: requests<3,>=2.21.0 in /usr/local/lib/python3.10/dist-packages (from tensorboard<2.9,>=2.8->tensorflow==2.8) (2.27.1)\n",
            "Collecting tensorboard-data-server<0.7.0,>=0.6.0 (from tensorboard<2.9,>=2.8->tensorflow==2.8)\n",
            "  Downloading tensorboard_data_server-0.6.1-py3-none-manylinux2010_x86_64.whl (4.9 MB)\n",
            "\u001b[2K     \u001b[90m━━━━━━━━━━━━━━━━━━━━━━━━━━━━━━━━━━━━━━━━\u001b[0m \u001b[32m4.9/4.9 MB\u001b[0m \u001b[31m41.6 MB/s\u001b[0m eta \u001b[36m0:00:00\u001b[0m\n",
            "\u001b[?25hCollecting tensorboard-plugin-wit>=1.6.0 (from tensorboard<2.9,>=2.8->tensorflow==2.8)\n",
            "  Downloading tensorboard_plugin_wit-1.8.1-py3-none-any.whl (781 kB)\n",
            "\u001b[2K     \u001b[90m━━━━━━━━━━━━━━━━━━━━━━━━━━━━━━━━━━━━━━\u001b[0m \u001b[32m781.3/781.3 kB\u001b[0m \u001b[31m21.0 MB/s\u001b[0m eta \u001b[36m0:00:00\u001b[0m\n",
            "\u001b[?25hRequirement already satisfied: werkzeug>=0.11.15 in /usr/local/lib/python3.10/dist-packages (from tensorboard<2.9,>=2.8->tensorflow==2.8) (2.3.6)\n",
            "Requirement already satisfied: cachetools<6.0,>=2.0.0 in /usr/local/lib/python3.10/dist-packages (from google-auth<3,>=1.6.3->tensorboard<2.9,>=2.8->tensorflow==2.8) (5.3.1)\n",
            "Requirement already satisfied: pyasn1-modules>=0.2.1 in /usr/local/lib/python3.10/dist-packages (from google-auth<3,>=1.6.3->tensorboard<2.9,>=2.8->tensorflow==2.8) (0.3.0)\n",
            "Requirement already satisfied: rsa<5,>=3.1.4 in /usr/local/lib/python3.10/dist-packages (from google-auth<3,>=1.6.3->tensorboard<2.9,>=2.8->tensorflow==2.8) (4.9)\n",
            "Requirement already satisfied: requests-oauthlib>=0.7.0 in /usr/local/lib/python3.10/dist-packages (from google-auth-oauthlib<0.5,>=0.4.1->tensorboard<2.9,>=2.8->tensorflow==2.8) (1.3.1)\n",
            "Requirement already satisfied: urllib3<1.27,>=1.21.1 in /usr/local/lib/python3.10/dist-packages (from requests<3,>=2.21.0->tensorboard<2.9,>=2.8->tensorflow==2.8) (1.26.16)\n",
            "Requirement already satisfied: certifi>=2017.4.17 in /usr/local/lib/python3.10/dist-packages (from requests<3,>=2.21.0->tensorboard<2.9,>=2.8->tensorflow==2.8) (2023.7.22)\n",
            "Requirement already satisfied: charset-normalizer~=2.0.0 in /usr/local/lib/python3.10/dist-packages (from requests<3,>=2.21.0->tensorboard<2.9,>=2.8->tensorflow==2.8) (2.0.12)\n",
            "Requirement already satisfied: idna<4,>=2.5 in /usr/local/lib/python3.10/dist-packages (from requests<3,>=2.21.0->tensorboard<2.9,>=2.8->tensorflow==2.8) (3.4)\n",
            "Requirement already satisfied: MarkupSafe>=2.1.1 in /usr/local/lib/python3.10/dist-packages (from werkzeug>=0.11.15->tensorboard<2.9,>=2.8->tensorflow==2.8) (2.1.3)\n",
            "Requirement already satisfied: pyasn1<0.6.0,>=0.4.6 in /usr/local/lib/python3.10/dist-packages (from pyasn1-modules>=0.2.1->google-auth<3,>=1.6.3->tensorboard<2.9,>=2.8->tensorflow==2.8) (0.5.0)\n",
            "Requirement already satisfied: oauthlib>=3.0.0 in /usr/local/lib/python3.10/dist-packages (from requests-oauthlib>=0.7.0->google-auth-oauthlib<0.5,>=0.4.1->tensorboard<2.9,>=2.8->tensorflow==2.8) (3.2.2)\n",
            "Installing collected packages: tf-estimator-nightly, tensorboard-plugin-wit, keras, tensorboard-data-server, keras-preprocessing, google-auth-oauthlib, tensorboard, tensorflow\n",
            "  Attempting uninstall: keras\n",
            "    Found existing installation: keras 2.12.0\n",
            "    Uninstalling keras-2.12.0:\n",
            "      Successfully uninstalled keras-2.12.0\n",
            "  Attempting uninstall: tensorboard-data-server\n",
            "    Found existing installation: tensorboard-data-server 0.7.1\n",
            "    Uninstalling tensorboard-data-server-0.7.1:\n",
            "      Successfully uninstalled tensorboard-data-server-0.7.1\n",
            "  Attempting uninstall: google-auth-oauthlib\n",
            "    Found existing installation: google-auth-oauthlib 1.0.0\n",
            "    Uninstalling google-auth-oauthlib-1.0.0:\n",
            "      Successfully uninstalled google-auth-oauthlib-1.0.0\n",
            "  Attempting uninstall: tensorboard\n",
            "    Found existing installation: tensorboard 2.12.3\n",
            "    Uninstalling tensorboard-2.12.3:\n",
            "      Successfully uninstalled tensorboard-2.12.3\n",
            "  Attempting uninstall: tensorflow\n",
            "    Found existing installation: tensorflow 2.12.0\n",
            "    Uninstalling tensorflow-2.12.0:\n",
            "      Successfully uninstalled tensorflow-2.12.0\n",
            "Successfully installed google-auth-oauthlib-0.4.6 keras-2.8.0 keras-preprocessing-1.1.2 tensorboard-2.8.0 tensorboard-data-server-0.6.1 tensorboard-plugin-wit-1.8.1 tensorflow-2.8.0 tf-estimator-nightly-2.8.0.dev2021122109\n"
          ]
        }
      ],
      "source": [
        "!pip install tensorflow==2.8"
      ]
    },
    {
      "cell_type": "code",
      "execution_count": 3,
      "metadata": {
        "colab": {
          "base_uri": "https://localhost:8080/",
          "height": 35
        },
        "id": "I0X9qkMXs_pp",
        "outputId": "27c044f2-f06b-4a85-bc54-ee76bb8b2ed9"
      },
      "outputs": [
        {
          "output_type": "execute_result",
          "data": {
            "text/plain": [
              "'2.8.0'"
            ],
            "application/vnd.google.colaboratory.intrinsic+json": {
              "type": "string"
            }
          },
          "metadata": {},
          "execution_count": 3
        }
      ],
      "source": [
        "import matplotlib.pyplot as plt\n",
        "import seaborn as sns\n",
        "import zipfile\n",
        "import numpy as np\n",
        "import cv2\n",
        "from google.colab.patches import cv2_imshow\n",
        "import tensorflow as tf\n",
        "from tensorflow.keras.callbacks import ReduceLROnPlateau\n",
        "from tensorflow.keras import regularizers\n",
        "from tensorflow.keras.callbacks import ModelCheckpoint, EarlyStopping\n",
        "from tensorflow.keras.models import Sequential\n",
        "from tensorflow.keras.layers import Conv2D, MaxPool2D, Flatten, Dense, BatchNormalization, Dropout\n",
        "from tensorflow.keras.preprocessing.image import ImageDataGenerator\n",
        "tf.__version__"
      ]
    },
    {
      "cell_type": "code",
      "execution_count": 4,
      "metadata": {
        "colab": {
          "base_uri": "https://localhost:8080/"
        },
        "id": "yQMOvsd99H-V",
        "outputId": "3fea5acb-c7ba-4a98-a2d5-3f9847b171d8"
      },
      "outputs": [
        {
          "output_type": "stream",
          "name": "stdout",
          "text": [
            "Mounted at /content/drive\n"
          ]
        }
      ],
      "source": [
        "from google.colab import drive\n",
        "drive.mount('/content/drive')"
      ]
    },
    {
      "cell_type": "code",
      "execution_count": 5,
      "metadata": {
        "id": "Y_BgiI3JxA9q"
      },
      "outputs": [],
      "source": [
        "path = '/content/drive/MyDrive/Praktyki/gotowe.zip'\n",
        "zip_object = zipfile.ZipFile(file=path, mode='r')\n",
        "zip_object.extractall('./')\n",
        "zip_object.close()"
      ]
    },
    {
      "cell_type": "code",
      "execution_count": 6,
      "metadata": {
        "id": "7-PhxwM60uM7"
      },
      "outputs": [],
      "source": [
        "training_generator = ImageDataGenerator(rescale=1./255,\n",
        "                                        horizontal_flip=True,\n",
        "                                        vertical_flip=True)\n"
      ]
    },
    {
      "cell_type": "code",
      "execution_count": 7,
      "metadata": {
        "colab": {
          "base_uri": "https://localhost:8080/"
        },
        "id": "jMErkkVv_mXw",
        "outputId": "a34d1b6b-ccb4-4405-9477-804979e6b12b"
      },
      "outputs": [
        {
          "output_type": "stream",
          "name": "stdout",
          "text": [
            "Found 11158 images belonging to 7 classes.\n"
          ]
        }
      ],
      "source": [
        "train_dataset = training_generator.flow_from_directory('/content/gotowe/train_set',\n",
        "                                                       target_size = (100, 100),\n",
        "                                                       batch_size = 10,\n",
        "                                                       color_mode='rgb',\n",
        "                                                       class_mode = 'categorical',\n",
        "                                                       shuffle = True)"
      ]
    },
    {
      "cell_type": "code",
      "execution_count": 8,
      "metadata": {
        "colab": {
          "base_uri": "https://localhost:8080/"
        },
        "id": "C4errPxfAukM",
        "outputId": "6592d5ab-2ef7-4aca-cb4b-3ab33c600416"
      },
      "outputs": [
        {
          "output_type": "execute_result",
          "data": {
            "text/plain": [
              "array([0, 0, 0, ..., 6, 6, 6], dtype=int32)"
            ]
          },
          "metadata": {},
          "execution_count": 8
        }
      ],
      "source": [
        "train_dataset.classes"
      ]
    },
    {
      "cell_type": "code",
      "execution_count": 9,
      "metadata": {
        "colab": {
          "base_uri": "https://localhost:8080/"
        },
        "id": "jYCiD3adA5xf",
        "outputId": "b4b1f90f-e05e-4003-9db9-9f064227a725"
      },
      "outputs": [
        {
          "output_type": "execute_result",
          "data": {
            "text/plain": [
              "{'nematyk': 0,\n",
              " 'smektyk_C': 1,\n",
              " 'smektyk_F': 2,\n",
              " 'smektyk_GMosaic': 3,\n",
              " 'smektyk_GSchliren': 4,\n",
              " 'smektyk_H': 5,\n",
              " 'smektyk_I': 6}"
            ]
          },
          "metadata": {},
          "execution_count": 9
        }
      ],
      "source": [
        "train_dataset.class_indices"
      ]
    },
    {
      "cell_type": "code",
      "execution_count": 10,
      "metadata": {
        "id": "6VK7xyH-BkSq"
      },
      "outputs": [],
      "source": [
        "test_generator = ImageDataGenerator(rescale=1./255)\n",
        "val_generator = ImageDataGenerator(rescale=1./255)"
      ]
    },
    {
      "cell_type": "code",
      "execution_count": 11,
      "metadata": {
        "colab": {
          "base_uri": "https://localhost:8080/"
        },
        "id": "84kKwMy6U7oh",
        "outputId": "6954cc73-2f95-46c8-b9c6-c166a0261742"
      },
      "outputs": [
        {
          "output_type": "stream",
          "name": "stdout",
          "text": [
            "Found 1395 images belonging to 7 classes.\n"
          ]
        }
      ],
      "source": [
        "validation_dataset = val_generator.flow_from_directory('/content/gotowe/val_set',\n",
        "                                                        target_size=(100, 100),\n",
        "                                                        batch_size=1,\n",
        "                                                        class_mode='categorical',\n",
        "                                                        color_mode='rgb',\n",
        "                                                        shuffle=True) # set as validation data"
      ]
    },
    {
      "cell_type": "code",
      "execution_count": 12,
      "metadata": {
        "id": "PB2pU5bzXPTa"
      },
      "outputs": [],
      "source": [
        "L2 = 0.00001"
      ]
    },
    {
      "cell_type": "code",
      "execution_count": 13,
      "metadata": {
        "colab": {
          "base_uri": "https://localhost:8080/"
        },
        "id": "SdqIBmxiBvU1",
        "outputId": "a44379e1-1ded-4407-f908-391487e4fba4"
      },
      "outputs": [
        {
          "output_type": "stream",
          "name": "stdout",
          "text": [
            "Found 1396 images belonging to 7 classes.\n"
          ]
        }
      ],
      "source": [
        "test_datatset = test_generator.flow_from_directory('/content/gotowe/test_set',\n",
        "                                                   target_size = (100, 100),\n",
        "                                                   batch_size = 1,\n",
        "                                                   color_mode='rgb',\n",
        "                                                   class_mode = 'categorical',\n",
        "                                                   shuffle = False)"
      ]
    },
    {
      "cell_type": "code",
      "execution_count": 14,
      "metadata": {
        "id": "xVLgf1bADs_C"
      },
      "outputs": [],
      "source": [
        "initializer1 = tf.keras.initializers.HeNormal()\n",
        "initializer2 = tf.keras.initializers.GlorotUniform()"
      ]
    },
    {
      "cell_type": "code",
      "execution_count": 35,
      "metadata": {
        "colab": {
          "base_uri": "https://localhost:8080/"
        },
        "id": "QTr7SiKfD6UI",
        "outputId": "79933c8f-b64a-4fb3-b1b8-232e152a8830"
      },
      "outputs": [
        {
          "output_type": "stream",
          "name": "stdout",
          "text": [
            "Model: \"sequential_2\"\n",
            "_________________________________________________________________\n",
            " Layer (type)                Output Shape              Param #   \n",
            "=================================================================\n",
            " conv2d_32 (Conv2D)          (None, 95, 95, 32)        3488      \n",
            "                                                                 \n",
            " batch_normalization_24 (Bat  (None, 95, 95, 32)       128       \n",
            " chNormalization)                                                \n",
            "                                                                 \n",
            " max_pooling2d_12 (MaxPoolin  (None, 47, 47, 32)       0         \n",
            " g2D)                                                            \n",
            "                                                                 \n",
            " conv2d_33 (Conv2D)          (None, 47, 47, 64)        32832     \n",
            "                                                                 \n",
            " conv2d_34 (Conv2D)          (None, 47, 47, 64)        65600     \n",
            "                                                                 \n",
            " conv2d_35 (Conv2D)          (None, 47, 47, 64)        36928     \n",
            "                                                                 \n",
            " batch_normalization_25 (Bat  (None, 47, 47, 64)       256       \n",
            " chNormalization)                                                \n",
            "                                                                 \n",
            " max_pooling2d_13 (MaxPoolin  (None, 23, 23, 64)       0         \n",
            " g2D)                                                            \n",
            "                                                                 \n",
            " conv2d_36 (Conv2D)          (None, 23, 23, 128)       73856     \n",
            "                                                                 \n",
            " conv2d_37 (Conv2D)          (None, 23, 23, 128)       65664     \n",
            "                                                                 \n",
            " batch_normalization_26 (Bat  (None, 23, 23, 128)      512       \n",
            " chNormalization)                                                \n",
            "                                                                 \n",
            " max_pooling2d_14 (MaxPoolin  (None, 11, 11, 128)      0         \n",
            " g2D)                                                            \n",
            "                                                                 \n",
            " conv2d_38 (Conv2D)          (None, 11, 11, 256)       295168    \n",
            "                                                                 \n",
            " conv2d_39 (Conv2D)          (None, 11, 11, 256)       262400    \n",
            "                                                                 \n",
            " batch_normalization_27 (Bat  (None, 11, 11, 256)      1024      \n",
            " chNormalization)                                                \n",
            "                                                                 \n",
            " max_pooling2d_15 (MaxPoolin  (None, 5, 5, 256)        0         \n",
            " g2D)                                                            \n",
            "                                                                 \n",
            " conv2d_40 (Conv2D)          (None, 5, 5, 512)         524800    \n",
            "                                                                 \n",
            " batch_normalization_28 (Bat  (None, 5, 5, 512)        2048      \n",
            " chNormalization)                                                \n",
            "                                                                 \n",
            " max_pooling2d_16 (MaxPoolin  (None, 2, 2, 512)        0         \n",
            " g2D)                                                            \n",
            "                                                                 \n",
            " conv2d_41 (Conv2D)          (None, 2, 2, 1024)        2098176   \n",
            "                                                                 \n",
            " batch_normalization_29 (Bat  (None, 2, 2, 1024)       4096      \n",
            " chNormalization)                                                \n",
            "                                                                 \n",
            " max_pooling2d_17 (MaxPoolin  (None, 1, 1, 1024)       0         \n",
            " g2D)                                                            \n",
            "                                                                 \n",
            " flatten_2 (Flatten)         (None, 1024)              0         \n",
            "                                                                 \n",
            " dense_14 (Dense)            (None, 1024)              1049600   \n",
            "                                                                 \n",
            " batch_normalization_30 (Bat  (None, 1024)             4096      \n",
            " chNormalization)                                                \n",
            "                                                                 \n",
            " dense_15 (Dense)            (None, 512)               524800    \n",
            "                                                                 \n",
            " batch_normalization_31 (Bat  (None, 512)              2048      \n",
            " chNormalization)                                                \n",
            "                                                                 \n",
            " dense_16 (Dense)            (None, 256)               131328    \n",
            "                                                                 \n",
            " batch_normalization_32 (Bat  (None, 256)              1024      \n",
            " chNormalization)                                                \n",
            "                                                                 \n",
            " dense_17 (Dense)            (None, 128)               32896     \n",
            "                                                                 \n",
            " batch_normalization_33 (Bat  (None, 128)              512       \n",
            " chNormalization)                                                \n",
            "                                                                 \n",
            " dense_18 (Dense)            (None, 64)                8256      \n",
            "                                                                 \n",
            " batch_normalization_34 (Bat  (None, 64)               256       \n",
            " chNormalization)                                                \n",
            "                                                                 \n",
            " dense_19 (Dense)            (None, 32)                2080      \n",
            "                                                                 \n",
            " batch_normalization_35 (Bat  (None, 32)               128       \n",
            " chNormalization)                                                \n",
            "                                                                 \n",
            " dense_20 (Dense)            (None, 7)                 231       \n",
            "                                                                 \n",
            "=================================================================\n",
            "Total params: 5,224,231\n",
            "Trainable params: 5,216,167\n",
            "Non-trainable params: 8,064\n",
            "_________________________________________________________________\n"
          ]
        }
      ],
      "source": [
        "network = Sequential()\n",
        "\n",
        "network.add(Conv2D(filters=32, kernel_size=(6,6), activation = 'relu', input_shape = (100,100,3), kernel_initializer=initializer1))\n",
        "network.add(BatchNormalization())\n",
        "network.add(MaxPool2D(pool_size=(2,2)))\n",
        "\n",
        "network.add(Conv2D(filters=64, kernel_size=(4,4), activation = 'relu', padding='same', kernel_initializer=initializer1))\n",
        "network.add(Conv2D(filters=64, kernel_size=(4,4), activation = 'relu', padding='same', kernel_initializer=initializer1))\n",
        "network.add(Conv2D(filters=64, kernel_size=(3,3), activation = 'relu', padding='same', kernel_initializer=initializer1))\n",
        "network.add(BatchNormalization())\n",
        "network.add(MaxPool2D(pool_size=(2,2)))\n",
        "\n",
        "network.add(Conv2D(filters=128, kernel_size=(3,3), activation = 'relu', padding='same', kernel_initializer=initializer1))\n",
        "network.add(Conv2D(filters=128, kernel_size=(2,2), activation = 'relu', padding='same', kernel_initializer=initializer1))\n",
        "network.add(BatchNormalization())\n",
        "network.add(MaxPool2D(pool_size=(2,2)))\n",
        "\n",
        "network.add(Conv2D(filters=256, kernel_size=(3,3), activation = 'relu', padding='same', kernel_initializer=initializer1))\n",
        "network.add(Conv2D(filters=256, kernel_size=(2,2), activation = 'relu', padding='same', kernel_initializer=initializer1))\n",
        "network.add(BatchNormalization())\n",
        "network.add(MaxPool2D(pool_size=(2,2)))\n",
        "\n",
        "network.add(Conv2D(filters=512, kernel_size=(2,2), activation = 'relu', padding='same', kernel_initializer=initializer1))\n",
        "network.add(BatchNormalization())\n",
        "network.add(MaxPool2D(pool_size=(2,2)))\n",
        "\n",
        "network.add(Conv2D(filters=1024, kernel_size=(2,2), activation = 'relu', padding='same', kernel_initializer=initializer1))\n",
        "network.add(BatchNormalization())\n",
        "network.add(MaxPool2D(pool_size=(2,2)))\n",
        "\n",
        "network.add(Flatten())\n",
        "\n",
        "#network.add(Dropout(0.2))\n",
        "\n",
        "network.add(Dense(units = 1024, activation = 'relu', kernel_initializer=initializer1))\n",
        "network.add(BatchNormalization())\n",
        "network.add(Dense(units = 512, activation = 'relu', kernel_initializer=initializer1))\n",
        "network.add(BatchNormalization())\n",
        "network.add(Dense(units = 256, activation = 'relu', kernel_initializer=initializer1))\n",
        "network.add(BatchNormalization())\n",
        "network.add(Dense(units = 128, activation = 'relu', kernel_initializer=initializer1))\n",
        "network.add(BatchNormalization())\n",
        "network.add(Dense(units = 64, activation = 'relu', kernel_initializer=initializer1))\n",
        "network.add(BatchNormalization())\n",
        "network.add(Dense(units = 32, activation = 'relu', kernel_initializer=initializer1, kernel_regularizer=tf.keras.regularizers.L1L2()))\n",
        "network.add(BatchNormalization())\n",
        "network.add(Dense(units = 7, activation = 'softmax', kernel_initializer=initializer2))\n",
        "network.summary()"
      ]
    },
    {
      "cell_type": "code",
      "execution_count": 36,
      "metadata": {
        "id": "6viOH_kUE4Bq"
      },
      "outputs": [],
      "source": [
        "from tensorflow.keras.optimizers import Adam\n",
        "#opt = Adam(lr=0.005)\n",
        "opt = Adam()\n",
        "network.compile(optimizer='Adam', loss='categorical_crossentropy', metrics = ['accuracy'])\n"
      ]
    },
    {
      "cell_type": "code",
      "execution_count": 37,
      "metadata": {
        "id": "5IXmjfYmbuYh"
      },
      "outputs": [],
      "source": [
        "es = EarlyStopping(monitor = 'val_accuracy', min_delta = 0.001, patience = 20, verbose =1)\n",
        "model_cp = ModelCheckpoint(filepath = 'best_model1.h5', monitor = 'val_accuracy', save_best_only = True, verbose = 1)\n",
        "learning_rate_reduction = ReduceLROnPlateau(monitor='val_accuracy', patience = 5, verbose=1, factor=0.5, min_lr=0.00001)"
      ]
    },
    {
      "cell_type": "code",
      "execution_count": 38,
      "metadata": {
        "colab": {
          "base_uri": "https://localhost:8080/"
        },
        "id": "Uk8BSV5gGazz",
        "outputId": "a9f76a29-92a6-44c9-cb15-7ba0682ce1d6"
      },
      "outputs": [
        {
          "output_type": "stream",
          "name": "stdout",
          "text": [
            "Epoch 1/100\n"
          ]
        },
        {
          "output_type": "stream",
          "name": "stderr",
          "text": [
            "<ipython-input-38-d45876fe1552>:1: UserWarning: `Model.fit_generator` is deprecated and will be removed in a future version. Please use `Model.fit`, which supports generators.\n",
            "  history = network.fit_generator(train_dataset,\n"
          ]
        },
        {
          "output_type": "stream",
          "name": "stdout",
          "text": [
            "50/50 [==============================] - ETA: 0s - loss: 1.9363 - accuracy: 0.3460\n",
            "Epoch 1: val_accuracy improved from -inf to 0.10000, saving model to best_model1.h5\n",
            "50/50 [==============================] - 74s 1s/step - loss: 1.9363 - accuracy: 0.3460 - val_loss: 11.1336 - val_accuracy: 0.1000 - lr: 0.0010\n",
            "Epoch 2/100\n",
            "50/50 [==============================] - ETA: 0s - loss: 1.5483 - accuracy: 0.4200\n",
            "Epoch 2: val_accuracy improved from 0.10000 to 0.36000, saving model to best_model1.h5\n",
            "50/50 [==============================] - 72s 1s/step - loss: 1.5483 - accuracy: 0.4200 - val_loss: 1.9857 - val_accuracy: 0.3600 - lr: 0.0010\n",
            "Epoch 3/100\n",
            "50/50 [==============================] - ETA: 0s - loss: 1.4619 - accuracy: 0.4380\n",
            "Epoch 3: val_accuracy did not improve from 0.36000\n",
            "50/50 [==============================] - 73s 1s/step - loss: 1.4619 - accuracy: 0.4380 - val_loss: 2.4169 - val_accuracy: 0.3000 - lr: 0.0010\n",
            "Epoch 4/100\n",
            "50/50 [==============================] - ETA: 0s - loss: 1.4894 - accuracy: 0.4280\n",
            "Epoch 4: val_accuracy did not improve from 0.36000\n",
            "50/50 [==============================] - 71s 1s/step - loss: 1.4894 - accuracy: 0.4280 - val_loss: 2.0402 - val_accuracy: 0.3200 - lr: 0.0010\n",
            "Epoch 5/100\n",
            "50/50 [==============================] - ETA: 0s - loss: 1.4440 - accuracy: 0.4660\n",
            "Epoch 5: val_accuracy improved from 0.36000 to 0.38000, saving model to best_model1.h5\n",
            "50/50 [==============================] - 69s 1s/step - loss: 1.4440 - accuracy: 0.4660 - val_loss: 1.7381 - val_accuracy: 0.3800 - lr: 0.0010\n",
            "Epoch 6/100\n",
            "50/50 [==============================] - ETA: 0s - loss: 1.3931 - accuracy: 0.4820\n",
            "Epoch 6: val_accuracy improved from 0.38000 to 0.52000, saving model to best_model1.h5\n",
            "50/50 [==============================] - 74s 1s/step - loss: 1.3931 - accuracy: 0.4820 - val_loss: 1.3721 - val_accuracy: 0.5200 - lr: 0.0010\n",
            "Epoch 7/100\n",
            "50/50 [==============================] - ETA: 0s - loss: 1.3262 - accuracy: 0.5180\n",
            "Epoch 7: val_accuracy improved from 0.52000 to 0.62000, saving model to best_model1.h5\n",
            "50/50 [==============================] - 70s 1s/step - loss: 1.3262 - accuracy: 0.5180 - val_loss: 1.1200 - val_accuracy: 0.6200 - lr: 0.0010\n",
            "Epoch 8/100\n",
            "50/50 [==============================] - ETA: 0s - loss: 1.3095 - accuracy: 0.5240\n",
            "Epoch 8: val_accuracy did not improve from 0.62000\n",
            "50/50 [==============================] - 71s 1s/step - loss: 1.3095 - accuracy: 0.5240 - val_loss: 1.6109 - val_accuracy: 0.4000 - lr: 0.0010\n",
            "Epoch 9/100\n",
            "50/50 [==============================] - ETA: 0s - loss: 1.2380 - accuracy: 0.5560\n",
            "Epoch 9: val_accuracy did not improve from 0.62000\n",
            "50/50 [==============================] - 70s 1s/step - loss: 1.2380 - accuracy: 0.5560 - val_loss: 1.1917 - val_accuracy: 0.5000 - lr: 0.0010\n",
            "Epoch 10/100\n",
            "50/50 [==============================] - ETA: 0s - loss: 1.2808 - accuracy: 0.5160\n",
            "Epoch 10: val_accuracy did not improve from 0.62000\n",
            "50/50 [==============================] - 72s 1s/step - loss: 1.2808 - accuracy: 0.5160 - val_loss: 1.2033 - val_accuracy: 0.5000 - lr: 0.0010\n",
            "Epoch 11/100\n",
            "50/50 [==============================] - ETA: 0s - loss: 1.2300 - accuracy: 0.5360\n",
            "Epoch 11: val_accuracy did not improve from 0.62000\n",
            "50/50 [==============================] - 69s 1s/step - loss: 1.2300 - accuracy: 0.5360 - val_loss: 1.2909 - val_accuracy: 0.5000 - lr: 0.0010\n",
            "Epoch 12/100\n",
            "50/50 [==============================] - ETA: 0s - loss: 1.2457 - accuracy: 0.5300\n",
            "Epoch 12: val_accuracy did not improve from 0.62000\n",
            "\n",
            "Epoch 12: ReduceLROnPlateau reducing learning rate to 0.0005000000237487257.\n",
            "50/50 [==============================] - 70s 1s/step - loss: 1.2457 - accuracy: 0.5300 - val_loss: 1.0803 - val_accuracy: 0.5200 - lr: 0.0010\n",
            "Epoch 13/100\n",
            "50/50 [==============================] - ETA: 0s - loss: 1.1979 - accuracy: 0.5760\n",
            "Epoch 13: val_accuracy improved from 0.62000 to 0.68000, saving model to best_model1.h5\n",
            "50/50 [==============================] - 73s 1s/step - loss: 1.1979 - accuracy: 0.5760 - val_loss: 0.9651 - val_accuracy: 0.6800 - lr: 5.0000e-04\n",
            "Epoch 14/100\n",
            "50/50 [==============================] - ETA: 0s - loss: 1.1542 - accuracy: 0.5840\n",
            "Epoch 14: val_accuracy did not improve from 0.68000\n",
            "50/50 [==============================] - 70s 1s/step - loss: 1.1542 - accuracy: 0.5840 - val_loss: 0.8846 - val_accuracy: 0.6600 - lr: 5.0000e-04\n",
            "Epoch 15/100\n",
            "50/50 [==============================] - ETA: 0s - loss: 1.1175 - accuracy: 0.5700\n",
            "Epoch 15: val_accuracy did not improve from 0.68000\n",
            "50/50 [==============================] - 69s 1s/step - loss: 1.1175 - accuracy: 0.5700 - val_loss: 0.9174 - val_accuracy: 0.6600 - lr: 5.0000e-04\n",
            "Epoch 16/100\n",
            "50/50 [==============================] - ETA: 0s - loss: 1.0694 - accuracy: 0.6080\n",
            "Epoch 16: val_accuracy did not improve from 0.68000\n",
            "50/50 [==============================] - 74s 1s/step - loss: 1.0694 - accuracy: 0.6080 - val_loss: 1.1866 - val_accuracy: 0.5400 - lr: 5.0000e-04\n",
            "Epoch 17/100\n",
            "50/50 [==============================] - ETA: 0s - loss: 1.0587 - accuracy: 0.6040\n",
            "Epoch 17: val_accuracy improved from 0.68000 to 0.76000, saving model to best_model1.h5\n",
            "50/50 [==============================] - 70s 1s/step - loss: 1.0587 - accuracy: 0.6040 - val_loss: 0.7736 - val_accuracy: 0.7600 - lr: 5.0000e-04\n",
            "Epoch 18/100\n",
            "50/50 [==============================] - ETA: 0s - loss: 1.0639 - accuracy: 0.6160\n",
            "Epoch 18: val_accuracy did not improve from 0.76000\n",
            "50/50 [==============================] - 69s 1s/step - loss: 1.0639 - accuracy: 0.6160 - val_loss: 0.9689 - val_accuracy: 0.6000 - lr: 5.0000e-04\n",
            "Epoch 19/100\n",
            "50/50 [==============================] - ETA: 0s - loss: 1.1214 - accuracy: 0.6040\n",
            "Epoch 19: val_accuracy did not improve from 0.76000\n",
            "50/50 [==============================] - 73s 1s/step - loss: 1.1214 - accuracy: 0.6040 - val_loss: 0.7541 - val_accuracy: 0.7400 - lr: 5.0000e-04\n",
            "Epoch 20/100\n",
            "50/50 [==============================] - ETA: 0s - loss: 1.1378 - accuracy: 0.5960\n",
            "Epoch 20: val_accuracy did not improve from 0.76000\n",
            "50/50 [==============================] - 70s 1s/step - loss: 1.1378 - accuracy: 0.5960 - val_loss: 0.8001 - val_accuracy: 0.7200 - lr: 5.0000e-04\n",
            "Epoch 21/100\n",
            "50/50 [==============================] - ETA: 0s - loss: 1.1586 - accuracy: 0.5820\n",
            "Epoch 21: val_accuracy did not improve from 0.76000\n",
            "50/50 [==============================] - 70s 1s/step - loss: 1.1586 - accuracy: 0.5820 - val_loss: 1.0512 - val_accuracy: 0.6000 - lr: 5.0000e-04\n",
            "Epoch 22/100\n",
            "50/50 [==============================] - ETA: 0s - loss: 1.1351 - accuracy: 0.6080\n",
            "Epoch 22: val_accuracy did not improve from 0.76000\n",
            "\n",
            "Epoch 22: ReduceLROnPlateau reducing learning rate to 0.0002500000118743628.\n",
            "50/50 [==============================] - 72s 1s/step - loss: 1.1351 - accuracy: 0.6080 - val_loss: 0.9164 - val_accuracy: 0.6800 - lr: 5.0000e-04\n",
            "Epoch 23/100\n",
            "50/50 [==============================] - ETA: 0s - loss: 1.0572 - accuracy: 0.6480\n",
            "Epoch 23: val_accuracy did not improve from 0.76000\n",
            "50/50 [==============================] - 71s 1s/step - loss: 1.0572 - accuracy: 0.6480 - val_loss: 0.9190 - val_accuracy: 0.7400 - lr: 2.5000e-04\n",
            "Epoch 24/100\n",
            "50/50 [==============================] - ETA: 0s - loss: 1.0604 - accuracy: 0.6180\n",
            "Epoch 24: val_accuracy did not improve from 0.76000\n",
            "50/50 [==============================] - 69s 1s/step - loss: 1.0604 - accuracy: 0.6180 - val_loss: 0.7578 - val_accuracy: 0.7600 - lr: 2.5000e-04\n",
            "Epoch 25/100\n",
            "50/50 [==============================] - ETA: 0s - loss: 1.0350 - accuracy: 0.6280\n",
            "Epoch 25: val_accuracy improved from 0.76000 to 0.82000, saving model to best_model1.h5\n",
            "50/50 [==============================] - 70s 1s/step - loss: 1.0350 - accuracy: 0.6280 - val_loss: 0.7076 - val_accuracy: 0.8200 - lr: 2.5000e-04\n",
            "Epoch 26/100\n",
            "50/50 [==============================] - ETA: 0s - loss: 1.0111 - accuracy: 0.6460\n",
            "Epoch 26: val_accuracy did not improve from 0.82000\n",
            "50/50 [==============================] - 73s 1s/step - loss: 1.0111 - accuracy: 0.6460 - val_loss: 0.9002 - val_accuracy: 0.7000 - lr: 2.5000e-04\n",
            "Epoch 27/100\n",
            "50/50 [==============================] - ETA: 0s - loss: 1.0892 - accuracy: 0.6200\n",
            "Epoch 27: val_accuracy did not improve from 0.82000\n",
            "50/50 [==============================] - 70s 1s/step - loss: 1.0892 - accuracy: 0.6200 - val_loss: 0.7157 - val_accuracy: 0.8000 - lr: 2.5000e-04\n",
            "Epoch 28/100\n",
            "50/50 [==============================] - ETA: 0s - loss: 1.0062 - accuracy: 0.6540\n",
            "Epoch 28: val_accuracy did not improve from 0.82000\n",
            "50/50 [==============================] - 69s 1s/step - loss: 1.0062 - accuracy: 0.6540 - val_loss: 0.9011 - val_accuracy: 0.6200 - lr: 2.5000e-04\n",
            "Epoch 29/100\n",
            "50/50 [==============================] - ETA: 0s - loss: 0.9634 - accuracy: 0.6640\n",
            "Epoch 29: val_accuracy did not improve from 0.82000\n",
            "50/50 [==============================] - 72s 1s/step - loss: 0.9634 - accuracy: 0.6640 - val_loss: 0.7603 - val_accuracy: 0.7000 - lr: 2.5000e-04\n",
            "Epoch 30/100\n",
            "50/50 [==============================] - ETA: 0s - loss: 0.9671 - accuracy: 0.6600\n",
            "Epoch 30: val_accuracy did not improve from 0.82000\n",
            "\n",
            "Epoch 30: ReduceLROnPlateau reducing learning rate to 0.0001250000059371814.\n",
            "50/50 [==============================] - 70s 1s/step - loss: 0.9671 - accuracy: 0.6600 - val_loss: 0.7955 - val_accuracy: 0.7400 - lr: 2.5000e-04\n",
            "Epoch 31/100\n",
            "50/50 [==============================] - ETA: 0s - loss: 0.9229 - accuracy: 0.6780\n",
            "Epoch 31: val_accuracy did not improve from 0.82000\n",
            "50/50 [==============================] - 70s 1s/step - loss: 0.9229 - accuracy: 0.6780 - val_loss: 0.8106 - val_accuracy: 0.7400 - lr: 1.2500e-04\n",
            "Epoch 32/100\n",
            "50/50 [==============================] - ETA: 0s - loss: 0.9993 - accuracy: 0.6540\n",
            "Epoch 32: val_accuracy did not improve from 0.82000\n",
            "50/50 [==============================] - 71s 1s/step - loss: 0.9993 - accuracy: 0.6540 - val_loss: 1.1829 - val_accuracy: 0.7200 - lr: 1.2500e-04\n",
            "Epoch 33/100\n",
            "50/50 [==============================] - ETA: 0s - loss: 0.9514 - accuracy: 0.6720\n",
            "Epoch 33: val_accuracy did not improve from 0.82000\n",
            "50/50 [==============================] - 70s 1s/step - loss: 0.9514 - accuracy: 0.6720 - val_loss: 0.8243 - val_accuracy: 0.7200 - lr: 1.2500e-04\n",
            "Epoch 34/100\n",
            "50/50 [==============================] - ETA: 0s - loss: 1.0486 - accuracy: 0.6420\n",
            "Epoch 34: val_accuracy did not improve from 0.82000\n",
            "50/50 [==============================] - 70s 1s/step - loss: 1.0486 - accuracy: 0.6420 - val_loss: 0.7526 - val_accuracy: 0.7600 - lr: 1.2500e-04\n",
            "Epoch 35/100\n",
            "50/50 [==============================] - ETA: 0s - loss: 0.8788 - accuracy: 0.6720\n",
            "Epoch 35: val_accuracy did not improve from 0.82000\n",
            "\n",
            "Epoch 35: ReduceLROnPlateau reducing learning rate to 6.25000029685907e-05.\n",
            "50/50 [==============================] - 72s 1s/step - loss: 0.8788 - accuracy: 0.6720 - val_loss: 0.6642 - val_accuracy: 0.7200 - lr: 1.2500e-04\n",
            "Epoch 36/100\n",
            "50/50 [==============================] - ETA: 0s - loss: 0.9252 - accuracy: 0.6960\n",
            "Epoch 36: val_accuracy did not improve from 0.82000\n",
            "50/50 [==============================] - 70s 1s/step - loss: 0.9252 - accuracy: 0.6960 - val_loss: 0.6153 - val_accuracy: 0.8200 - lr: 6.2500e-05\n",
            "Epoch 37/100\n",
            "50/50 [==============================] - ETA: 0s - loss: 0.9216 - accuracy: 0.6460\n",
            "Epoch 37: val_accuracy did not improve from 0.82000\n",
            "50/50 [==============================] - 70s 1s/step - loss: 0.9216 - accuracy: 0.6460 - val_loss: 0.7247 - val_accuracy: 0.7400 - lr: 6.2500e-05\n",
            "Epoch 38/100\n",
            "50/50 [==============================] - ETA: 0s - loss: 0.9136 - accuracy: 0.6760\n",
            "Epoch 38: val_accuracy did not improve from 0.82000\n",
            "50/50 [==============================] - 70s 1s/step - loss: 0.9136 - accuracy: 0.6760 - val_loss: 0.7477 - val_accuracy: 0.7200 - lr: 6.2500e-05\n",
            "Epoch 39/100\n",
            "50/50 [==============================] - ETA: 0s - loss: 0.9332 - accuracy: 0.6440\n",
            "Epoch 39: val_accuracy did not improve from 0.82000\n",
            "50/50 [==============================] - 70s 1s/step - loss: 0.9332 - accuracy: 0.6440 - val_loss: 0.5770 - val_accuracy: 0.8000 - lr: 6.2500e-05\n",
            "Epoch 40/100\n",
            "50/50 [==============================] - ETA: 0s - loss: 0.9137 - accuracy: 0.6600\n",
            "Epoch 40: val_accuracy did not improve from 0.82000\n",
            "\n",
            "Epoch 40: ReduceLROnPlateau reducing learning rate to 3.125000148429535e-05.\n",
            "50/50 [==============================] - 70s 1s/step - loss: 0.9137 - accuracy: 0.6600 - val_loss: 0.6807 - val_accuracy: 0.7400 - lr: 6.2500e-05\n",
            "Epoch 41/100\n",
            "50/50 [==============================] - ETA: 0s - loss: 0.9358 - accuracy: 0.6540\n",
            "Epoch 41: val_accuracy did not improve from 0.82000\n",
            "50/50 [==============================] - 74s 1s/step - loss: 0.9358 - accuracy: 0.6540 - val_loss: 0.7958 - val_accuracy: 0.7000 - lr: 3.1250e-05\n",
            "Epoch 42/100\n",
            "50/50 [==============================] - ETA: 0s - loss: 0.9170 - accuracy: 0.6800\n",
            "Epoch 42: val_accuracy did not improve from 0.82000\n",
            "50/50 [==============================] - 70s 1s/step - loss: 0.9170 - accuracy: 0.6800 - val_loss: 0.6368 - val_accuracy: 0.7600 - lr: 3.1250e-05\n",
            "Epoch 43/100\n",
            "50/50 [==============================] - ETA: 0s - loss: 0.8719 - accuracy: 0.6780\n",
            "Epoch 43: val_accuracy did not improve from 0.82000\n",
            "50/50 [==============================] - 70s 1s/step - loss: 0.8719 - accuracy: 0.6780 - val_loss: 0.9043 - val_accuracy: 0.7600 - lr: 3.1250e-05\n",
            "Epoch 44/100\n",
            "50/50 [==============================] - ETA: 0s - loss: 0.8910 - accuracy: 0.6920\n",
            "Epoch 44: val_accuracy improved from 0.82000 to 0.84000, saving model to best_model1.h5\n",
            "50/50 [==============================] - 72s 1s/step - loss: 0.8910 - accuracy: 0.6920 - val_loss: 0.6822 - val_accuracy: 0.8400 - lr: 3.1250e-05\n",
            "Epoch 45/100\n",
            "50/50 [==============================] - ETA: 0s - loss: 0.9215 - accuracy: 0.6760\n",
            "Epoch 45: val_accuracy did not improve from 0.84000\n",
            "50/50 [==============================] - 73s 1s/step - loss: 0.9215 - accuracy: 0.6760 - val_loss: 0.5797 - val_accuracy: 0.8400 - lr: 3.1250e-05\n",
            "Epoch 46/100\n",
            "50/50 [==============================] - ETA: 0s - loss: 0.8459 - accuracy: 0.6900\n",
            "Epoch 46: val_accuracy did not improve from 0.84000\n",
            "50/50 [==============================] - 71s 1s/step - loss: 0.8459 - accuracy: 0.6900 - val_loss: 0.7185 - val_accuracy: 0.7200 - lr: 3.1250e-05\n",
            "Epoch 47/100\n",
            "50/50 [==============================] - ETA: 0s - loss: 0.8378 - accuracy: 0.7060\n",
            "Epoch 47: val_accuracy did not improve from 0.84000\n",
            "50/50 [==============================] - 70s 1s/step - loss: 0.8378 - accuracy: 0.7060 - val_loss: 0.5906 - val_accuracy: 0.7600 - lr: 3.1250e-05\n",
            "Epoch 48/100\n",
            "50/50 [==============================] - ETA: 0s - loss: 0.8416 - accuracy: 0.6900\n",
            "Epoch 48: val_accuracy did not improve from 0.84000\n",
            "50/50 [==============================] - 71s 1s/step - loss: 0.8416 - accuracy: 0.6900 - val_loss: 0.6438 - val_accuracy: 0.7400 - lr: 3.1250e-05\n",
            "Epoch 49/100\n",
            "50/50 [==============================] - ETA: 0s - loss: 0.9001 - accuracy: 0.6820\n",
            "Epoch 49: val_accuracy did not improve from 0.84000\n",
            "\n",
            "Epoch 49: ReduceLROnPlateau reducing learning rate to 1.5625000742147677e-05.\n",
            "50/50 [==============================] - 70s 1s/step - loss: 0.9001 - accuracy: 0.6820 - val_loss: 0.5820 - val_accuracy: 0.8200 - lr: 3.1250e-05\n",
            "Epoch 50/100\n",
            "50/50 [==============================] - ETA: 0s - loss: 0.9158 - accuracy: 0.6900\n",
            "Epoch 50: val_accuracy did not improve from 0.84000\n",
            "50/50 [==============================] - 69s 1s/step - loss: 0.9158 - accuracy: 0.6900 - val_loss: 0.8143 - val_accuracy: 0.7400 - lr: 1.5625e-05\n",
            "Epoch 51/100\n",
            "50/50 [==============================] - ETA: 0s - loss: 0.8776 - accuracy: 0.6920\n",
            "Epoch 51: val_accuracy did not improve from 0.84000\n",
            "50/50 [==============================] - 73s 1s/step - loss: 0.8776 - accuracy: 0.6920 - val_loss: 0.7731 - val_accuracy: 0.7800 - lr: 1.5625e-05\n",
            "Epoch 52/100\n",
            "50/50 [==============================] - ETA: 0s - loss: 0.9056 - accuracy: 0.6540\n",
            "Epoch 52: val_accuracy did not improve from 0.84000\n",
            "50/50 [==============================] - 70s 1s/step - loss: 0.9056 - accuracy: 0.6540 - val_loss: 0.7600 - val_accuracy: 0.8000 - lr: 1.5625e-05\n",
            "Epoch 53/100\n",
            "50/50 [==============================] - ETA: 0s - loss: 0.8685 - accuracy: 0.6920\n",
            "Epoch 53: val_accuracy did not improve from 0.84000\n",
            "50/50 [==============================] - 69s 1s/step - loss: 0.8685 - accuracy: 0.6920 - val_loss: 0.6330 - val_accuracy: 0.8200 - lr: 1.5625e-05\n",
            "Epoch 54/100\n",
            "50/50 [==============================] - ETA: 0s - loss: 0.8946 - accuracy: 0.6760\n",
            "Epoch 54: val_accuracy did not improve from 0.84000\n",
            "\n",
            "Epoch 54: ReduceLROnPlateau reducing learning rate to 1e-05.\n",
            "50/50 [==============================] - 72s 1s/step - loss: 0.8946 - accuracy: 0.6760 - val_loss: 0.5533 - val_accuracy: 0.8200 - lr: 1.5625e-05\n",
            "Epoch 55/100\n",
            "50/50 [==============================] - ETA: 0s - loss: 0.8484 - accuracy: 0.7080\n",
            "Epoch 55: val_accuracy did not improve from 0.84000\n",
            "50/50 [==============================] - 70s 1s/step - loss: 0.8484 - accuracy: 0.7080 - val_loss: 0.6570 - val_accuracy: 0.8400 - lr: 1.0000e-05\n",
            "Epoch 56/100\n",
            "50/50 [==============================] - ETA: 0s - loss: 0.9037 - accuracy: 0.6660\n",
            "Epoch 56: val_accuracy did not improve from 0.84000\n",
            "50/50 [==============================] - 70s 1s/step - loss: 0.9037 - accuracy: 0.6660 - val_loss: 0.6548 - val_accuracy: 0.8000 - lr: 1.0000e-05\n",
            "Epoch 57/100\n",
            "50/50 [==============================] - ETA: 0s - loss: 0.9502 - accuracy: 0.6600\n",
            "Epoch 57: val_accuracy did not improve from 0.84000\n",
            "50/50 [==============================] - 73s 1s/step - loss: 0.9502 - accuracy: 0.6600 - val_loss: 0.6578 - val_accuracy: 0.7800 - lr: 1.0000e-05\n",
            "Epoch 58/100\n",
            "50/50 [==============================] - ETA: 0s - loss: 0.8809 - accuracy: 0.7000\n",
            "Epoch 58: val_accuracy improved from 0.84000 to 0.86000, saving model to best_model1.h5\n",
            "50/50 [==============================] - 69s 1s/step - loss: 0.8809 - accuracy: 0.7000 - val_loss: 0.4911 - val_accuracy: 0.8600 - lr: 1.0000e-05\n",
            "Epoch 59/100\n",
            "50/50 [==============================] - ETA: 0s - loss: 0.8693 - accuracy: 0.6880\n",
            "Epoch 59: val_accuracy did not improve from 0.86000\n",
            "50/50 [==============================] - 70s 1s/step - loss: 0.8693 - accuracy: 0.6880 - val_loss: 0.7240 - val_accuracy: 0.7600 - lr: 1.0000e-05\n",
            "Epoch 60/100\n",
            "50/50 [==============================] - ETA: 0s - loss: 0.8673 - accuracy: 0.6960\n",
            "Epoch 60: val_accuracy did not improve from 0.86000\n",
            "50/50 [==============================] - 74s 1s/step - loss: 0.8673 - accuracy: 0.6960 - val_loss: 0.8447 - val_accuracy: 0.7400 - lr: 1.0000e-05\n",
            "Epoch 61/100\n",
            "50/50 [==============================] - ETA: 0s - loss: 0.8712 - accuracy: 0.6880\n",
            "Epoch 61: val_accuracy did not improve from 0.86000\n",
            "50/50 [==============================] - 70s 1s/step - loss: 0.8712 - accuracy: 0.6880 - val_loss: 0.7357 - val_accuracy: 0.7600 - lr: 1.0000e-05\n",
            "Epoch 62/100\n",
            "50/50 [==============================] - ETA: 0s - loss: 0.7743 - accuracy: 0.7540\n",
            "Epoch 62: val_accuracy did not improve from 0.86000\n",
            "50/50 [==============================] - 70s 1s/step - loss: 0.7743 - accuracy: 0.7540 - val_loss: 0.7273 - val_accuracy: 0.7200 - lr: 1.0000e-05\n",
            "Epoch 63/100\n",
            "50/50 [==============================] - ETA: 0s - loss: 0.9257 - accuracy: 0.6720\n",
            "Epoch 63: val_accuracy did not improve from 0.86000\n",
            "50/50 [==============================] - 73s 1s/step - loss: 0.9257 - accuracy: 0.6720 - val_loss: 0.6114 - val_accuracy: 0.8000 - lr: 1.0000e-05\n",
            "Epoch 64/100\n",
            "50/50 [==============================] - ETA: 0s - loss: 0.9321 - accuracy: 0.6540\n",
            "Epoch 64: val_accuracy did not improve from 0.86000\n",
            "50/50 [==============================] - 69s 1s/step - loss: 0.9321 - accuracy: 0.6540 - val_loss: 0.8945 - val_accuracy: 0.6200 - lr: 1.0000e-05\n",
            "Epoch 65/100\n",
            "50/50 [==============================] - ETA: 0s - loss: 0.9575 - accuracy: 0.6667\n",
            "Epoch 65: val_accuracy did not improve from 0.86000\n",
            "50/50 [==============================] - 70s 1s/step - loss: 0.9575 - accuracy: 0.6667 - val_loss: 0.6626 - val_accuracy: 0.7600 - lr: 1.0000e-05\n",
            "Epoch 66/100\n",
            "50/50 [==============================] - ETA: 0s - loss: 0.9017 - accuracy: 0.6680\n",
            "Epoch 66: val_accuracy did not improve from 0.86000\n",
            "50/50 [==============================] - 74s 1s/step - loss: 0.9017 - accuracy: 0.6680 - val_loss: 0.6005 - val_accuracy: 0.8000 - lr: 1.0000e-05\n",
            "Epoch 67/100\n",
            "50/50 [==============================] - ETA: 0s - loss: 0.8405 - accuracy: 0.6860\n",
            "Epoch 67: val_accuracy did not improve from 0.86000\n",
            "50/50 [==============================] - 69s 1s/step - loss: 0.8405 - accuracy: 0.6860 - val_loss: 0.5967 - val_accuracy: 0.7800 - lr: 1.0000e-05\n",
            "Epoch 68/100\n",
            "50/50 [==============================] - ETA: 0s - loss: 0.8785 - accuracy: 0.6920\n",
            "Epoch 68: val_accuracy did not improve from 0.86000\n",
            "50/50 [==============================] - 71s 1s/step - loss: 0.8785 - accuracy: 0.6920 - val_loss: 0.6037 - val_accuracy: 0.8000 - lr: 1.0000e-05\n",
            "Epoch 69/100\n",
            "50/50 [==============================] - ETA: 0s - loss: 0.9108 - accuracy: 0.6800\n",
            "Epoch 69: val_accuracy did not improve from 0.86000\n",
            "50/50 [==============================] - 71s 1s/step - loss: 0.9108 - accuracy: 0.6800 - val_loss: 0.8274 - val_accuracy: 0.6600 - lr: 1.0000e-05\n",
            "Epoch 70/100\n",
            "50/50 [==============================] - ETA: 0s - loss: 0.9218 - accuracy: 0.6820\n",
            "Epoch 70: val_accuracy did not improve from 0.86000\n",
            "50/50 [==============================] - 70s 1s/step - loss: 0.9218 - accuracy: 0.6820 - val_loss: 0.5030 - val_accuracy: 0.8200 - lr: 1.0000e-05\n",
            "Epoch 71/100\n",
            "50/50 [==============================] - ETA: 0s - loss: 0.8072 - accuracy: 0.7140\n",
            "Epoch 71: val_accuracy did not improve from 0.86000\n",
            "50/50 [==============================] - 70s 1s/step - loss: 0.8072 - accuracy: 0.7140 - val_loss: 0.7306 - val_accuracy: 0.7600 - lr: 1.0000e-05\n",
            "Epoch 72/100\n",
            "50/50 [==============================] - ETA: 0s - loss: 0.8647 - accuracy: 0.6980\n",
            "Epoch 72: val_accuracy did not improve from 0.86000\n",
            "50/50 [==============================] - 73s 1s/step - loss: 0.8647 - accuracy: 0.6980 - val_loss: 0.4486 - val_accuracy: 0.8400 - lr: 1.0000e-05\n",
            "Epoch 73/100\n",
            "50/50 [==============================] - ETA: 0s - loss: 0.9600 - accuracy: 0.6380\n",
            "Epoch 73: val_accuracy did not improve from 0.86000\n",
            "50/50 [==============================] - 69s 1s/step - loss: 0.9600 - accuracy: 0.6380 - val_loss: 0.5071 - val_accuracy: 0.8400 - lr: 1.0000e-05\n",
            "Epoch 74/100\n",
            "50/50 [==============================] - ETA: 0s - loss: 0.8366 - accuracy: 0.7040\n",
            "Epoch 74: val_accuracy did not improve from 0.86000\n",
            "50/50 [==============================] - 69s 1s/step - loss: 0.8366 - accuracy: 0.7040 - val_loss: 0.5415 - val_accuracy: 0.8400 - lr: 1.0000e-05\n",
            "Epoch 75/100\n",
            "50/50 [==============================] - ETA: 0s - loss: 0.8449 - accuracy: 0.7060\n",
            "Epoch 75: val_accuracy did not improve from 0.86000\n",
            "50/50 [==============================] - 72s 1s/step - loss: 0.8449 - accuracy: 0.7060 - val_loss: 0.9737 - val_accuracy: 0.6600 - lr: 1.0000e-05\n",
            "Epoch 76/100\n",
            "50/50 [==============================] - ETA: 0s - loss: 0.9007 - accuracy: 0.6580\n",
            "Epoch 76: val_accuracy did not improve from 0.86000\n",
            "50/50 [==============================] - 70s 1s/step - loss: 0.9007 - accuracy: 0.6580 - val_loss: 0.5683 - val_accuracy: 0.8600 - lr: 1.0000e-05\n",
            "Epoch 77/100\n",
            "50/50 [==============================] - ETA: 0s - loss: 0.8739 - accuracy: 0.7080\n",
            "Epoch 77: val_accuracy did not improve from 0.86000\n",
            "50/50 [==============================] - 70s 1s/step - loss: 0.8739 - accuracy: 0.7080 - val_loss: 0.6372 - val_accuracy: 0.7800 - lr: 1.0000e-05\n",
            "Epoch 78/100\n",
            "50/50 [==============================] - ETA: 0s - loss: 0.8566 - accuracy: 0.6940\n",
            "Epoch 78: val_accuracy did not improve from 0.86000\n",
            "50/50 [==============================] - 69s 1s/step - loss: 0.8566 - accuracy: 0.6940 - val_loss: 0.6849 - val_accuracy: 0.6800 - lr: 1.0000e-05\n",
            "Epoch 78: early stopping\n"
          ]
        }
      ],
      "source": [
        "history = network.fit_generator(train_dataset,\n",
        "                                steps_per_epoch = 50,\n",
        "                                validation_data = validation_dataset,\n",
        "                                validation_steps = 50,\n",
        "                                epochs=100,\n",
        "                                callbacks=[es, model_cp, learning_rate_reduction])"
      ]
    },
    {
      "cell_type": "markdown",
      "metadata": {
        "id": "0yfuhbovltQA"
      },
      "source": []
    },
    {
      "cell_type": "code",
      "execution_count": 39,
      "metadata": {
        "id": "4xXIb__YN8jO"
      },
      "outputs": [],
      "source": [
        "predictions=network.predict(test_datatset)\n",
        "predictions = np.argmax(predictions, axis=1)"
      ]
    },
    {
      "cell_type": "code",
      "execution_count": 40,
      "metadata": {
        "colab": {
          "base_uri": "https://localhost:8080/"
        },
        "id": "MfitKd4WOO0c",
        "outputId": "cc696241-c054-48d5-b3f6-12be7fb46f03"
      },
      "outputs": [
        {
          "output_type": "execute_result",
          "data": {
            "text/plain": [
              "0.7865329512893983"
            ]
          },
          "metadata": {},
          "execution_count": 40
        }
      ],
      "source": [
        "from sklearn.metrics import accuracy_score\n",
        "accuracy_score(test_datatset.classes, predictions)"
      ]
    },
    {
      "cell_type": "code",
      "execution_count": 41,
      "metadata": {
        "colab": {
          "base_uri": "https://localhost:8080/",
          "height": 430
        },
        "id": "CwufQs6AOjVu",
        "outputId": "09c62898-daaa-4645-8f53-a39311dcbf1d"
      },
      "outputs": [
        {
          "output_type": "display_data",
          "data": {
            "text/plain": [
              "<Figure size 640x480 with 2 Axes>"
            ],
            "image/png": "[encoded data removed]"
          },
          "metadata": {}
        }
      ],
      "source": [
        "from sklearn.metrics import confusion_matrix\n",
        "cm = confusion_matrix(test_datatset.classes, predictions)\n",
        "sns.heatmap(cm, annot=True);"
      ]
    },
    {
      "cell_type": "code",
      "execution_count": 42,
      "metadata": {
        "colab": {
          "base_uri": "https://localhost:8080/"
        },
        "id": "lfg484OCPGqq",
        "outputId": "0b94f9e7-deb5-4e94-9c55-204dfb2cc099"
      },
      "outputs": [
        {
          "output_type": "stream",
          "name": "stdout",
          "text": [
            "              precision    recall  f1-score   support\n",
            "\n",
            "           0       0.82      0.96      0.89       198\n",
            "           1       0.98      0.99      0.99       200\n",
            "           2       0.69      0.67      0.68       200\n",
            "           3       0.64      0.48      0.55       199\n",
            "           4       0.82      0.91      0.86       200\n",
            "           5       0.76      0.60      0.67       199\n",
            "           6       0.75      0.89      0.81       200\n",
            "\n",
            "    accuracy                           0.79      1396\n",
            "   macro avg       0.78      0.79      0.78      1396\n",
            "weighted avg       0.78      0.79      0.78      1396\n",
            "\n"
          ]
        }
      ],
      "source": [
        "from sklearn.metrics import classification_report\n",
        "print(classification_report(test_datatset.classes, predictions))"
      ]
    },
    {
      "cell_type": "code",
      "execution_count": 43,
      "metadata": {
        "colab": {
          "base_uri": "https://localhost:8080/",
          "height": 472
        },
        "id": "AwBdQqe9Porm",
        "outputId": "5880f2a0-669a-4c47-df14-2f1af53f5f5f"
      },
      "outputs": [
        {
          "output_type": "display_data",
          "data": {
            "text/plain": [
              "<Figure size 640x480 with 1 Axes>"
            ],
            "image/png": "[encoded data removed]"
          },
          "metadata": {}
        }
      ],
      "source": [
        "plt.plot(history.history['accuracy'])\n",
        "plt.plot(history.history['val_accuracy'])\n",
        "plt.title('model accuracy')\n",
        "plt.ylabel('accuracy')\n",
        "plt.xlabel('epoch')\n",
        "plt.legend(['train', 'val'], loc='upper left')\n",
        "plt.show()"
      ]
    },
    {
      "cell_type": "code",
      "execution_count": 44,
      "metadata": {
        "colab": {
          "base_uri": "https://localhost:8080/",
          "height": 472
        },
        "id": "vVr7AUw8SNre",
        "outputId": "94635462-3bc1-4406-920b-863fdf994d5f"
      },
      "outputs": [
        {
          "output_type": "display_data",
          "data": {
            "text/plain": [
              "<Figure size 640x480 with 1 Axes>"
            ],
            "image/png": "[encoded data removed]"
          },
          "metadata": {}
        }
      ],
      "source": [
        "plt.plot(history.history['loss'])\n",
        "plt.plot(history.history['val_loss'])\n",
        "plt.title('model loss')\n",
        "plt.ylabel('loss')\n",
        "plt.xlabel('epoch')\n",
        "plt.legend(['train', 'val'], loc='upper left')\n",
        "plt.show()"
      ]
    },
    {
      "cell_type": "code",
      "execution_count": 45,
      "metadata": {
        "id": "pnmlR6M8gih2"
      },
      "outputs": [],
      "source": [
        "from tensorflow.keras.models import load_model\n",
        "model = load_model('/content/best_model1.h5')"
      ]
    },
    {
      "cell_type": "code",
      "execution_count": 46,
      "metadata": {
        "colab": {
          "base_uri": "https://localhost:8080/"
        },
        "id": "P5SUDIaUg8-G",
        "outputId": "7d4976ed-0050-476b-85cc-6b9a639e6f89"
      },
      "outputs": [
        {
          "output_type": "stream",
          "name": "stdout",
          "text": [
            "1396/1396 [==============================] - 58s 41ms/step - loss: 0.6815 - accuracy: 0.7865\n"
          ]
        },
        {
          "output_type": "execute_result",
          "data": {
            "text/plain": [
              "[0.6815052032470703, 0.7865329384803772]"
            ]
          },
          "metadata": {},
          "execution_count": 46
        }
      ],
      "source": [
        "model.evaluate(test_datatset)"
      ]
    },
    {
      "cell_type": "code",
      "execution_count": 47,
      "metadata": {
        "colab": {
          "base_uri": "https://localhost:8080/",
          "height": 430
        },
        "id": "Zqq4ec2JhKgt",
        "outputId": "14ed4b05-0bfc-4a25-9952-e7a72fe999a8"
      },
      "outputs": [
        {
          "output_type": "display_data",
          "data": {
            "text/plain": [
              "<Figure size 640x480 with 2 Axes>"
            ],
            "image/png": "[encoded data removed]"
          },
          "metadata": {}
        }
      ],
      "source": [
        "pred = model.predict(test_datatset)\n",
        "pred = np.argmax(pred, axis=1)\n",
        "cm = confusion_matrix(test_datatset.classes, pred)\n",
        "sns.heatmap(cm, annot=True);"
      ]
    },
    {
      "cell_type": "code",
      "execution_count": 48,
      "metadata": {
        "colab": {
          "base_uri": "https://localhost:8080/"
        },
        "id": "e2TSljdej81S",
        "outputId": "90494d28-3055-4c25-e2db-59c02636b73b"
      },
      "outputs": [
        {
          "output_type": "stream",
          "name": "stdout",
          "text": [
            "              precision    recall  f1-score   support\n",
            "\n",
            "           0       0.81      0.96      0.88       198\n",
            "           1       0.98      0.99      0.98       200\n",
            "           2       0.70      0.68      0.69       200\n",
            "           3       0.62      0.48      0.54       199\n",
            "           4       0.81      0.91      0.85       200\n",
            "           5       0.82      0.61      0.70       199\n",
            "           6       0.74      0.88      0.81       200\n",
            "\n",
            "    accuracy                           0.79      1396\n",
            "   macro avg       0.78      0.79      0.78      1396\n",
            "weighted avg       0.78      0.79      0.78      1396\n",
            "\n"
          ]
        }
      ],
      "source": [
        "print(classification_report(test_datatset.classes, pred))"
      ]
    },
    {
      "cell_type": "code",
      "execution_count": 49,
      "metadata": {
        "id": "jzbwiv0ikEVG"
      },
      "outputs": [],
      "source": [
        "network.save('network.h5')"
      ]
    },
    {
      "cell_type": "code",
      "execution_count": 50,
      "metadata": {
        "id": "mTxEZdsQtlC4"
      },
      "outputs": [],
      "source": [
        "net = load_model('/content/network.h5')"
      ]
    },
    {
      "cell_type": "code",
      "execution_count": 51,
      "metadata": {
        "colab": {
          "base_uri": "https://localhost:8080/"
        },
        "id": "JgEg6VxztpAx",
        "outputId": "849f8a31-0f89-4b9f-864e-a3fcc66955d7"
      },
      "outputs": [
        {
          "output_type": "stream",
          "name": "stdout",
          "text": [
            "1396/1396 [==============================] - 57s 40ms/step - loss: 0.6680 - accuracy: 0.7865\n"
          ]
        },
        {
          "output_type": "execute_result",
          "data": {
            "text/plain": [
              "[0.6679770350456238, 0.7865329384803772]"
            ]
          },
          "metadata": {},
          "execution_count": 51
        }
      ],
      "source": [
        "net.evaluate(test_datatset)"
      ]
    },
    {
      "cell_type": "code",
      "execution_count": 52,
      "metadata": {
        "colab": {
          "base_uri": "https://localhost:8080/",
          "height": 430
        },
        "id": "6wbroQ7EvUvp",
        "outputId": "82ae6f5e-459b-4753-8b97-3730ecbadb75"
      },
      "outputs": [
        {
          "output_type": "display_data",
          "data": {
            "text/plain": [
              "<Figure size 640x480 with 2 Axes>"
            ],
            "image/png": "[encoded data removed]"
          },
          "metadata": {}
        }
      ],
      "source": [
        "pre = net.predict(test_datatset)\n",
        "pre = np.argmax(pre, axis=1)\n",
        "cm = confusion_matrix(test_datatset.classes, pre)\n",
        "sns.heatmap(cm, annot=True);"
      ]
    },
    {
      "cell_type": "code",
      "execution_count": 54,
      "metadata": {
        "colab": {
          "base_uri": "https://localhost:8080/"
        },
        "id": "0c6L1deT_TAY",
        "outputId": "73aef568-e56f-4b78-905a-dc3e64e298b1"
      },
      "outputs": [
        {
          "output_type": "stream",
          "name": "stdout",
          "text": [
            "              precision    recall  f1-score   support\n",
            "\n",
            "           0       0.81      0.96      0.88       198\n",
            "           1       0.98      0.99      0.98       200\n",
            "           2       0.70      0.68      0.69       200\n",
            "           3       0.62      0.48      0.54       199\n",
            "           4       0.81      0.91      0.85       200\n",
            "           5       0.82      0.61      0.70       199\n",
            "           6       0.74      0.88      0.81       200\n",
            "\n",
            "    accuracy                           0.79      1396\n",
            "   macro avg       0.78      0.79      0.78      1396\n",
            "weighted avg       0.78      0.79      0.78      1396\n",
            "\n"
          ]
        }
      ],
      "source": [
        "print(classification_report(test_datatset.classes, pred))"
      ]
    },
    {
      "cell_type": "markdown",
      "source": [],
      "metadata": {
        "id": "I501GKF6LLsg"
      }
    }
  ],
  "metadata": {
    "colab": {
      "provenance": [],
      "include_colab_link": true
    },
    "kernelspec": {
      "display_name": "Python 3",
      "name": "python3"
    },
    "language_info": {
      "name": "python"
    }
  },
  "nbformat": 4,
  "nbformat_minor": 0
}