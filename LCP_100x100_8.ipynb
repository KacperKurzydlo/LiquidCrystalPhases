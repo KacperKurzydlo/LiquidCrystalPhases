{
  "cells": [
    {
      "cell_type": "markdown",
      "metadata": {
        "id": "view-in-github",
        "colab_type": "text"
      },
      "source": [
        "<a href=\"https://colab.research.google.com/github/KacperKurzydlo/LiquidCrystalPhases/blob/main/LCP_100x100_8.ipynb\" target=\"_parent\"><img src=\"https://colab.research.google.com/assets/colab-badge.svg\" alt=\"Open In Colab\"/></a>"
      ]
    },
    {
      "cell_type": "code",
      "execution_count": 1,
      "metadata": {
        "colab": {
          "base_uri": "https://localhost:8080/"
        },
        "id": "647sNsjCJ0hX",
        "outputId": "09f29af9-2c25-4b99-e13c-078281b143de"
      },
      "outputs": [
        {
          "output_type": "stream",
          "name": "stdout",
          "text": [
            "Requirement already satisfied: h5py in /usr/local/lib/python3.10/dist-packages (3.8.0)\n",
            "Requirement already satisfied: numpy>=1.14.5 in /usr/local/lib/python3.10/dist-packages (from h5py) (1.22.4)\n",
            "Requirement already satisfied: typing-extensions in /usr/local/lib/python3.10/dist-packages (4.7.1)\n",
            "Requirement already satisfied: wheel in /usr/local/lib/python3.10/dist-packages (0.41.0)\n"
          ]
        }
      ],
      "source": [
        "!pip install h5py\n",
        "!pip install typing-extensions\n",
        "!pip install wheel"
      ]
    },
    {
      "cell_type": "code",
      "execution_count": 2,
      "metadata": {
        "colab": {
          "base_uri": "https://localhost:8080/"
        },
        "id": "kq6qJdUqIWCQ",
        "outputId": "5bbe1b0d-742b-4fe9-cb80-a47eb9197881"
      },
      "outputs": [
        {
          "output_type": "stream",
          "name": "stdout",
          "text": [
            "Collecting tensorflow==2.8\n",
            "  Downloading tensorflow-2.8.0-cp310-cp310-manylinux2010_x86_64.whl (497.6 MB)\n",
            "\u001b[2K     \u001b[90m━━━━━━━━━━━━━━━━━━━━━━━━━━━━━━━━━━━━━━━\u001b[0m \u001b[32m497.6/497.6 MB\u001b[0m \u001b[31m3.3 MB/s\u001b[0m eta \u001b[36m0:00:00\u001b[0m\n",
            "\u001b[?25hRequirement already satisfied: absl-py>=0.4.0 in /usr/local/lib/python3.10/dist-packages (from tensorflow==2.8) (1.4.0)\n",
            "Requirement already satisfied: astunparse>=1.6.0 in /usr/local/lib/python3.10/dist-packages (from tensorflow==2.8) (1.6.3)\n",
            "Requirement already satisfied: flatbuffers>=1.12 in /usr/local/lib/python3.10/dist-packages (from tensorflow==2.8) (23.5.26)\n",
            "Requirement already satisfied: gast>=0.2.1 in /usr/local/lib/python3.10/dist-packages (from tensorflow==2.8) (0.4.0)\n",
            "Requirement already satisfied: google-pasta>=0.1.1 in /usr/local/lib/python3.10/dist-packages (from tensorflow==2.8) (0.2.0)\n",
            "Requirement already satisfied: h5py>=2.9.0 in /usr/local/lib/python3.10/dist-packages (from tensorflow==2.8) (3.8.0)\n",
            "Collecting keras-preprocessing>=1.1.1 (from tensorflow==2.8)\n",
            "  Downloading Keras_Preprocessing-1.1.2-py2.py3-none-any.whl (42 kB)\n",
            "\u001b[2K     \u001b[90m━━━━━━━━━━━━━━━━━━━━━━━━━━━━━━━━━━━━━━━━\u001b[0m \u001b[32m42.6/42.6 kB\u001b[0m \u001b[31m4.3 MB/s\u001b[0m eta \u001b[36m0:00:00\u001b[0m\n",
            "\u001b[?25hRequirement already satisfied: libclang>=9.0.1 in /usr/local/lib/python3.10/dist-packages (from tensorflow==2.8) (16.0.6)\n",
            "Requirement already satisfied: numpy>=1.20 in /usr/local/lib/python3.10/dist-packages (from tensorflow==2.8) (1.22.4)\n",
            "Requirement already satisfied: opt-einsum>=2.3.2 in /usr/local/lib/python3.10/dist-packages (from tensorflow==2.8) (3.3.0)\n",
            "Requirement already satisfied: protobuf>=3.9.2 in /usr/local/lib/python3.10/dist-packages (from tensorflow==2.8) (3.20.3)\n",
            "Requirement already satisfied: setuptools in /usr/local/lib/python3.10/dist-packages (from tensorflow==2.8) (67.7.2)\n",
            "Requirement already satisfied: six>=1.12.0 in /usr/local/lib/python3.10/dist-packages (from tensorflow==2.8) (1.16.0)\n",
            "Requirement already satisfied: termcolor>=1.1.0 in /usr/local/lib/python3.10/dist-packages (from tensorflow==2.8) (2.3.0)\n",
            "Requirement already satisfied: typing-extensions>=3.6.6 in /usr/local/lib/python3.10/dist-packages (from tensorflow==2.8) (4.7.1)\n",
            "Requirement already satisfied: wrapt>=1.11.0 in /usr/local/lib/python3.10/dist-packages (from tensorflow==2.8) (1.14.1)\n",
            "Collecting tensorboard<2.9,>=2.8 (from tensorflow==2.8)\n",
            "  Downloading tensorboard-2.8.0-py3-none-any.whl (5.8 MB)\n",
            "\u001b[2K     \u001b[90m━━━━━━━━━━━━━━━━━━━━━━━━━━━━━━━━━━━━━━━━\u001b[0m \u001b[32m5.8/5.8 MB\u001b[0m \u001b[31m100.8 MB/s\u001b[0m eta \u001b[36m0:00:00\u001b[0m\n",
            "\u001b[?25hCollecting tf-estimator-nightly==2.8.0.dev2021122109 (from tensorflow==2.8)\n",
            "  Downloading tf_estimator_nightly-2.8.0.dev2021122109-py2.py3-none-any.whl (462 kB)\n",
            "\u001b[2K     \u001b[90m━━━━━━━━━━━━━━━━━━━━━━━━━━━━━━━━━━━━━━\u001b[0m \u001b[32m462.5/462.5 kB\u001b[0m \u001b[31m41.4 MB/s\u001b[0m eta \u001b[36m0:00:00\u001b[0m\n",
            "\u001b[?25hCollecting keras<2.9,>=2.8.0rc0 (from tensorflow==2.8)\n",
            "  Downloading keras-2.8.0-py2.py3-none-any.whl (1.4 MB)\n",
            "\u001b[2K     \u001b[90m━━━━━━━━━━━━━━━━━━━━━━━━━━━━━━━━━━━━━━━━\u001b[0m \u001b[32m1.4/1.4 MB\u001b[0m \u001b[31m85.3 MB/s\u001b[0m eta \u001b[36m0:00:00\u001b[0m\n",
            "\u001b[?25hRequirement already satisfied: tensorflow-io-gcs-filesystem>=0.23.1 in /usr/local/lib/python3.10/dist-packages (from tensorflow==2.8) (0.32.0)\n",
            "Requirement already satisfied: grpcio<2.0,>=1.24.3 in /usr/local/lib/python3.10/dist-packages (from tensorflow==2.8) (1.56.2)\n",
            "Requirement already satisfied: wheel<1.0,>=0.23.0 in /usr/local/lib/python3.10/dist-packages (from astunparse>=1.6.0->tensorflow==2.8) (0.41.0)\n",
            "Requirement already satisfied: google-auth<3,>=1.6.3 in /usr/local/lib/python3.10/dist-packages (from tensorboard<2.9,>=2.8->tensorflow==2.8) (2.17.3)\n",
            "Collecting google-auth-oauthlib<0.5,>=0.4.1 (from tensorboard<2.9,>=2.8->tensorflow==2.8)\n",
            "  Downloading google_auth_oauthlib-0.4.6-py2.py3-none-any.whl (18 kB)\n",
            "Requirement already satisfied: markdown>=2.6.8 in /usr/local/lib/python3.10/dist-packages (from tensorboard<2.9,>=2.8->tensorflow==2.8) (3.4.4)\n",
            "Requirement already satisfied: requests<3,>=2.21.0 in /usr/local/lib/python3.10/dist-packages (from tensorboard<2.9,>=2.8->tensorflow==2.8) (2.27.1)\n",
            "Collecting tensorboard-data-server<0.7.0,>=0.6.0 (from tensorboard<2.9,>=2.8->tensorflow==2.8)\n",
            "  Downloading tensorboard_data_server-0.6.1-py3-none-manylinux2010_x86_64.whl (4.9 MB)\n",
            "\u001b[2K     \u001b[90m━━━━━━━━━━━━━━━━━━━━━━━━━━━━━━━━━━━━━━━━\u001b[0m \u001b[32m4.9/4.9 MB\u001b[0m \u001b[31m123.0 MB/s\u001b[0m eta \u001b[36m0:00:00\u001b[0m\n",
            "\u001b[?25hCollecting tensorboard-plugin-wit>=1.6.0 (from tensorboard<2.9,>=2.8->tensorflow==2.8)\n",
            "  Downloading tensorboard_plugin_wit-1.8.1-py3-none-any.whl (781 kB)\n",
            "\u001b[2K     \u001b[90m━━━━━━━━━━━━━━━━━━━━━━━━━━━━━━━━━━━━━━\u001b[0m \u001b[32m781.3/781.3 kB\u001b[0m \u001b[31m59.9 MB/s\u001b[0m eta \u001b[36m0:00:00\u001b[0m\n",
            "\u001b[?25hRequirement already satisfied: werkzeug>=0.11.15 in /usr/local/lib/python3.10/dist-packages (from tensorboard<2.9,>=2.8->tensorflow==2.8) (2.3.6)\n",
            "Requirement already satisfied: cachetools<6.0,>=2.0.0 in /usr/local/lib/python3.10/dist-packages (from google-auth<3,>=1.6.3->tensorboard<2.9,>=2.8->tensorflow==2.8) (5.3.1)\n",
            "Requirement already satisfied: pyasn1-modules>=0.2.1 in /usr/local/lib/python3.10/dist-packages (from google-auth<3,>=1.6.3->tensorboard<2.9,>=2.8->tensorflow==2.8) (0.3.0)\n",
            "Requirement already satisfied: rsa<5,>=3.1.4 in /usr/local/lib/python3.10/dist-packages (from google-auth<3,>=1.6.3->tensorboard<2.9,>=2.8->tensorflow==2.8) (4.9)\n",
            "Requirement already satisfied: requests-oauthlib>=0.7.0 in /usr/local/lib/python3.10/dist-packages (from google-auth-oauthlib<0.5,>=0.4.1->tensorboard<2.9,>=2.8->tensorflow==2.8) (1.3.1)\n",
            "Requirement already satisfied: urllib3<1.27,>=1.21.1 in /usr/local/lib/python3.10/dist-packages (from requests<3,>=2.21.0->tensorboard<2.9,>=2.8->tensorflow==2.8) (1.26.16)\n",
            "Requirement already satisfied: certifi>=2017.4.17 in /usr/local/lib/python3.10/dist-packages (from requests<3,>=2.21.0->tensorboard<2.9,>=2.8->tensorflow==2.8) (2023.7.22)\n",
            "Requirement already satisfied: charset-normalizer~=2.0.0 in /usr/local/lib/python3.10/dist-packages (from requests<3,>=2.21.0->tensorboard<2.9,>=2.8->tensorflow==2.8) (2.0.12)\n",
            "Requirement already satisfied: idna<4,>=2.5 in /usr/local/lib/python3.10/dist-packages (from requests<3,>=2.21.0->tensorboard<2.9,>=2.8->tensorflow==2.8) (3.4)\n",
            "Requirement already satisfied: MarkupSafe>=2.1.1 in /usr/local/lib/python3.10/dist-packages (from werkzeug>=0.11.15->tensorboard<2.9,>=2.8->tensorflow==2.8) (2.1.3)\n",
            "Requirement already satisfied: pyasn1<0.6.0,>=0.4.6 in /usr/local/lib/python3.10/dist-packages (from pyasn1-modules>=0.2.1->google-auth<3,>=1.6.3->tensorboard<2.9,>=2.8->tensorflow==2.8) (0.5.0)\n",
            "Requirement already satisfied: oauthlib>=3.0.0 in /usr/local/lib/python3.10/dist-packages (from requests-oauthlib>=0.7.0->google-auth-oauthlib<0.5,>=0.4.1->tensorboard<2.9,>=2.8->tensorflow==2.8) (3.2.2)\n",
            "Installing collected packages: tf-estimator-nightly, tensorboard-plugin-wit, keras, tensorboard-data-server, keras-preprocessing, google-auth-oauthlib, tensorboard, tensorflow\n",
            "  Attempting uninstall: keras\n",
            "    Found existing installation: keras 2.12.0\n",
            "    Uninstalling keras-2.12.0:\n",
            "      Successfully uninstalled keras-2.12.0\n",
            "  Attempting uninstall: tensorboard-data-server\n",
            "    Found existing installation: tensorboard-data-server 0.7.1\n",
            "    Uninstalling tensorboard-data-server-0.7.1:\n",
            "      Successfully uninstalled tensorboard-data-server-0.7.1\n",
            "  Attempting uninstall: google-auth-oauthlib\n",
            "    Found existing installation: google-auth-oauthlib 1.0.0\n",
            "    Uninstalling google-auth-oauthlib-1.0.0:\n",
            "      Successfully uninstalled google-auth-oauthlib-1.0.0\n",
            "  Attempting uninstall: tensorboard\n",
            "    Found existing installation: tensorboard 2.12.3\n",
            "    Uninstalling tensorboard-2.12.3:\n",
            "      Successfully uninstalled tensorboard-2.12.3\n",
            "  Attempting uninstall: tensorflow\n",
            "    Found existing installation: tensorflow 2.12.0\n",
            "    Uninstalling tensorflow-2.12.0:\n",
            "      Successfully uninstalled tensorflow-2.12.0\n",
            "Successfully installed google-auth-oauthlib-0.4.6 keras-2.8.0 keras-preprocessing-1.1.2 tensorboard-2.8.0 tensorboard-data-server-0.6.1 tensorboard-plugin-wit-1.8.1 tensorflow-2.8.0 tf-estimator-nightly-2.8.0.dev2021122109\n"
          ]
        }
      ],
      "source": [
        "!pip install tensorflow==2.8"
      ]
    },
    {
      "cell_type": "code",
      "execution_count": 3,
      "metadata": {
        "colab": {
          "base_uri": "https://localhost:8080/",
          "height": 35
        },
        "id": "I0X9qkMXs_pp",
        "outputId": "3fa3627c-577d-42d9-9ba1-1006c5cb88cd"
      },
      "outputs": [
        {
          "output_type": "execute_result",
          "data": {
            "text/plain": [
              "'2.8.0'"
            ],
            "application/vnd.google.colaboratory.intrinsic+json": {
              "type": "string"
            }
          },
          "metadata": {},
          "execution_count": 3
        }
      ],
      "source": [
        "import matplotlib.pyplot as plt\n",
        "import seaborn as sns\n",
        "import zipfile\n",
        "import numpy as np\n",
        "import cv2\n",
        "from google.colab.patches import cv2_imshow\n",
        "import tensorflow as tf\n",
        "from tensorflow.keras.callbacks import ReduceLROnPlateau\n",
        "from tensorflow.keras import regularizers\n",
        "from tensorflow.keras.callbacks import ModelCheckpoint, EarlyStopping\n",
        "from tensorflow.keras.models import Sequential\n",
        "from tensorflow.keras.layers import Conv2D, MaxPool2D, Flatten, Dense, BatchNormalization, Dropout\n",
        "from tensorflow.keras.preprocessing.image import ImageDataGenerator\n",
        "tf.__version__"
      ]
    },
    {
      "cell_type": "code",
      "execution_count": 4,
      "metadata": {
        "colab": {
          "base_uri": "https://localhost:8080/"
        },
        "id": "yQMOvsd99H-V",
        "outputId": "c3f1ecba-5dbd-47b8-d69b-1b7b67a654cc"
      },
      "outputs": [
        {
          "output_type": "stream",
          "name": "stdout",
          "text": [
            "Mounted at /content/drive\n"
          ]
        }
      ],
      "source": [
        "from google.colab import drive\n",
        "drive.mount('/content/drive')"
      ]
    },
    {
      "cell_type": "code",
      "execution_count": 5,
      "metadata": {
        "id": "Y_BgiI3JxA9q"
      },
      "outputs": [],
      "source": [
        "path = '/content/drive/MyDrive/Praktyki/gotowe.zip'\n",
        "zip_object = zipfile.ZipFile(file=path, mode='r')\n",
        "zip_object.extractall('./')\n",
        "zip_object.close()"
      ]
    },
    {
      "cell_type": "code",
      "execution_count": 6,
      "metadata": {
        "id": "7-PhxwM60uM7"
      },
      "outputs": [],
      "source": [
        "training_generator = ImageDataGenerator(rescale=1./255,\n",
        "                                        horizontal_flip=True,\n",
        "                                        vertical_flip=True)\n"
      ]
    },
    {
      "cell_type": "code",
      "execution_count": 7,
      "metadata": {
        "colab": {
          "base_uri": "https://localhost:8080/"
        },
        "id": "jMErkkVv_mXw",
        "outputId": "737dc954-7e8e-4721-e787-cda0e91bee02"
      },
      "outputs": [
        {
          "output_type": "stream",
          "name": "stdout",
          "text": [
            "Found 11158 images belonging to 7 classes.\n"
          ]
        }
      ],
      "source": [
        "train_dataset = training_generator.flow_from_directory('/content/gotowe/train_set',\n",
        "                                                       target_size = (100, 100),\n",
        "                                                       batch_size = 10,\n",
        "                                                       color_mode='rgb',\n",
        "                                                       class_mode = 'categorical',\n",
        "                                                       shuffle = True)"
      ]
    },
    {
      "cell_type": "code",
      "execution_count": 8,
      "metadata": {
        "colab": {
          "base_uri": "https://localhost:8080/"
        },
        "id": "C4errPxfAukM",
        "outputId": "a58e4024-f73b-46cb-e71c-dcf26d74e5c9"
      },
      "outputs": [
        {
          "output_type": "execute_result",
          "data": {
            "text/plain": [
              "array([0, 0, 0, ..., 6, 6, 6], dtype=int32)"
            ]
          },
          "metadata": {},
          "execution_count": 8
        }
      ],
      "source": [
        "train_dataset.classes"
      ]
    },
    {
      "cell_type": "code",
      "execution_count": 9,
      "metadata": {
        "colab": {
          "base_uri": "https://localhost:8080/"
        },
        "id": "jYCiD3adA5xf",
        "outputId": "30d6f500-7af5-4fcd-8bf9-2c615c6f266b"
      },
      "outputs": [
        {
          "output_type": "execute_result",
          "data": {
            "text/plain": [
              "{'nematyk': 0,\n",
              " 'smektyk_C': 1,\n",
              " 'smektyk_F': 2,\n",
              " 'smektyk_GMosaic': 3,\n",
              " 'smektyk_GSchliren': 4,\n",
              " 'smektyk_H': 5,\n",
              " 'smektyk_I': 6}"
            ]
          },
          "metadata": {},
          "execution_count": 9
        }
      ],
      "source": [
        "train_dataset.class_indices"
      ]
    },
    {
      "cell_type": "code",
      "execution_count": 10,
      "metadata": {
        "id": "6VK7xyH-BkSq"
      },
      "outputs": [],
      "source": [
        "test_generator = ImageDataGenerator(rescale=1./255)\n",
        "val_generator = ImageDataGenerator(rescale=1./255)"
      ]
    },
    {
      "cell_type": "code",
      "execution_count": 11,
      "metadata": {
        "colab": {
          "base_uri": "https://localhost:8080/"
        },
        "id": "84kKwMy6U7oh",
        "outputId": "a4ec3a87-8dfd-401d-9a0e-5edabdca6762"
      },
      "outputs": [
        {
          "output_type": "stream",
          "name": "stdout",
          "text": [
            "Found 1395 images belonging to 7 classes.\n"
          ]
        }
      ],
      "source": [
        "validation_dataset = val_generator.flow_from_directory('/content/gotowe/val_set',\n",
        "                                                        target_size=(100, 100),\n",
        "                                                        batch_size=1,\n",
        "                                                        class_mode='categorical',\n",
        "                                                        color_mode='rgb',\n",
        "                                                        shuffle=True) # set as validation data"
      ]
    },
    {
      "cell_type": "code",
      "execution_count": 12,
      "metadata": {
        "id": "PB2pU5bzXPTa"
      },
      "outputs": [],
      "source": [
        "L2 = 0.00001"
      ]
    },
    {
      "cell_type": "code",
      "execution_count": 13,
      "metadata": {
        "colab": {
          "base_uri": "https://localhost:8080/"
        },
        "id": "SdqIBmxiBvU1",
        "outputId": "855d7767-7805-4c02-c060-2413b7d74f39"
      },
      "outputs": [
        {
          "output_type": "stream",
          "name": "stdout",
          "text": [
            "Found 1396 images belonging to 7 classes.\n"
          ]
        }
      ],
      "source": [
        "test_datatset = test_generator.flow_from_directory('/content/gotowe/test_set',\n",
        "                                                   target_size = (100, 100),\n",
        "                                                   batch_size = 1,\n",
        "                                                   color_mode='rgb',\n",
        "                                                   class_mode = 'categorical',\n",
        "                                                   shuffle = False)"
      ]
    },
    {
      "cell_type": "code",
      "execution_count": 14,
      "metadata": {
        "id": "xVLgf1bADs_C"
      },
      "outputs": [],
      "source": [
        "initializer1 = tf.keras.initializers.HeNormal()\n",
        "initializer2 = tf.keras.initializers.GlorotUniform()"
      ]
    },
    {
      "cell_type": "code",
      "execution_count": 118,
      "metadata": {
        "colab": {
          "base_uri": "https://localhost:8080/"
        },
        "id": "QTr7SiKfD6UI",
        "outputId": "61dac29e-6720-4ffa-ac20-2ff94477bba7"
      },
      "outputs": [
        {
          "output_type": "stream",
          "name": "stdout",
          "text": [
            "Model: \"sequential_11\"\n",
            "_________________________________________________________________\n",
            " Layer (type)                Output Shape              Param #   \n",
            "=================================================================\n",
            " conv2d_110 (Conv2D)         (None, 98, 98, 16)        448       \n",
            "                                                                 \n",
            " batch_normalization_131 (Ba  (None, 98, 98, 16)       64        \n",
            " tchNormalization)                                               \n",
            "                                                                 \n",
            " max_pooling2d_65 (MaxPoolin  (None, 49, 49, 16)       0         \n",
            " g2D)                                                            \n",
            "                                                                 \n",
            " conv2d_111 (Conv2D)         (None, 49, 49, 32)        12832     \n",
            "                                                                 \n",
            " batch_normalization_132 (Ba  (None, 49, 49, 32)       128       \n",
            " tchNormalization)                                               \n",
            "                                                                 \n",
            " max_pooling2d_66 (MaxPoolin  (None, 24, 24, 32)       0         \n",
            " g2D)                                                            \n",
            "                                                                 \n",
            " conv2d_112 (Conv2D)         (None, 24, 24, 64)        32832     \n",
            "                                                                 \n",
            " conv2d_113 (Conv2D)         (None, 24, 24, 64)        65600     \n",
            "                                                                 \n",
            " batch_normalization_133 (Ba  (None, 24, 24, 64)       256       \n",
            " tchNormalization)                                               \n",
            "                                                                 \n",
            " max_pooling2d_67 (MaxPoolin  (None, 12, 12, 64)       0         \n",
            " g2D)                                                            \n",
            "                                                                 \n",
            " conv2d_114 (Conv2D)         (None, 12, 12, 128)       131200    \n",
            "                                                                 \n",
            " conv2d_115 (Conv2D)         (None, 12, 12, 128)       262272    \n",
            "                                                                 \n",
            " batch_normalization_134 (Ba  (None, 12, 12, 128)      512       \n",
            " tchNormalization)                                               \n",
            "                                                                 \n",
            " max_pooling2d_68 (MaxPoolin  (None, 6, 6, 128)        0         \n",
            " g2D)                                                            \n",
            "                                                                 \n",
            " conv2d_116 (Conv2D)         (None, 6, 6, 256)         295168    \n",
            "                                                                 \n",
            " batch_normalization_135 (Ba  (None, 6, 6, 256)        1024      \n",
            " tchNormalization)                                               \n",
            "                                                                 \n",
            " max_pooling2d_69 (MaxPoolin  (None, 3, 3, 256)        0         \n",
            " g2D)                                                            \n",
            "                                                                 \n",
            " flatten_11 (Flatten)        (None, 2304)              0         \n",
            "                                                                 \n",
            " dense_77 (Dense)            (None, 512)               1180160   \n",
            "                                                                 \n",
            " batch_normalization_136 (Ba  (None, 512)              2048      \n",
            " tchNormalization)                                               \n",
            "                                                                 \n",
            " dense_78 (Dense)            (None, 256)               131328    \n",
            "                                                                 \n",
            " batch_normalization_137 (Ba  (None, 256)              1024      \n",
            " tchNormalization)                                               \n",
            "                                                                 \n",
            " dense_79 (Dense)            (None, 128)               32896     \n",
            "                                                                 \n",
            " batch_normalization_138 (Ba  (None, 128)              512       \n",
            " tchNormalization)                                               \n",
            "                                                                 \n",
            " dense_80 (Dense)            (None, 64)                8256      \n",
            "                                                                 \n",
            " batch_normalization_139 (Ba  (None, 64)               256       \n",
            " tchNormalization)                                               \n",
            "                                                                 \n",
            " dense_81 (Dense)            (None, 32)                2080      \n",
            "                                                                 \n",
            " batch_normalization_140 (Ba  (None, 32)               128       \n",
            " tchNormalization)                                               \n",
            "                                                                 \n",
            " dense_82 (Dense)            (None, 7)                 231       \n",
            "                                                                 \n",
            "=================================================================\n",
            "Total params: 2,161,255\n",
            "Trainable params: 2,158,279\n",
            "Non-trainable params: 2,976\n",
            "_________________________________________________________________\n"
          ]
        }
      ],
      "source": [
        "network = Sequential()\n",
        "\n",
        "network.add(Conv2D(filters=16, kernel_size=(3,3), activation = 'relu', input_shape = (100,100,3), kernel_initializer=initializer1))\n",
        "network.add(BatchNormalization())\n",
        "network.add(MaxPool2D(pool_size=(2,2)))\n",
        "\n",
        "network.add(Conv2D(filters=32, kernel_size=(5,5), activation = 'relu', padding='same', kernel_initializer=initializer1))\n",
        "network.add(BatchNormalization())\n",
        "network.add(MaxPool2D(pool_size=(2,2)))\n",
        "\n",
        "network.add(Conv2D(filters=64, kernel_size=(4,4), activation = 'relu', padding='same', kernel_initializer=initializer1))\n",
        "network.add(Conv2D(filters=64, kernel_size=(4,4), activation = 'relu', padding='same', kernel_initializer=initializer1))\n",
        "network.add(BatchNormalization())\n",
        "network.add(MaxPool2D(pool_size=(2,2)))\n",
        "\n",
        "network.add(Conv2D(filters=128, kernel_size=(4,4), activation = 'relu', padding='same', kernel_initializer=initializer1))\n",
        "network.add(Conv2D(filters=128, kernel_size=(4,4), activation = 'relu', padding='same', kernel_initializer=initializer1))\n",
        "network.add(BatchNormalization())\n",
        "network.add(MaxPool2D(pool_size=(2,2)))\n",
        "\n",
        "network.add(Conv2D(filters=256, kernel_size=(3,3), activation = 'relu', padding='same', kernel_initializer=initializer1))\n",
        "network.add(BatchNormalization())\n",
        "network.add(MaxPool2D(pool_size=(2,2)))\n",
        "\n",
        "#network.add(Conv2D(filters=512, kernel_size=(3,3), activation = 'relu', padding='same', kernel_initializer=initializer1))\n",
        "#network.add(BatchNormalization())\n",
        "#network.add(MaxPool2D(pool_size=(2,2)))\n",
        "\n",
        "#network.add(Conv2D(filters=1024, kernel_size=(3,3), activation = 'relu', padding='same', kernel_initializer=initializer1))\n",
        "#network.add(BatchNormalization())\n",
        "#network.add(MaxPool2D(pool_size=(2,2)))\n",
        "\n",
        "network.add(Flatten())\n",
        "\n",
        "#network.add(Dropout(0.2))\n",
        "\n",
        "#network.add(Dense(units = 1024, activation = 'relu', kernel_initializer=initializer1))\n",
        "#network.add(BatchNormalization())\n",
        "network.add(Dense(units = 512, activation = 'relu', kernel_initializer=initializer1))\n",
        "network.add(BatchNormalization())\n",
        "network.add(Dense(units = 256, activation = 'relu', kernel_initializer=initializer1))\n",
        "network.add(BatchNormalization())\n",
        "network.add(Dense(units = 128, activation = 'relu', kernel_initializer=initializer1))\n",
        "network.add(BatchNormalization())\n",
        "network.add(Dense(units = 64, activation = 'relu', kernel_initializer=initializer1))\n",
        "network.add(BatchNormalization())\n",
        "network.add(Dense(units = 32, activation = 'relu', kernel_initializer=initializer1, kernel_regularizer=tf.keras.regularizers.L1L2()))\n",
        "network.add(BatchNormalization())\n",
        "network.add(Dense(units = 7, activation = 'softmax', kernel_initializer=initializer2))\n",
        "network.summary()"
      ]
    },
    {
      "cell_type": "code",
      "execution_count": 119,
      "metadata": {
        "id": "6viOH_kUE4Bq"
      },
      "outputs": [],
      "source": [
        "from tensorflow.keras.optimizers import Adam\n",
        "#opt = Adam(lr=0.005)\n",
        "opt = Adam()\n",
        "network.compile(optimizer='Adam', loss='categorical_crossentropy', metrics = ['accuracy'])\n"
      ]
    },
    {
      "cell_type": "code",
      "execution_count": 120,
      "metadata": {
        "id": "5IXmjfYmbuYh"
      },
      "outputs": [],
      "source": [
        "es = EarlyStopping(monitor = 'val_accuracy', min_delta = 0.001, patience = 20, verbose =1)\n",
        "model_cp = ModelCheckpoint(filepath = 'best_model1.h5', monitor = 'val_accuracy', save_best_only = True, verbose = 1)\n",
        "learning_rate_reduction = ReduceLROnPlateau(monitor='val_accuracy', patience = 5, verbose=1, factor=0.5, min_lr=0.00001)"
      ]
    },
    {
      "cell_type": "code",
      "execution_count": 121,
      "metadata": {
        "colab": {
          "base_uri": "https://localhost:8080/"
        },
        "id": "Uk8BSV5gGazz",
        "outputId": "9e5bb09d-6457-456a-df70-9efda1d2071b"
      },
      "outputs": [
        {
          "output_type": "stream",
          "name": "stdout",
          "text": [
            "Epoch 1/100\n"
          ]
        },
        {
          "output_type": "stream",
          "name": "stderr",
          "text": [
            "<ipython-input-121-d45876fe1552>:1: UserWarning: `Model.fit_generator` is deprecated and will be removed in a future version. Please use `Model.fit`, which supports generators.\n",
            "  history = network.fit_generator(train_dataset,\n"
          ]
        },
        {
          "output_type": "stream",
          "name": "stdout",
          "text": [
            "50/50 [==============================] - ETA: 0s - loss: 1.8386 - accuracy: 0.3233\n",
            "Epoch 1: val_accuracy improved from -inf to 0.20000, saving model to best_model1.h5\n",
            "50/50 [==============================] - 17s 307ms/step - loss: 1.8386 - accuracy: 0.3233 - val_loss: 5.0227 - val_accuracy: 0.2000 - lr: 0.0010\n",
            "Epoch 2/100\n",
            "50/50 [==============================] - ETA: 0s - loss: 1.5600 - accuracy: 0.4200\n",
            "Epoch 2: val_accuracy improved from 0.20000 to 0.30000, saving model to best_model1.h5\n",
            "50/50 [==============================] - 15s 305ms/step - loss: 1.5600 - accuracy: 0.4200 - val_loss: 2.4425 - val_accuracy: 0.3000 - lr: 0.0010\n",
            "Epoch 3/100\n",
            "50/50 [==============================] - ETA: 0s - loss: 1.5348 - accuracy: 0.4340\n",
            "Epoch 3: val_accuracy did not improve from 0.30000\n",
            "50/50 [==============================] - 15s 300ms/step - loss: 1.5348 - accuracy: 0.4340 - val_loss: 2.6828 - val_accuracy: 0.2200 - lr: 0.0010\n",
            "Epoch 4/100\n",
            "50/50 [==============================] - ETA: 0s - loss: 1.4072 - accuracy: 0.4800\n",
            "Epoch 4: val_accuracy did not improve from 0.30000\n",
            "50/50 [==============================] - 15s 301ms/step - loss: 1.4072 - accuracy: 0.4800 - val_loss: 2.1328 - val_accuracy: 0.3000 - lr: 0.0010\n",
            "Epoch 5/100\n",
            "50/50 [==============================] - ETA: 0s - loss: 1.3452 - accuracy: 0.5000\n",
            "Epoch 5: val_accuracy did not improve from 0.30000\n",
            "50/50 [==============================] - 15s 301ms/step - loss: 1.3452 - accuracy: 0.5000 - val_loss: 2.0622 - val_accuracy: 0.2000 - lr: 0.0010\n",
            "Epoch 6/100\n",
            "50/50 [==============================] - ETA: 0s - loss: 1.3075 - accuracy: 0.5360\n",
            "Epoch 6: val_accuracy did not improve from 0.30000\n",
            "50/50 [==============================] - 16s 308ms/step - loss: 1.3075 - accuracy: 0.5360 - val_loss: 2.1553 - val_accuracy: 0.2400 - lr: 0.0010\n",
            "Epoch 7/100\n",
            "50/50 [==============================] - ETA: 0s - loss: 1.2570 - accuracy: 0.5580\n",
            "Epoch 7: val_accuracy improved from 0.30000 to 0.48000, saving model to best_model1.h5\n",
            "50/50 [==============================] - 15s 302ms/step - loss: 1.2570 - accuracy: 0.5580 - val_loss: 1.4156 - val_accuracy: 0.4800 - lr: 0.0010\n",
            "Epoch 8/100\n",
            "50/50 [==============================] - ETA: 0s - loss: 1.2280 - accuracy: 0.5400\n",
            "Epoch 8: val_accuracy improved from 0.48000 to 0.68000, saving model to best_model1.h5\n",
            "50/50 [==============================] - 15s 305ms/step - loss: 1.2280 - accuracy: 0.5400 - val_loss: 1.0937 - val_accuracy: 0.6800 - lr: 0.0010\n",
            "Epoch 9/100\n",
            "50/50 [==============================] - ETA: 0s - loss: 1.1651 - accuracy: 0.5660\n",
            "Epoch 9: val_accuracy did not improve from 0.68000\n",
            "50/50 [==============================] - 15s 302ms/step - loss: 1.1651 - accuracy: 0.5660 - val_loss: 1.2612 - val_accuracy: 0.5800 - lr: 0.0010\n",
            "Epoch 10/100\n",
            "50/50 [==============================] - ETA: 0s - loss: 1.1788 - accuracy: 0.5920\n",
            "Epoch 10: val_accuracy did not improve from 0.68000\n",
            "50/50 [==============================] - 15s 305ms/step - loss: 1.1788 - accuracy: 0.5920 - val_loss: 0.9267 - val_accuracy: 0.6600 - lr: 0.0010\n",
            "Epoch 11/100\n",
            "50/50 [==============================] - ETA: 0s - loss: 1.2154 - accuracy: 0.5560\n",
            "Epoch 11: val_accuracy did not improve from 0.68000\n",
            "50/50 [==============================] - 15s 300ms/step - loss: 1.2154 - accuracy: 0.5560 - val_loss: 1.3206 - val_accuracy: 0.5600 - lr: 0.0010\n",
            "Epoch 12/100\n",
            "50/50 [==============================] - ETA: 0s - loss: 1.2249 - accuracy: 0.5740\n",
            "Epoch 12: val_accuracy did not improve from 0.68000\n",
            "50/50 [==============================] - 15s 302ms/step - loss: 1.2249 - accuracy: 0.5740 - val_loss: 0.9928 - val_accuracy: 0.6000 - lr: 0.0010\n",
            "Epoch 13/100\n",
            "50/50 [==============================] - ETA: 0s - loss: 1.0884 - accuracy: 0.6240\n",
            "Epoch 13: val_accuracy did not improve from 0.68000\n",
            "\n",
            "Epoch 13: ReduceLROnPlateau reducing learning rate to 0.0005000000237487257.\n",
            "50/50 [==============================] - 15s 295ms/step - loss: 1.0884 - accuracy: 0.6240 - val_loss: 1.1579 - val_accuracy: 0.6400 - lr: 0.0010\n",
            "Epoch 14/100\n",
            "50/50 [==============================] - ETA: 0s - loss: 1.0752 - accuracy: 0.6260\n",
            "Epoch 14: val_accuracy improved from 0.68000 to 0.72000, saving model to best_model1.h5\n",
            "50/50 [==============================] - 15s 305ms/step - loss: 1.0752 - accuracy: 0.6260 - val_loss: 0.7719 - val_accuracy: 0.7200 - lr: 5.0000e-04\n",
            "Epoch 15/100\n",
            "50/50 [==============================] - ETA: 0s - loss: 1.0156 - accuracy: 0.6580\n",
            "Epoch 15: val_accuracy did not improve from 0.72000\n",
            "50/50 [==============================] - 15s 306ms/step - loss: 1.0156 - accuracy: 0.6580 - val_loss: 0.7324 - val_accuracy: 0.6800 - lr: 5.0000e-04\n",
            "Epoch 16/100\n",
            "50/50 [==============================] - ETA: 0s - loss: 1.0492 - accuracy: 0.6200\n",
            "Epoch 16: val_accuracy improved from 0.72000 to 0.76000, saving model to best_model1.h5\n",
            "50/50 [==============================] - 15s 305ms/step - loss: 1.0492 - accuracy: 0.6200 - val_loss: 0.8675 - val_accuracy: 0.7600 - lr: 5.0000e-04\n",
            "Epoch 17/100\n",
            "50/50 [==============================] - ETA: 0s - loss: 0.9886 - accuracy: 0.6340\n",
            "Epoch 17: val_accuracy did not improve from 0.76000\n",
            "50/50 [==============================] - 15s 302ms/step - loss: 0.9886 - accuracy: 0.6340 - val_loss: 0.7839 - val_accuracy: 0.7200 - lr: 5.0000e-04\n",
            "Epoch 18/100\n",
            "50/50 [==============================] - ETA: 0s - loss: 0.9685 - accuracy: 0.6480\n",
            "Epoch 18: val_accuracy did not improve from 0.76000\n",
            "50/50 [==============================] - 15s 302ms/step - loss: 0.9685 - accuracy: 0.6480 - val_loss: 0.7925 - val_accuracy: 0.7000 - lr: 5.0000e-04\n",
            "Epoch 19/100\n",
            "50/50 [==============================] - ETA: 0s - loss: 1.0738 - accuracy: 0.6300\n",
            "Epoch 19: val_accuracy improved from 0.76000 to 0.80000, saving model to best_model1.h5\n",
            "50/50 [==============================] - 15s 303ms/step - loss: 1.0738 - accuracy: 0.6300 - val_loss: 0.6233 - val_accuracy: 0.8000 - lr: 5.0000e-04\n",
            "Epoch 20/100\n",
            "50/50 [==============================] - ETA: 0s - loss: 0.9892 - accuracy: 0.6460\n",
            "Epoch 20: val_accuracy did not improve from 0.80000\n",
            "50/50 [==============================] - 15s 302ms/step - loss: 0.9892 - accuracy: 0.6460 - val_loss: 0.8086 - val_accuracy: 0.7400 - lr: 5.0000e-04\n",
            "Epoch 21/100\n",
            "50/50 [==============================] - ETA: 0s - loss: 0.8973 - accuracy: 0.6920\n",
            "Epoch 21: val_accuracy did not improve from 0.80000\n",
            "50/50 [==============================] - 15s 299ms/step - loss: 0.8973 - accuracy: 0.6920 - val_loss: 0.7489 - val_accuracy: 0.6800 - lr: 5.0000e-04\n",
            "Epoch 22/100\n",
            "50/50 [==============================] - ETA: 0s - loss: 0.9914 - accuracy: 0.6520\n",
            "Epoch 22: val_accuracy did not improve from 0.80000\n",
            "50/50 [==============================] - 15s 302ms/step - loss: 0.9914 - accuracy: 0.6520 - val_loss: 0.6796 - val_accuracy: 0.7600 - lr: 5.0000e-04\n",
            "Epoch 23/100\n",
            "50/50 [==============================] - ETA: 0s - loss: 0.9496 - accuracy: 0.6600\n",
            "Epoch 23: val_accuracy did not improve from 0.80000\n",
            "50/50 [==============================] - 15s 301ms/step - loss: 0.9496 - accuracy: 0.6600 - val_loss: 0.7428 - val_accuracy: 0.7400 - lr: 5.0000e-04\n",
            "Epoch 24/100\n",
            "50/50 [==============================] - ETA: 0s - loss: 0.9333 - accuracy: 0.6480\n",
            "Epoch 24: val_accuracy did not improve from 0.80000\n",
            "\n",
            "Epoch 24: ReduceLROnPlateau reducing learning rate to 0.0002500000118743628.\n",
            "50/50 [==============================] - 15s 301ms/step - loss: 0.9333 - accuracy: 0.6480 - val_loss: 0.7153 - val_accuracy: 0.7800 - lr: 5.0000e-04\n",
            "Epoch 25/100\n",
            "50/50 [==============================] - ETA: 0s - loss: 0.9370 - accuracy: 0.6660\n",
            "Epoch 25: val_accuracy improved from 0.80000 to 0.86000, saving model to best_model1.h5\n",
            "50/50 [==============================] - 15s 301ms/step - loss: 0.9370 - accuracy: 0.6660 - val_loss: 0.4856 - val_accuracy: 0.8600 - lr: 2.5000e-04\n",
            "Epoch 26/100\n",
            "50/50 [==============================] - ETA: 0s - loss: 0.8974 - accuracy: 0.6920\n",
            "Epoch 26: val_accuracy did not improve from 0.86000\n",
            "50/50 [==============================] - 15s 297ms/step - loss: 0.8974 - accuracy: 0.6920 - val_loss: 0.5751 - val_accuracy: 0.8200 - lr: 2.5000e-04\n",
            "Epoch 27/100\n",
            "50/50 [==============================] - ETA: 0s - loss: 0.9255 - accuracy: 0.6800\n",
            "Epoch 27: val_accuracy did not improve from 0.86000\n",
            "50/50 [==============================] - 15s 303ms/step - loss: 0.9255 - accuracy: 0.6800 - val_loss: 0.6928 - val_accuracy: 0.7000 - lr: 2.5000e-04\n",
            "Epoch 28/100\n",
            "50/50 [==============================] - ETA: 0s - loss: 0.9266 - accuracy: 0.6520\n",
            "Epoch 28: val_accuracy did not improve from 0.86000\n",
            "50/50 [==============================] - 15s 303ms/step - loss: 0.9266 - accuracy: 0.6520 - val_loss: 0.6701 - val_accuracy: 0.7600 - lr: 2.5000e-04\n",
            "Epoch 29/100\n",
            "50/50 [==============================] - ETA: 0s - loss: 0.8982 - accuracy: 0.7040\n",
            "Epoch 29: val_accuracy did not improve from 0.86000\n",
            "50/50 [==============================] - 15s 295ms/step - loss: 0.8982 - accuracy: 0.7040 - val_loss: 0.6555 - val_accuracy: 0.8000 - lr: 2.5000e-04\n",
            "Epoch 30/100\n",
            "50/50 [==============================] - ETA: 0s - loss: 0.9948 - accuracy: 0.6520\n",
            "Epoch 30: val_accuracy did not improve from 0.86000\n",
            "\n",
            "Epoch 30: ReduceLROnPlateau reducing learning rate to 0.0001250000059371814.\n",
            "50/50 [==============================] - 15s 302ms/step - loss: 0.9948 - accuracy: 0.6520 - val_loss: 0.5918 - val_accuracy: 0.8000 - lr: 2.5000e-04\n",
            "Epoch 31/100\n",
            "50/50 [==============================] - ETA: 0s - loss: 0.9246 - accuracy: 0.6720\n",
            "Epoch 31: val_accuracy did not improve from 0.86000\n",
            "50/50 [==============================] - 15s 301ms/step - loss: 0.9246 - accuracy: 0.6720 - val_loss: 0.7240 - val_accuracy: 0.7400 - lr: 1.2500e-04\n",
            "Epoch 32/100\n",
            "50/50 [==============================] - ETA: 0s - loss: 0.8451 - accuracy: 0.6980\n",
            "Epoch 32: val_accuracy improved from 0.86000 to 0.88000, saving model to best_model1.h5\n",
            "50/50 [==============================] - 15s 304ms/step - loss: 0.8451 - accuracy: 0.6980 - val_loss: 0.5873 - val_accuracy: 0.8800 - lr: 1.2500e-04\n",
            "Epoch 33/100\n",
            "50/50 [==============================] - ETA: 0s - loss: 0.7896 - accuracy: 0.7080\n",
            "Epoch 33: val_accuracy did not improve from 0.88000\n",
            "50/50 [==============================] - 15s 302ms/step - loss: 0.7896 - accuracy: 0.7080 - val_loss: 0.6755 - val_accuracy: 0.7800 - lr: 1.2500e-04\n",
            "Epoch 34/100\n",
            "50/50 [==============================] - ETA: 0s - loss: 0.8433 - accuracy: 0.6800\n",
            "Epoch 34: val_accuracy did not improve from 0.88000\n",
            "50/50 [==============================] - 15s 299ms/step - loss: 0.8433 - accuracy: 0.6800 - val_loss: 0.7103 - val_accuracy: 0.7200 - lr: 1.2500e-04\n",
            "Epoch 35/100\n",
            "50/50 [==============================] - ETA: 0s - loss: 0.8121 - accuracy: 0.7160\n",
            "Epoch 35: val_accuracy did not improve from 0.88000\n",
            "50/50 [==============================] - 15s 303ms/step - loss: 0.8121 - accuracy: 0.7160 - val_loss: 0.8580 - val_accuracy: 0.7000 - lr: 1.2500e-04\n",
            "Epoch 36/100\n",
            "50/50 [==============================] - ETA: 0s - loss: 0.7791 - accuracy: 0.7400\n",
            "Epoch 36: val_accuracy did not improve from 0.88000\n",
            "50/50 [==============================] - 15s 296ms/step - loss: 0.7791 - accuracy: 0.7400 - val_loss: 0.6178 - val_accuracy: 0.7800 - lr: 1.2500e-04\n",
            "Epoch 37/100\n",
            "50/50 [==============================] - ETA: 0s - loss: 0.8017 - accuracy: 0.7180\n",
            "Epoch 37: val_accuracy did not improve from 0.88000\n",
            "\n",
            "Epoch 37: ReduceLROnPlateau reducing learning rate to 6.25000029685907e-05.\n",
            "50/50 [==============================] - 15s 303ms/step - loss: 0.8017 - accuracy: 0.7180 - val_loss: 0.8174 - val_accuracy: 0.7200 - lr: 1.2500e-04\n",
            "Epoch 38/100\n",
            "50/50 [==============================] - ETA: 0s - loss: 0.8639 - accuracy: 0.7068\n",
            "Epoch 38: val_accuracy did not improve from 0.88000\n",
            "50/50 [==============================] - 15s 300ms/step - loss: 0.8639 - accuracy: 0.7068 - val_loss: 0.6074 - val_accuracy: 0.7600 - lr: 6.2500e-05\n",
            "Epoch 39/100\n",
            "50/50 [==============================] - ETA: 0s - loss: 0.8508 - accuracy: 0.7040\n",
            "Epoch 39: val_accuracy did not improve from 0.88000\n",
            "50/50 [==============================] - 15s 302ms/step - loss: 0.8508 - accuracy: 0.7040 - val_loss: 0.5311 - val_accuracy: 0.8200 - lr: 6.2500e-05\n",
            "Epoch 40/100\n",
            "50/50 [==============================] - ETA: 0s - loss: 0.8315 - accuracy: 0.7160\n",
            "Epoch 40: val_accuracy did not improve from 0.88000\n",
            "50/50 [==============================] - 15s 299ms/step - loss: 0.8315 - accuracy: 0.7160 - val_loss: 0.6734 - val_accuracy: 0.7200 - lr: 6.2500e-05\n",
            "Epoch 41/100\n",
            "50/50 [==============================] - ETA: 0s - loss: 0.8347 - accuracy: 0.6940\n",
            "Epoch 41: val_accuracy did not improve from 0.88000\n",
            "50/50 [==============================] - 15s 302ms/step - loss: 0.8347 - accuracy: 0.6940 - val_loss: 0.5588 - val_accuracy: 0.8200 - lr: 6.2500e-05\n",
            "Epoch 42/100\n",
            "50/50 [==============================] - ETA: 0s - loss: 0.8301 - accuracy: 0.7020\n",
            "Epoch 42: val_accuracy did not improve from 0.88000\n",
            "\n",
            "Epoch 42: ReduceLROnPlateau reducing learning rate to 3.125000148429535e-05.\n",
            "50/50 [==============================] - 15s 296ms/step - loss: 0.8301 - accuracy: 0.7020 - val_loss: 0.6632 - val_accuracy: 0.7200 - lr: 6.2500e-05\n",
            "Epoch 43/100\n",
            "50/50 [==============================] - ETA: 0s - loss: 0.8219 - accuracy: 0.7080\n",
            "Epoch 43: val_accuracy did not improve from 0.88000\n",
            "50/50 [==============================] - 15s 303ms/step - loss: 0.8219 - accuracy: 0.7080 - val_loss: 0.6440 - val_accuracy: 0.8000 - lr: 3.1250e-05\n",
            "Epoch 44/100\n",
            "50/50 [==============================] - ETA: 0s - loss: 0.8381 - accuracy: 0.6920\n",
            "Epoch 44: val_accuracy did not improve from 0.88000\n",
            "50/50 [==============================] - 15s 303ms/step - loss: 0.8381 - accuracy: 0.6920 - val_loss: 0.4221 - val_accuracy: 0.8400 - lr: 3.1250e-05\n",
            "Epoch 45/100\n",
            "50/50 [==============================] - ETA: 0s - loss: 0.7213 - accuracy: 0.7360\n",
            "Epoch 45: val_accuracy did not improve from 0.88000\n",
            "50/50 [==============================] - 15s 302ms/step - loss: 0.7213 - accuracy: 0.7360 - val_loss: 0.5249 - val_accuracy: 0.8200 - lr: 3.1250e-05\n",
            "Epoch 46/100\n",
            "50/50 [==============================] - ETA: 0s - loss: 0.8332 - accuracy: 0.7180\n",
            "Epoch 46: val_accuracy did not improve from 0.88000\n",
            "50/50 [==============================] - 15s 301ms/step - loss: 0.8332 - accuracy: 0.7180 - val_loss: 0.7052 - val_accuracy: 0.7400 - lr: 3.1250e-05\n",
            "Epoch 47/100\n",
            "50/50 [==============================] - ETA: 0s - loss: 0.6527 - accuracy: 0.7740\n",
            "Epoch 47: val_accuracy did not improve from 0.88000\n",
            "\n",
            "Epoch 47: ReduceLROnPlateau reducing learning rate to 1.5625000742147677e-05.\n",
            "50/50 [==============================] - 15s 300ms/step - loss: 0.6527 - accuracy: 0.7740 - val_loss: 0.5863 - val_accuracy: 0.7600 - lr: 3.1250e-05\n",
            "Epoch 48/100\n",
            "50/50 [==============================] - ETA: 0s - loss: 0.8151 - accuracy: 0.7180\n",
            "Epoch 48: val_accuracy did not improve from 0.88000\n",
            "50/50 [==============================] - 15s 301ms/step - loss: 0.8151 - accuracy: 0.7180 - val_loss: 0.4925 - val_accuracy: 0.8200 - lr: 1.5625e-05\n",
            "Epoch 49/100\n",
            "50/50 [==============================] - ETA: 0s - loss: 0.7853 - accuracy: 0.7120\n",
            "Epoch 49: val_accuracy did not improve from 0.88000\n",
            "50/50 [==============================] - 15s 302ms/step - loss: 0.7853 - accuracy: 0.7120 - val_loss: 0.6776 - val_accuracy: 0.7200 - lr: 1.5625e-05\n",
            "Epoch 50/100\n",
            "50/50 [==============================] - ETA: 0s - loss: 0.6944 - accuracy: 0.7660\n",
            "Epoch 50: val_accuracy did not improve from 0.88000\n",
            "50/50 [==============================] - 15s 303ms/step - loss: 0.6944 - accuracy: 0.7660 - val_loss: 0.4801 - val_accuracy: 0.8800 - lr: 1.5625e-05\n",
            "Epoch 51/100\n",
            "50/50 [==============================] - ETA: 0s - loss: 0.7806 - accuracy: 0.7360\n",
            "Epoch 51: val_accuracy improved from 0.88000 to 0.94000, saving model to best_model1.h5\n",
            "50/50 [==============================] - 15s 301ms/step - loss: 0.7806 - accuracy: 0.7360 - val_loss: 0.4031 - val_accuracy: 0.9400 - lr: 1.5625e-05\n",
            "Epoch 52/100\n",
            "50/50 [==============================] - ETA: 0s - loss: 0.7683 - accuracy: 0.7220\n",
            "Epoch 52: val_accuracy did not improve from 0.94000\n",
            "50/50 [==============================] - 15s 304ms/step - loss: 0.7683 - accuracy: 0.7220 - val_loss: 0.5847 - val_accuracy: 0.7800 - lr: 1.5625e-05\n",
            "Epoch 53/100\n",
            "50/50 [==============================] - ETA: 0s - loss: 0.8629 - accuracy: 0.6780\n",
            "Epoch 53: val_accuracy did not improve from 0.94000\n",
            "50/50 [==============================] - 15s 303ms/step - loss: 0.8629 - accuracy: 0.6780 - val_loss: 0.6502 - val_accuracy: 0.7600 - lr: 1.5625e-05\n",
            "Epoch 54/100\n",
            "50/50 [==============================] - ETA: 0s - loss: 0.7921 - accuracy: 0.7240\n",
            "Epoch 54: val_accuracy did not improve from 0.94000\n",
            "50/50 [==============================] - 15s 296ms/step - loss: 0.7921 - accuracy: 0.7240 - val_loss: 0.5736 - val_accuracy: 0.8400 - lr: 1.5625e-05\n",
            "Epoch 55/100\n",
            "50/50 [==============================] - ETA: 0s - loss: 0.7485 - accuracy: 0.7520\n",
            "Epoch 55: val_accuracy did not improve from 0.94000\n",
            "50/50 [==============================] - 15s 303ms/step - loss: 0.7485 - accuracy: 0.7520 - val_loss: 0.5058 - val_accuracy: 0.8800 - lr: 1.5625e-05\n",
            "Epoch 56/100\n",
            "50/50 [==============================] - ETA: 0s - loss: 0.7400 - accuracy: 0.7360\n",
            "Epoch 56: val_accuracy did not improve from 0.94000\n",
            "\n",
            "Epoch 56: ReduceLROnPlateau reducing learning rate to 1e-05.\n",
            "50/50 [==============================] - 15s 302ms/step - loss: 0.7400 - accuracy: 0.7360 - val_loss: 0.5298 - val_accuracy: 0.8200 - lr: 1.5625e-05\n",
            "Epoch 57/100\n",
            "50/50 [==============================] - ETA: 0s - loss: 0.7331 - accuracy: 0.7360\n",
            "Epoch 57: val_accuracy did not improve from 0.94000\n",
            "50/50 [==============================] - 15s 302ms/step - loss: 0.7331 - accuracy: 0.7360 - val_loss: 0.5416 - val_accuracy: 0.8000 - lr: 1.0000e-05\n",
            "Epoch 58/100\n",
            "50/50 [==============================] - ETA: 0s - loss: 0.8059 - accuracy: 0.7260\n",
            "Epoch 58: val_accuracy did not improve from 0.94000\n",
            "50/50 [==============================] - 15s 304ms/step - loss: 0.8059 - accuracy: 0.7260 - val_loss: 0.4689 - val_accuracy: 0.8400 - lr: 1.0000e-05\n",
            "Epoch 59/100\n",
            "50/50 [==============================] - ETA: 0s - loss: 0.7267 - accuracy: 0.7300\n",
            "Epoch 59: val_accuracy did not improve from 0.94000\n",
            "50/50 [==============================] - 15s 300ms/step - loss: 0.7267 - accuracy: 0.7300 - val_loss: 0.4163 - val_accuracy: 0.9000 - lr: 1.0000e-05\n",
            "Epoch 60/100\n",
            "50/50 [==============================] - ETA: 0s - loss: 0.8452 - accuracy: 0.7060\n",
            "Epoch 60: val_accuracy did not improve from 0.94000\n",
            "50/50 [==============================] - 15s 302ms/step - loss: 0.8452 - accuracy: 0.7060 - val_loss: 0.6706 - val_accuracy: 0.7200 - lr: 1.0000e-05\n",
            "Epoch 61/100\n",
            "50/50 [==============================] - ETA: 0s - loss: 0.7697 - accuracy: 0.7240\n",
            "Epoch 61: val_accuracy did not improve from 0.94000\n",
            "50/50 [==============================] - 15s 305ms/step - loss: 0.7697 - accuracy: 0.7240 - val_loss: 0.6560 - val_accuracy: 0.7600 - lr: 1.0000e-05\n",
            "Epoch 62/100\n",
            "50/50 [==============================] - ETA: 0s - loss: 0.7271 - accuracy: 0.7420\n",
            "Epoch 62: val_accuracy did not improve from 0.94000\n",
            "50/50 [==============================] - 15s 301ms/step - loss: 0.7271 - accuracy: 0.7420 - val_loss: 0.4834 - val_accuracy: 0.8600 - lr: 1.0000e-05\n",
            "Epoch 63/100\n",
            "50/50 [==============================] - ETA: 0s - loss: 0.7753 - accuracy: 0.7400\n",
            "Epoch 63: val_accuracy did not improve from 0.94000\n",
            "50/50 [==============================] - 15s 303ms/step - loss: 0.7753 - accuracy: 0.7400 - val_loss: 0.4834 - val_accuracy: 0.8600 - lr: 1.0000e-05\n",
            "Epoch 64/100\n",
            "50/50 [==============================] - ETA: 0s - loss: 0.7417 - accuracy: 0.7440\n",
            "Epoch 64: val_accuracy did not improve from 0.94000\n",
            "50/50 [==============================] - 15s 300ms/step - loss: 0.7417 - accuracy: 0.7440 - val_loss: 0.6300 - val_accuracy: 0.7600 - lr: 1.0000e-05\n",
            "Epoch 65/100\n",
            "50/50 [==============================] - ETA: 0s - loss: 0.7363 - accuracy: 0.7400\n",
            "Epoch 65: val_accuracy did not improve from 0.94000\n",
            "50/50 [==============================] - 15s 302ms/step - loss: 0.7363 - accuracy: 0.7400 - val_loss: 0.4175 - val_accuracy: 0.9200 - lr: 1.0000e-05\n",
            "Epoch 66/100\n",
            "50/50 [==============================] - ETA: 0s - loss: 0.7278 - accuracy: 0.7220\n",
            "Epoch 66: val_accuracy did not improve from 0.94000\n",
            "50/50 [==============================] - 15s 302ms/step - loss: 0.7278 - accuracy: 0.7220 - val_loss: 0.6920 - val_accuracy: 0.7000 - lr: 1.0000e-05\n",
            "Epoch 67/100\n",
            "50/50 [==============================] - ETA: 0s - loss: 0.7466 - accuracy: 0.7360\n",
            "Epoch 67: val_accuracy did not improve from 0.94000\n",
            "50/50 [==============================] - 15s 301ms/step - loss: 0.7466 - accuracy: 0.7360 - val_loss: 0.6387 - val_accuracy: 0.8200 - lr: 1.0000e-05\n",
            "Epoch 68/100\n",
            "50/50 [==============================] - ETA: 0s - loss: 0.7659 - accuracy: 0.7420\n",
            "Epoch 68: val_accuracy did not improve from 0.94000\n",
            "50/50 [==============================] - 15s 300ms/step - loss: 0.7659 - accuracy: 0.7420 - val_loss: 0.6907 - val_accuracy: 0.7800 - lr: 1.0000e-05\n",
            "Epoch 69/100\n",
            "50/50 [==============================] - ETA: 0s - loss: 0.8345 - accuracy: 0.7280\n",
            "Epoch 69: val_accuracy did not improve from 0.94000\n",
            "50/50 [==============================] - 15s 302ms/step - loss: 0.8345 - accuracy: 0.7280 - val_loss: 0.5030 - val_accuracy: 0.8400 - lr: 1.0000e-05\n",
            "Epoch 70/100\n",
            "50/50 [==============================] - ETA: 0s - loss: 0.7842 - accuracy: 0.7220\n",
            "Epoch 70: val_accuracy did not improve from 0.94000\n",
            "50/50 [==============================] - 15s 305ms/step - loss: 0.7842 - accuracy: 0.7220 - val_loss: 0.7198 - val_accuracy: 0.7200 - lr: 1.0000e-05\n",
            "Epoch 71/100\n",
            "50/50 [==============================] - ETA: 0s - loss: 0.7152 - accuracy: 0.7540\n",
            "Epoch 71: val_accuracy did not improve from 0.94000\n",
            "50/50 [==============================] - 15s 297ms/step - loss: 0.7152 - accuracy: 0.7540 - val_loss: 0.5510 - val_accuracy: 0.7800 - lr: 1.0000e-05\n",
            "Epoch 71: early stopping\n"
          ]
        }
      ],
      "source": [
        "history = network.fit_generator(train_dataset,\n",
        "                                steps_per_epoch = 50,\n",
        "                                validation_data = validation_dataset,\n",
        "                                validation_steps = 50,\n",
        "                                epochs=100,\n",
        "                                callbacks=[es, model_cp, learning_rate_reduction])"
      ]
    },
    {
      "cell_type": "markdown",
      "metadata": {
        "id": "0yfuhbovltQA"
      },
      "source": []
    },
    {
      "cell_type": "code",
      "execution_count": 122,
      "metadata": {
        "id": "4xXIb__YN8jO"
      },
      "outputs": [],
      "source": [
        "predictions=network.predict(test_datatset)\n",
        "predictions = np.argmax(predictions, axis=1)"
      ]
    },
    {
      "cell_type": "code",
      "execution_count": 123,
      "metadata": {
        "colab": {
          "base_uri": "https://localhost:8080/"
        },
        "id": "MfitKd4WOO0c",
        "outputId": "5c3e4822-fb71-4725-af7f-439f4da970b5"
      },
      "outputs": [
        {
          "output_type": "execute_result",
          "data": {
            "text/plain": [
              "0.8087392550143266"
            ]
          },
          "metadata": {},
          "execution_count": 123
        }
      ],
      "source": [
        "from sklearn.metrics import accuracy_score\n",
        "accuracy_score(test_datatset.classes, predictions)"
      ]
    },
    {
      "cell_type": "code",
      "execution_count": 124,
      "metadata": {
        "colab": {
          "base_uri": "https://localhost:8080/",
          "height": 435
        },
        "id": "CwufQs6AOjVu",
        "outputId": "7c6d2425-c165-49f1-de96-f599cfbb789b"
      },
      "outputs": [
        {
          "output_type": "display_data",
          "data": {
            "text/plain": [
              "<Figure size 640x480 with 2 Axes>"
            ],
            "image/png": "[encoded data removed]"
          },
          "metadata": {}
        }
      ],
      "source": [
        "from sklearn.metrics import confusion_matrix\n",
        "cm = confusion_matrix(test_datatset.classes, predictions)\n",
        "sns.heatmap(cm, annot=True);"
      ]
    },
    {
      "cell_type": "code",
      "execution_count": 125,
      "metadata": {
        "colab": {
          "base_uri": "https://localhost:8080/"
        },
        "id": "lfg484OCPGqq",
        "outputId": "4d4f6ce2-4797-46f5-e34b-0d14dfa5967b"
      },
      "outputs": [
        {
          "output_type": "stream",
          "name": "stdout",
          "text": [
            "              precision    recall  f1-score   support\n",
            "\n",
            "           0       0.89      0.93      0.91       198\n",
            "           1       0.96      1.00      0.98       200\n",
            "           2       0.66      0.73      0.70       200\n",
            "           3       0.69      0.46      0.55       199\n",
            "           4       0.81      0.93      0.86       200\n",
            "           5       0.81      0.73      0.77       199\n",
            "           6       0.81      0.88      0.84       200\n",
            "\n",
            "    accuracy                           0.81      1396\n",
            "   macro avg       0.80      0.81      0.80      1396\n",
            "weighted avg       0.80      0.81      0.80      1396\n",
            "\n"
          ]
        }
      ],
      "source": [
        "from sklearn.metrics import classification_report\n",
        "print(classification_report(test_datatset.classes, predictions))"
      ]
    },
    {
      "cell_type": "code",
      "execution_count": 126,
      "metadata": {
        "colab": {
          "base_uri": "https://localhost:8080/",
          "height": 472
        },
        "id": "AwBdQqe9Porm",
        "outputId": "09e4c064-90d7-4947-e6d7-96f08834c217"
      },
      "outputs": [
        {
          "output_type": "display_data",
          "data": {
            "text/plain": [
              "<Figure size 640x480 with 1 Axes>"
            ],
            "image/png": "[encoded data removed]"
          },
          "metadata": {}
        }
      ],
      "source": [
        "plt.plot(history.history['accuracy'])\n",
        "plt.plot(history.history['val_accuracy'])\n",
        "plt.title('model accuracy')\n",
        "plt.ylabel('accuracy')\n",
        "plt.xlabel('epoch')\n",
        "plt.legend(['train', 'val'], loc='upper left')\n",
        "plt.show()"
      ]
    },
    {
      "cell_type": "code",
      "execution_count": 127,
      "metadata": {
        "colab": {
          "base_uri": "https://localhost:8080/",
          "height": 472
        },
        "id": "vVr7AUw8SNre",
        "outputId": "19509b10-1ebd-409b-d143-a7f6018be629"
      },
      "outputs": [
        {
          "output_type": "display_data",
          "data": {
            "text/plain": [
              "<Figure size 640x480 with 1 Axes>"
            ],
            "image/png": "[encoded data removed]"
          },
          "metadata": {}
        }
      ],
      "source": [
        "plt.plot(history.history['loss'])\n",
        "plt.plot(history.history['val_loss'])\n",
        "plt.title('model loss')\n",
        "plt.ylabel('loss')\n",
        "plt.xlabel('epoch')\n",
        "plt.legend(['train', 'val'], loc='upper left')\n",
        "plt.show()"
      ]
    },
    {
      "cell_type": "code",
      "execution_count": 128,
      "metadata": {
        "id": "pnmlR6M8gih2"
      },
      "outputs": [],
      "source": [
        "from tensorflow.keras.models import load_model\n",
        "model = load_model('/content/best_model1.h5')"
      ]
    },
    {
      "cell_type": "code",
      "execution_count": 129,
      "metadata": {
        "colab": {
          "base_uri": "https://localhost:8080/"
        },
        "id": "P5SUDIaUg8-G",
        "outputId": "d266b2e7-7350-480e-d76f-bbca711c0660"
      },
      "outputs": [
        {
          "output_type": "stream",
          "name": "stdout",
          "text": [
            "1396/1396 [==============================] - 18s 13ms/step - loss: 0.5791 - accuracy: 0.8016\n"
          ]
        },
        {
          "output_type": "execute_result",
          "data": {
            "text/plain": [
              "[0.5790895223617554, 0.8015759587287903]"
            ]
          },
          "metadata": {},
          "execution_count": 129
        }
      ],
      "source": [
        "model.evaluate(test_datatset)"
      ]
    },
    {
      "cell_type": "code",
      "execution_count": 130,
      "metadata": {
        "colab": {
          "base_uri": "https://localhost:8080/",
          "height": 435
        },
        "id": "Zqq4ec2JhKgt",
        "outputId": "cbfe23d5-b532-4a12-c77a-7fe3e761c143"
      },
      "outputs": [
        {
          "output_type": "display_data",
          "data": {
            "text/plain": [
              "<Figure size 640x480 with 2 Axes>"
            ],
            "image/png": "[encoded data removed]"
          },
          "metadata": {}
        }
      ],
      "source": [
        "pred = model.predict(test_datatset)\n",
        "pred = np.argmax(pred, axis=1)\n",
        "cm = confusion_matrix(test_datatset.classes, pred)\n",
        "sns.heatmap(cm, annot=True);"
      ]
    },
    {
      "cell_type": "code",
      "execution_count": 131,
      "metadata": {
        "colab": {
          "base_uri": "https://localhost:8080/"
        },
        "id": "e2TSljdej81S",
        "outputId": "452d0535-4c02-45de-a96e-e8445363a637"
      },
      "outputs": [
        {
          "output_type": "stream",
          "name": "stdout",
          "text": [
            "              precision    recall  f1-score   support\n",
            "\n",
            "           0       0.86      0.95      0.91       198\n",
            "           1       0.95      1.00      0.98       200\n",
            "           2       0.66      0.73      0.69       200\n",
            "           3       0.66      0.44      0.53       199\n",
            "           4       0.84      0.88      0.86       200\n",
            "           5       0.77      0.74      0.76       199\n",
            "           6       0.82      0.87      0.84       200\n",
            "\n",
            "    accuracy                           0.80      1396\n",
            "   macro avg       0.79      0.80      0.79      1396\n",
            "weighted avg       0.79      0.80      0.79      1396\n",
            "\n"
          ]
        }
      ],
      "source": [
        "print(classification_report(test_datatset.classes, pred))"
      ]
    },
    {
      "cell_type": "code",
      "execution_count": 132,
      "metadata": {
        "id": "jzbwiv0ikEVG"
      },
      "outputs": [],
      "source": [
        "network.save('network.h5')"
      ]
    },
    {
      "cell_type": "code",
      "execution_count": 133,
      "metadata": {
        "id": "mTxEZdsQtlC4"
      },
      "outputs": [],
      "source": [
        "net = load_model('/content/network.h5')"
      ]
    },
    {
      "cell_type": "code",
      "execution_count": 134,
      "metadata": {
        "colab": {
          "base_uri": "https://localhost:8080/"
        },
        "id": "JgEg6VxztpAx",
        "outputId": "8f2efc5c-60d3-4b13-a78a-271fcb73c404"
      },
      "outputs": [
        {
          "output_type": "stream",
          "name": "stdout",
          "text": [
            "1396/1396 [==============================] - 16s 11ms/step - loss: 0.5628 - accuracy: 0.8087\n"
          ]
        },
        {
          "output_type": "execute_result",
          "data": {
            "text/plain": [
              "[0.5628365874290466, 0.8087392449378967]"
            ]
          },
          "metadata": {},
          "execution_count": 134
        }
      ],
      "source": [
        "net.evaluate(test_datatset)"
      ]
    },
    {
      "cell_type": "code",
      "execution_count": 135,
      "metadata": {
        "colab": {
          "base_uri": "https://localhost:8080/",
          "height": 435
        },
        "id": "6wbroQ7EvUvp",
        "outputId": "8bd32964-d75b-422c-d614-206b2deadedc"
      },
      "outputs": [
        {
          "output_type": "display_data",
          "data": {
            "text/plain": [
              "<Figure size 640x480 with 2 Axes>"
            ],
            "image/png": "[encoded data removed]"
          },
          "metadata": {}
        }
      ],
      "source": [
        "pre = net.predict(test_datatset)\n",
        "pre = np.argmax(pre, axis=1)\n",
        "cm = confusion_matrix(test_datatset.classes, pre)\n",
        "sns.heatmap(cm, annot=True);"
      ]
    },
    {
      "cell_type": "code",
      "execution_count": 136,
      "metadata": {
        "colab": {
          "base_uri": "https://localhost:8080/"
        },
        "id": "0c6L1deT_TAY",
        "outputId": "9b2e5615-f3ca-4428-8590-d6f0413479a7"
      },
      "outputs": [
        {
          "output_type": "stream",
          "name": "stdout",
          "text": [
            "              precision    recall  f1-score   support\n",
            "\n",
            "           0       0.86      0.95      0.91       198\n",
            "           1       0.95      1.00      0.98       200\n",
            "           2       0.66      0.73      0.69       200\n",
            "           3       0.66      0.44      0.53       199\n",
            "           4       0.84      0.88      0.86       200\n",
            "           5       0.77      0.74      0.76       199\n",
            "           6       0.82      0.87      0.84       200\n",
            "\n",
            "    accuracy                           0.80      1396\n",
            "   macro avg       0.79      0.80      0.79      1396\n",
            "weighted avg       0.79      0.80      0.79      1396\n",
            "\n"
          ]
        }
      ],
      "source": [
        "print(classification_report(test_datatset.classes, pred))"
      ]
    },
    {
      "cell_type": "markdown",
      "source": [],
      "metadata": {
        "id": "I501GKF6LLsg"
      }
    }
  ],
  "metadata": {
    "colab": {
      "provenance": [],
      "include_colab_link": true
    },
    "kernelspec": {
      "display_name": "Python 3",
      "name": "python3"
    },
    "language_info": {
      "name": "python"
    }
  },
  "nbformat": 4,
  "nbformat_minor": 0
}