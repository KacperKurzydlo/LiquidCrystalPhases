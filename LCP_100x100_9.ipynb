{
  "cells": [
    {
      "cell_type": "markdown",
      "metadata": {
        "id": "view-in-github",
        "colab_type": "text"
      },
      "source": [
        "<a href=\"https://colab.research.google.com/github/KacperKurzydlo/LiquidCrystalPhases/blob/main/LCP_100x100_9.ipynb\" target=\"_parent\"><img src=\"https://colab.research.google.com/assets/colab-badge.svg\" alt=\"Open In Colab\"/></a>"
      ]
    },
    {
      "cell_type": "code",
      "execution_count": 1,
      "metadata": {
        "colab": {
          "base_uri": "https://localhost:8080/"
        },
        "id": "647sNsjCJ0hX",
        "outputId": "09f29af9-2c25-4b99-e13c-078281b143de"
      },
      "outputs": [
        {
          "output_type": "stream",
          "name": "stdout",
          "text": [
            "Requirement already satisfied: h5py in /usr/local/lib/python3.10/dist-packages (3.8.0)\n",
            "Requirement already satisfied: numpy>=1.14.5 in /usr/local/lib/python3.10/dist-packages (from h5py) (1.22.4)\n",
            "Requirement already satisfied: typing-extensions in /usr/local/lib/python3.10/dist-packages (4.7.1)\n",
            "Requirement already satisfied: wheel in /usr/local/lib/python3.10/dist-packages (0.41.0)\n"
          ]
        }
      ],
      "source": [
        "!pip install h5py\n",
        "!pip install typing-extensions\n",
        "!pip install wheel"
      ]
    },
    {
      "cell_type": "code",
      "execution_count": 2,
      "metadata": {
        "colab": {
          "base_uri": "https://localhost:8080/"
        },
        "id": "kq6qJdUqIWCQ",
        "outputId": "5bbe1b0d-742b-4fe9-cb80-a47eb9197881"
      },
      "outputs": [
        {
          "output_type": "stream",
          "name": "stdout",
          "text": [
            "Collecting tensorflow==2.8\n",
            "  Downloading tensorflow-2.8.0-cp310-cp310-manylinux2010_x86_64.whl (497.6 MB)\n",
            "\u001b[2K     \u001b[90m━━━━━━━━━━━━━━━━━━━━━━━━━━━━━━━━━━━━━━━\u001b[0m \u001b[32m497.6/497.6 MB\u001b[0m \u001b[31m3.3 MB/s\u001b[0m eta \u001b[36m0:00:00\u001b[0m\n",
            "\u001b[?25hRequirement already satisfied: absl-py>=0.4.0 in /usr/local/lib/python3.10/dist-packages (from tensorflow==2.8) (1.4.0)\n",
            "Requirement already satisfied: astunparse>=1.6.0 in /usr/local/lib/python3.10/dist-packages (from tensorflow==2.8) (1.6.3)\n",
            "Requirement already satisfied: flatbuffers>=1.12 in /usr/local/lib/python3.10/dist-packages (from tensorflow==2.8) (23.5.26)\n",
            "Requirement already satisfied: gast>=0.2.1 in /usr/local/lib/python3.10/dist-packages (from tensorflow==2.8) (0.4.0)\n",
            "Requirement already satisfied: google-pasta>=0.1.1 in /usr/local/lib/python3.10/dist-packages (from tensorflow==2.8) (0.2.0)\n",
            "Requirement already satisfied: h5py>=2.9.0 in /usr/local/lib/python3.10/dist-packages (from tensorflow==2.8) (3.8.0)\n",
            "Collecting keras-preprocessing>=1.1.1 (from tensorflow==2.8)\n",
            "  Downloading Keras_Preprocessing-1.1.2-py2.py3-none-any.whl (42 kB)\n",
            "\u001b[2K     \u001b[90m━━━━━━━━━━━━━━━━━━━━━━━━━━━━━━━━━━━━━━━━\u001b[0m \u001b[32m42.6/42.6 kB\u001b[0m \u001b[31m4.3 MB/s\u001b[0m eta \u001b[36m0:00:00\u001b[0m\n",
            "\u001b[?25hRequirement already satisfied: libclang>=9.0.1 in /usr/local/lib/python3.10/dist-packages (from tensorflow==2.8) (16.0.6)\n",
            "Requirement already satisfied: numpy>=1.20 in /usr/local/lib/python3.10/dist-packages (from tensorflow==2.8) (1.22.4)\n",
            "Requirement already satisfied: opt-einsum>=2.3.2 in /usr/local/lib/python3.10/dist-packages (from tensorflow==2.8) (3.3.0)\n",
            "Requirement already satisfied: protobuf>=3.9.2 in /usr/local/lib/python3.10/dist-packages (from tensorflow==2.8) (3.20.3)\n",
            "Requirement already satisfied: setuptools in /usr/local/lib/python3.10/dist-packages (from tensorflow==2.8) (67.7.2)\n",
            "Requirement already satisfied: six>=1.12.0 in /usr/local/lib/python3.10/dist-packages (from tensorflow==2.8) (1.16.0)\n",
            "Requirement already satisfied: termcolor>=1.1.0 in /usr/local/lib/python3.10/dist-packages (from tensorflow==2.8) (2.3.0)\n",
            "Requirement already satisfied: typing-extensions>=3.6.6 in /usr/local/lib/python3.10/dist-packages (from tensorflow==2.8) (4.7.1)\n",
            "Requirement already satisfied: wrapt>=1.11.0 in /usr/local/lib/python3.10/dist-packages (from tensorflow==2.8) (1.14.1)\n",
            "Collecting tensorboard<2.9,>=2.8 (from tensorflow==2.8)\n",
            "  Downloading tensorboard-2.8.0-py3-none-any.whl (5.8 MB)\n",
            "\u001b[2K     \u001b[90m━━━━━━━━━━━━━━━━━━━━━━━━━━━━━━━━━━━━━━━━\u001b[0m \u001b[32m5.8/5.8 MB\u001b[0m \u001b[31m100.8 MB/s\u001b[0m eta \u001b[36m0:00:00\u001b[0m\n",
            "\u001b[?25hCollecting tf-estimator-nightly==2.8.0.dev2021122109 (from tensorflow==2.8)\n",
            "  Downloading tf_estimator_nightly-2.8.0.dev2021122109-py2.py3-none-any.whl (462 kB)\n",
            "\u001b[2K     \u001b[90m━━━━━━━━━━━━━━━━━━━━━━━━━━━━━━━━━━━━━━\u001b[0m \u001b[32m462.5/462.5 kB\u001b[0m \u001b[31m41.4 MB/s\u001b[0m eta \u001b[36m0:00:00\u001b[0m\n",
            "\u001b[?25hCollecting keras<2.9,>=2.8.0rc0 (from tensorflow==2.8)\n",
            "  Downloading keras-2.8.0-py2.py3-none-any.whl (1.4 MB)\n",
            "\u001b[2K     \u001b[90m━━━━━━━━━━━━━━━━━━━━━━━━━━━━━━━━━━━━━━━━\u001b[0m \u001b[32m1.4/1.4 MB\u001b[0m \u001b[31m85.3 MB/s\u001b[0m eta \u001b[36m0:00:00\u001b[0m\n",
            "\u001b[?25hRequirement already satisfied: tensorflow-io-gcs-filesystem>=0.23.1 in /usr/local/lib/python3.10/dist-packages (from tensorflow==2.8) (0.32.0)\n",
            "Requirement already satisfied: grpcio<2.0,>=1.24.3 in /usr/local/lib/python3.10/dist-packages (from tensorflow==2.8) (1.56.2)\n",
            "Requirement already satisfied: wheel<1.0,>=0.23.0 in /usr/local/lib/python3.10/dist-packages (from astunparse>=1.6.0->tensorflow==2.8) (0.41.0)\n",
            "Requirement already satisfied: google-auth<3,>=1.6.3 in /usr/local/lib/python3.10/dist-packages (from tensorboard<2.9,>=2.8->tensorflow==2.8) (2.17.3)\n",
            "Collecting google-auth-oauthlib<0.5,>=0.4.1 (from tensorboard<2.9,>=2.8->tensorflow==2.8)\n",
            "  Downloading google_auth_oauthlib-0.4.6-py2.py3-none-any.whl (18 kB)\n",
            "Requirement already satisfied: markdown>=2.6.8 in /usr/local/lib/python3.10/dist-packages (from tensorboard<2.9,>=2.8->tensorflow==2.8) (3.4.4)\n",
            "Requirement already satisfied: requests<3,>=2.21.0 in /usr/local/lib/python3.10/dist-packages (from tensorboard<2.9,>=2.8->tensorflow==2.8) (2.27.1)\n",
            "Collecting tensorboard-data-server<0.7.0,>=0.6.0 (from tensorboard<2.9,>=2.8->tensorflow==2.8)\n",
            "  Downloading tensorboard_data_server-0.6.1-py3-none-manylinux2010_x86_64.whl (4.9 MB)\n",
            "\u001b[2K     \u001b[90m━━━━━━━━━━━━━━━━━━━━━━━━━━━━━━━━━━━━━━━━\u001b[0m \u001b[32m4.9/4.9 MB\u001b[0m \u001b[31m123.0 MB/s\u001b[0m eta \u001b[36m0:00:00\u001b[0m\n",
            "\u001b[?25hCollecting tensorboard-plugin-wit>=1.6.0 (from tensorboard<2.9,>=2.8->tensorflow==2.8)\n",
            "  Downloading tensorboard_plugin_wit-1.8.1-py3-none-any.whl (781 kB)\n",
            "\u001b[2K     \u001b[90m━━━━━━━━━━━━━━━━━━━━━━━━━━━━━━━━━━━━━━\u001b[0m \u001b[32m781.3/781.3 kB\u001b[0m \u001b[31m59.9 MB/s\u001b[0m eta \u001b[36m0:00:00\u001b[0m\n",
            "\u001b[?25hRequirement already satisfied: werkzeug>=0.11.15 in /usr/local/lib/python3.10/dist-packages (from tensorboard<2.9,>=2.8->tensorflow==2.8) (2.3.6)\n",
            "Requirement already satisfied: cachetools<6.0,>=2.0.0 in /usr/local/lib/python3.10/dist-packages (from google-auth<3,>=1.6.3->tensorboard<2.9,>=2.8->tensorflow==2.8) (5.3.1)\n",
            "Requirement already satisfied: pyasn1-modules>=0.2.1 in /usr/local/lib/python3.10/dist-packages (from google-auth<3,>=1.6.3->tensorboard<2.9,>=2.8->tensorflow==2.8) (0.3.0)\n",
            "Requirement already satisfied: rsa<5,>=3.1.4 in /usr/local/lib/python3.10/dist-packages (from google-auth<3,>=1.6.3->tensorboard<2.9,>=2.8->tensorflow==2.8) (4.9)\n",
            "Requirement already satisfied: requests-oauthlib>=0.7.0 in /usr/local/lib/python3.10/dist-packages (from google-auth-oauthlib<0.5,>=0.4.1->tensorboard<2.9,>=2.8->tensorflow==2.8) (1.3.1)\n",
            "Requirement already satisfied: urllib3<1.27,>=1.21.1 in /usr/local/lib/python3.10/dist-packages (from requests<3,>=2.21.0->tensorboard<2.9,>=2.8->tensorflow==2.8) (1.26.16)\n",
            "Requirement already satisfied: certifi>=2017.4.17 in /usr/local/lib/python3.10/dist-packages (from requests<3,>=2.21.0->tensorboard<2.9,>=2.8->tensorflow==2.8) (2023.7.22)\n",
            "Requirement already satisfied: charset-normalizer~=2.0.0 in /usr/local/lib/python3.10/dist-packages (from requests<3,>=2.21.0->tensorboard<2.9,>=2.8->tensorflow==2.8) (2.0.12)\n",
            "Requirement already satisfied: idna<4,>=2.5 in /usr/local/lib/python3.10/dist-packages (from requests<3,>=2.21.0->tensorboard<2.9,>=2.8->tensorflow==2.8) (3.4)\n",
            "Requirement already satisfied: MarkupSafe>=2.1.1 in /usr/local/lib/python3.10/dist-packages (from werkzeug>=0.11.15->tensorboard<2.9,>=2.8->tensorflow==2.8) (2.1.3)\n",
            "Requirement already satisfied: pyasn1<0.6.0,>=0.4.6 in /usr/local/lib/python3.10/dist-packages (from pyasn1-modules>=0.2.1->google-auth<3,>=1.6.3->tensorboard<2.9,>=2.8->tensorflow==2.8) (0.5.0)\n",
            "Requirement already satisfied: oauthlib>=3.0.0 in /usr/local/lib/python3.10/dist-packages (from requests-oauthlib>=0.7.0->google-auth-oauthlib<0.5,>=0.4.1->tensorboard<2.9,>=2.8->tensorflow==2.8) (3.2.2)\n",
            "Installing collected packages: tf-estimator-nightly, tensorboard-plugin-wit, keras, tensorboard-data-server, keras-preprocessing, google-auth-oauthlib, tensorboard, tensorflow\n",
            "  Attempting uninstall: keras\n",
            "    Found existing installation: keras 2.12.0\n",
            "    Uninstalling keras-2.12.0:\n",
            "      Successfully uninstalled keras-2.12.0\n",
            "  Attempting uninstall: tensorboard-data-server\n",
            "    Found existing installation: tensorboard-data-server 0.7.1\n",
            "    Uninstalling tensorboard-data-server-0.7.1:\n",
            "      Successfully uninstalled tensorboard-data-server-0.7.1\n",
            "  Attempting uninstall: google-auth-oauthlib\n",
            "    Found existing installation: google-auth-oauthlib 1.0.0\n",
            "    Uninstalling google-auth-oauthlib-1.0.0:\n",
            "      Successfully uninstalled google-auth-oauthlib-1.0.0\n",
            "  Attempting uninstall: tensorboard\n",
            "    Found existing installation: tensorboard 2.12.3\n",
            "    Uninstalling tensorboard-2.12.3:\n",
            "      Successfully uninstalled tensorboard-2.12.3\n",
            "  Attempting uninstall: tensorflow\n",
            "    Found existing installation: tensorflow 2.12.0\n",
            "    Uninstalling tensorflow-2.12.0:\n",
            "      Successfully uninstalled tensorflow-2.12.0\n",
            "Successfully installed google-auth-oauthlib-0.4.6 keras-2.8.0 keras-preprocessing-1.1.2 tensorboard-2.8.0 tensorboard-data-server-0.6.1 tensorboard-plugin-wit-1.8.1 tensorflow-2.8.0 tf-estimator-nightly-2.8.0.dev2021122109\n"
          ]
        }
      ],
      "source": [
        "!pip install tensorflow==2.8"
      ]
    },
    {
      "cell_type": "code",
      "execution_count": 3,
      "metadata": {
        "colab": {
          "base_uri": "https://localhost:8080/",
          "height": 35
        },
        "id": "I0X9qkMXs_pp",
        "outputId": "3fa3627c-577d-42d9-9ba1-1006c5cb88cd"
      },
      "outputs": [
        {
          "output_type": "execute_result",
          "data": {
            "text/plain": [
              "'2.8.0'"
            ],
            "application/vnd.google.colaboratory.intrinsic+json": {
              "type": "string"
            }
          },
          "metadata": {},
          "execution_count": 3
        }
      ],
      "source": [
        "import matplotlib.pyplot as plt\n",
        "import seaborn as sns\n",
        "import zipfile\n",
        "import numpy as np\n",
        "import cv2\n",
        "from google.colab.patches import cv2_imshow\n",
        "import tensorflow as tf\n",
        "from tensorflow.keras.callbacks import ReduceLROnPlateau\n",
        "from tensorflow.keras import regularizers\n",
        "from tensorflow.keras.callbacks import ModelCheckpoint, EarlyStopping\n",
        "from tensorflow.keras.models import Sequential\n",
        "from tensorflow.keras.layers import Conv2D, MaxPool2D, Flatten, Dense, BatchNormalization, Dropout\n",
        "from tensorflow.keras.preprocessing.image import ImageDataGenerator\n",
        "tf.__version__"
      ]
    },
    {
      "cell_type": "code",
      "execution_count": 4,
      "metadata": {
        "colab": {
          "base_uri": "https://localhost:8080/"
        },
        "id": "yQMOvsd99H-V",
        "outputId": "c3f1ecba-5dbd-47b8-d69b-1b7b67a654cc"
      },
      "outputs": [
        {
          "output_type": "stream",
          "name": "stdout",
          "text": [
            "Mounted at /content/drive\n"
          ]
        }
      ],
      "source": [
        "from google.colab import drive\n",
        "drive.mount('/content/drive')"
      ]
    },
    {
      "cell_type": "code",
      "execution_count": 5,
      "metadata": {
        "id": "Y_BgiI3JxA9q"
      },
      "outputs": [],
      "source": [
        "path = '/content/drive/MyDrive/Praktyki/gotowe.zip'\n",
        "zip_object = zipfile.ZipFile(file=path, mode='r')\n",
        "zip_object.extractall('./')\n",
        "zip_object.close()"
      ]
    },
    {
      "cell_type": "code",
      "execution_count": 6,
      "metadata": {
        "id": "7-PhxwM60uM7"
      },
      "outputs": [],
      "source": [
        "training_generator = ImageDataGenerator(rescale=1./255,\n",
        "                                        horizontal_flip=True,\n",
        "                                        vertical_flip=True)\n"
      ]
    },
    {
      "cell_type": "code",
      "execution_count": 7,
      "metadata": {
        "colab": {
          "base_uri": "https://localhost:8080/"
        },
        "id": "jMErkkVv_mXw",
        "outputId": "737dc954-7e8e-4721-e787-cda0e91bee02"
      },
      "outputs": [
        {
          "output_type": "stream",
          "name": "stdout",
          "text": [
            "Found 11158 images belonging to 7 classes.\n"
          ]
        }
      ],
      "source": [
        "train_dataset = training_generator.flow_from_directory('/content/gotowe/train_set',\n",
        "                                                       target_size = (100, 100),\n",
        "                                                       batch_size = 10,\n",
        "                                                       color_mode='rgb',\n",
        "                                                       class_mode = 'categorical',\n",
        "                                                       shuffle = True)"
      ]
    },
    {
      "cell_type": "code",
      "execution_count": 8,
      "metadata": {
        "colab": {
          "base_uri": "https://localhost:8080/"
        },
        "id": "C4errPxfAukM",
        "outputId": "a58e4024-f73b-46cb-e71c-dcf26d74e5c9"
      },
      "outputs": [
        {
          "output_type": "execute_result",
          "data": {
            "text/plain": [
              "array([0, 0, 0, ..., 6, 6, 6], dtype=int32)"
            ]
          },
          "metadata": {},
          "execution_count": 8
        }
      ],
      "source": [
        "train_dataset.classes"
      ]
    },
    {
      "cell_type": "code",
      "execution_count": 9,
      "metadata": {
        "colab": {
          "base_uri": "https://localhost:8080/"
        },
        "id": "jYCiD3adA5xf",
        "outputId": "30d6f500-7af5-4fcd-8bf9-2c615c6f266b"
      },
      "outputs": [
        {
          "output_type": "execute_result",
          "data": {
            "text/plain": [
              "{'nematyk': 0,\n",
              " 'smektyk_C': 1,\n",
              " 'smektyk_F': 2,\n",
              " 'smektyk_GMosaic': 3,\n",
              " 'smektyk_GSchliren': 4,\n",
              " 'smektyk_H': 5,\n",
              " 'smektyk_I': 6}"
            ]
          },
          "metadata": {},
          "execution_count": 9
        }
      ],
      "source": [
        "train_dataset.class_indices"
      ]
    },
    {
      "cell_type": "code",
      "execution_count": 10,
      "metadata": {
        "id": "6VK7xyH-BkSq"
      },
      "outputs": [],
      "source": [
        "test_generator = ImageDataGenerator(rescale=1./255)\n",
        "val_generator = ImageDataGenerator(rescale=1./255)"
      ]
    },
    {
      "cell_type": "code",
      "execution_count": 11,
      "metadata": {
        "colab": {
          "base_uri": "https://localhost:8080/"
        },
        "id": "84kKwMy6U7oh",
        "outputId": "a4ec3a87-8dfd-401d-9a0e-5edabdca6762"
      },
      "outputs": [
        {
          "output_type": "stream",
          "name": "stdout",
          "text": [
            "Found 1395 images belonging to 7 classes.\n"
          ]
        }
      ],
      "source": [
        "validation_dataset = val_generator.flow_from_directory('/content/gotowe/val_set',\n",
        "                                                        target_size=(100, 100),\n",
        "                                                        batch_size=1,\n",
        "                                                        class_mode='categorical',\n",
        "                                                        color_mode='rgb',\n",
        "                                                        shuffle=True) # set as validation data"
      ]
    },
    {
      "cell_type": "code",
      "execution_count": 12,
      "metadata": {
        "id": "PB2pU5bzXPTa"
      },
      "outputs": [],
      "source": [
        "L2 = 0.00001"
      ]
    },
    {
      "cell_type": "code",
      "execution_count": 13,
      "metadata": {
        "colab": {
          "base_uri": "https://localhost:8080/"
        },
        "id": "SdqIBmxiBvU1",
        "outputId": "855d7767-7805-4c02-c060-2413b7d74f39"
      },
      "outputs": [
        {
          "output_type": "stream",
          "name": "stdout",
          "text": [
            "Found 1396 images belonging to 7 classes.\n"
          ]
        }
      ],
      "source": [
        "test_datatset = test_generator.flow_from_directory('/content/gotowe/test_set',\n",
        "                                                   target_size = (100, 100),\n",
        "                                                   batch_size = 1,\n",
        "                                                   color_mode='rgb',\n",
        "                                                   class_mode = 'categorical',\n",
        "                                                   shuffle = False)"
      ]
    },
    {
      "cell_type": "code",
      "execution_count": 14,
      "metadata": {
        "id": "xVLgf1bADs_C"
      },
      "outputs": [],
      "source": [
        "initializer1 = tf.keras.initializers.HeNormal()\n",
        "initializer2 = tf.keras.initializers.GlorotUniform()"
      ]
    },
    {
      "cell_type": "code",
      "execution_count": 137,
      "metadata": {
        "colab": {
          "base_uri": "https://localhost:8080/"
        },
        "id": "QTr7SiKfD6UI",
        "outputId": "41689df5-f664-4f39-ce0e-d774a2cbb88c"
      },
      "outputs": [
        {
          "output_type": "stream",
          "name": "stdout",
          "text": [
            "Model: \"sequential_12\"\n",
            "_________________________________________________________________\n",
            " Layer (type)                Output Shape              Param #   \n",
            "=================================================================\n",
            " conv2d_117 (Conv2D)         (None, 98, 98, 16)        448       \n",
            "                                                                 \n",
            " batch_normalization_141 (Ba  (None, 98, 98, 16)       64        \n",
            " tchNormalization)                                               \n",
            "                                                                 \n",
            " max_pooling2d_70 (MaxPoolin  (None, 49, 49, 16)       0         \n",
            " g2D)                                                            \n",
            "                                                                 \n",
            " conv2d_118 (Conv2D)         (None, 49, 49, 32)        12832     \n",
            "                                                                 \n",
            " conv2d_119 (Conv2D)         (None, 49, 49, 32)        25632     \n",
            "                                                                 \n",
            " batch_normalization_142 (Ba  (None, 49, 49, 32)       128       \n",
            " tchNormalization)                                               \n",
            "                                                                 \n",
            " max_pooling2d_71 (MaxPoolin  (None, 24, 24, 32)       0         \n",
            " g2D)                                                            \n",
            "                                                                 \n",
            " conv2d_120 (Conv2D)         (None, 24, 24, 64)        32832     \n",
            "                                                                 \n",
            " conv2d_121 (Conv2D)         (None, 24, 24, 64)        65600     \n",
            "                                                                 \n",
            " conv2d_122 (Conv2D)         (None, 24, 24, 64)        65600     \n",
            "                                                                 \n",
            " batch_normalization_143 (Ba  (None, 24, 24, 64)       256       \n",
            " tchNormalization)                                               \n",
            "                                                                 \n",
            " max_pooling2d_72 (MaxPoolin  (None, 12, 12, 64)       0         \n",
            " g2D)                                                            \n",
            "                                                                 \n",
            " conv2d_123 (Conv2D)         (None, 12, 12, 128)       131200    \n",
            "                                                                 \n",
            " conv2d_124 (Conv2D)         (None, 12, 12, 128)       262272    \n",
            "                                                                 \n",
            " conv2d_125 (Conv2D)         (None, 12, 12, 128)       262272    \n",
            "                                                                 \n",
            " batch_normalization_144 (Ba  (None, 12, 12, 128)      512       \n",
            " tchNormalization)                                               \n",
            "                                                                 \n",
            " max_pooling2d_73 (MaxPoolin  (None, 6, 6, 128)        0         \n",
            " g2D)                                                            \n",
            "                                                                 \n",
            " conv2d_126 (Conv2D)         (None, 6, 6, 256)         295168    \n",
            "                                                                 \n",
            " conv2d_127 (Conv2D)         (None, 6, 6, 256)         590080    \n",
            "                                                                 \n",
            " conv2d_128 (Conv2D)         (None, 6, 6, 256)         590080    \n",
            "                                                                 \n",
            " batch_normalization_145 (Ba  (None, 6, 6, 256)        1024      \n",
            " tchNormalization)                                               \n",
            "                                                                 \n",
            " max_pooling2d_74 (MaxPoolin  (None, 3, 3, 256)        0         \n",
            " g2D)                                                            \n",
            "                                                                 \n",
            " conv2d_129 (Conv2D)         (None, 3, 3, 512)         1180160   \n",
            "                                                                 \n",
            " batch_normalization_146 (Ba  (None, 3, 3, 512)        2048      \n",
            " tchNormalization)                                               \n",
            "                                                                 \n",
            " max_pooling2d_75 (MaxPoolin  (None, 1, 1, 512)        0         \n",
            " g2D)                                                            \n",
            "                                                                 \n",
            " flatten_12 (Flatten)        (None, 512)               0         \n",
            "                                                                 \n",
            " dense_83 (Dense)            (None, 512)               262656    \n",
            "                                                                 \n",
            " batch_normalization_147 (Ba  (None, 512)              2048      \n",
            " tchNormalization)                                               \n",
            "                                                                 \n",
            " dense_84 (Dense)            (None, 256)               131328    \n",
            "                                                                 \n",
            " batch_normalization_148 (Ba  (None, 256)              1024      \n",
            " tchNormalization)                                               \n",
            "                                                                 \n",
            " dense_85 (Dense)            (None, 128)               32896     \n",
            "                                                                 \n",
            " batch_normalization_149 (Ba  (None, 128)              512       \n",
            " tchNormalization)                                               \n",
            "                                                                 \n",
            " dense_86 (Dense)            (None, 64)                8256      \n",
            "                                                                 \n",
            " batch_normalization_150 (Ba  (None, 64)               256       \n",
            " tchNormalization)                                               \n",
            "                                                                 \n",
            " dense_87 (Dense)            (None, 32)                2080      \n",
            "                                                                 \n",
            " batch_normalization_151 (Ba  (None, 32)               128       \n",
            " tchNormalization)                                               \n",
            "                                                                 \n",
            " dense_88 (Dense)            (None, 7)                 231       \n",
            "                                                                 \n",
            "=================================================================\n",
            "Total params: 3,959,623\n",
            "Trainable params: 3,955,623\n",
            "Non-trainable params: 4,000\n",
            "_________________________________________________________________\n"
          ]
        }
      ],
      "source": [
        "network = Sequential()\n",
        "\n",
        "network.add(Conv2D(filters=16, kernel_size=(3,3), activation = 'relu', input_shape = (100,100,3), kernel_initializer=initializer1))\n",
        "network.add(BatchNormalization())\n",
        "network.add(MaxPool2D(pool_size=(2,2)))\n",
        "\n",
        "network.add(Conv2D(filters=32, kernel_size=(5,5), activation = 'relu', padding='same', kernel_initializer=initializer1))\n",
        "network.add(Conv2D(filters=32, kernel_size=(5,5), activation = 'relu', padding='same', kernel_initializer=initializer1))\n",
        "network.add(BatchNormalization())\n",
        "network.add(MaxPool2D(pool_size=(2,2)))\n",
        "\n",
        "network.add(Conv2D(filters=64, kernel_size=(4,4), activation = 'relu', padding='same', kernel_initializer=initializer1))\n",
        "network.add(Conv2D(filters=64, kernel_size=(4,4), activation = 'relu', padding='same', kernel_initializer=initializer1))\n",
        "network.add(Conv2D(filters=64, kernel_size=(4,4), activation = 'relu', padding='same', kernel_initializer=initializer1))\n",
        "network.add(BatchNormalization())\n",
        "network.add(MaxPool2D(pool_size=(2,2)))\n",
        "\n",
        "network.add(Conv2D(filters=128, kernel_size=(4,4), activation = 'relu', padding='same', kernel_initializer=initializer1))\n",
        "network.add(Conv2D(filters=128, kernel_size=(4,4), activation = 'relu', padding='same', kernel_initializer=initializer1))\n",
        "network.add(Conv2D(filters=128, kernel_size=(4,4), activation = 'relu', padding='same', kernel_initializer=initializer1))\n",
        "network.add(BatchNormalization())\n",
        "network.add(MaxPool2D(pool_size=(2,2)))\n",
        "\n",
        "network.add(Conv2D(filters=256, kernel_size=(3,3), activation = 'relu', padding='same', kernel_initializer=initializer1))\n",
        "network.add(Conv2D(filters=256, kernel_size=(3,3), activation = 'relu', padding='same', kernel_initializer=initializer1))\n",
        "network.add(Conv2D(filters=256, kernel_size=(3,3), activation = 'relu', padding='same', kernel_initializer=initializer1))\n",
        "network.add(BatchNormalization())\n",
        "network.add(MaxPool2D(pool_size=(2,2)))\n",
        "\n",
        "network.add(Conv2D(filters=512, kernel_size=(3,3), activation = 'relu', padding='same', kernel_initializer=initializer1))\n",
        "network.add(BatchNormalization())\n",
        "network.add(MaxPool2D(pool_size=(2,2)))\n",
        "\n",
        "#network.add(Conv2D(filters=1024, kernel_size=(3,3), activation = 'relu', padding='same', kernel_initializer=initializer1))\n",
        "#network.add(BatchNormalization())\n",
        "#network.add(MaxPool2D(pool_size=(2,2)))\n",
        "\n",
        "network.add(Flatten())\n",
        "\n",
        "#network.add(Dropout(0.2))\n",
        "\n",
        "#network.add(Dense(units = 1024, activation = 'relu', kernel_initializer=initializer1))\n",
        "#network.add(BatchNormalization())\n",
        "network.add(Dense(units = 512, activation = 'relu', kernel_initializer=initializer1))\n",
        "network.add(BatchNormalization())\n",
        "network.add(Dense(units = 256, activation = 'relu', kernel_initializer=initializer1))\n",
        "network.add(BatchNormalization())\n",
        "network.add(Dense(units = 128, activation = 'relu', kernel_initializer=initializer1))\n",
        "network.add(BatchNormalization())\n",
        "network.add(Dense(units = 64, activation = 'relu', kernel_initializer=initializer1))\n",
        "network.add(BatchNormalization())\n",
        "network.add(Dense(units = 32, activation = 'relu', kernel_initializer=initializer1, kernel_regularizer=tf.keras.regularizers.L1L2()))\n",
        "network.add(BatchNormalization())\n",
        "network.add(Dense(units = 7, activation = 'softmax', kernel_initializer=initializer2))\n",
        "network.summary()"
      ]
    },
    {
      "cell_type": "code",
      "execution_count": 138,
      "metadata": {
        "id": "6viOH_kUE4Bq"
      },
      "outputs": [],
      "source": [
        "from tensorflow.keras.optimizers import Adam\n",
        "#opt = Adam(lr=0.005)\n",
        "opt = Adam()\n",
        "network.compile(optimizer='Adam', loss='categorical_crossentropy', metrics = ['accuracy'])\n"
      ]
    },
    {
      "cell_type": "code",
      "execution_count": 139,
      "metadata": {
        "id": "5IXmjfYmbuYh"
      },
      "outputs": [],
      "source": [
        "es = EarlyStopping(monitor = 'val_accuracy', min_delta = 0.001, patience = 20, verbose =1)\n",
        "model_cp = ModelCheckpoint(filepath = 'best_model1.h5', monitor = 'val_accuracy', save_best_only = True, verbose = 1)\n",
        "learning_rate_reduction = ReduceLROnPlateau(monitor='val_accuracy', patience = 5, verbose=1, factor=0.5, min_lr=0.00001)"
      ]
    },
    {
      "cell_type": "code",
      "execution_count": 140,
      "metadata": {
        "colab": {
          "base_uri": "https://localhost:8080/"
        },
        "id": "Uk8BSV5gGazz",
        "outputId": "41ff1993-404f-47bd-cde2-fb02ac39d84c"
      },
      "outputs": [
        {
          "output_type": "stream",
          "name": "stdout",
          "text": [
            "Epoch 1/100\n"
          ]
        },
        {
          "output_type": "stream",
          "name": "stderr",
          "text": [
            "<ipython-input-140-d45876fe1552>:1: UserWarning: `Model.fit_generator` is deprecated and will be removed in a future version. Please use `Model.fit`, which supports generators.\n",
            "  history = network.fit_generator(train_dataset,\n"
          ]
        },
        {
          "output_type": "stream",
          "name": "stdout",
          "text": [
            "50/50 [==============================] - ETA: 0s - loss: 2.0284 - accuracy: 0.2560\n",
            "Epoch 1: val_accuracy improved from -inf to 0.22000, saving model to best_model1.h5\n",
            "50/50 [==============================] - 31s 597ms/step - loss: 2.0284 - accuracy: 0.2560 - val_loss: 12.2572 - val_accuracy: 0.2200 - lr: 0.0010\n",
            "Epoch 2/100\n",
            "50/50 [==============================] - ETA: 0s - loss: 1.6745 - accuracy: 0.3680\n",
            "Epoch 2: val_accuracy did not improve from 0.22000\n",
            "50/50 [==============================] - 29s 586ms/step - loss: 1.6745 - accuracy: 0.3680 - val_loss: 2.4067 - val_accuracy: 0.1200 - lr: 0.0010\n",
            "Epoch 3/100\n",
            "50/50 [==============================] - ETA: 0s - loss: 1.5034 - accuracy: 0.4440\n",
            "Epoch 3: val_accuracy improved from 0.22000 to 0.28000, saving model to best_model1.h5\n",
            "50/50 [==============================] - 29s 590ms/step - loss: 1.5034 - accuracy: 0.4440 - val_loss: 2.3113 - val_accuracy: 0.2800 - lr: 0.0010\n",
            "Epoch 4/100\n",
            "50/50 [==============================] - ETA: 0s - loss: 1.5561 - accuracy: 0.4100\n",
            "Epoch 4: val_accuracy did not improve from 0.28000\n",
            "50/50 [==============================] - 30s 602ms/step - loss: 1.5561 - accuracy: 0.4100 - val_loss: 3.2733 - val_accuracy: 0.2800 - lr: 0.0010\n",
            "Epoch 5/100\n",
            "50/50 [==============================] - ETA: 0s - loss: 1.4796 - accuracy: 0.4660\n",
            "Epoch 5: val_accuracy improved from 0.28000 to 0.38000, saving model to best_model1.h5\n",
            "50/50 [==============================] - 29s 590ms/step - loss: 1.4796 - accuracy: 0.4660 - val_loss: 1.9675 - val_accuracy: 0.3800 - lr: 0.0010\n",
            "Epoch 6/100\n",
            "50/50 [==============================] - ETA: 0s - loss: 1.4537 - accuracy: 0.4660\n",
            "Epoch 6: val_accuracy did not improve from 0.38000\n",
            "50/50 [==============================] - 29s 582ms/step - loss: 1.4537 - accuracy: 0.4660 - val_loss: 1.7899 - val_accuracy: 0.3400 - lr: 0.0010\n",
            "Epoch 7/100\n",
            "50/50 [==============================] - ETA: 0s - loss: 1.3950 - accuracy: 0.4980\n",
            "Epoch 7: val_accuracy improved from 0.38000 to 0.60000, saving model to best_model1.h5\n",
            "50/50 [==============================] - 29s 588ms/step - loss: 1.3950 - accuracy: 0.4980 - val_loss: 1.2985 - val_accuracy: 0.6000 - lr: 0.0010\n",
            "Epoch 8/100\n",
            "50/50 [==============================] - ETA: 0s - loss: 1.3125 - accuracy: 0.4740\n",
            "Epoch 8: val_accuracy did not improve from 0.60000\n",
            "50/50 [==============================] - 29s 571ms/step - loss: 1.3125 - accuracy: 0.4740 - val_loss: 1.6312 - val_accuracy: 0.3400 - lr: 0.0010\n",
            "Epoch 9/100\n",
            "50/50 [==============================] - ETA: 0s - loss: 1.3921 - accuracy: 0.4600\n",
            "Epoch 9: val_accuracy did not improve from 0.60000\n",
            "50/50 [==============================] - 28s 564ms/step - loss: 1.3921 - accuracy: 0.4600 - val_loss: 1.3623 - val_accuracy: 0.4400 - lr: 0.0010\n",
            "Epoch 10/100\n",
            "50/50 [==============================] - ETA: 0s - loss: 1.2767 - accuracy: 0.5160\n",
            "Epoch 10: val_accuracy did not improve from 0.60000\n",
            "50/50 [==============================] - 29s 577ms/step - loss: 1.2767 - accuracy: 0.5160 - val_loss: 1.3496 - val_accuracy: 0.4600 - lr: 0.0010\n",
            "Epoch 11/100\n",
            "50/50 [==============================] - ETA: 0s - loss: 1.2934 - accuracy: 0.4960\n",
            "Epoch 11: val_accuracy did not improve from 0.60000\n",
            "50/50 [==============================] - 29s 585ms/step - loss: 1.2934 - accuracy: 0.4960 - val_loss: 1.4976 - val_accuracy: 0.3800 - lr: 0.0010\n",
            "Epoch 12/100\n",
            "50/50 [==============================] - ETA: 0s - loss: 1.3310 - accuracy: 0.4820\n",
            "Epoch 12: val_accuracy did not improve from 0.60000\n",
            "\n",
            "Epoch 12: ReduceLROnPlateau reducing learning rate to 0.0005000000237487257.\n",
            "50/50 [==============================] - 29s 582ms/step - loss: 1.3310 - accuracy: 0.4820 - val_loss: 1.1524 - val_accuracy: 0.5600 - lr: 0.0010\n",
            "Epoch 13/100\n",
            "50/50 [==============================] - ETA: 0s - loss: 1.2708 - accuracy: 0.5220\n",
            "Epoch 13: val_accuracy did not improve from 0.60000\n",
            "50/50 [==============================] - 29s 587ms/step - loss: 1.2708 - accuracy: 0.5220 - val_loss: 1.2071 - val_accuracy: 0.5000 - lr: 5.0000e-04\n",
            "Epoch 14/100\n",
            "50/50 [==============================] - ETA: 0s - loss: 1.1802 - accuracy: 0.5300\n",
            "Epoch 14: val_accuracy did not improve from 0.60000\n",
            "50/50 [==============================] - 29s 582ms/step - loss: 1.1802 - accuracy: 0.5300 - val_loss: 1.0784 - val_accuracy: 0.5200 - lr: 5.0000e-04\n",
            "Epoch 15/100\n",
            "50/50 [==============================] - ETA: 0s - loss: 1.2429 - accuracy: 0.5080\n",
            "Epoch 15: val_accuracy improved from 0.60000 to 0.64000, saving model to best_model1.h5\n",
            "50/50 [==============================] - 29s 588ms/step - loss: 1.2429 - accuracy: 0.5080 - val_loss: 1.0565 - val_accuracy: 0.6400 - lr: 5.0000e-04\n",
            "Epoch 16/100\n",
            "50/50 [==============================] - ETA: 0s - loss: 1.2985 - accuracy: 0.4880\n",
            "Epoch 16: val_accuracy did not improve from 0.64000\n",
            "50/50 [==============================] - 29s 584ms/step - loss: 1.2985 - accuracy: 0.4880 - val_loss: 1.0223 - val_accuracy: 0.6000 - lr: 5.0000e-04\n",
            "Epoch 17/100\n",
            "50/50 [==============================] - ETA: 0s - loss: 1.2237 - accuracy: 0.5220\n",
            "Epoch 17: val_accuracy did not improve from 0.64000\n",
            "50/50 [==============================] - 29s 586ms/step - loss: 1.2237 - accuracy: 0.5220 - val_loss: 0.9202 - val_accuracy: 0.6400 - lr: 5.0000e-04\n",
            "Epoch 18/100\n",
            "50/50 [==============================] - ETA: 0s - loss: 1.1560 - accuracy: 0.5480\n",
            "Epoch 18: val_accuracy did not improve from 0.64000\n",
            "50/50 [==============================] - 29s 582ms/step - loss: 1.1560 - accuracy: 0.5480 - val_loss: 1.4113 - val_accuracy: 0.3400 - lr: 5.0000e-04\n",
            "Epoch 19/100\n",
            "50/50 [==============================] - ETA: 0s - loss: 1.2677 - accuracy: 0.5100\n",
            "Epoch 19: val_accuracy did not improve from 0.64000\n",
            "50/50 [==============================] - 28s 565ms/step - loss: 1.2677 - accuracy: 0.5100 - val_loss: 1.3881 - val_accuracy: 0.4600 - lr: 5.0000e-04\n",
            "Epoch 20/100\n",
            "50/50 [==============================] - ETA: 0s - loss: 1.1562 - accuracy: 0.5440\n",
            "Epoch 20: val_accuracy did not improve from 0.64000\n",
            "\n",
            "Epoch 20: ReduceLROnPlateau reducing learning rate to 0.0002500000118743628.\n",
            "50/50 [==============================] - 29s 571ms/step - loss: 1.1562 - accuracy: 0.5440 - val_loss: 1.0634 - val_accuracy: 0.6000 - lr: 5.0000e-04\n",
            "Epoch 21/100\n",
            "50/50 [==============================] - ETA: 0s - loss: 1.2402 - accuracy: 0.5620\n",
            "Epoch 21: val_accuracy did not improve from 0.64000\n",
            "50/50 [==============================] - 29s 570ms/step - loss: 1.2402 - accuracy: 0.5620 - val_loss: 1.0268 - val_accuracy: 0.5800 - lr: 2.5000e-04\n",
            "Epoch 22/100\n",
            "50/50 [==============================] - ETA: 0s - loss: 1.1805 - accuracy: 0.5360\n",
            "Epoch 22: val_accuracy improved from 0.64000 to 0.66000, saving model to best_model1.h5\n",
            "50/50 [==============================] - 29s 582ms/step - loss: 1.1805 - accuracy: 0.5360 - val_loss: 0.9063 - val_accuracy: 0.6600 - lr: 2.5000e-04\n",
            "Epoch 23/100\n",
            "50/50 [==============================] - ETA: 0s - loss: 1.1657 - accuracy: 0.5380\n",
            "Epoch 23: val_accuracy improved from 0.66000 to 0.68000, saving model to best_model1.h5\n",
            "50/50 [==============================] - 29s 590ms/step - loss: 1.1657 - accuracy: 0.5380 - val_loss: 0.8914 - val_accuracy: 0.6800 - lr: 2.5000e-04\n",
            "Epoch 24/100\n",
            "50/50 [==============================] - ETA: 0s - loss: 1.1864 - accuracy: 0.5500\n",
            "Epoch 24: val_accuracy did not improve from 0.68000\n",
            "50/50 [==============================] - 29s 585ms/step - loss: 1.1864 - accuracy: 0.5500 - val_loss: 1.0387 - val_accuracy: 0.5400 - lr: 2.5000e-04\n",
            "Epoch 25/100\n",
            "50/50 [==============================] - ETA: 0s - loss: 1.1387 - accuracy: 0.5680\n",
            "Epoch 25: val_accuracy did not improve from 0.68000\n",
            "50/50 [==============================] - 29s 588ms/step - loss: 1.1387 - accuracy: 0.5680 - val_loss: 0.8583 - val_accuracy: 0.6800 - lr: 2.5000e-04\n",
            "Epoch 26/100\n",
            "50/50 [==============================] - ETA: 0s - loss: 1.1462 - accuracy: 0.5763\n",
            "Epoch 26: val_accuracy did not improve from 0.68000\n",
            "50/50 [==============================] - 29s 584ms/step - loss: 1.1462 - accuracy: 0.5763 - val_loss: 0.8792 - val_accuracy: 0.6800 - lr: 2.5000e-04\n",
            "Epoch 27/100\n",
            "50/50 [==============================] - ETA: 0s - loss: 1.1212 - accuracy: 0.5743\n",
            "Epoch 27: val_accuracy did not improve from 0.68000\n",
            "50/50 [==============================] - 29s 581ms/step - loss: 1.1212 - accuracy: 0.5743 - val_loss: 1.1346 - val_accuracy: 0.5000 - lr: 2.5000e-04\n",
            "Epoch 28/100\n",
            "50/50 [==============================] - ETA: 0s - loss: 1.0452 - accuracy: 0.6360\n",
            "Epoch 28: val_accuracy improved from 0.68000 to 0.70000, saving model to best_model1.h5\n",
            "50/50 [==============================] - 29s 572ms/step - loss: 1.0452 - accuracy: 0.6360 - val_loss: 0.8946 - val_accuracy: 0.7000 - lr: 2.5000e-04\n",
            "Epoch 29/100\n",
            "50/50 [==============================] - ETA: 0s - loss: 1.1983 - accuracy: 0.5640\n",
            "Epoch 29: val_accuracy did not improve from 0.70000\n",
            "50/50 [==============================] - 29s 578ms/step - loss: 1.1983 - accuracy: 0.5640 - val_loss: 0.8374 - val_accuracy: 0.6800 - lr: 2.5000e-04\n",
            "Epoch 30/100\n",
            "50/50 [==============================] - ETA: 0s - loss: 1.0527 - accuracy: 0.5940\n",
            "Epoch 30: val_accuracy did not improve from 0.70000\n",
            "50/50 [==============================] - 29s 578ms/step - loss: 1.0527 - accuracy: 0.5940 - val_loss: 0.9074 - val_accuracy: 0.6400 - lr: 2.5000e-04\n",
            "Epoch 31/100\n",
            "50/50 [==============================] - ETA: 0s - loss: 1.2007 - accuracy: 0.5340\n",
            "Epoch 31: val_accuracy improved from 0.70000 to 0.74000, saving model to best_model1.h5\n",
            "50/50 [==============================] - 30s 589ms/step - loss: 1.2007 - accuracy: 0.5340 - val_loss: 0.7561 - val_accuracy: 0.7400 - lr: 2.5000e-04\n",
            "Epoch 32/100\n",
            "50/50 [==============================] - ETA: 0s - loss: 1.1339 - accuracy: 0.5580\n",
            "Epoch 32: val_accuracy did not improve from 0.74000\n",
            "50/50 [==============================] - 29s 585ms/step - loss: 1.1339 - accuracy: 0.5580 - val_loss: 0.9482 - val_accuracy: 0.5800 - lr: 2.5000e-04\n",
            "Epoch 33/100\n",
            "50/50 [==============================] - ETA: 0s - loss: 1.1016 - accuracy: 0.5560\n",
            "Epoch 33: val_accuracy did not improve from 0.74000\n",
            "50/50 [==============================] - 29s 583ms/step - loss: 1.1016 - accuracy: 0.5560 - val_loss: 0.8415 - val_accuracy: 0.6200 - lr: 2.5000e-04\n",
            "Epoch 34/100\n",
            "50/50 [==============================] - ETA: 0s - loss: 1.0914 - accuracy: 0.6100\n",
            "Epoch 34: val_accuracy did not improve from 0.74000\n",
            "50/50 [==============================] - 29s 585ms/step - loss: 1.0914 - accuracy: 0.6100 - val_loss: 0.7888 - val_accuracy: 0.7400 - lr: 2.5000e-04\n",
            "Epoch 35/100\n",
            "50/50 [==============================] - ETA: 0s - loss: 1.0833 - accuracy: 0.5760\n",
            "Epoch 35: val_accuracy did not improve from 0.74000\n",
            "50/50 [==============================] - 29s 585ms/step - loss: 1.0833 - accuracy: 0.5760 - val_loss: 0.9960 - val_accuracy: 0.6000 - lr: 2.5000e-04\n",
            "Epoch 36/100\n",
            "50/50 [==============================] - ETA: 0s - loss: 1.0700 - accuracy: 0.6140\n",
            "Epoch 36: val_accuracy did not improve from 0.74000\n",
            "\n",
            "Epoch 36: ReduceLROnPlateau reducing learning rate to 0.0001250000059371814.\n",
            "50/50 [==============================] - 29s 582ms/step - loss: 1.0700 - accuracy: 0.6140 - val_loss: 0.9099 - val_accuracy: 0.6800 - lr: 2.5000e-04\n",
            "Epoch 37/100\n",
            "50/50 [==============================] - ETA: 0s - loss: 1.0258 - accuracy: 0.6160\n",
            "Epoch 37: val_accuracy did not improve from 0.74000\n",
            "50/50 [==============================] - 29s 584ms/step - loss: 1.0258 - accuracy: 0.6160 - val_loss: 1.0158 - val_accuracy: 0.5600 - lr: 1.2500e-04\n",
            "Epoch 38/100\n",
            "50/50 [==============================] - ETA: 0s - loss: 1.0045 - accuracy: 0.6165\n",
            "Epoch 38: val_accuracy did not improve from 0.74000\n",
            "50/50 [==============================] - 29s 586ms/step - loss: 1.0045 - accuracy: 0.6165 - val_loss: 0.8463 - val_accuracy: 0.6800 - lr: 1.2500e-04\n",
            "Epoch 39/100\n",
            "50/50 [==============================] - ETA: 0s - loss: 1.0901 - accuracy: 0.5940\n",
            "Epoch 39: val_accuracy did not improve from 0.74000\n",
            "50/50 [==============================] - 29s 587ms/step - loss: 1.0901 - accuracy: 0.5940 - val_loss: 0.9143 - val_accuracy: 0.7200 - lr: 1.2500e-04\n",
            "Epoch 40/100\n",
            "50/50 [==============================] - ETA: 0s - loss: 1.1260 - accuracy: 0.5880\n",
            "Epoch 40: val_accuracy did not improve from 0.74000\n",
            "50/50 [==============================] - 29s 580ms/step - loss: 1.1260 - accuracy: 0.5880 - val_loss: 0.7193 - val_accuracy: 0.6600 - lr: 1.2500e-04\n",
            "Epoch 41/100\n",
            "50/50 [==============================] - ETA: 0s - loss: 0.9523 - accuracy: 0.6500\n",
            "Epoch 41: val_accuracy did not improve from 0.74000\n",
            "\n",
            "Epoch 41: ReduceLROnPlateau reducing learning rate to 6.25000029685907e-05.\n",
            "50/50 [==============================] - 29s 567ms/step - loss: 0.9523 - accuracy: 0.6500 - val_loss: 0.8923 - val_accuracy: 0.7000 - lr: 1.2500e-04\n",
            "Epoch 42/100\n",
            "50/50 [==============================] - ETA: 0s - loss: 1.0499 - accuracy: 0.5920\n",
            "Epoch 42: val_accuracy did not improve from 0.74000\n",
            "50/50 [==============================] - 29s 569ms/step - loss: 1.0499 - accuracy: 0.5920 - val_loss: 0.9717 - val_accuracy: 0.6400 - lr: 6.2500e-05\n",
            "Epoch 43/100\n",
            "50/50 [==============================] - ETA: 0s - loss: 0.9351 - accuracy: 0.6500\n",
            "Epoch 43: val_accuracy improved from 0.74000 to 0.76000, saving model to best_model1.h5\n",
            "50/50 [==============================] - 29s 582ms/step - loss: 0.9351 - accuracy: 0.6500 - val_loss: 0.6857 - val_accuracy: 0.7600 - lr: 6.2500e-05\n",
            "Epoch 44/100\n",
            "50/50 [==============================] - ETA: 0s - loss: 1.1480 - accuracy: 0.5580\n",
            "Epoch 44: val_accuracy improved from 0.76000 to 0.80000, saving model to best_model1.h5\n",
            "50/50 [==============================] - 29s 589ms/step - loss: 1.1480 - accuracy: 0.5580 - val_loss: 0.6904 - val_accuracy: 0.8000 - lr: 6.2500e-05\n",
            "Epoch 45/100\n",
            "50/50 [==============================] - ETA: 0s - loss: 1.0190 - accuracy: 0.6120\n",
            "Epoch 45: val_accuracy did not improve from 0.80000\n",
            "50/50 [==============================] - 29s 586ms/step - loss: 1.0190 - accuracy: 0.6120 - val_loss: 0.8081 - val_accuracy: 0.6400 - lr: 6.2500e-05\n",
            "Epoch 46/100\n",
            "50/50 [==============================] - ETA: 0s - loss: 1.0291 - accuracy: 0.6340\n",
            "Epoch 46: val_accuracy did not improve from 0.80000\n",
            "50/50 [==============================] - 29s 588ms/step - loss: 1.0291 - accuracy: 0.6340 - val_loss: 0.7309 - val_accuracy: 0.6800 - lr: 6.2500e-05\n",
            "Epoch 47/100\n",
            "50/50 [==============================] - ETA: 0s - loss: 1.0607 - accuracy: 0.6160\n",
            "Epoch 47: val_accuracy did not improve from 0.80000\n",
            "50/50 [==============================] - 29s 584ms/step - loss: 1.0607 - accuracy: 0.6160 - val_loss: 0.6730 - val_accuracy: 0.7000 - lr: 6.2500e-05\n",
            "Epoch 48/100\n",
            "50/50 [==============================] - ETA: 0s - loss: 0.9868 - accuracy: 0.6380\n",
            "Epoch 48: val_accuracy improved from 0.80000 to 0.82000, saving model to best_model1.h5\n",
            "50/50 [==============================] - 30s 593ms/step - loss: 0.9868 - accuracy: 0.6380 - val_loss: 0.6598 - val_accuracy: 0.8200 - lr: 6.2500e-05\n",
            "Epoch 49/100\n",
            "50/50 [==============================] - ETA: 0s - loss: 1.0159 - accuracy: 0.6280\n",
            "Epoch 49: val_accuracy did not improve from 0.82000\n",
            "50/50 [==============================] - 29s 586ms/step - loss: 1.0159 - accuracy: 0.6280 - val_loss: 0.5955 - val_accuracy: 0.8000 - lr: 6.2500e-05\n",
            "Epoch 50/100\n",
            "50/50 [==============================] - ETA: 0s - loss: 1.0132 - accuracy: 0.6240\n",
            "Epoch 50: val_accuracy did not improve from 0.82000\n",
            "50/50 [==============================] - 29s 589ms/step - loss: 1.0132 - accuracy: 0.6240 - val_loss: 0.6238 - val_accuracy: 0.8200 - lr: 6.2500e-05\n",
            "Epoch 51/100\n",
            "50/50 [==============================] - ETA: 0s - loss: 0.9909 - accuracy: 0.6620\n",
            "Epoch 51: val_accuracy improved from 0.82000 to 0.86000, saving model to best_model1.h5\n",
            "50/50 [==============================] - 29s 583ms/step - loss: 0.9909 - accuracy: 0.6620 - val_loss: 0.7311 - val_accuracy: 0.8600 - lr: 6.2500e-05\n",
            "Epoch 52/100\n",
            "50/50 [==============================] - ETA: 0s - loss: 1.0314 - accuracy: 0.5980\n",
            "Epoch 52: val_accuracy did not improve from 0.86000\n",
            "50/50 [==============================] - 29s 572ms/step - loss: 1.0314 - accuracy: 0.5980 - val_loss: 0.7309 - val_accuracy: 0.7800 - lr: 6.2500e-05\n",
            "Epoch 53/100\n",
            "50/50 [==============================] - ETA: 0s - loss: 0.9500 - accuracy: 0.6500\n",
            "Epoch 53: val_accuracy did not improve from 0.86000\n",
            "50/50 [==============================] - 29s 584ms/step - loss: 0.9500 - accuracy: 0.6500 - val_loss: 1.0238 - val_accuracy: 0.6600 - lr: 6.2500e-05\n",
            "Epoch 54/100\n",
            "50/50 [==============================] - ETA: 0s - loss: 1.0330 - accuracy: 0.6280\n",
            "Epoch 54: val_accuracy did not improve from 0.86000\n",
            "50/50 [==============================] - 29s 574ms/step - loss: 1.0330 - accuracy: 0.6280 - val_loss: 0.7291 - val_accuracy: 0.7200 - lr: 6.2500e-05\n",
            "Epoch 55/100\n",
            "50/50 [==============================] - ETA: 0s - loss: 0.8737 - accuracy: 0.6600\n",
            "Epoch 55: val_accuracy did not improve from 0.86000\n",
            "50/50 [==============================] - 30s 597ms/step - loss: 0.8737 - accuracy: 0.6600 - val_loss: 0.5859 - val_accuracy: 0.8200 - lr: 6.2500e-05\n",
            "Epoch 56/100\n",
            "50/50 [==============================] - ETA: 0s - loss: 0.9612 - accuracy: 0.6460\n",
            "Epoch 56: val_accuracy did not improve from 0.86000\n",
            "\n",
            "Epoch 56: ReduceLROnPlateau reducing learning rate to 3.125000148429535e-05.\n",
            "50/50 [==============================] - 29s 586ms/step - loss: 0.9612 - accuracy: 0.6460 - val_loss: 0.5889 - val_accuracy: 0.8400 - lr: 6.2500e-05\n",
            "Epoch 57/100\n",
            "50/50 [==============================] - ETA: 0s - loss: 0.9920 - accuracy: 0.6300\n",
            "Epoch 57: val_accuracy did not improve from 0.86000\n",
            "50/50 [==============================] - 29s 585ms/step - loss: 0.9920 - accuracy: 0.6300 - val_loss: 0.7022 - val_accuracy: 0.7200 - lr: 3.1250e-05\n",
            "Epoch 58/100\n",
            "50/50 [==============================] - ETA: 0s - loss: 0.9212 - accuracy: 0.6700\n",
            "Epoch 58: val_accuracy did not improve from 0.86000\n",
            "50/50 [==============================] - 29s 586ms/step - loss: 0.9212 - accuracy: 0.6700 - val_loss: 0.6681 - val_accuracy: 0.7200 - lr: 3.1250e-05\n",
            "Epoch 59/100\n",
            "50/50 [==============================] - ETA: 0s - loss: 0.9039 - accuracy: 0.6767\n",
            "Epoch 59: val_accuracy did not improve from 0.86000\n",
            "50/50 [==============================] - 29s 584ms/step - loss: 0.9039 - accuracy: 0.6767 - val_loss: 0.6300 - val_accuracy: 0.7800 - lr: 3.1250e-05\n",
            "Epoch 60/100\n",
            "50/50 [==============================] - ETA: 0s - loss: 0.9868 - accuracy: 0.6560\n",
            "Epoch 60: val_accuracy did not improve from 0.86000\n",
            "50/50 [==============================] - 29s 571ms/step - loss: 0.9868 - accuracy: 0.6560 - val_loss: 0.7733 - val_accuracy: 0.7200 - lr: 3.1250e-05\n",
            "Epoch 61/100\n",
            "50/50 [==============================] - ETA: 0s - loss: 0.9216 - accuracy: 0.6540\n",
            "Epoch 61: val_accuracy did not improve from 0.86000\n",
            "\n",
            "Epoch 61: ReduceLROnPlateau reducing learning rate to 1.5625000742147677e-05.\n",
            "50/50 [==============================] - 29s 568ms/step - loss: 0.9216 - accuracy: 0.6540 - val_loss: 0.7538 - val_accuracy: 0.7000 - lr: 3.1250e-05\n",
            "Epoch 62/100\n",
            "50/50 [==============================] - ETA: 0s - loss: 0.9980 - accuracy: 0.6380\n",
            "Epoch 62: val_accuracy did not improve from 0.86000\n",
            "50/50 [==============================] - 29s 568ms/step - loss: 0.9980 - accuracy: 0.6380 - val_loss: 0.7396 - val_accuracy: 0.7800 - lr: 1.5625e-05\n",
            "Epoch 63/100\n",
            "50/50 [==============================] - ETA: 0s - loss: 0.9921 - accuracy: 0.6426\n",
            "Epoch 63: val_accuracy did not improve from 0.86000\n",
            "50/50 [==============================] - 29s 580ms/step - loss: 0.9921 - accuracy: 0.6426 - val_loss: 0.7852 - val_accuracy: 0.6600 - lr: 1.5625e-05\n",
            "Epoch 64/100\n",
            "50/50 [==============================] - ETA: 0s - loss: 0.9303 - accuracy: 0.6540\n",
            "Epoch 64: val_accuracy did not improve from 0.86000\n",
            "50/50 [==============================] - 29s 588ms/step - loss: 0.9303 - accuracy: 0.6540 - val_loss: 0.8716 - val_accuracy: 0.6400 - lr: 1.5625e-05\n",
            "Epoch 65/100\n",
            "50/50 [==============================] - ETA: 0s - loss: 0.9645 - accuracy: 0.6340\n",
            "Epoch 65: val_accuracy did not improve from 0.86000\n",
            "50/50 [==============================] - 29s 586ms/step - loss: 0.9645 - accuracy: 0.6340 - val_loss: 0.5609 - val_accuracy: 0.8000 - lr: 1.5625e-05\n",
            "Epoch 66/100\n",
            "50/50 [==============================] - ETA: 0s - loss: 0.9989 - accuracy: 0.6460\n",
            "Epoch 66: val_accuracy did not improve from 0.86000\n",
            "\n",
            "Epoch 66: ReduceLROnPlateau reducing learning rate to 1e-05.\n",
            "50/50 [==============================] - 29s 584ms/step - loss: 0.9989 - accuracy: 0.6460 - val_loss: 0.8235 - val_accuracy: 0.7000 - lr: 1.5625e-05\n",
            "Epoch 67/100\n",
            "50/50 [==============================] - ETA: 0s - loss: 0.9524 - accuracy: 0.6640\n",
            "Epoch 67: val_accuracy did not improve from 0.86000\n",
            "50/50 [==============================] - 29s 587ms/step - loss: 0.9524 - accuracy: 0.6640 - val_loss: 0.8985 - val_accuracy: 0.6600 - lr: 1.0000e-05\n",
            "Epoch 68/100\n",
            "50/50 [==============================] - ETA: 0s - loss: 0.9388 - accuracy: 0.6606\n",
            "Epoch 68: val_accuracy did not improve from 0.86000\n",
            "50/50 [==============================] - 29s 587ms/step - loss: 0.9388 - accuracy: 0.6606 - val_loss: 0.7404 - val_accuracy: 0.7000 - lr: 1.0000e-05\n",
            "Epoch 69/100\n",
            "50/50 [==============================] - ETA: 0s - loss: 0.9455 - accuracy: 0.6620\n",
            "Epoch 69: val_accuracy did not improve from 0.86000\n",
            "50/50 [==============================] - 29s 582ms/step - loss: 0.9455 - accuracy: 0.6620 - val_loss: 0.8707 - val_accuracy: 0.7200 - lr: 1.0000e-05\n",
            "Epoch 70/100\n",
            "50/50 [==============================] - ETA: 0s - loss: 0.9818 - accuracy: 0.6300\n",
            "Epoch 70: val_accuracy did not improve from 0.86000\n",
            "50/50 [==============================] - 28s 570ms/step - loss: 0.9818 - accuracy: 0.6300 - val_loss: 0.5201 - val_accuracy: 0.8200 - lr: 1.0000e-05\n",
            "Epoch 71/100\n",
            "50/50 [==============================] - ETA: 0s - loss: 0.9969 - accuracy: 0.6040\n",
            "Epoch 71: val_accuracy did not improve from 0.86000\n",
            "50/50 [==============================] - 29s 566ms/step - loss: 0.9969 - accuracy: 0.6040 - val_loss: 0.7214 - val_accuracy: 0.7600 - lr: 1.0000e-05\n",
            "Epoch 71: early stopping\n"
          ]
        }
      ],
      "source": [
        "history = network.fit_generator(train_dataset,\n",
        "                                steps_per_epoch = 50,\n",
        "                                validation_data = validation_dataset,\n",
        "                                validation_steps = 50,\n",
        "                                epochs=100,\n",
        "                                callbacks=[es, model_cp, learning_rate_reduction])"
      ]
    },
    {
      "cell_type": "markdown",
      "metadata": {
        "id": "0yfuhbovltQA"
      },
      "source": []
    },
    {
      "cell_type": "code",
      "execution_count": 141,
      "metadata": {
        "id": "4xXIb__YN8jO"
      },
      "outputs": [],
      "source": [
        "predictions=network.predict(test_datatset)\n",
        "predictions = np.argmax(predictions, axis=1)"
      ]
    },
    {
      "cell_type": "code",
      "execution_count": 142,
      "metadata": {
        "colab": {
          "base_uri": "https://localhost:8080/"
        },
        "id": "MfitKd4WOO0c",
        "outputId": "67c92deb-f0a8-40cc-e2e3-141cedd02c26"
      },
      "outputs": [
        {
          "output_type": "execute_result",
          "data": {
            "text/plain": [
              "0.7643266475644699"
            ]
          },
          "metadata": {},
          "execution_count": 142
        }
      ],
      "source": [
        "from sklearn.metrics import accuracy_score\n",
        "accuracy_score(test_datatset.classes, predictions)"
      ]
    },
    {
      "cell_type": "code",
      "execution_count": 143,
      "metadata": {
        "colab": {
          "base_uri": "https://localhost:8080/",
          "height": 430
        },
        "id": "CwufQs6AOjVu",
        "outputId": "adb1ad3f-f719-491c-b954-b5d8e9285553"
      },
      "outputs": [
        {
          "output_type": "display_data",
          "data": {
            "text/plain": [
              "<Figure size 640x480 with 2 Axes>"
            ],
            "image/png": "[encoded data removed]"
          },
          "metadata": {}
        }
      ],
      "source": [
        "from sklearn.metrics import confusion_matrix\n",
        "cm = confusion_matrix(test_datatset.classes, predictions)\n",
        "sns.heatmap(cm, annot=True);"
      ]
    },
    {
      "cell_type": "code",
      "execution_count": 144,
      "metadata": {
        "colab": {
          "base_uri": "https://localhost:8080/"
        },
        "id": "lfg484OCPGqq",
        "outputId": "45abf7de-49cf-40e8-fb76-7cdd00bfad2d"
      },
      "outputs": [
        {
          "output_type": "stream",
          "name": "stdout",
          "text": [
            "              precision    recall  f1-score   support\n",
            "\n",
            "           0       0.77      0.99      0.86       198\n",
            "           1       0.96      0.96      0.96       200\n",
            "           2       0.66      0.60      0.63       200\n",
            "           3       0.67      0.45      0.54       199\n",
            "           4       0.77      0.83      0.80       200\n",
            "           5       0.73      0.69      0.71       199\n",
            "           6       0.75      0.82      0.79       200\n",
            "\n",
            "    accuracy                           0.76      1396\n",
            "   macro avg       0.76      0.76      0.76      1396\n",
            "weighted avg       0.76      0.76      0.76      1396\n",
            "\n"
          ]
        }
      ],
      "source": [
        "from sklearn.metrics import classification_report\n",
        "print(classification_report(test_datatset.classes, predictions))"
      ]
    },
    {
      "cell_type": "code",
      "execution_count": 145,
      "metadata": {
        "colab": {
          "base_uri": "https://localhost:8080/",
          "height": 472
        },
        "id": "AwBdQqe9Porm",
        "outputId": "3fb2bd57-719a-4e29-8261-b9029b69f648"
      },
      "outputs": [
        {
          "output_type": "display_data",
          "data": {
            "text/plain": [
              "<Figure size 640x480 with 1 Axes>"
            ],
            "image/png": "[encoded data removed]"
          },
          "metadata": {}
        }
      ],
      "source": [
        "plt.plot(history.history['accuracy'])\n",
        "plt.plot(history.history['val_accuracy'])\n",
        "plt.title('model accuracy')\n",
        "plt.ylabel('accuracy')\n",
        "plt.xlabel('epoch')\n",
        "plt.legend(['train', 'val'], loc='upper left')\n",
        "plt.show()"
      ]
    },
    {
      "cell_type": "code",
      "execution_count": 146,
      "metadata": {
        "colab": {
          "base_uri": "https://localhost:8080/",
          "height": 472
        },
        "id": "vVr7AUw8SNre",
        "outputId": "93dfb6fc-eabb-4ecd-f0c3-0b787be41462"
      },
      "outputs": [
        {
          "output_type": "display_data",
          "data": {
            "text/plain": [
              "<Figure size 640x480 with 1 Axes>"
            ],
            "image/png": "[encoded data removed]"
          },
          "metadata": {}
        }
      ],
      "source": [
        "plt.plot(history.history['loss'])\n",
        "plt.plot(history.history['val_loss'])\n",
        "plt.title('model loss')\n",
        "plt.ylabel('loss')\n",
        "plt.xlabel('epoch')\n",
        "plt.legend(['train', 'val'], loc='upper left')\n",
        "plt.show()"
      ]
    },
    {
      "cell_type": "code",
      "execution_count": 147,
      "metadata": {
        "id": "pnmlR6M8gih2"
      },
      "outputs": [],
      "source": [
        "from tensorflow.keras.models import load_model\n",
        "model = load_model('/content/best_model1.h5')"
      ]
    },
    {
      "cell_type": "code",
      "execution_count": 148,
      "metadata": {
        "colab": {
          "base_uri": "https://localhost:8080/"
        },
        "id": "P5SUDIaUg8-G",
        "outputId": "6b860382-c6f2-4423-f80f-3e4d97d5608c"
      },
      "outputs": [
        {
          "output_type": "stream",
          "name": "stdout",
          "text": [
            "1396/1396 [==============================] - 26s 18ms/step - loss: 0.7254 - accuracy: 0.7529\n"
          ]
        },
        {
          "output_type": "execute_result",
          "data": {
            "text/plain": [
              "[0.7253913879394531, 0.7528653144836426]"
            ]
          },
          "metadata": {},
          "execution_count": 148
        }
      ],
      "source": [
        "model.evaluate(test_datatset)"
      ]
    },
    {
      "cell_type": "code",
      "execution_count": 149,
      "metadata": {
        "colab": {
          "base_uri": "https://localhost:8080/",
          "height": 430
        },
        "id": "Zqq4ec2JhKgt",
        "outputId": "d31a96b3-1041-4e9e-b94a-2c273c1976e9"
      },
      "outputs": [
        {
          "output_type": "display_data",
          "data": {
            "text/plain": [
              "<Figure size 640x480 with 2 Axes>"
            ],
            "image/png": "[encoded data removed]"
          },
          "metadata": {}
        }
      ],
      "source": [
        "pred = model.predict(test_datatset)\n",
        "pred = np.argmax(pred, axis=1)\n",
        "cm = confusion_matrix(test_datatset.classes, pred)\n",
        "sns.heatmap(cm, annot=True);"
      ]
    },
    {
      "cell_type": "code",
      "execution_count": 152,
      "metadata": {
        "colab": {
          "base_uri": "https://localhost:8080/"
        },
        "id": "e2TSljdej81S",
        "outputId": "44bd5040-eb4f-4b78-a981-ef45a761bc00"
      },
      "outputs": [
        {
          "output_type": "stream",
          "name": "stdout",
          "text": [
            "              precision    recall  f1-score   support\n",
            "\n",
            "           0       0.87      0.97      0.92       198\n",
            "           1       0.94      0.97      0.96       200\n",
            "           2       0.60      0.57      0.59       200\n",
            "           3       0.55      0.42      0.47       199\n",
            "           4       0.80      0.86      0.83       200\n",
            "           5       0.65      0.70      0.68       199\n",
            "           6       0.79      0.77      0.78       200\n",
            "\n",
            "    accuracy                           0.75      1396\n",
            "   macro avg       0.74      0.75      0.75      1396\n",
            "weighted avg       0.74      0.75      0.75      1396\n",
            "\n"
          ]
        }
      ],
      "source": [
        "print(classification_report(test_datatset.classes, pred))"
      ]
    },
    {
      "cell_type": "code",
      "execution_count": 153,
      "metadata": {
        "id": "jzbwiv0ikEVG"
      },
      "outputs": [],
      "source": [
        "network.save('network.h5')"
      ]
    },
    {
      "cell_type": "code",
      "execution_count": 154,
      "metadata": {
        "id": "mTxEZdsQtlC4"
      },
      "outputs": [],
      "source": [
        "net = load_model('/content/network.h5')"
      ]
    },
    {
      "cell_type": "code",
      "execution_count": 155,
      "metadata": {
        "colab": {
          "base_uri": "https://localhost:8080/"
        },
        "id": "JgEg6VxztpAx",
        "outputId": "ec652736-6dde-4a64-ad62-e90adc2c6cc5"
      },
      "outputs": [
        {
          "output_type": "stream",
          "name": "stdout",
          "text": [
            "1396/1396 [==============================] - 28s 20ms/step - loss: 0.6764 - accuracy: 0.7643\n"
          ]
        },
        {
          "output_type": "execute_result",
          "data": {
            "text/plain": [
              "[0.6764184832572937, 0.7643266320228577]"
            ]
          },
          "metadata": {},
          "execution_count": 155
        }
      ],
      "source": [
        "net.evaluate(test_datatset)"
      ]
    },
    {
      "cell_type": "code",
      "execution_count": 156,
      "metadata": {
        "colab": {
          "base_uri": "https://localhost:8080/",
          "height": 430
        },
        "id": "6wbroQ7EvUvp",
        "outputId": "f09bd18a-7ab2-47cf-9b14-cae1f950622c"
      },
      "outputs": [
        {
          "output_type": "display_data",
          "data": {
            "text/plain": [
              "<Figure size 640x480 with 2 Axes>"
            ],
            "image/png": "[encoded data removed]"
          },
          "metadata": {}
        }
      ],
      "source": [
        "pre = net.predict(test_datatset)\n",
        "pre = np.argmax(pre, axis=1)\n",
        "cm = confusion_matrix(test_datatset.classes, pre)\n",
        "sns.heatmap(cm, annot=True);"
      ]
    },
    {
      "cell_type": "code",
      "execution_count": 157,
      "metadata": {
        "colab": {
          "base_uri": "https://localhost:8080/"
        },
        "id": "0c6L1deT_TAY",
        "outputId": "bf075ec3-3430-4807-fff4-11ea4f05e2f8"
      },
      "outputs": [
        {
          "output_type": "stream",
          "name": "stdout",
          "text": [
            "              precision    recall  f1-score   support\n",
            "\n",
            "           0       0.87      0.97      0.92       198\n",
            "           1       0.94      0.97      0.96       200\n",
            "           2       0.60      0.57      0.59       200\n",
            "           3       0.55      0.42      0.47       199\n",
            "           4       0.80      0.86      0.83       200\n",
            "           5       0.65      0.70      0.68       199\n",
            "           6       0.79      0.77      0.78       200\n",
            "\n",
            "    accuracy                           0.75      1396\n",
            "   macro avg       0.74      0.75      0.75      1396\n",
            "weighted avg       0.74      0.75      0.75      1396\n",
            "\n"
          ]
        }
      ],
      "source": [
        "print(classification_report(test_datatset.classes, pred))"
      ]
    },
    {
      "cell_type": "markdown",
      "source": [],
      "metadata": {
        "id": "I501GKF6LLsg"
      }
    }
  ],
  "metadata": {
    "colab": {
      "provenance": [],
      "include_colab_link": true
    },
    "kernelspec": {
      "display_name": "Python 3",
      "name": "python3"
    },
    "language_info": {
      "name": "python"
    }
  },
  "nbformat": 4,
  "nbformat_minor": 0
}