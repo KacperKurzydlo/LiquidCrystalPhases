{
  "cells": [
    {
      "cell_type": "markdown",
      "metadata": {
        "id": "view-in-github",
        "colab_type": "text"
      },
      "source": [
        "<a href=\"https://colab.research.google.com/github/KacperKurzydlo/LiquidCrystalPhases/blob/main/LCP_100x100_2.ipynb\" target=\"_parent\"><img src=\"https://colab.research.google.com/assets/colab-badge.svg\" alt=\"Open In Colab\"/></a>"
      ]
    },
    {
      "cell_type": "code",
      "execution_count": 1,
      "metadata": {
        "colab": {
          "base_uri": "https://localhost:8080/"
        },
        "id": "647sNsjCJ0hX",
        "outputId": "e314dc42-db8d-4594-c442-3ebb177ad046"
      },
      "outputs": [
        {
          "output_type": "stream",
          "name": "stdout",
          "text": [
            "Requirement already satisfied: h5py in /usr/local/lib/python3.10/dist-packages (3.8.0)\n",
            "Requirement already satisfied: numpy>=1.14.5 in /usr/local/lib/python3.10/dist-packages (from h5py) (1.22.4)\n",
            "Requirement already satisfied: typing-extensions in /usr/local/lib/python3.10/dist-packages (4.7.1)\n",
            "Requirement already satisfied: wheel in /usr/local/lib/python3.10/dist-packages (0.41.0)\n"
          ]
        }
      ],
      "source": [
        "!pip install h5py\n",
        "!pip install typing-extensions\n",
        "!pip install wheel"
      ]
    },
    {
      "cell_type": "code",
      "execution_count": 2,
      "metadata": {
        "colab": {
          "base_uri": "https://localhost:8080/"
        },
        "id": "kq6qJdUqIWCQ",
        "outputId": "4e2a79fe-b538-4201-e53f-55a17f858a85"
      },
      "outputs": [
        {
          "output_type": "stream",
          "name": "stdout",
          "text": [
            "Collecting tensorflow==2.8\n",
            "  Downloading tensorflow-2.8.0-cp310-cp310-manylinux2010_x86_64.whl (497.6 MB)\n",
            "\u001b[2K     \u001b[90m━━━━━━━━━━━━━━━━━━━━━━━━━━━━━━━━━━━━━━━\u001b[0m \u001b[32m497.6/497.6 MB\u001b[0m \u001b[31m2.5 MB/s\u001b[0m eta \u001b[36m0:00:00\u001b[0m\n",
            "\u001b[?25hRequirement already satisfied: absl-py>=0.4.0 in /usr/local/lib/python3.10/dist-packages (from tensorflow==2.8) (1.4.0)\n",
            "Requirement already satisfied: astunparse>=1.6.0 in /usr/local/lib/python3.10/dist-packages (from tensorflow==2.8) (1.6.3)\n",
            "Requirement already satisfied: flatbuffers>=1.12 in /usr/local/lib/python3.10/dist-packages (from tensorflow==2.8) (23.5.26)\n",
            "Requirement already satisfied: gast>=0.2.1 in /usr/local/lib/python3.10/dist-packages (from tensorflow==2.8) (0.4.0)\n",
            "Requirement already satisfied: google-pasta>=0.1.1 in /usr/local/lib/python3.10/dist-packages (from tensorflow==2.8) (0.2.0)\n",
            "Requirement already satisfied: h5py>=2.9.0 in /usr/local/lib/python3.10/dist-packages (from tensorflow==2.8) (3.8.0)\n",
            "Collecting keras-preprocessing>=1.1.1 (from tensorflow==2.8)\n",
            "  Downloading Keras_Preprocessing-1.1.2-py2.py3-none-any.whl (42 kB)\n",
            "\u001b[2K     \u001b[90m━━━━━━━━━━━━━━━━━━━━━━━━━━━━━━━━━━━━━━━━\u001b[0m \u001b[32m42.6/42.6 kB\u001b[0m \u001b[31m3.7 MB/s\u001b[0m eta \u001b[36m0:00:00\u001b[0m\n",
            "\u001b[?25hRequirement already satisfied: libclang>=9.0.1 in /usr/local/lib/python3.10/dist-packages (from tensorflow==2.8) (16.0.6)\n",
            "Requirement already satisfied: numpy>=1.20 in /usr/local/lib/python3.10/dist-packages (from tensorflow==2.8) (1.22.4)\n",
            "Requirement already satisfied: opt-einsum>=2.3.2 in /usr/local/lib/python3.10/dist-packages (from tensorflow==2.8) (3.3.0)\n",
            "Requirement already satisfied: protobuf>=3.9.2 in /usr/local/lib/python3.10/dist-packages (from tensorflow==2.8) (3.20.3)\n",
            "Requirement already satisfied: setuptools in /usr/local/lib/python3.10/dist-packages (from tensorflow==2.8) (67.7.2)\n",
            "Requirement already satisfied: six>=1.12.0 in /usr/local/lib/python3.10/dist-packages (from tensorflow==2.8) (1.16.0)\n",
            "Requirement already satisfied: termcolor>=1.1.0 in /usr/local/lib/python3.10/dist-packages (from tensorflow==2.8) (2.3.0)\n",
            "Requirement already satisfied: typing-extensions>=3.6.6 in /usr/local/lib/python3.10/dist-packages (from tensorflow==2.8) (4.7.1)\n",
            "Requirement already satisfied: wrapt>=1.11.0 in /usr/local/lib/python3.10/dist-packages (from tensorflow==2.8) (1.14.1)\n",
            "Collecting tensorboard<2.9,>=2.8 (from tensorflow==2.8)\n",
            "  Downloading tensorboard-2.8.0-py3-none-any.whl (5.8 MB)\n",
            "\u001b[2K     \u001b[90m━━━━━━━━━━━━━━━━━━━━━━━━━━━━━━━━━━━━━━━━\u001b[0m \u001b[32m5.8/5.8 MB\u001b[0m \u001b[31m80.0 MB/s\u001b[0m eta \u001b[36m0:00:00\u001b[0m\n",
            "\u001b[?25hCollecting tf-estimator-nightly==2.8.0.dev2021122109 (from tensorflow==2.8)\n",
            "  Downloading tf_estimator_nightly-2.8.0.dev2021122109-py2.py3-none-any.whl (462 kB)\n",
            "\u001b[2K     \u001b[90m━━━━━━━━━━━━━━━━━━━━━━━━━━━━━━━━━━━━━━\u001b[0m \u001b[32m462.5/462.5 kB\u001b[0m \u001b[31m41.1 MB/s\u001b[0m eta \u001b[36m0:00:00\u001b[0m\n",
            "\u001b[?25hCollecting keras<2.9,>=2.8.0rc0 (from tensorflow==2.8)\n",
            "  Downloading keras-2.8.0-py2.py3-none-any.whl (1.4 MB)\n",
            "\u001b[2K     \u001b[90m━━━━━━━━━━━━━━━━━━━━━━━━━━━━━━━━━━━━━━━━\u001b[0m \u001b[32m1.4/1.4 MB\u001b[0m \u001b[31m19.6 MB/s\u001b[0m eta \u001b[36m0:00:00\u001b[0m\n",
            "\u001b[?25hRequirement already satisfied: tensorflow-io-gcs-filesystem>=0.23.1 in /usr/local/lib/python3.10/dist-packages (from tensorflow==2.8) (0.32.0)\n",
            "Requirement already satisfied: grpcio<2.0,>=1.24.3 in /usr/local/lib/python3.10/dist-packages (from tensorflow==2.8) (1.56.2)\n",
            "Requirement already satisfied: wheel<1.0,>=0.23.0 in /usr/local/lib/python3.10/dist-packages (from astunparse>=1.6.0->tensorflow==2.8) (0.41.0)\n",
            "Requirement already satisfied: google-auth<3,>=1.6.3 in /usr/local/lib/python3.10/dist-packages (from tensorboard<2.9,>=2.8->tensorflow==2.8) (2.17.3)\n",
            "Collecting google-auth-oauthlib<0.5,>=0.4.1 (from tensorboard<2.9,>=2.8->tensorflow==2.8)\n",
            "  Downloading google_auth_oauthlib-0.4.6-py2.py3-none-any.whl (18 kB)\n",
            "Requirement already satisfied: markdown>=2.6.8 in /usr/local/lib/python3.10/dist-packages (from tensorboard<2.9,>=2.8->tensorflow==2.8) (3.4.4)\n",
            "Requirement already satisfied: requests<3,>=2.21.0 in /usr/local/lib/python3.10/dist-packages (from tensorboard<2.9,>=2.8->tensorflow==2.8) (2.27.1)\n",
            "Collecting tensorboard-data-server<0.7.0,>=0.6.0 (from tensorboard<2.9,>=2.8->tensorflow==2.8)\n",
            "  Downloading tensorboard_data_server-0.6.1-py3-none-manylinux2010_x86_64.whl (4.9 MB)\n",
            "\u001b[2K     \u001b[90m━━━━━━━━━━━━━━━━━━━━━━━━━━━━━━━━━━━━━━━━\u001b[0m \u001b[32m4.9/4.9 MB\u001b[0m \u001b[31m80.2 MB/s\u001b[0m eta \u001b[36m0:00:00\u001b[0m\n",
            "\u001b[?25hCollecting tensorboard-plugin-wit>=1.6.0 (from tensorboard<2.9,>=2.8->tensorflow==2.8)\n",
            "  Downloading tensorboard_plugin_wit-1.8.1-py3-none-any.whl (781 kB)\n",
            "\u001b[2K     \u001b[90m━━━━━━━━━━━━━━━━━━━━━━━━━━━━━━━━━━━━━━\u001b[0m \u001b[32m781.3/781.3 kB\u001b[0m \u001b[31m44.8 MB/s\u001b[0m eta \u001b[36m0:00:00\u001b[0m\n",
            "\u001b[?25hRequirement already satisfied: werkzeug>=0.11.15 in /usr/local/lib/python3.10/dist-packages (from tensorboard<2.9,>=2.8->tensorflow==2.8) (2.3.6)\n",
            "Requirement already satisfied: cachetools<6.0,>=2.0.0 in /usr/local/lib/python3.10/dist-packages (from google-auth<3,>=1.6.3->tensorboard<2.9,>=2.8->tensorflow==2.8) (5.3.1)\n",
            "Requirement already satisfied: pyasn1-modules>=0.2.1 in /usr/local/lib/python3.10/dist-packages (from google-auth<3,>=1.6.3->tensorboard<2.9,>=2.8->tensorflow==2.8) (0.3.0)\n",
            "Requirement already satisfied: rsa<5,>=3.1.4 in /usr/local/lib/python3.10/dist-packages (from google-auth<3,>=1.6.3->tensorboard<2.9,>=2.8->tensorflow==2.8) (4.9)\n",
            "Requirement already satisfied: requests-oauthlib>=0.7.0 in /usr/local/lib/python3.10/dist-packages (from google-auth-oauthlib<0.5,>=0.4.1->tensorboard<2.9,>=2.8->tensorflow==2.8) (1.3.1)\n",
            "Requirement already satisfied: urllib3<1.27,>=1.21.1 in /usr/local/lib/python3.10/dist-packages (from requests<3,>=2.21.0->tensorboard<2.9,>=2.8->tensorflow==2.8) (1.26.16)\n",
            "Requirement already satisfied: certifi>=2017.4.17 in /usr/local/lib/python3.10/dist-packages (from requests<3,>=2.21.0->tensorboard<2.9,>=2.8->tensorflow==2.8) (2023.7.22)\n",
            "Requirement already satisfied: charset-normalizer~=2.0.0 in /usr/local/lib/python3.10/dist-packages (from requests<3,>=2.21.0->tensorboard<2.9,>=2.8->tensorflow==2.8) (2.0.12)\n",
            "Requirement already satisfied: idna<4,>=2.5 in /usr/local/lib/python3.10/dist-packages (from requests<3,>=2.21.0->tensorboard<2.9,>=2.8->tensorflow==2.8) (3.4)\n",
            "Requirement already satisfied: MarkupSafe>=2.1.1 in /usr/local/lib/python3.10/dist-packages (from werkzeug>=0.11.15->tensorboard<2.9,>=2.8->tensorflow==2.8) (2.1.3)\n",
            "Requirement already satisfied: pyasn1<0.6.0,>=0.4.6 in /usr/local/lib/python3.10/dist-packages (from pyasn1-modules>=0.2.1->google-auth<3,>=1.6.3->tensorboard<2.9,>=2.8->tensorflow==2.8) (0.5.0)\n",
            "Requirement already satisfied: oauthlib>=3.0.0 in /usr/local/lib/python3.10/dist-packages (from requests-oauthlib>=0.7.0->google-auth-oauthlib<0.5,>=0.4.1->tensorboard<2.9,>=2.8->tensorflow==2.8) (3.2.2)\n",
            "Installing collected packages: tf-estimator-nightly, tensorboard-plugin-wit, keras, tensorboard-data-server, keras-preprocessing, google-auth-oauthlib, tensorboard, tensorflow\n",
            "  Attempting uninstall: keras\n",
            "    Found existing installation: keras 2.12.0\n",
            "    Uninstalling keras-2.12.0:\n",
            "      Successfully uninstalled keras-2.12.0\n",
            "  Attempting uninstall: tensorboard-data-server\n",
            "    Found existing installation: tensorboard-data-server 0.7.1\n",
            "    Uninstalling tensorboard-data-server-0.7.1:\n",
            "      Successfully uninstalled tensorboard-data-server-0.7.1\n",
            "  Attempting uninstall: google-auth-oauthlib\n",
            "    Found existing installation: google-auth-oauthlib 1.0.0\n",
            "    Uninstalling google-auth-oauthlib-1.0.0:\n",
            "      Successfully uninstalled google-auth-oauthlib-1.0.0\n",
            "  Attempting uninstall: tensorboard\n",
            "    Found existing installation: tensorboard 2.12.3\n",
            "    Uninstalling tensorboard-2.12.3:\n",
            "      Successfully uninstalled tensorboard-2.12.3\n",
            "  Attempting uninstall: tensorflow\n",
            "    Found existing installation: tensorflow 2.12.0\n",
            "    Uninstalling tensorflow-2.12.0:\n",
            "      Successfully uninstalled tensorflow-2.12.0\n",
            "Successfully installed google-auth-oauthlib-0.4.6 keras-2.8.0 keras-preprocessing-1.1.2 tensorboard-2.8.0 tensorboard-data-server-0.6.1 tensorboard-plugin-wit-1.8.1 tensorflow-2.8.0 tf-estimator-nightly-2.8.0.dev2021122109\n"
          ]
        }
      ],
      "source": [
        "!pip install tensorflow==2.8"
      ]
    },
    {
      "cell_type": "code",
      "execution_count": 3,
      "metadata": {
        "colab": {
          "base_uri": "https://localhost:8080/",
          "height": 35
        },
        "id": "I0X9qkMXs_pp",
        "outputId": "23befe52-ddf8-45c6-bd74-bb5cdc8458ea"
      },
      "outputs": [
        {
          "output_type": "execute_result",
          "data": {
            "text/plain": [
              "'2.8.0'"
            ],
            "application/vnd.google.colaboratory.intrinsic+json": {
              "type": "string"
            }
          },
          "metadata": {},
          "execution_count": 3
        }
      ],
      "source": [
        "import matplotlib.pyplot as plt\n",
        "import seaborn as sns\n",
        "import zipfile\n",
        "import numpy as np\n",
        "import cv2\n",
        "from google.colab.patches import cv2_imshow\n",
        "import tensorflow as tf\n",
        "from tensorflow.keras.callbacks import ReduceLROnPlateau\n",
        "from tensorflow.keras import regularizers\n",
        "from tensorflow.keras.callbacks import ModelCheckpoint, EarlyStopping\n",
        "from tensorflow.keras.models import Sequential\n",
        "from tensorflow.keras.layers import Conv2D, MaxPool2D, Flatten, Dense, BatchNormalization, Dropout\n",
        "from tensorflow.keras.preprocessing.image import ImageDataGenerator\n",
        "tf.__version__"
      ]
    },
    {
      "cell_type": "code",
      "execution_count": 4,
      "metadata": {
        "colab": {
          "base_uri": "https://localhost:8080/"
        },
        "id": "yQMOvsd99H-V",
        "outputId": "21763efa-e89e-46fb-ff67-f6e077f6db98"
      },
      "outputs": [
        {
          "output_type": "stream",
          "name": "stdout",
          "text": [
            "Mounted at /content/drive\n"
          ]
        }
      ],
      "source": [
        "from google.colab import drive\n",
        "drive.mount('/content/drive')"
      ]
    },
    {
      "cell_type": "code",
      "execution_count": 5,
      "metadata": {
        "id": "Y_BgiI3JxA9q"
      },
      "outputs": [],
      "source": [
        "path = '/content/drive/MyDrive/Praktyki/gotowe.zip'\n",
        "zip_object = zipfile.ZipFile(file=path, mode='r')\n",
        "zip_object.extractall('./')\n",
        "zip_object.close()"
      ]
    },
    {
      "cell_type": "code",
      "execution_count": 6,
      "metadata": {
        "id": "7-PhxwM60uM7"
      },
      "outputs": [],
      "source": [
        "training_generator = ImageDataGenerator(rescale=1./255,\n",
        "                                        horizontal_flip=True,\n",
        "                                        vertical_flip=True)\n"
      ]
    },
    {
      "cell_type": "code",
      "execution_count": 7,
      "metadata": {
        "colab": {
          "base_uri": "https://localhost:8080/"
        },
        "id": "jMErkkVv_mXw",
        "outputId": "786a49f8-09d4-4f7b-b657-7f18e92046c6"
      },
      "outputs": [
        {
          "output_type": "stream",
          "name": "stdout",
          "text": [
            "Found 11158 images belonging to 7 classes.\n"
          ]
        }
      ],
      "source": [
        "train_dataset = training_generator.flow_from_directory('/content/gotowe/train_set',\n",
        "                                                       target_size = (100, 100),\n",
        "                                                       batch_size = 10,\n",
        "                                                       color_mode='rgb',\n",
        "                                                       class_mode = 'categorical',\n",
        "                                                       shuffle = True)"
      ]
    },
    {
      "cell_type": "code",
      "execution_count": 8,
      "metadata": {
        "colab": {
          "base_uri": "https://localhost:8080/"
        },
        "id": "C4errPxfAukM",
        "outputId": "4e49a3f3-a65b-4f62-d02b-ba4fbc6535f2"
      },
      "outputs": [
        {
          "output_type": "execute_result",
          "data": {
            "text/plain": [
              "array([0, 0, 0, ..., 6, 6, 6], dtype=int32)"
            ]
          },
          "metadata": {},
          "execution_count": 8
        }
      ],
      "source": [
        "train_dataset.classes"
      ]
    },
    {
      "cell_type": "code",
      "execution_count": 9,
      "metadata": {
        "colab": {
          "base_uri": "https://localhost:8080/"
        },
        "id": "jYCiD3adA5xf",
        "outputId": "77918a39-a6dd-4f70-da9c-d62dd0ccbf6b"
      },
      "outputs": [
        {
          "output_type": "execute_result",
          "data": {
            "text/plain": [
              "{'nematyk': 0,\n",
              " 'smektyk_C': 1,\n",
              " 'smektyk_F': 2,\n",
              " 'smektyk_GMosaic': 3,\n",
              " 'smektyk_GSchliren': 4,\n",
              " 'smektyk_H': 5,\n",
              " 'smektyk_I': 6}"
            ]
          },
          "metadata": {},
          "execution_count": 9
        }
      ],
      "source": [
        "train_dataset.class_indices"
      ]
    },
    {
      "cell_type": "code",
      "execution_count": 10,
      "metadata": {
        "id": "6VK7xyH-BkSq"
      },
      "outputs": [],
      "source": [
        "test_generator = ImageDataGenerator(rescale=1./255)\n",
        "val_generator = ImageDataGenerator(rescale=1./255)"
      ]
    },
    {
      "cell_type": "code",
      "execution_count": 11,
      "metadata": {
        "colab": {
          "base_uri": "https://localhost:8080/"
        },
        "id": "84kKwMy6U7oh",
        "outputId": "85721678-89d8-4985-edee-6ce8b4b7767c"
      },
      "outputs": [
        {
          "output_type": "stream",
          "name": "stdout",
          "text": [
            "Found 1395 images belonging to 7 classes.\n"
          ]
        }
      ],
      "source": [
        "validation_dataset = val_generator.flow_from_directory('/content/gotowe/val_set',\n",
        "                                                        target_size=(100, 100),\n",
        "                                                        batch_size=1,\n",
        "                                                        class_mode='categorical',\n",
        "                                                        color_mode='rgb',\n",
        "                                                        shuffle=True) # set as validation data"
      ]
    },
    {
      "cell_type": "code",
      "execution_count": 12,
      "metadata": {
        "id": "PB2pU5bzXPTa"
      },
      "outputs": [],
      "source": [
        "L2 = 0.00001"
      ]
    },
    {
      "cell_type": "code",
      "execution_count": 13,
      "metadata": {
        "colab": {
          "base_uri": "https://localhost:8080/"
        },
        "id": "SdqIBmxiBvU1",
        "outputId": "f0e8a33b-03ef-42c0-ffe4-8accd116fdf4"
      },
      "outputs": [
        {
          "output_type": "stream",
          "name": "stdout",
          "text": [
            "Found 1396 images belonging to 7 classes.\n"
          ]
        }
      ],
      "source": [
        "test_datatset = test_generator.flow_from_directory('/content/gotowe/test_set',\n",
        "                                                   target_size = (100, 100),\n",
        "                                                   batch_size = 1,\n",
        "                                                   color_mode='rgb',\n",
        "                                                   class_mode = 'categorical',\n",
        "                                                   shuffle = False)"
      ]
    },
    {
      "cell_type": "code",
      "execution_count": 14,
      "metadata": {
        "id": "xVLgf1bADs_C"
      },
      "outputs": [],
      "source": [
        "initializer1 = tf.keras.initializers.HeNormal()\n",
        "initializer2 = tf.keras.initializers.GlorotUniform()"
      ]
    },
    {
      "cell_type": "code",
      "execution_count": 37,
      "metadata": {
        "colab": {
          "base_uri": "https://localhost:8080/"
        },
        "id": "QTr7SiKfD6UI",
        "outputId": "fea8e88b-d673-4d83-8023-b2c09fece92d"
      },
      "outputs": [
        {
          "output_type": "stream",
          "name": "stdout",
          "text": [
            "Model: \"sequential_4\"\n",
            "_________________________________________________________________\n",
            " Layer (type)                Output Shape              Param #   \n",
            "=================================================================\n",
            " conv2d_37 (Conv2D)          (None, 98, 98, 16)        448       \n",
            "                                                                 \n",
            " conv2d_38 (Conv2D)          (None, 96, 96, 16)        2320      \n",
            "                                                                 \n",
            " batch_normalization_43 (Bat  (None, 96, 96, 16)       64        \n",
            " chNormalization)                                                \n",
            "                                                                 \n",
            " max_pooling2d_25 (MaxPoolin  (None, 48, 48, 16)       0         \n",
            " g2D)                                                            \n",
            "                                                                 \n",
            " conv2d_39 (Conv2D)          (None, 46, 46, 32)        4640      \n",
            "                                                                 \n",
            " conv2d_40 (Conv2D)          (None, 44, 44, 32)        9248      \n",
            "                                                                 \n",
            " batch_normalization_44 (Bat  (None, 44, 44, 32)       128       \n",
            " chNormalization)                                                \n",
            "                                                                 \n",
            " max_pooling2d_26 (MaxPoolin  (None, 22, 22, 32)       0         \n",
            " g2D)                                                            \n",
            "                                                                 \n",
            " conv2d_41 (Conv2D)          (None, 22, 22, 64)        18496     \n",
            "                                                                 \n",
            " conv2d_42 (Conv2D)          (None, 22, 22, 64)        36928     \n",
            "                                                                 \n",
            " batch_normalization_45 (Bat  (None, 22, 22, 64)       256       \n",
            " chNormalization)                                                \n",
            "                                                                 \n",
            " max_pooling2d_27 (MaxPoolin  (None, 11, 11, 64)       0         \n",
            " g2D)                                                            \n",
            "                                                                 \n",
            " conv2d_43 (Conv2D)          (None, 11, 11, 128)       73856     \n",
            "                                                                 \n",
            " conv2d_44 (Conv2D)          (None, 11, 11, 128)       147584    \n",
            "                                                                 \n",
            " batch_normalization_46 (Bat  (None, 11, 11, 128)      512       \n",
            " chNormalization)                                                \n",
            "                                                                 \n",
            " max_pooling2d_28 (MaxPoolin  (None, 5, 5, 128)        0         \n",
            " g2D)                                                            \n",
            "                                                                 \n",
            " conv2d_45 (Conv2D)          (None, 5, 5, 256)         33024     \n",
            "                                                                 \n",
            " conv2d_46 (Conv2D)          (None, 5, 5, 256)         65792     \n",
            "                                                                 \n",
            " batch_normalization_47 (Bat  (None, 5, 5, 256)        1024      \n",
            " chNormalization)                                                \n",
            "                                                                 \n",
            " max_pooling2d_29 (MaxPoolin  (None, 2, 2, 256)        0         \n",
            " g2D)                                                            \n",
            "                                                                 \n",
            " conv2d_47 (Conv2D)          (None, 2, 2, 512)         131584    \n",
            "                                                                 \n",
            " batch_normalization_48 (Bat  (None, 2, 2, 512)        2048      \n",
            " chNormalization)                                                \n",
            "                                                                 \n",
            " max_pooling2d_30 (MaxPoolin  (None, 1, 1, 512)        0         \n",
            " g2D)                                                            \n",
            "                                                                 \n",
            " flatten_3 (Flatten)         (None, 512)               0         \n",
            "                                                                 \n",
            " batch_normalization_49 (Bat  (None, 512)              2048      \n",
            " chNormalization)                                                \n",
            "                                                                 \n",
            " dense_21 (Dense)            (None, 512)               262656    \n",
            "                                                                 \n",
            " batch_normalization_50 (Bat  (None, 512)              2048      \n",
            " chNormalization)                                                \n",
            "                                                                 \n",
            " dense_22 (Dense)            (None, 256)               131328    \n",
            "                                                                 \n",
            " batch_normalization_51 (Bat  (None, 256)              1024      \n",
            " chNormalization)                                                \n",
            "                                                                 \n",
            " dense_23 (Dense)            (None, 128)               32896     \n",
            "                                                                 \n",
            " batch_normalization_52 (Bat  (None, 128)              512       \n",
            " chNormalization)                                                \n",
            "                                                                 \n",
            " dense_24 (Dense)            (None, 64)                8256      \n",
            "                                                                 \n",
            " batch_normalization_53 (Bat  (None, 64)               256       \n",
            " chNormalization)                                                \n",
            "                                                                 \n",
            " dense_25 (Dense)            (None, 32)                2080      \n",
            "                                                                 \n",
            " batch_normalization_54 (Bat  (None, 32)               128       \n",
            " chNormalization)                                                \n",
            "                                                                 \n",
            " dense_26 (Dense)            (None, 7)                 231       \n",
            "                                                                 \n",
            "=================================================================\n",
            "Total params: 971,415\n",
            "Trainable params: 966,391\n",
            "Non-trainable params: 5,024\n",
            "_________________________________________________________________\n"
          ]
        }
      ],
      "source": [
        "network = Sequential()\n",
        "\n",
        "network.add(Conv2D(filters=16, kernel_size=(3,3), activation = 'relu', input_shape = (100,100,3), kernel_initializer=initializer1))\n",
        "network.add(Conv2D(filters=16, kernel_size=(3,3), activation = 'relu', input_shape = (100,100,3), kernel_initializer=initializer1))\n",
        "network.add(BatchNormalization())\n",
        "network.add(MaxPool2D(pool_size=(2,2)))\n",
        "\n",
        "network.add(Conv2D(filters=32, kernel_size=(3,3), activation = 'relu', input_shape = (100,100,3), kernel_initializer=initializer1))\n",
        "network.add(Conv2D(filters=32, kernel_size=(3,3), activation = 'relu', input_shape = (100,100,3), kernel_initializer=initializer1))\n",
        "network.add(BatchNormalization())\n",
        "network.add(MaxPool2D(pool_size=(2,2)))\n",
        "\n",
        "network.add(Conv2D(filters=64, kernel_size=(3,3), activation = 'relu', padding='same', kernel_initializer=initializer1))\n",
        "network.add(Conv2D(filters=64, kernel_size=(3,3), activation = 'relu', padding='same', kernel_initializer=initializer1))\n",
        "network.add(BatchNormalization())\n",
        "network.add(MaxPool2D(pool_size=(2,2)))\n",
        "\n",
        "network.add(Conv2D(filters=128, kernel_size=(3,3), activation = 'relu', padding='same', kernel_initializer=initializer1))\n",
        "network.add(Conv2D(filters=128, kernel_size=(3,3), activation = 'relu', padding='same', kernel_initializer=initializer1))\n",
        "network.add(BatchNormalization())\n",
        "network.add(MaxPool2D(pool_size=(2,2)))\n",
        "\n",
        "network.add(Conv2D(filters=256, kernel_size=(1,1), activation = 'relu', padding='same', kernel_initializer=initializer1))\n",
        "network.add(Conv2D(filters=256, kernel_size=(1,1), activation = 'relu', padding='same', kernel_initializer=initializer1))\n",
        "network.add(BatchNormalization())\n",
        "network.add(MaxPool2D(pool_size=(2,2)))\n",
        "\n",
        "network.add(Conv2D(filters=512, kernel_size=(1,1), activation = 'relu', padding='same', kernel_initializer=initializer1))\n",
        "network.add(BatchNormalization())\n",
        "network.add(MaxPool2D(pool_size=(2,2)))\n",
        "\n",
        "#network.add(Conv2D(filters=1024, kernel_size=(1,1), activation = 'relu', padding='same', kernel_initializer=initializer1))\n",
        "#network.add(BatchNormalization())\n",
        "#network.add(MaxPool2D(pool_size=(2,2)))\n",
        "\n",
        "network.add(Flatten())\n",
        "\n",
        "#network.add(Dropout(0.2))\n",
        "\n",
        "#network.add(Dense(units = 1024, activation = 'relu', kernel_initializer=initializer1))\n",
        "network.add(BatchNormalization())\n",
        "network.add(Dense(units = 512, activation = 'relu', kernel_initializer=initializer1))\n",
        "network.add(BatchNormalization())\n",
        "network.add(Dense(units = 256, activation = 'relu', kernel_initializer=initializer1))\n",
        "network.add(BatchNormalization())\n",
        "network.add(Dense(units = 128, activation = 'relu', kernel_initializer=initializer1))\n",
        "network.add(BatchNormalization())\n",
        "network.add(Dense(units = 64, activation = 'relu', kernel_initializer=initializer1))\n",
        "network.add(BatchNormalization())\n",
        "network.add(Dense(units = 32, activation = 'relu', kernel_initializer=initializer1, kernel_regularizer=tf.keras.regularizers.L1L2()))\n",
        "network.add(BatchNormalization())\n",
        "network.add(Dense(units = 7, activation = 'softmax', kernel_initializer=initializer2))\n",
        "network.summary()"
      ]
    },
    {
      "cell_type": "code",
      "execution_count": 38,
      "metadata": {
        "id": "6viOH_kUE4Bq"
      },
      "outputs": [],
      "source": [
        "from tensorflow.keras.optimizers import Adam\n",
        "#opt = Adam(lr=0.005)\n",
        "opt = Adam()\n",
        "network.compile(optimizer='Adam', loss='categorical_crossentropy', metrics = ['accuracy'])\n"
      ]
    },
    {
      "cell_type": "code",
      "execution_count": 39,
      "metadata": {
        "id": "5IXmjfYmbuYh"
      },
      "outputs": [],
      "source": [
        "es = EarlyStopping(monitor = 'val_accuracy', min_delta = 0.001, patience = 20, verbose =1)\n",
        "model_cp = ModelCheckpoint(filepath = 'best_model1.h5', monitor = 'val_accuracy', save_best_only = True, verbose = 1)\n",
        "learning_rate_reduction = ReduceLROnPlateau(monitor='val_accuracy', patience = 5, verbose=1, factor=0.5, min_lr=0.00001)"
      ]
    },
    {
      "cell_type": "code",
      "execution_count": 40,
      "metadata": {
        "colab": {
          "base_uri": "https://localhost:8080/"
        },
        "id": "Uk8BSV5gGazz",
        "outputId": "ff736e76-72e9-4cd8-e1e9-8a728c96f7d7"
      },
      "outputs": [
        {
          "output_type": "stream",
          "name": "stdout",
          "text": [
            "Epoch 1/100\n"
          ]
        },
        {
          "output_type": "stream",
          "name": "stderr",
          "text": [
            "<ipython-input-40-d45876fe1552>:1: UserWarning: `Model.fit_generator` is deprecated and will be removed in a future version. Please use `Model.fit`, which supports generators.\n",
            "  history = network.fit_generator(train_dataset,\n"
          ]
        },
        {
          "output_type": "stream",
          "name": "stdout",
          "text": [
            "50/50 [==============================] - ETA: 0s - loss: 1.9627 - accuracy: 0.2940\n",
            "Epoch 1: val_accuracy improved from -inf to 0.16000, saving model to best_model1.h5\n",
            "50/50 [==============================] - 16s 283ms/step - loss: 1.9627 - accuracy: 0.2940 - val_loss: 8.9965 - val_accuracy: 0.1600 - lr: 0.0010\n",
            "Epoch 2/100\n",
            "50/50 [==============================] - ETA: 0s - loss: 1.7154 - accuracy: 0.3760\n",
            "Epoch 2: val_accuracy improved from 0.16000 to 0.18000, saving model to best_model1.h5\n",
            "50/50 [==============================] - 14s 272ms/step - loss: 1.7154 - accuracy: 0.3760 - val_loss: 2.0535 - val_accuracy: 0.1800 - lr: 0.0010\n",
            "Epoch 3/100\n",
            "50/50 [==============================] - ETA: 0s - loss: 1.5921 - accuracy: 0.4120\n",
            "Epoch 3: val_accuracy did not improve from 0.18000\n",
            "50/50 [==============================] - 12s 246ms/step - loss: 1.5921 - accuracy: 0.4120 - val_loss: 2.3915 - val_accuracy: 0.1000 - lr: 0.0010\n",
            "Epoch 4/100\n",
            "50/50 [==============================] - ETA: 0s - loss: 1.4724 - accuracy: 0.4840\n",
            "Epoch 4: val_accuracy improved from 0.18000 to 0.24000, saving model to best_model1.h5\n",
            "50/50 [==============================] - 13s 248ms/step - loss: 1.4724 - accuracy: 0.4840 - val_loss: 2.0999 - val_accuracy: 0.2400 - lr: 0.0010\n",
            "Epoch 5/100\n",
            "50/50 [==============================] - ETA: 0s - loss: 1.4298 - accuracy: 0.4880\n",
            "Epoch 5: val_accuracy improved from 0.24000 to 0.26000, saving model to best_model1.h5\n",
            "50/50 [==============================] - 14s 274ms/step - loss: 1.4298 - accuracy: 0.4880 - val_loss: 1.8042 - val_accuracy: 0.2600 - lr: 0.0010\n",
            "Epoch 6/100\n",
            "50/50 [==============================] - ETA: 0s - loss: 1.3449 - accuracy: 0.5240\n",
            "Epoch 6: val_accuracy improved from 0.26000 to 0.34000, saving model to best_model1.h5\n",
            "50/50 [==============================] - 14s 280ms/step - loss: 1.3449 - accuracy: 0.5240 - val_loss: 1.6941 - val_accuracy: 0.3400 - lr: 0.0010\n",
            "Epoch 7/100\n",
            "50/50 [==============================] - ETA: 0s - loss: 1.3397 - accuracy: 0.4859\n",
            "Epoch 7: val_accuracy improved from 0.34000 to 0.44000, saving model to best_model1.h5\n",
            "50/50 [==============================] - 14s 277ms/step - loss: 1.3397 - accuracy: 0.4859 - val_loss: 1.3973 - val_accuracy: 0.4400 - lr: 0.0010\n",
            "Epoch 8/100\n",
            "50/50 [==============================] - ETA: 0s - loss: 1.3602 - accuracy: 0.4900\n",
            "Epoch 8: val_accuracy improved from 0.44000 to 0.52000, saving model to best_model1.h5\n",
            "50/50 [==============================] - 13s 255ms/step - loss: 1.3602 - accuracy: 0.4900 - val_loss: 1.3217 - val_accuracy: 0.5200 - lr: 0.0010\n",
            "Epoch 9/100\n",
            "50/50 [==============================] - ETA: 0s - loss: 1.2263 - accuracy: 0.5700\n",
            "Epoch 9: val_accuracy improved from 0.52000 to 0.66000, saving model to best_model1.h5\n",
            "50/50 [==============================] - 12s 247ms/step - loss: 1.2263 - accuracy: 0.5700 - val_loss: 1.0069 - val_accuracy: 0.6600 - lr: 0.0010\n",
            "Epoch 10/100\n",
            "50/50 [==============================] - ETA: 0s - loss: 1.3283 - accuracy: 0.5020\n",
            "Epoch 10: val_accuracy did not improve from 0.66000\n",
            "50/50 [==============================] - 14s 275ms/step - loss: 1.3283 - accuracy: 0.5020 - val_loss: 1.0540 - val_accuracy: 0.6200 - lr: 0.0010\n",
            "Epoch 11/100\n",
            "50/50 [==============================] - ETA: 0s - loss: 1.2707 - accuracy: 0.5420\n",
            "Epoch 11: val_accuracy did not improve from 0.66000\n",
            "50/50 [==============================] - 14s 277ms/step - loss: 1.2707 - accuracy: 0.5420 - val_loss: 0.9466 - val_accuracy: 0.5800 - lr: 0.0010\n",
            "Epoch 12/100\n",
            "50/50 [==============================] - ETA: 0s - loss: 1.1965 - accuracy: 0.5680\n",
            "Epoch 12: val_accuracy did not improve from 0.66000\n",
            "50/50 [==============================] - 13s 267ms/step - loss: 1.1965 - accuracy: 0.5680 - val_loss: 1.4926 - val_accuracy: 0.4200 - lr: 0.0010\n",
            "Epoch 13/100\n",
            "50/50 [==============================] - ETA: 0s - loss: 1.0551 - accuracy: 0.6160\n",
            "Epoch 13: val_accuracy did not improve from 0.66000\n",
            "50/50 [==============================] - 12s 236ms/step - loss: 1.0551 - accuracy: 0.6160 - val_loss: 1.9138 - val_accuracy: 0.3400 - lr: 0.0010\n",
            "Epoch 14/100\n",
            "50/50 [==============================] - ETA: 0s - loss: 1.1851 - accuracy: 0.5600\n",
            "Epoch 14: val_accuracy did not improve from 0.66000\n",
            "\n",
            "Epoch 14: ReduceLROnPlateau reducing learning rate to 0.0005000000237487257.\n",
            "50/50 [==============================] - 13s 248ms/step - loss: 1.1851 - accuracy: 0.5600 - val_loss: 1.6561 - val_accuracy: 0.4800 - lr: 0.0010\n",
            "Epoch 15/100\n",
            "50/50 [==============================] - ETA: 0s - loss: 1.1639 - accuracy: 0.6044\n",
            "Epoch 15: val_accuracy did not improve from 0.66000\n",
            "50/50 [==============================] - 14s 273ms/step - loss: 1.1639 - accuracy: 0.6044 - val_loss: 0.9338 - val_accuracy: 0.6400 - lr: 5.0000e-04\n",
            "Epoch 16/100\n",
            "50/50 [==============================] - ETA: 0s - loss: 1.0492 - accuracy: 0.6280\n",
            "Epoch 16: val_accuracy did not improve from 0.66000\n",
            "50/50 [==============================] - 13s 265ms/step - loss: 1.0492 - accuracy: 0.6280 - val_loss: 0.9489 - val_accuracy: 0.6600 - lr: 5.0000e-04\n",
            "Epoch 17/100\n",
            "50/50 [==============================] - ETA: 0s - loss: 1.0890 - accuracy: 0.5800\n",
            "Epoch 17: val_accuracy improved from 0.66000 to 0.68000, saving model to best_model1.h5\n",
            "50/50 [==============================] - 14s 272ms/step - loss: 1.0890 - accuracy: 0.5800 - val_loss: 0.9573 - val_accuracy: 0.6800 - lr: 5.0000e-04\n",
            "Epoch 18/100\n",
            "50/50 [==============================] - ETA: 0s - loss: 1.1037 - accuracy: 0.6160\n",
            "Epoch 18: val_accuracy improved from 0.68000 to 0.82000, saving model to best_model1.h5\n",
            "50/50 [==============================] - 12s 247ms/step - loss: 1.1037 - accuracy: 0.6160 - val_loss: 0.6113 - val_accuracy: 0.8200 - lr: 5.0000e-04\n",
            "Epoch 19/100\n",
            "50/50 [==============================] - ETA: 0s - loss: 1.1506 - accuracy: 0.5920\n",
            "Epoch 19: val_accuracy did not improve from 0.82000\n",
            "50/50 [==============================] - 13s 255ms/step - loss: 1.1506 - accuracy: 0.5920 - val_loss: 0.7812 - val_accuracy: 0.7400 - lr: 5.0000e-04\n",
            "Epoch 20/100\n",
            "50/50 [==============================] - ETA: 0s - loss: 1.1289 - accuracy: 0.5800\n",
            "Epoch 20: val_accuracy did not improve from 0.82000\n",
            "50/50 [==============================] - 13s 271ms/step - loss: 1.1289 - accuracy: 0.5800 - val_loss: 0.8676 - val_accuracy: 0.7200 - lr: 5.0000e-04\n",
            "Epoch 21/100\n",
            "50/50 [==============================] - ETA: 0s - loss: 1.0733 - accuracy: 0.5980\n",
            "Epoch 21: val_accuracy did not improve from 0.82000\n",
            "50/50 [==============================] - 14s 276ms/step - loss: 1.0733 - accuracy: 0.5980 - val_loss: 0.8615 - val_accuracy: 0.6800 - lr: 5.0000e-04\n",
            "Epoch 22/100\n",
            "50/50 [==============================] - ETA: 0s - loss: 1.1196 - accuracy: 0.5920\n",
            "Epoch 22: val_accuracy did not improve from 0.82000\n",
            "50/50 [==============================] - 13s 258ms/step - loss: 1.1196 - accuracy: 0.5920 - val_loss: 0.9208 - val_accuracy: 0.6400 - lr: 5.0000e-04\n",
            "Epoch 23/100\n",
            "50/50 [==============================] - ETA: 0s - loss: 1.0522 - accuracy: 0.6180\n",
            "Epoch 23: val_accuracy did not improve from 0.82000\n",
            "\n",
            "Epoch 23: ReduceLROnPlateau reducing learning rate to 0.0002500000118743628.\n",
            "50/50 [==============================] - 14s 271ms/step - loss: 1.0522 - accuracy: 0.6180 - val_loss: 1.0631 - val_accuracy: 0.6200 - lr: 5.0000e-04\n",
            "Epoch 24/100\n",
            "50/50 [==============================] - ETA: 0s - loss: 1.1328 - accuracy: 0.5980\n",
            "Epoch 24: val_accuracy did not improve from 0.82000\n",
            "50/50 [==============================] - 13s 269ms/step - loss: 1.1328 - accuracy: 0.5980 - val_loss: 1.2167 - val_accuracy: 0.5800 - lr: 2.5000e-04\n",
            "Epoch 25/100\n",
            "50/50 [==============================] - ETA: 0s - loss: 1.0522 - accuracy: 0.6140\n",
            "Epoch 25: val_accuracy did not improve from 0.82000\n",
            "50/50 [==============================] - 13s 265ms/step - loss: 1.0522 - accuracy: 0.6140 - val_loss: 0.7794 - val_accuracy: 0.7400 - lr: 2.5000e-04\n",
            "Epoch 26/100\n",
            "50/50 [==============================] - ETA: 0s - loss: 1.0269 - accuracy: 0.6100\n",
            "Epoch 26: val_accuracy did not improve from 0.82000\n",
            "50/50 [==============================] - 14s 275ms/step - loss: 1.0269 - accuracy: 0.6100 - val_loss: 1.0441 - val_accuracy: 0.6200 - lr: 2.5000e-04\n",
            "Epoch 27/100\n",
            "50/50 [==============================] - ETA: 0s - loss: 1.0198 - accuracy: 0.6440\n",
            "Epoch 27: val_accuracy did not improve from 0.82000\n",
            "50/50 [==============================] - 13s 262ms/step - loss: 1.0198 - accuracy: 0.6440 - val_loss: 0.9391 - val_accuracy: 0.6600 - lr: 2.5000e-04\n",
            "Epoch 28/100\n",
            "50/50 [==============================] - ETA: 0s - loss: 1.0485 - accuracy: 0.6180\n",
            "Epoch 28: val_accuracy did not improve from 0.82000\n",
            "\n",
            "Epoch 28: ReduceLROnPlateau reducing learning rate to 0.0001250000059371814.\n",
            "50/50 [==============================] - 13s 264ms/step - loss: 1.0485 - accuracy: 0.6180 - val_loss: 0.8662 - val_accuracy: 0.6200 - lr: 2.5000e-04\n",
            "Epoch 29/100\n",
            "50/50 [==============================] - ETA: 0s - loss: 1.0595 - accuracy: 0.6100\n",
            "Epoch 29: val_accuracy improved from 0.82000 to 0.90000, saving model to best_model1.h5\n",
            "50/50 [==============================] - 14s 271ms/step - loss: 1.0595 - accuracy: 0.6100 - val_loss: 0.5213 - val_accuracy: 0.9000 - lr: 1.2500e-04\n",
            "Epoch 30/100\n",
            "50/50 [==============================] - ETA: 0s - loss: 1.0828 - accuracy: 0.6020\n",
            "Epoch 30: val_accuracy did not improve from 0.90000\n",
            "50/50 [==============================] - 13s 269ms/step - loss: 1.0828 - accuracy: 0.6020 - val_loss: 0.7395 - val_accuracy: 0.7600 - lr: 1.2500e-04\n",
            "Epoch 31/100\n",
            "50/50 [==============================] - ETA: 0s - loss: 0.9626 - accuracy: 0.6660\n",
            "Epoch 31: val_accuracy did not improve from 0.90000\n",
            "50/50 [==============================] - 13s 266ms/step - loss: 0.9626 - accuracy: 0.6660 - val_loss: 0.8378 - val_accuracy: 0.7200 - lr: 1.2500e-04\n",
            "Epoch 32/100\n",
            "50/50 [==============================] - ETA: 0s - loss: 0.9911 - accuracy: 0.6440\n",
            "Epoch 32: val_accuracy did not improve from 0.90000\n",
            "50/50 [==============================] - 13s 266ms/step - loss: 0.9911 - accuracy: 0.6440 - val_loss: 0.7253 - val_accuracy: 0.7600 - lr: 1.2500e-04\n",
            "Epoch 33/100\n",
            "50/50 [==============================] - ETA: 0s - loss: 1.0004 - accuracy: 0.6240\n",
            "Epoch 33: val_accuracy did not improve from 0.90000\n",
            "50/50 [==============================] - 12s 229ms/step - loss: 1.0004 - accuracy: 0.6240 - val_loss: 0.7171 - val_accuracy: 0.7800 - lr: 1.2500e-04\n",
            "Epoch 34/100\n",
            "50/50 [==============================] - ETA: 0s - loss: 0.9339 - accuracy: 0.6720\n",
            "Epoch 34: val_accuracy did not improve from 0.90000\n",
            "\n",
            "Epoch 34: ReduceLROnPlateau reducing learning rate to 6.25000029685907e-05.\n",
            "50/50 [==============================] - 14s 268ms/step - loss: 0.9339 - accuracy: 0.6720 - val_loss: 0.9413 - val_accuracy: 0.6600 - lr: 1.2500e-04\n",
            "Epoch 35/100\n",
            "50/50 [==============================] - ETA: 0s - loss: 0.9849 - accuracy: 0.6320\n",
            "Epoch 35: val_accuracy did not improve from 0.90000\n",
            "50/50 [==============================] - 14s 275ms/step - loss: 0.9849 - accuracy: 0.6320 - val_loss: 0.9692 - val_accuracy: 0.6400 - lr: 6.2500e-05\n",
            "Epoch 36/100\n",
            "50/50 [==============================] - ETA: 0s - loss: 0.9840 - accuracy: 0.6580\n",
            "Epoch 36: val_accuracy did not improve from 0.90000\n",
            "50/50 [==============================] - 13s 267ms/step - loss: 0.9840 - accuracy: 0.6580 - val_loss: 0.7656 - val_accuracy: 0.7200 - lr: 6.2500e-05\n",
            "Epoch 37/100\n",
            "50/50 [==============================] - ETA: 0s - loss: 1.0285 - accuracy: 0.6380\n",
            "Epoch 37: val_accuracy did not improve from 0.90000\n",
            "50/50 [==============================] - 14s 273ms/step - loss: 1.0285 - accuracy: 0.6380 - val_loss: 0.7329 - val_accuracy: 0.7600 - lr: 6.2500e-05\n",
            "Epoch 38/100\n",
            "50/50 [==============================] - ETA: 0s - loss: 1.0503 - accuracy: 0.6240\n",
            "Epoch 38: val_accuracy did not improve from 0.90000\n",
            "50/50 [==============================] - 13s 268ms/step - loss: 1.0503 - accuracy: 0.6240 - val_loss: 0.6122 - val_accuracy: 0.8400 - lr: 6.2500e-05\n",
            "Epoch 39/100\n",
            "50/50 [==============================] - ETA: 0s - loss: 0.9358 - accuracy: 0.6400\n",
            "Epoch 39: val_accuracy did not improve from 0.90000\n",
            "\n",
            "Epoch 39: ReduceLROnPlateau reducing learning rate to 3.125000148429535e-05.\n",
            "50/50 [==============================] - 13s 271ms/step - loss: 0.9358 - accuracy: 0.6400 - val_loss: 0.7655 - val_accuracy: 0.7000 - lr: 6.2500e-05\n",
            "Epoch 40/100\n",
            "50/50 [==============================] - ETA: 0s - loss: 1.0016 - accuracy: 0.6120\n",
            "Epoch 40: val_accuracy did not improve from 0.90000\n",
            "50/50 [==============================] - 14s 273ms/step - loss: 1.0016 - accuracy: 0.6120 - val_loss: 0.7235 - val_accuracy: 0.7600 - lr: 3.1250e-05\n",
            "Epoch 41/100\n",
            "50/50 [==============================] - ETA: 0s - loss: 0.9049 - accuracy: 0.6580\n",
            "Epoch 41: val_accuracy did not improve from 0.90000\n",
            "50/50 [==============================] - 14s 272ms/step - loss: 0.9049 - accuracy: 0.6580 - val_loss: 0.9437 - val_accuracy: 0.6800 - lr: 3.1250e-05\n",
            "Epoch 42/100\n",
            "50/50 [==============================] - ETA: 0s - loss: 0.9405 - accuracy: 0.6400\n",
            "Epoch 42: val_accuracy did not improve from 0.90000\n",
            "50/50 [==============================] - 13s 267ms/step - loss: 0.9405 - accuracy: 0.6400 - val_loss: 0.6759 - val_accuracy: 0.7600 - lr: 3.1250e-05\n",
            "Epoch 43/100\n",
            "50/50 [==============================] - ETA: 0s - loss: 0.9608 - accuracy: 0.6700\n",
            "Epoch 43: val_accuracy did not improve from 0.90000\n",
            "50/50 [==============================] - 12s 245ms/step - loss: 0.9608 - accuracy: 0.6700 - val_loss: 0.8017 - val_accuracy: 0.7200 - lr: 3.1250e-05\n",
            "Epoch 44/100\n",
            "50/50 [==============================] - ETA: 0s - loss: 0.8879 - accuracy: 0.6800\n",
            "Epoch 44: val_accuracy did not improve from 0.90000\n",
            "\n",
            "Epoch 44: ReduceLROnPlateau reducing learning rate to 1.5625000742147677e-05.\n",
            "50/50 [==============================] - 14s 275ms/step - loss: 0.8879 - accuracy: 0.6800 - val_loss: 0.5971 - val_accuracy: 0.8200 - lr: 3.1250e-05\n",
            "Epoch 45/100\n",
            "50/50 [==============================] - ETA: 0s - loss: 0.9958 - accuracy: 0.6500\n",
            "Epoch 45: val_accuracy did not improve from 0.90000\n",
            "50/50 [==============================] - 14s 276ms/step - loss: 0.9958 - accuracy: 0.6500 - val_loss: 0.6201 - val_accuracy: 0.8600 - lr: 1.5625e-05\n",
            "Epoch 46/100\n",
            "50/50 [==============================] - ETA: 0s - loss: 0.9505 - accuracy: 0.6400\n",
            "Epoch 46: val_accuracy did not improve from 0.90000\n",
            "50/50 [==============================] - 13s 263ms/step - loss: 0.9505 - accuracy: 0.6400 - val_loss: 0.7984 - val_accuracy: 0.6600 - lr: 1.5625e-05\n",
            "Epoch 47/100\n",
            "50/50 [==============================] - ETA: 0s - loss: 0.9279 - accuracy: 0.6760\n",
            "Epoch 47: val_accuracy did not improve from 0.90000\n",
            "50/50 [==============================] - 13s 270ms/step - loss: 0.9279 - accuracy: 0.6760 - val_loss: 0.5178 - val_accuracy: 0.9000 - lr: 1.5625e-05\n",
            "Epoch 48/100\n",
            "50/50 [==============================] - ETA: 0s - loss: 0.9041 - accuracy: 0.6820\n",
            "Epoch 48: val_accuracy did not improve from 0.90000\n",
            "50/50 [==============================] - 14s 273ms/step - loss: 0.9041 - accuracy: 0.6820 - val_loss: 0.5788 - val_accuracy: 0.7800 - lr: 1.5625e-05\n",
            "Epoch 49/100\n",
            "50/50 [==============================] - ETA: 0s - loss: 0.9779 - accuracy: 0.6300\n",
            "Epoch 49: val_accuracy did not improve from 0.90000\n",
            "\n",
            "Epoch 49: ReduceLROnPlateau reducing learning rate to 1e-05.\n",
            "50/50 [==============================] - 12s 245ms/step - loss: 0.9779 - accuracy: 0.6300 - val_loss: 0.7662 - val_accuracy: 0.7000 - lr: 1.5625e-05\n",
            "Epoch 49: early stopping\n"
          ]
        }
      ],
      "source": [
        "history = network.fit_generator(train_dataset,\n",
        "                                steps_per_epoch = 50,\n",
        "                                validation_data = validation_dataset,\n",
        "                                validation_steps = 50,\n",
        "                                epochs=100,\n",
        "                                callbacks=[es, model_cp, learning_rate_reduction])"
      ]
    },
    {
      "cell_type": "markdown",
      "metadata": {
        "id": "0yfuhbovltQA"
      },
      "source": []
    },
    {
      "cell_type": "code",
      "execution_count": 41,
      "metadata": {
        "id": "4xXIb__YN8jO"
      },
      "outputs": [],
      "source": [
        "predictions=network.predict(test_datatset)\n",
        "predictions = np.argmax(predictions, axis=1)"
      ]
    },
    {
      "cell_type": "code",
      "execution_count": 42,
      "metadata": {
        "colab": {
          "base_uri": "https://localhost:8080/"
        },
        "id": "MfitKd4WOO0c",
        "outputId": "dad14c3f-3880-4d1d-c30b-7a0ffd2eb798"
      },
      "outputs": [
        {
          "output_type": "execute_result",
          "data": {
            "text/plain": [
              "0.745702005730659"
            ]
          },
          "metadata": {},
          "execution_count": 42
        }
      ],
      "source": [
        "from sklearn.metrics import accuracy_score\n",
        "accuracy_score(test_datatset.classes, predictions)"
      ]
    },
    {
      "cell_type": "code",
      "execution_count": 43,
      "metadata": {
        "colab": {
          "base_uri": "https://localhost:8080/",
          "height": 430
        },
        "id": "CwufQs6AOjVu",
        "outputId": "73eb7d5d-82fe-4d78-8522-039276479b3d"
      },
      "outputs": [
        {
          "output_type": "display_data",
          "data": {
            "text/plain": [
              "<Figure size 640x480 with 2 Axes>"
            ],
            "image/png": "[encoded data removed]"
          },
          "metadata": {}
        }
      ],
      "source": [
        "from sklearn.metrics import confusion_matrix\n",
        "cm = confusion_matrix(test_datatset.classes, predictions)\n",
        "sns.heatmap(cm, annot=True);"
      ]
    },
    {
      "cell_type": "code",
      "execution_count": 44,
      "metadata": {
        "colab": {
          "base_uri": "https://localhost:8080/"
        },
        "id": "lfg484OCPGqq",
        "outputId": "3082a83f-bec1-47d3-8410-5f69f72e308a"
      },
      "outputs": [
        {
          "output_type": "stream",
          "name": "stdout",
          "text": [
            "              precision    recall  f1-score   support\n",
            "\n",
            "           0       0.82      0.95      0.88       198\n",
            "           1       0.94      0.98      0.96       200\n",
            "           2       0.57      0.54      0.56       200\n",
            "           3       0.57      0.48      0.52       199\n",
            "           4       0.78      0.89      0.83       200\n",
            "           5       0.73      0.61      0.67       199\n",
            "           6       0.75      0.77      0.76       200\n",
            "\n",
            "    accuracy                           0.75      1396\n",
            "   macro avg       0.74      0.75      0.74      1396\n",
            "weighted avg       0.74      0.75      0.74      1396\n",
            "\n"
          ]
        }
      ],
      "source": [
        "from sklearn.metrics import classification_report\n",
        "print(classification_report(test_datatset.classes, predictions))"
      ]
    },
    {
      "cell_type": "code",
      "execution_count": 45,
      "metadata": {
        "colab": {
          "base_uri": "https://localhost:8080/",
          "height": 472
        },
        "id": "AwBdQqe9Porm",
        "outputId": "3d33fdd0-51ee-41a0-9836-32cb35d8c309"
      },
      "outputs": [
        {
          "output_type": "display_data",
          "data": {
            "text/plain": [
              "<Figure size 640x480 with 1 Axes>"
            ],
            "image/png": "[encoded data removed]"
          },
          "metadata": {}
        }
      ],
      "source": [
        "plt.plot(history.history['accuracy'])\n",
        "plt.plot(history.history['val_accuracy'])\n",
        "plt.title('model accuracy')\n",
        "plt.ylabel('accuracy')\n",
        "plt.xlabel('epoch')\n",
        "plt.legend(['train', 'val'], loc='upper left')\n",
        "plt.show()"
      ]
    },
    {
      "cell_type": "code",
      "execution_count": 46,
      "metadata": {
        "colab": {
          "base_uri": "https://localhost:8080/",
          "height": 472
        },
        "id": "vVr7AUw8SNre",
        "outputId": "32c81e87-853f-4fd2-f5ce-bc37bbc5dc52"
      },
      "outputs": [
        {
          "output_type": "display_data",
          "data": {
            "text/plain": [
              "<Figure size 640x480 with 1 Axes>"
            ],
            "image/png": "[encoded data removed]"
          },
          "metadata": {}
        }
      ],
      "source": [
        "plt.plot(history.history['loss'])\n",
        "plt.plot(history.history['val_loss'])\n",
        "plt.title('model loss')\n",
        "plt.ylabel('loss')\n",
        "plt.xlabel('epoch')\n",
        "plt.legend(['train', 'val'], loc='upper left')\n",
        "plt.show()"
      ]
    },
    {
      "cell_type": "code",
      "execution_count": 47,
      "metadata": {
        "id": "pnmlR6M8gih2"
      },
      "outputs": [],
      "source": [
        "from tensorflow.keras.models import load_model\n",
        "model = load_model('/content/best_model1.h5')"
      ]
    },
    {
      "cell_type": "code",
      "execution_count": 48,
      "metadata": {
        "colab": {
          "base_uri": "https://localhost:8080/"
        },
        "id": "P5SUDIaUg8-G",
        "outputId": "d02b5626-5343-49a3-afea-f1033076637b"
      },
      "outputs": [
        {
          "output_type": "stream",
          "name": "stdout",
          "text": [
            "1396/1396 [==============================] - 17s 12ms/step - loss: 0.8786 - accuracy: 0.6948\n"
          ]
        },
        {
          "output_type": "execute_result",
          "data": {
            "text/plain": [
              "[0.8785756230354309, 0.6948423981666565]"
            ]
          },
          "metadata": {},
          "execution_count": 48
        }
      ],
      "source": [
        "model.evaluate(test_datatset)"
      ]
    },
    {
      "cell_type": "code",
      "execution_count": 49,
      "metadata": {
        "colab": {
          "base_uri": "https://localhost:8080/",
          "height": 430
        },
        "id": "Zqq4ec2JhKgt",
        "outputId": "3e721e3a-da13-46e4-eb5e-9f45cfa33600"
      },
      "outputs": [
        {
          "output_type": "display_data",
          "data": {
            "text/plain": [
              "<Figure size 640x480 with 2 Axes>"
            ],
            "image/png": "[encoded data removed]"
          },
          "metadata": {}
        }
      ],
      "source": [
        "pred = model.predict(test_datatset)\n",
        "pred = np.argmax(pred, axis=1)\n",
        "cm = confusion_matrix(test_datatset.classes, pred)\n",
        "sns.heatmap(cm, annot=True);"
      ]
    },
    {
      "cell_type": "code",
      "execution_count": 51,
      "metadata": {
        "colab": {
          "base_uri": "https://localhost:8080/"
        },
        "id": "e2TSljdej81S",
        "outputId": "505930f1-860a-462d-c813-60507779ddcb"
      },
      "outputs": [
        {
          "output_type": "stream",
          "name": "stdout",
          "text": [
            "              precision    recall  f1-score   support\n",
            "\n",
            "           0       0.66      0.95      0.78       198\n",
            "           1       0.94      0.94      0.94       200\n",
            "           2       0.60      0.41      0.48       200\n",
            "           3       0.47      0.47      0.47       199\n",
            "           4       0.71      0.80      0.75       200\n",
            "           5       0.70      0.66      0.68       199\n",
            "           6       0.79      0.64      0.71       200\n",
            "\n",
            "    accuracy                           0.69      1396\n",
            "   macro avg       0.70      0.70      0.69      1396\n",
            "weighted avg       0.70      0.69      0.69      1396\n",
            "\n"
          ]
        }
      ],
      "source": [
        "print(classification_report(test_datatset.classes, pred))"
      ]
    },
    {
      "cell_type": "code",
      "execution_count": 52,
      "metadata": {
        "id": "jzbwiv0ikEVG"
      },
      "outputs": [],
      "source": [
        "network.save('network.h5')"
      ]
    },
    {
      "cell_type": "code",
      "execution_count": 53,
      "metadata": {
        "id": "mTxEZdsQtlC4"
      },
      "outputs": [],
      "source": [
        "net = load_model('/content/network.h5')"
      ]
    },
    {
      "cell_type": "code",
      "execution_count": 54,
      "metadata": {
        "colab": {
          "base_uri": "https://localhost:8080/"
        },
        "id": "JgEg6VxztpAx",
        "outputId": "3ecd37ba-b6f1-4f9d-d846-b767820612d0"
      },
      "outputs": [
        {
          "output_type": "stream",
          "name": "stdout",
          "text": [
            "1396/1396 [==============================] - 17s 12ms/step - loss: 0.7384 - accuracy: 0.7457\n"
          ]
        },
        {
          "output_type": "execute_result",
          "data": {
            "text/plain": [
              "[0.7384006381034851, 0.7457020282745361]"
            ]
          },
          "metadata": {},
          "execution_count": 54
        }
      ],
      "source": [
        "net.evaluate(test_datatset)"
      ]
    },
    {
      "cell_type": "code",
      "execution_count": 55,
      "metadata": {
        "colab": {
          "base_uri": "https://localhost:8080/",
          "height": 430
        },
        "id": "6wbroQ7EvUvp",
        "outputId": "e45a0c1c-c8ed-44ca-fa6a-81e06789980e"
      },
      "outputs": [
        {
          "output_type": "display_data",
          "data": {
            "text/plain": [
              "<Figure size 640x480 with 2 Axes>"
            ],
            "image/png": "[encoded data removed]"
          },
          "metadata": {}
        }
      ],
      "source": [
        "pre = net.predict(test_datatset)\n",
        "pre = np.argmax(pre, axis=1)\n",
        "cm = confusion_matrix(test_datatset.classes, pre)\n",
        "sns.heatmap(cm, annot=True);"
      ]
    },
    {
      "cell_type": "code",
      "execution_count": 56,
      "metadata": {
        "colab": {
          "base_uri": "https://localhost:8080/"
        },
        "id": "0c6L1deT_TAY",
        "outputId": "78f73a18-5bfb-463b-a780-8a72dc3033a7"
      },
      "outputs": [
        {
          "output_type": "stream",
          "name": "stdout",
          "text": [
            "              precision    recall  f1-score   support\n",
            "\n",
            "           0       0.66      0.95      0.78       198\n",
            "           1       0.94      0.94      0.94       200\n",
            "           2       0.60      0.41      0.48       200\n",
            "           3       0.47      0.47      0.47       199\n",
            "           4       0.71      0.80      0.75       200\n",
            "           5       0.70      0.66      0.68       199\n",
            "           6       0.79      0.64      0.71       200\n",
            "\n",
            "    accuracy                           0.69      1396\n",
            "   macro avg       0.70      0.70      0.69      1396\n",
            "weighted avg       0.70      0.69      0.69      1396\n",
            "\n"
          ]
        }
      ],
      "source": [
        "print(classification_report(test_datatset.classes, pred))"
      ]
    },
    {
      "cell_type": "markdown",
      "source": [],
      "metadata": {
        "id": "I501GKF6LLsg"
      }
    }
  ],
  "metadata": {
    "colab": {
      "provenance": [],
      "include_colab_link": true
    },
    "kernelspec": {
      "display_name": "Python 3",
      "name": "python3"
    },
    "language_info": {
      "name": "python"
    }
  },
  "nbformat": 4,
  "nbformat_minor": 0
}