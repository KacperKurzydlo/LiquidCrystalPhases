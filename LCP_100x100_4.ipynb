{
  "cells": [
    {
      "cell_type": "markdown",
      "metadata": {
        "id": "view-in-github",
        "colab_type": "text"
      },
      "source": [
        "<a href=\"https://colab.research.google.com/github/KacperKurzydlo/LiquidCrystalPhases/blob/main/LCP_100x100_4.ipynb\" target=\"_parent\"><img src=\"https://colab.research.google.com/assets/colab-badge.svg\" alt=\"Open In Colab\"/></a>"
      ]
    },
    {
      "cell_type": "code",
      "execution_count": 1,
      "metadata": {
        "colab": {
          "base_uri": "https://localhost:8080/"
        },
        "id": "647sNsjCJ0hX",
        "outputId": "09f29af9-2c25-4b99-e13c-078281b143de"
      },
      "outputs": [
        {
          "output_type": "stream",
          "name": "stdout",
          "text": [
            "Requirement already satisfied: h5py in /usr/local/lib/python3.10/dist-packages (3.8.0)\n",
            "Requirement already satisfied: numpy>=1.14.5 in /usr/local/lib/python3.10/dist-packages (from h5py) (1.22.4)\n",
            "Requirement already satisfied: typing-extensions in /usr/local/lib/python3.10/dist-packages (4.7.1)\n",
            "Requirement already satisfied: wheel in /usr/local/lib/python3.10/dist-packages (0.41.0)\n"
          ]
        }
      ],
      "source": [
        "!pip install h5py\n",
        "!pip install typing-extensions\n",
        "!pip install wheel"
      ]
    },
    {
      "cell_type": "code",
      "execution_count": 2,
      "metadata": {
        "colab": {
          "base_uri": "https://localhost:8080/"
        },
        "id": "kq6qJdUqIWCQ",
        "outputId": "5bbe1b0d-742b-4fe9-cb80-a47eb9197881"
      },
      "outputs": [
        {
          "output_type": "stream",
          "name": "stdout",
          "text": [
            "Collecting tensorflow==2.8\n",
            "  Downloading tensorflow-2.8.0-cp310-cp310-manylinux2010_x86_64.whl (497.6 MB)\n",
            "\u001b[2K     \u001b[90m━━━━━━━━━━━━━━━━━━━━━━━━━━━━━━━━━━━━━━━\u001b[0m \u001b[32m497.6/497.6 MB\u001b[0m \u001b[31m3.3 MB/s\u001b[0m eta \u001b[36m0:00:00\u001b[0m\n",
            "\u001b[?25hRequirement already satisfied: absl-py>=0.4.0 in /usr/local/lib/python3.10/dist-packages (from tensorflow==2.8) (1.4.0)\n",
            "Requirement already satisfied: astunparse>=1.6.0 in /usr/local/lib/python3.10/dist-packages (from tensorflow==2.8) (1.6.3)\n",
            "Requirement already satisfied: flatbuffers>=1.12 in /usr/local/lib/python3.10/dist-packages (from tensorflow==2.8) (23.5.26)\n",
            "Requirement already satisfied: gast>=0.2.1 in /usr/local/lib/python3.10/dist-packages (from tensorflow==2.8) (0.4.0)\n",
            "Requirement already satisfied: google-pasta>=0.1.1 in /usr/local/lib/python3.10/dist-packages (from tensorflow==2.8) (0.2.0)\n",
            "Requirement already satisfied: h5py>=2.9.0 in /usr/local/lib/python3.10/dist-packages (from tensorflow==2.8) (3.8.0)\n",
            "Collecting keras-preprocessing>=1.1.1 (from tensorflow==2.8)\n",
            "  Downloading Keras_Preprocessing-1.1.2-py2.py3-none-any.whl (42 kB)\n",
            "\u001b[2K     \u001b[90m━━━━━━━━━━━━━━━━━━━━━━━━━━━━━━━━━━━━━━━━\u001b[0m \u001b[32m42.6/42.6 kB\u001b[0m \u001b[31m4.3 MB/s\u001b[0m eta \u001b[36m0:00:00\u001b[0m\n",
            "\u001b[?25hRequirement already satisfied: libclang>=9.0.1 in /usr/local/lib/python3.10/dist-packages (from tensorflow==2.8) (16.0.6)\n",
            "Requirement already satisfied: numpy>=1.20 in /usr/local/lib/python3.10/dist-packages (from tensorflow==2.8) (1.22.4)\n",
            "Requirement already satisfied: opt-einsum>=2.3.2 in /usr/local/lib/python3.10/dist-packages (from tensorflow==2.8) (3.3.0)\n",
            "Requirement already satisfied: protobuf>=3.9.2 in /usr/local/lib/python3.10/dist-packages (from tensorflow==2.8) (3.20.3)\n",
            "Requirement already satisfied: setuptools in /usr/local/lib/python3.10/dist-packages (from tensorflow==2.8) (67.7.2)\n",
            "Requirement already satisfied: six>=1.12.0 in /usr/local/lib/python3.10/dist-packages (from tensorflow==2.8) (1.16.0)\n",
            "Requirement already satisfied: termcolor>=1.1.0 in /usr/local/lib/python3.10/dist-packages (from tensorflow==2.8) (2.3.0)\n",
            "Requirement already satisfied: typing-extensions>=3.6.6 in /usr/local/lib/python3.10/dist-packages (from tensorflow==2.8) (4.7.1)\n",
            "Requirement already satisfied: wrapt>=1.11.0 in /usr/local/lib/python3.10/dist-packages (from tensorflow==2.8) (1.14.1)\n",
            "Collecting tensorboard<2.9,>=2.8 (from tensorflow==2.8)\n",
            "  Downloading tensorboard-2.8.0-py3-none-any.whl (5.8 MB)\n",
            "\u001b[2K     \u001b[90m━━━━━━━━━━━━━━━━━━━━━━━━━━━━━━━━━━━━━━━━\u001b[0m \u001b[32m5.8/5.8 MB\u001b[0m \u001b[31m100.8 MB/s\u001b[0m eta \u001b[36m0:00:00\u001b[0m\n",
            "\u001b[?25hCollecting tf-estimator-nightly==2.8.0.dev2021122109 (from tensorflow==2.8)\n",
            "  Downloading tf_estimator_nightly-2.8.0.dev2021122109-py2.py3-none-any.whl (462 kB)\n",
            "\u001b[2K     \u001b[90m━━━━━━━━━━━━━━━━━━━━━━━━━━━━━━━━━━━━━━\u001b[0m \u001b[32m462.5/462.5 kB\u001b[0m \u001b[31m41.4 MB/s\u001b[0m eta \u001b[36m0:00:00\u001b[0m\n",
            "\u001b[?25hCollecting keras<2.9,>=2.8.0rc0 (from tensorflow==2.8)\n",
            "  Downloading keras-2.8.0-py2.py3-none-any.whl (1.4 MB)\n",
            "\u001b[2K     \u001b[90m━━━━━━━━━━━━━━━━━━━━━━━━━━━━━━━━━━━━━━━━\u001b[0m \u001b[32m1.4/1.4 MB\u001b[0m \u001b[31m85.3 MB/s\u001b[0m eta \u001b[36m0:00:00\u001b[0m\n",
            "\u001b[?25hRequirement already satisfied: tensorflow-io-gcs-filesystem>=0.23.1 in /usr/local/lib/python3.10/dist-packages (from tensorflow==2.8) (0.32.0)\n",
            "Requirement already satisfied: grpcio<2.0,>=1.24.3 in /usr/local/lib/python3.10/dist-packages (from tensorflow==2.8) (1.56.2)\n",
            "Requirement already satisfied: wheel<1.0,>=0.23.0 in /usr/local/lib/python3.10/dist-packages (from astunparse>=1.6.0->tensorflow==2.8) (0.41.0)\n",
            "Requirement already satisfied: google-auth<3,>=1.6.3 in /usr/local/lib/python3.10/dist-packages (from tensorboard<2.9,>=2.8->tensorflow==2.8) (2.17.3)\n",
            "Collecting google-auth-oauthlib<0.5,>=0.4.1 (from tensorboard<2.9,>=2.8->tensorflow==2.8)\n",
            "  Downloading google_auth_oauthlib-0.4.6-py2.py3-none-any.whl (18 kB)\n",
            "Requirement already satisfied: markdown>=2.6.8 in /usr/local/lib/python3.10/dist-packages (from tensorboard<2.9,>=2.8->tensorflow==2.8) (3.4.4)\n",
            "Requirement already satisfied: requests<3,>=2.21.0 in /usr/local/lib/python3.10/dist-packages (from tensorboard<2.9,>=2.8->tensorflow==2.8) (2.27.1)\n",
            "Collecting tensorboard-data-server<0.7.0,>=0.6.0 (from tensorboard<2.9,>=2.8->tensorflow==2.8)\n",
            "  Downloading tensorboard_data_server-0.6.1-py3-none-manylinux2010_x86_64.whl (4.9 MB)\n",
            "\u001b[2K     \u001b[90m━━━━━━━━━━━━━━━━━━━━━━━━━━━━━━━━━━━━━━━━\u001b[0m \u001b[32m4.9/4.9 MB\u001b[0m \u001b[31m123.0 MB/s\u001b[0m eta \u001b[36m0:00:00\u001b[0m\n",
            "\u001b[?25hCollecting tensorboard-plugin-wit>=1.6.0 (from tensorboard<2.9,>=2.8->tensorflow==2.8)\n",
            "  Downloading tensorboard_plugin_wit-1.8.1-py3-none-any.whl (781 kB)\n",
            "\u001b[2K     \u001b[90m━━━━━━━━━━━━━━━━━━━━━━━━━━━━━━━━━━━━━━\u001b[0m \u001b[32m781.3/781.3 kB\u001b[0m \u001b[31m59.9 MB/s\u001b[0m eta \u001b[36m0:00:00\u001b[0m\n",
            "\u001b[?25hRequirement already satisfied: werkzeug>=0.11.15 in /usr/local/lib/python3.10/dist-packages (from tensorboard<2.9,>=2.8->tensorflow==2.8) (2.3.6)\n",
            "Requirement already satisfied: cachetools<6.0,>=2.0.0 in /usr/local/lib/python3.10/dist-packages (from google-auth<3,>=1.6.3->tensorboard<2.9,>=2.8->tensorflow==2.8) (5.3.1)\n",
            "Requirement already satisfied: pyasn1-modules>=0.2.1 in /usr/local/lib/python3.10/dist-packages (from google-auth<3,>=1.6.3->tensorboard<2.9,>=2.8->tensorflow==2.8) (0.3.0)\n",
            "Requirement already satisfied: rsa<5,>=3.1.4 in /usr/local/lib/python3.10/dist-packages (from google-auth<3,>=1.6.3->tensorboard<2.9,>=2.8->tensorflow==2.8) (4.9)\n",
            "Requirement already satisfied: requests-oauthlib>=0.7.0 in /usr/local/lib/python3.10/dist-packages (from google-auth-oauthlib<0.5,>=0.4.1->tensorboard<2.9,>=2.8->tensorflow==2.8) (1.3.1)\n",
            "Requirement already satisfied: urllib3<1.27,>=1.21.1 in /usr/local/lib/python3.10/dist-packages (from requests<3,>=2.21.0->tensorboard<2.9,>=2.8->tensorflow==2.8) (1.26.16)\n",
            "Requirement already satisfied: certifi>=2017.4.17 in /usr/local/lib/python3.10/dist-packages (from requests<3,>=2.21.0->tensorboard<2.9,>=2.8->tensorflow==2.8) (2023.7.22)\n",
            "Requirement already satisfied: charset-normalizer~=2.0.0 in /usr/local/lib/python3.10/dist-packages (from requests<3,>=2.21.0->tensorboard<2.9,>=2.8->tensorflow==2.8) (2.0.12)\n",
            "Requirement already satisfied: idna<4,>=2.5 in /usr/local/lib/python3.10/dist-packages (from requests<3,>=2.21.0->tensorboard<2.9,>=2.8->tensorflow==2.8) (3.4)\n",
            "Requirement already satisfied: MarkupSafe>=2.1.1 in /usr/local/lib/python3.10/dist-packages (from werkzeug>=0.11.15->tensorboard<2.9,>=2.8->tensorflow==2.8) (2.1.3)\n",
            "Requirement already satisfied: pyasn1<0.6.0,>=0.4.6 in /usr/local/lib/python3.10/dist-packages (from pyasn1-modules>=0.2.1->google-auth<3,>=1.6.3->tensorboard<2.9,>=2.8->tensorflow==2.8) (0.5.0)\n",
            "Requirement already satisfied: oauthlib>=3.0.0 in /usr/local/lib/python3.10/dist-packages (from requests-oauthlib>=0.7.0->google-auth-oauthlib<0.5,>=0.4.1->tensorboard<2.9,>=2.8->tensorflow==2.8) (3.2.2)\n",
            "Installing collected packages: tf-estimator-nightly, tensorboard-plugin-wit, keras, tensorboard-data-server, keras-preprocessing, google-auth-oauthlib, tensorboard, tensorflow\n",
            "  Attempting uninstall: keras\n",
            "    Found existing installation: keras 2.12.0\n",
            "    Uninstalling keras-2.12.0:\n",
            "      Successfully uninstalled keras-2.12.0\n",
            "  Attempting uninstall: tensorboard-data-server\n",
            "    Found existing installation: tensorboard-data-server 0.7.1\n",
            "    Uninstalling tensorboard-data-server-0.7.1:\n",
            "      Successfully uninstalled tensorboard-data-server-0.7.1\n",
            "  Attempting uninstall: google-auth-oauthlib\n",
            "    Found existing installation: google-auth-oauthlib 1.0.0\n",
            "    Uninstalling google-auth-oauthlib-1.0.0:\n",
            "      Successfully uninstalled google-auth-oauthlib-1.0.0\n",
            "  Attempting uninstall: tensorboard\n",
            "    Found existing installation: tensorboard 2.12.3\n",
            "    Uninstalling tensorboard-2.12.3:\n",
            "      Successfully uninstalled tensorboard-2.12.3\n",
            "  Attempting uninstall: tensorflow\n",
            "    Found existing installation: tensorflow 2.12.0\n",
            "    Uninstalling tensorflow-2.12.0:\n",
            "      Successfully uninstalled tensorflow-2.12.0\n",
            "Successfully installed google-auth-oauthlib-0.4.6 keras-2.8.0 keras-preprocessing-1.1.2 tensorboard-2.8.0 tensorboard-data-server-0.6.1 tensorboard-plugin-wit-1.8.1 tensorflow-2.8.0 tf-estimator-nightly-2.8.0.dev2021122109\n"
          ]
        }
      ],
      "source": [
        "!pip install tensorflow==2.8"
      ]
    },
    {
      "cell_type": "code",
      "execution_count": 3,
      "metadata": {
        "colab": {
          "base_uri": "https://localhost:8080/",
          "height": 35
        },
        "id": "I0X9qkMXs_pp",
        "outputId": "3fa3627c-577d-42d9-9ba1-1006c5cb88cd"
      },
      "outputs": [
        {
          "output_type": "execute_result",
          "data": {
            "text/plain": [
              "'2.8.0'"
            ],
            "application/vnd.google.colaboratory.intrinsic+json": {
              "type": "string"
            }
          },
          "metadata": {},
          "execution_count": 3
        }
      ],
      "source": [
        "import matplotlib.pyplot as plt\n",
        "import seaborn as sns\n",
        "import zipfile\n",
        "import numpy as np\n",
        "import cv2\n",
        "from google.colab.patches import cv2_imshow\n",
        "import tensorflow as tf\n",
        "from tensorflow.keras.callbacks import ReduceLROnPlateau\n",
        "from tensorflow.keras import regularizers\n",
        "from tensorflow.keras.callbacks import ModelCheckpoint, EarlyStopping\n",
        "from tensorflow.keras.models import Sequential\n",
        "from tensorflow.keras.layers import Conv2D, MaxPool2D, Flatten, Dense, BatchNormalization, Dropout\n",
        "from tensorflow.keras.preprocessing.image import ImageDataGenerator\n",
        "tf.__version__"
      ]
    },
    {
      "cell_type": "code",
      "execution_count": 4,
      "metadata": {
        "colab": {
          "base_uri": "https://localhost:8080/"
        },
        "id": "yQMOvsd99H-V",
        "outputId": "c3f1ecba-5dbd-47b8-d69b-1b7b67a654cc"
      },
      "outputs": [
        {
          "output_type": "stream",
          "name": "stdout",
          "text": [
            "Mounted at /content/drive\n"
          ]
        }
      ],
      "source": [
        "from google.colab import drive\n",
        "drive.mount('/content/drive')"
      ]
    },
    {
      "cell_type": "code",
      "execution_count": 5,
      "metadata": {
        "id": "Y_BgiI3JxA9q"
      },
      "outputs": [],
      "source": [
        "path = '/content/drive/MyDrive/Praktyki/gotowe.zip'\n",
        "zip_object = zipfile.ZipFile(file=path, mode='r')\n",
        "zip_object.extractall('./')\n",
        "zip_object.close()"
      ]
    },
    {
      "cell_type": "code",
      "execution_count": 6,
      "metadata": {
        "id": "7-PhxwM60uM7"
      },
      "outputs": [],
      "source": [
        "training_generator = ImageDataGenerator(rescale=1./255,\n",
        "                                        horizontal_flip=True,\n",
        "                                        vertical_flip=True)\n"
      ]
    },
    {
      "cell_type": "code",
      "execution_count": 7,
      "metadata": {
        "colab": {
          "base_uri": "https://localhost:8080/"
        },
        "id": "jMErkkVv_mXw",
        "outputId": "737dc954-7e8e-4721-e787-cda0e91bee02"
      },
      "outputs": [
        {
          "output_type": "stream",
          "name": "stdout",
          "text": [
            "Found 11158 images belonging to 7 classes.\n"
          ]
        }
      ],
      "source": [
        "train_dataset = training_generator.flow_from_directory('/content/gotowe/train_set',\n",
        "                                                       target_size = (100, 100),\n",
        "                                                       batch_size = 10,\n",
        "                                                       color_mode='rgb',\n",
        "                                                       class_mode = 'categorical',\n",
        "                                                       shuffle = True)"
      ]
    },
    {
      "cell_type": "code",
      "execution_count": 8,
      "metadata": {
        "colab": {
          "base_uri": "https://localhost:8080/"
        },
        "id": "C4errPxfAukM",
        "outputId": "a58e4024-f73b-46cb-e71c-dcf26d74e5c9"
      },
      "outputs": [
        {
          "output_type": "execute_result",
          "data": {
            "text/plain": [
              "array([0, 0, 0, ..., 6, 6, 6], dtype=int32)"
            ]
          },
          "metadata": {},
          "execution_count": 8
        }
      ],
      "source": [
        "train_dataset.classes"
      ]
    },
    {
      "cell_type": "code",
      "execution_count": 9,
      "metadata": {
        "colab": {
          "base_uri": "https://localhost:8080/"
        },
        "id": "jYCiD3adA5xf",
        "outputId": "30d6f500-7af5-4fcd-8bf9-2c615c6f266b"
      },
      "outputs": [
        {
          "output_type": "execute_result",
          "data": {
            "text/plain": [
              "{'nematyk': 0,\n",
              " 'smektyk_C': 1,\n",
              " 'smektyk_F': 2,\n",
              " 'smektyk_GMosaic': 3,\n",
              " 'smektyk_GSchliren': 4,\n",
              " 'smektyk_H': 5,\n",
              " 'smektyk_I': 6}"
            ]
          },
          "metadata": {},
          "execution_count": 9
        }
      ],
      "source": [
        "train_dataset.class_indices"
      ]
    },
    {
      "cell_type": "code",
      "execution_count": 10,
      "metadata": {
        "id": "6VK7xyH-BkSq"
      },
      "outputs": [],
      "source": [
        "test_generator = ImageDataGenerator(rescale=1./255)\n",
        "val_generator = ImageDataGenerator(rescale=1./255)"
      ]
    },
    {
      "cell_type": "code",
      "execution_count": 11,
      "metadata": {
        "colab": {
          "base_uri": "https://localhost:8080/"
        },
        "id": "84kKwMy6U7oh",
        "outputId": "a4ec3a87-8dfd-401d-9a0e-5edabdca6762"
      },
      "outputs": [
        {
          "output_type": "stream",
          "name": "stdout",
          "text": [
            "Found 1395 images belonging to 7 classes.\n"
          ]
        }
      ],
      "source": [
        "validation_dataset = val_generator.flow_from_directory('/content/gotowe/val_set',\n",
        "                                                        target_size=(100, 100),\n",
        "                                                        batch_size=1,\n",
        "                                                        class_mode='categorical',\n",
        "                                                        color_mode='rgb',\n",
        "                                                        shuffle=True) # set as validation data"
      ]
    },
    {
      "cell_type": "code",
      "execution_count": 12,
      "metadata": {
        "id": "PB2pU5bzXPTa"
      },
      "outputs": [],
      "source": [
        "L2 = 0.00001"
      ]
    },
    {
      "cell_type": "code",
      "execution_count": 13,
      "metadata": {
        "colab": {
          "base_uri": "https://localhost:8080/"
        },
        "id": "SdqIBmxiBvU1",
        "outputId": "855d7767-7805-4c02-c060-2413b7d74f39"
      },
      "outputs": [
        {
          "output_type": "stream",
          "name": "stdout",
          "text": [
            "Found 1396 images belonging to 7 classes.\n"
          ]
        }
      ],
      "source": [
        "test_datatset = test_generator.flow_from_directory('/content/gotowe/test_set',\n",
        "                                                   target_size = (100, 100),\n",
        "                                                   batch_size = 1,\n",
        "                                                   color_mode='rgb',\n",
        "                                                   class_mode = 'categorical',\n",
        "                                                   shuffle = False)"
      ]
    },
    {
      "cell_type": "code",
      "execution_count": 14,
      "metadata": {
        "id": "xVLgf1bADs_C"
      },
      "outputs": [],
      "source": [
        "initializer1 = tf.keras.initializers.HeNormal()\n",
        "initializer2 = tf.keras.initializers.GlorotUniform()"
      ]
    },
    {
      "cell_type": "code",
      "execution_count": 37,
      "metadata": {
        "colab": {
          "base_uri": "https://localhost:8080/"
        },
        "id": "QTr7SiKfD6UI",
        "outputId": "80eaaba0-7826-48e4-f80f-9abd4ddefc82"
      },
      "outputs": [
        {
          "output_type": "stream",
          "name": "stdout",
          "text": [
            "Model: \"sequential_4\"\n",
            "_________________________________________________________________\n",
            " Layer (type)                Output Shape              Param #   \n",
            "=================================================================\n",
            " conv2d_42 (Conv2D)          (None, 98, 98, 32)        896       \n",
            "                                                                 \n",
            " conv2d_43 (Conv2D)          (None, 96, 96, 32)        9248      \n",
            "                                                                 \n",
            " conv2d_44 (Conv2D)          (None, 96, 96, 32)        1056      \n",
            "                                                                 \n",
            " batch_normalization_48 (Bat  (None, 96, 96, 32)       128       \n",
            " chNormalization)                                                \n",
            "                                                                 \n",
            " max_pooling2d_24 (MaxPoolin  (None, 48, 48, 32)       0         \n",
            " g2D)                                                            \n",
            "                                                                 \n",
            " conv2d_45 (Conv2D)          (None, 48, 48, 64)        18496     \n",
            "                                                                 \n",
            " conv2d_46 (Conv2D)          (None, 48, 48, 64)        36928     \n",
            "                                                                 \n",
            " conv2d_47 (Conv2D)          (None, 48, 48, 64)        4160      \n",
            "                                                                 \n",
            " batch_normalization_49 (Bat  (None, 48, 48, 64)       256       \n",
            " chNormalization)                                                \n",
            "                                                                 \n",
            " max_pooling2d_25 (MaxPoolin  (None, 24, 24, 64)       0         \n",
            " g2D)                                                            \n",
            "                                                                 \n",
            " conv2d_48 (Conv2D)          (None, 24, 24, 128)       73856     \n",
            "                                                                 \n",
            " conv2d_49 (Conv2D)          (None, 24, 24, 128)       147584    \n",
            "                                                                 \n",
            " conv2d_50 (Conv2D)          (None, 24, 24, 128)       16512     \n",
            "                                                                 \n",
            " batch_normalization_50 (Bat  (None, 24, 24, 128)      512       \n",
            " chNormalization)                                                \n",
            "                                                                 \n",
            " max_pooling2d_26 (MaxPoolin  (None, 12, 12, 128)      0         \n",
            " g2D)                                                            \n",
            "                                                                 \n",
            " conv2d_51 (Conv2D)          (None, 12, 12, 256)       295168    \n",
            "                                                                 \n",
            " conv2d_52 (Conv2D)          (None, 12, 12, 256)       590080    \n",
            "                                                                 \n",
            " conv2d_53 (Conv2D)          (None, 12, 12, 256)       65792     \n",
            "                                                                 \n",
            " batch_normalization_51 (Bat  (None, 12, 12, 256)      1024      \n",
            " chNormalization)                                                \n",
            "                                                                 \n",
            " max_pooling2d_27 (MaxPoolin  (None, 6, 6, 256)        0         \n",
            " g2D)                                                            \n",
            "                                                                 \n",
            " conv2d_54 (Conv2D)          (None, 6, 6, 512)         524800    \n",
            "                                                                 \n",
            " conv2d_55 (Conv2D)          (None, 6, 6, 512)         1049088   \n",
            "                                                                 \n",
            " batch_normalization_52 (Bat  (None, 6, 6, 512)        2048      \n",
            " chNormalization)                                                \n",
            "                                                                 \n",
            " max_pooling2d_28 (MaxPoolin  (None, 3, 3, 512)        0         \n",
            " g2D)                                                            \n",
            "                                                                 \n",
            " conv2d_56 (Conv2D)          (None, 3, 3, 1024)        2098176   \n",
            "                                                                 \n",
            " conv2d_57 (Conv2D)          (None, 3, 3, 1024)        4195328   \n",
            "                                                                 \n",
            " batch_normalization_53 (Bat  (None, 3, 3, 1024)       4096      \n",
            " chNormalization)                                                \n",
            "                                                                 \n",
            " max_pooling2d_29 (MaxPoolin  (None, 1, 1, 1024)       0         \n",
            " g2D)                                                            \n",
            "                                                                 \n",
            " flatten_4 (Flatten)         (None, 1024)              0         \n",
            "                                                                 \n",
            " dense_28 (Dense)            (None, 1024)              1049600   \n",
            "                                                                 \n",
            " batch_normalization_54 (Bat  (None, 1024)             4096      \n",
            " chNormalization)                                                \n",
            "                                                                 \n",
            " dense_29 (Dense)            (None, 512)               524800    \n",
            "                                                                 \n",
            " batch_normalization_55 (Bat  (None, 512)              2048      \n",
            " chNormalization)                                                \n",
            "                                                                 \n",
            " dense_30 (Dense)            (None, 256)               131328    \n",
            "                                                                 \n",
            " batch_normalization_56 (Bat  (None, 256)              1024      \n",
            " chNormalization)                                                \n",
            "                                                                 \n",
            " dense_31 (Dense)            (None, 128)               32896     \n",
            "                                                                 \n",
            " batch_normalization_57 (Bat  (None, 128)              512       \n",
            " chNormalization)                                                \n",
            "                                                                 \n",
            " dense_32 (Dense)            (None, 64)                8256      \n",
            "                                                                 \n",
            " batch_normalization_58 (Bat  (None, 64)               256       \n",
            " chNormalization)                                                \n",
            "                                                                 \n",
            " dense_33 (Dense)            (None, 32)                2080      \n",
            "                                                                 \n",
            " batch_normalization_59 (Bat  (None, 32)               128       \n",
            " chNormalization)                                                \n",
            "                                                                 \n",
            " dense_34 (Dense)            (None, 7)                 231       \n",
            "                                                                 \n",
            "=================================================================\n",
            "Total params: 10,892,487\n",
            "Trainable params: 10,884,423\n",
            "Non-trainable params: 8,064\n",
            "_________________________________________________________________\n"
          ]
        }
      ],
      "source": [
        "network = Sequential()\n",
        "\n",
        "network.add(Conv2D(filters=32, kernel_size=(3,3), activation = 'relu', input_shape = (100,100,3), kernel_initializer=initializer1))\n",
        "network.add(Conv2D(filters=32, kernel_size=(3,3), activation = 'relu', input_shape = (100,100,3), kernel_initializer=initializer1))\n",
        "network.add(Conv2D(filters=32, kernel_size=(1,1), activation = 'relu', input_shape = (100,100,3), kernel_initializer=initializer1))\n",
        "network.add(BatchNormalization())\n",
        "network.add(MaxPool2D(pool_size=(2,2)))\n",
        "\n",
        "network.add(Conv2D(filters=64, kernel_size=(3,3), activation = 'relu', padding='same', kernel_initializer=initializer1))\n",
        "network.add(Conv2D(filters=64, kernel_size=(3,3), activation = 'relu', padding='same', kernel_initializer=initializer1))\n",
        "network.add(Conv2D(filters=64, kernel_size=(1,1), activation = 'relu', input_shape = (100,100,3), kernel_initializer=initializer1))\n",
        "network.add(BatchNormalization())\n",
        "network.add(MaxPool2D(pool_size=(2,2)))\n",
        "\n",
        "network.add(Conv2D(filters=128, kernel_size=(3,3), activation = 'relu', padding='same', kernel_initializer=initializer1))\n",
        "network.add(Conv2D(filters=128, kernel_size=(3,3), activation = 'relu', padding='same', kernel_initializer=initializer1))\n",
        "network.add(Conv2D(filters=128, kernel_size=(1,1), activation = 'relu', padding='same', kernel_initializer=initializer1))\n",
        "network.add(BatchNormalization())\n",
        "network.add(MaxPool2D(pool_size=(2,2)))\n",
        "\n",
        "network.add(Conv2D(filters=256, kernel_size=(3,3), activation = 'relu', padding='same', kernel_initializer=initializer1))\n",
        "network.add(Conv2D(filters=256, kernel_size=(3,3), activation = 'relu', padding='same', kernel_initializer=initializer1))\n",
        "network.add(Conv2D(filters=256, kernel_size=(1,1), activation = 'relu', padding='same', kernel_initializer=initializer1))\n",
        "network.add(BatchNormalization())\n",
        "network.add(MaxPool2D(pool_size=(2,2)))\n",
        "\n",
        "network.add(Conv2D(filters=512, kernel_size=(2,2), activation = 'relu', padding='same', kernel_initializer=initializer1))\n",
        "network.add(Conv2D(filters=512, kernel_size=(2,2), activation = 'relu', padding='same', kernel_initializer=initializer1))\n",
        "network.add(BatchNormalization())\n",
        "network.add(MaxPool2D(pool_size=(2,2)))\n",
        "\n",
        "network.add(Conv2D(filters=1024, kernel_size=(2,2), activation = 'relu', padding='same', kernel_initializer=initializer1))\n",
        "network.add(Conv2D(filters=1024, kernel_size=(2,2), activation = 'relu', padding='same', kernel_initializer=initializer1))\n",
        "network.add(BatchNormalization())\n",
        "network.add(MaxPool2D(pool_size=(2,2)))\n",
        "\n",
        "network.add(Flatten())\n",
        "\n",
        "#network.add(Dropout(0.2))\n",
        "\n",
        "network.add(Dense(units = 1024, activation = 'relu', kernel_initializer=initializer1))\n",
        "network.add(BatchNormalization())\n",
        "network.add(Dense(units = 512, activation = 'relu', kernel_initializer=initializer1))\n",
        "network.add(BatchNormalization())\n",
        "network.add(Dense(units = 256, activation = 'relu', kernel_initializer=initializer1))\n",
        "network.add(BatchNormalization())\n",
        "network.add(Dense(units = 128, activation = 'relu', kernel_initializer=initializer1))\n",
        "network.add(BatchNormalization())\n",
        "network.add(Dense(units = 64, activation = 'relu', kernel_initializer=initializer1))\n",
        "network.add(BatchNormalization())\n",
        "network.add(Dense(units = 32, activation = 'relu', kernel_initializer=initializer1, kernel_regularizer=tf.keras.regularizers.L1L2()))\n",
        "network.add(BatchNormalization())\n",
        "network.add(Dense(units = 7, activation = 'softmax', kernel_initializer=initializer2))\n",
        "network.summary()"
      ]
    },
    {
      "cell_type": "code",
      "execution_count": 38,
      "metadata": {
        "id": "6viOH_kUE4Bq"
      },
      "outputs": [],
      "source": [
        "from tensorflow.keras.optimizers import Adam\n",
        "#opt = Adam(lr=0.005)\n",
        "opt = Adam()\n",
        "network.compile(optimizer='Adam', loss='categorical_crossentropy', metrics = ['accuracy'])\n"
      ]
    },
    {
      "cell_type": "code",
      "execution_count": 39,
      "metadata": {
        "id": "5IXmjfYmbuYh"
      },
      "outputs": [],
      "source": [
        "es = EarlyStopping(monitor = 'val_accuracy', min_delta = 0.001, patience = 20, verbose =1)\n",
        "model_cp = ModelCheckpoint(filepath = 'best_model1.h5', monitor = 'val_accuracy', save_best_only = True, verbose = 1)\n",
        "learning_rate_reduction = ReduceLROnPlateau(monitor='val_accuracy', patience = 5, verbose=1, factor=0.5, min_lr=0.00001)"
      ]
    },
    {
      "cell_type": "code",
      "execution_count": 40,
      "metadata": {
        "colab": {
          "base_uri": "https://localhost:8080/"
        },
        "id": "Uk8BSV5gGazz",
        "outputId": "cb528912-7586-49c6-cb31-ab19893cb8a1"
      },
      "outputs": [
        {
          "output_type": "stream",
          "name": "stdout",
          "text": [
            "Epoch 1/100\n"
          ]
        },
        {
          "output_type": "stream",
          "name": "stderr",
          "text": [
            "<ipython-input-40-d45876fe1552>:1: UserWarning: `Model.fit_generator` is deprecated and will be removed in a future version. Please use `Model.fit`, which supports generators.\n",
            "  history = network.fit_generator(train_dataset,\n"
          ]
        },
        {
          "output_type": "stream",
          "name": "stdout",
          "text": [
            "50/50 [==============================] - ETA: 0s - loss: 2.1679 - accuracy: 0.1800\n",
            "Epoch 1: val_accuracy improved from -inf to 0.24000, saving model to best_model1.h5\n",
            "50/50 [==============================] - 57s 1s/step - loss: 2.1679 - accuracy: 0.1800 - val_loss: 20.9870 - val_accuracy: 0.2400 - lr: 0.0010\n",
            "Epoch 2/100\n",
            "50/50 [==============================] - ETA: 0s - loss: 1.7837 - accuracy: 0.3460\n",
            "Epoch 2: val_accuracy did not improve from 0.24000\n",
            "50/50 [==============================] - 53s 1s/step - loss: 1.7837 - accuracy: 0.3460 - val_loss: 2.3441 - val_accuracy: 0.1800 - lr: 0.0010\n",
            "Epoch 3/100\n",
            "50/50 [==============================] - ETA: 0s - loss: 1.7316 - accuracy: 0.3600\n",
            "Epoch 3: val_accuracy improved from 0.24000 to 0.26000, saving model to best_model1.h5\n",
            "50/50 [==============================] - 54s 1s/step - loss: 1.7316 - accuracy: 0.3600 - val_loss: 2.0154 - val_accuracy: 0.2600 - lr: 0.0010\n",
            "Epoch 4/100\n",
            "50/50 [==============================] - ETA: 0s - loss: 1.6058 - accuracy: 0.3700\n",
            "Epoch 4: val_accuracy did not improve from 0.26000\n",
            "50/50 [==============================] - 52s 1s/step - loss: 1.6058 - accuracy: 0.3700 - val_loss: 2.4694 - val_accuracy: 0.1600 - lr: 0.0010\n",
            "Epoch 5/100\n",
            "50/50 [==============================] - ETA: 0s - loss: 1.5894 - accuracy: 0.3920\n",
            "Epoch 5: val_accuracy did not improve from 0.26000\n",
            "50/50 [==============================] - 53s 1s/step - loss: 1.5894 - accuracy: 0.3920 - val_loss: 2.6477 - val_accuracy: 0.2200 - lr: 0.0010\n",
            "Epoch 6/100\n",
            "50/50 [==============================] - ETA: 0s - loss: 1.4460 - accuracy: 0.4540\n",
            "Epoch 6: val_accuracy did not improve from 0.26000\n",
            "50/50 [==============================] - 53s 1s/step - loss: 1.4460 - accuracy: 0.4540 - val_loss: 2.3982 - val_accuracy: 0.1200 - lr: 0.0010\n",
            "Epoch 7/100\n",
            "50/50 [==============================] - ETA: 0s - loss: 1.3799 - accuracy: 0.4460\n",
            "Epoch 7: val_accuracy improved from 0.26000 to 0.30000, saving model to best_model1.h5\n",
            "50/50 [==============================] - 52s 1s/step - loss: 1.3799 - accuracy: 0.4460 - val_loss: 2.1586 - val_accuracy: 0.3000 - lr: 0.0010\n",
            "Epoch 8/100\n",
            "50/50 [==============================] - ETA: 0s - loss: 1.3214 - accuracy: 0.5100\n",
            "Epoch 8: val_accuracy did not improve from 0.30000\n",
            "50/50 [==============================] - 54s 1s/step - loss: 1.3214 - accuracy: 0.5100 - val_loss: 2.0699 - val_accuracy: 0.2000 - lr: 0.0010\n",
            "Epoch 9/100\n",
            "50/50 [==============================] - ETA: 0s - loss: 1.3412 - accuracy: 0.4820\n",
            "Epoch 9: val_accuracy improved from 0.30000 to 0.42000, saving model to best_model1.h5\n",
            "50/50 [==============================] - 53s 1s/step - loss: 1.3412 - accuracy: 0.4820 - val_loss: 1.4121 - val_accuracy: 0.4200 - lr: 0.0010\n",
            "Epoch 10/100\n",
            "50/50 [==============================] - ETA: 0s - loss: 1.3598 - accuracy: 0.4900\n",
            "Epoch 10: val_accuracy improved from 0.42000 to 0.56000, saving model to best_model1.h5\n",
            "50/50 [==============================] - 52s 1s/step - loss: 1.3598 - accuracy: 0.4900 - val_loss: 1.1755 - val_accuracy: 0.5600 - lr: 0.0010\n",
            "Epoch 11/100\n",
            "50/50 [==============================] - ETA: 0s - loss: 1.3260 - accuracy: 0.4980\n",
            "Epoch 11: val_accuracy improved from 0.56000 to 0.64000, saving model to best_model1.h5\n",
            "50/50 [==============================] - 53s 1s/step - loss: 1.3260 - accuracy: 0.4980 - val_loss: 1.0281 - val_accuracy: 0.6400 - lr: 0.0010\n",
            "Epoch 12/100\n",
            "50/50 [==============================] - ETA: 0s - loss: 1.2771 - accuracy: 0.5380\n",
            "Epoch 12: val_accuracy did not improve from 0.64000\n",
            "50/50 [==============================] - 53s 1s/step - loss: 1.2771 - accuracy: 0.5380 - val_loss: 1.1494 - val_accuracy: 0.6000 - lr: 0.0010\n",
            "Epoch 13/100\n",
            "50/50 [==============================] - ETA: 0s - loss: 1.2617 - accuracy: 0.5220\n",
            "Epoch 13: val_accuracy did not improve from 0.64000\n",
            "50/50 [==============================] - 52s 1s/step - loss: 1.2617 - accuracy: 0.5220 - val_loss: 0.9921 - val_accuracy: 0.5600 - lr: 0.0010\n",
            "Epoch 14/100\n",
            "50/50 [==============================] - ETA: 0s - loss: 1.2234 - accuracy: 0.5240\n",
            "Epoch 14: val_accuracy improved from 0.64000 to 0.68000, saving model to best_model1.h5\n",
            "50/50 [==============================] - 53s 1s/step - loss: 1.2234 - accuracy: 0.5240 - val_loss: 0.9575 - val_accuracy: 0.6800 - lr: 0.0010\n",
            "Epoch 15/100\n",
            "50/50 [==============================] - ETA: 0s - loss: 1.2543 - accuracy: 0.5400\n",
            "Epoch 15: val_accuracy did not improve from 0.68000\n",
            "50/50 [==============================] - 54s 1s/step - loss: 1.2543 - accuracy: 0.5400 - val_loss: 0.9824 - val_accuracy: 0.6000 - lr: 0.0010\n",
            "Epoch 16/100\n",
            "50/50 [==============================] - ETA: 0s - loss: 1.2820 - accuracy: 0.5120\n",
            "Epoch 16: val_accuracy did not improve from 0.68000\n",
            "50/50 [==============================] - 52s 1s/step - loss: 1.2820 - accuracy: 0.5120 - val_loss: 1.2349 - val_accuracy: 0.5000 - lr: 0.0010\n",
            "Epoch 17/100\n",
            "50/50 [==============================] - ETA: 0s - loss: 1.1755 - accuracy: 0.5740\n",
            "Epoch 17: val_accuracy did not improve from 0.68000\n",
            "50/50 [==============================] - 52s 1s/step - loss: 1.1755 - accuracy: 0.5740 - val_loss: 1.3364 - val_accuracy: 0.5200 - lr: 0.0010\n",
            "Epoch 18/100\n",
            "50/50 [==============================] - ETA: 0s - loss: 1.2429 - accuracy: 0.5440\n",
            "Epoch 18: val_accuracy did not improve from 0.68000\n",
            "50/50 [==============================] - 53s 1s/step - loss: 1.2429 - accuracy: 0.5440 - val_loss: 1.1427 - val_accuracy: 0.6400 - lr: 0.0010\n",
            "Epoch 19/100\n",
            "50/50 [==============================] - ETA: 0s - loss: 1.1874 - accuracy: 0.5680\n",
            "Epoch 19: val_accuracy did not improve from 0.68000\n",
            "\n",
            "Epoch 19: ReduceLROnPlateau reducing learning rate to 0.0005000000237487257.\n",
            "50/50 [==============================] - 52s 1s/step - loss: 1.1874 - accuracy: 0.5680 - val_loss: 0.9252 - val_accuracy: 0.5600 - lr: 0.0010\n",
            "Epoch 20/100\n",
            "50/50 [==============================] - ETA: 0s - loss: 1.1232 - accuracy: 0.5820\n",
            "Epoch 20: val_accuracy did not improve from 0.68000\n",
            "50/50 [==============================] - 54s 1s/step - loss: 1.1232 - accuracy: 0.5820 - val_loss: 0.9203 - val_accuracy: 0.6800 - lr: 5.0000e-04\n",
            "Epoch 21/100\n",
            "50/50 [==============================] - ETA: 0s - loss: 1.1266 - accuracy: 0.6040\n",
            "Epoch 21: val_accuracy improved from 0.68000 to 0.72000, saving model to best_model1.h5\n",
            "50/50 [==============================] - 53s 1s/step - loss: 1.1266 - accuracy: 0.6040 - val_loss: 0.7723 - val_accuracy: 0.7200 - lr: 5.0000e-04\n",
            "Epoch 22/100\n",
            "50/50 [==============================] - ETA: 0s - loss: 1.1417 - accuracy: 0.5920\n",
            "Epoch 22: val_accuracy improved from 0.72000 to 0.86000, saving model to best_model1.h5\n",
            "50/50 [==============================] - 52s 1s/step - loss: 1.1417 - accuracy: 0.5920 - val_loss: 0.6092 - val_accuracy: 0.8600 - lr: 5.0000e-04\n",
            "Epoch 23/100\n",
            "50/50 [==============================] - ETA: 0s - loss: 1.0935 - accuracy: 0.5880\n",
            "Epoch 23: val_accuracy did not improve from 0.86000\n",
            "50/50 [==============================] - 54s 1s/step - loss: 1.0935 - accuracy: 0.5880 - val_loss: 0.8437 - val_accuracy: 0.6400 - lr: 5.0000e-04\n",
            "Epoch 24/100\n",
            "50/50 [==============================] - ETA: 0s - loss: 0.9995 - accuracy: 0.6460\n",
            "Epoch 24: val_accuracy did not improve from 0.86000\n",
            "50/50 [==============================] - 52s 1s/step - loss: 0.9995 - accuracy: 0.6460 - val_loss: 1.0102 - val_accuracy: 0.7600 - lr: 5.0000e-04\n",
            "Epoch 25/100\n",
            "50/50 [==============================] - ETA: 0s - loss: 1.0967 - accuracy: 0.6040\n",
            "Epoch 25: val_accuracy did not improve from 0.86000\n",
            "50/50 [==============================] - 52s 1s/step - loss: 1.0967 - accuracy: 0.6040 - val_loss: 1.1485 - val_accuracy: 0.5800 - lr: 5.0000e-04\n",
            "Epoch 26/100\n",
            "50/50 [==============================] - ETA: 0s - loss: 1.0657 - accuracy: 0.6060\n",
            "Epoch 26: val_accuracy did not improve from 0.86000\n",
            "50/50 [==============================] - 53s 1s/step - loss: 1.0657 - accuracy: 0.6060 - val_loss: 0.9002 - val_accuracy: 0.6200 - lr: 5.0000e-04\n",
            "Epoch 27/100\n",
            "50/50 [==============================] - ETA: 0s - loss: 1.0572 - accuracy: 0.6280\n",
            "Epoch 27: val_accuracy did not improve from 0.86000\n",
            "\n",
            "Epoch 27: ReduceLROnPlateau reducing learning rate to 0.0002500000118743628.\n",
            "50/50 [==============================] - 54s 1s/step - loss: 1.0572 - accuracy: 0.6280 - val_loss: 1.0256 - val_accuracy: 0.6200 - lr: 5.0000e-04\n",
            "Epoch 28/100\n",
            "50/50 [==============================] - ETA: 0s - loss: 0.9336 - accuracy: 0.6760\n",
            "Epoch 28: val_accuracy did not improve from 0.86000\n",
            "50/50 [==============================] - 52s 1s/step - loss: 0.9336 - accuracy: 0.6760 - val_loss: 0.7540 - val_accuracy: 0.6800 - lr: 2.5000e-04\n",
            "Epoch 29/100\n",
            "50/50 [==============================] - ETA: 0s - loss: 1.0051 - accuracy: 0.6325\n",
            "Epoch 29: val_accuracy did not improve from 0.86000\n",
            "50/50 [==============================] - 53s 1s/step - loss: 1.0051 - accuracy: 0.6325 - val_loss: 0.6899 - val_accuracy: 0.8200 - lr: 2.5000e-04\n",
            "Epoch 30/100\n",
            "50/50 [==============================] - ETA: 0s - loss: 1.0387 - accuracy: 0.6160\n",
            "Epoch 30: val_accuracy did not improve from 0.86000\n",
            "50/50 [==============================] - 52s 1s/step - loss: 1.0387 - accuracy: 0.6160 - val_loss: 0.8461 - val_accuracy: 0.7200 - lr: 2.5000e-04\n",
            "Epoch 31/100\n",
            "50/50 [==============================] - ETA: 0s - loss: 0.8764 - accuracy: 0.7260\n",
            "Epoch 31: val_accuracy did not improve from 0.86000\n",
            "50/50 [==============================] - 53s 1s/step - loss: 0.8764 - accuracy: 0.7260 - val_loss: 0.9897 - val_accuracy: 0.6200 - lr: 2.5000e-04\n",
            "Epoch 32/100\n",
            "50/50 [==============================] - ETA: 0s - loss: 0.9626 - accuracy: 0.6580\n",
            "Epoch 32: val_accuracy did not improve from 0.86000\n",
            "\n",
            "Epoch 32: ReduceLROnPlateau reducing learning rate to 0.0001250000059371814.\n",
            "50/50 [==============================] - 54s 1s/step - loss: 0.9626 - accuracy: 0.6580 - val_loss: 0.8364 - val_accuracy: 0.7000 - lr: 2.5000e-04\n",
            "Epoch 33/100\n",
            "50/50 [==============================] - ETA: 0s - loss: 1.0363 - accuracy: 0.6340\n",
            "Epoch 33: val_accuracy did not improve from 0.86000\n",
            "50/50 [==============================] - 52s 1s/step - loss: 1.0363 - accuracy: 0.6340 - val_loss: 0.9386 - val_accuracy: 0.6000 - lr: 1.2500e-04\n",
            "Epoch 34/100\n",
            "50/50 [==============================] - ETA: 0s - loss: 0.9498 - accuracy: 0.6700\n",
            "Epoch 34: val_accuracy did not improve from 0.86000\n",
            "50/50 [==============================] - 53s 1s/step - loss: 0.9498 - accuracy: 0.6700 - val_loss: 0.7532 - val_accuracy: 0.7400 - lr: 1.2500e-04\n",
            "Epoch 35/100\n",
            "50/50 [==============================] - ETA: 0s - loss: 0.9697 - accuracy: 0.6520\n",
            "Epoch 35: val_accuracy did not improve from 0.86000\n",
            "50/50 [==============================] - 52s 1s/step - loss: 0.9697 - accuracy: 0.6520 - val_loss: 0.8756 - val_accuracy: 0.6600 - lr: 1.2500e-04\n",
            "Epoch 36/100\n",
            "50/50 [==============================] - ETA: 0s - loss: 0.9941 - accuracy: 0.6380\n",
            "Epoch 36: val_accuracy did not improve from 0.86000\n",
            "50/50 [==============================] - 52s 1s/step - loss: 0.9941 - accuracy: 0.6380 - val_loss: 0.7470 - val_accuracy: 0.6600 - lr: 1.2500e-04\n",
            "Epoch 37/100\n",
            "50/50 [==============================] - ETA: 0s - loss: 0.9383 - accuracy: 0.6560\n",
            "Epoch 37: val_accuracy did not improve from 0.86000\n",
            "\n",
            "Epoch 37: ReduceLROnPlateau reducing learning rate to 6.25000029685907e-05.\n",
            "50/50 [==============================] - 53s 1s/step - loss: 0.9383 - accuracy: 0.6560 - val_loss: 0.7830 - val_accuracy: 0.8400 - lr: 1.2500e-04\n",
            "Epoch 38/100\n",
            "50/50 [==============================] - ETA: 0s - loss: 0.9250 - accuracy: 0.6800\n",
            "Epoch 38: val_accuracy did not improve from 0.86000\n",
            "50/50 [==============================] - 52s 1s/step - loss: 0.9250 - accuracy: 0.6800 - val_loss: 0.8431 - val_accuracy: 0.6400 - lr: 6.2500e-05\n",
            "Epoch 39/100\n",
            "50/50 [==============================] - ETA: 0s - loss: 0.9635 - accuracy: 0.6600\n",
            "Epoch 39: val_accuracy did not improve from 0.86000\n",
            "50/50 [==============================] - 53s 1s/step - loss: 0.9635 - accuracy: 0.6600 - val_loss: 0.7103 - val_accuracy: 0.7400 - lr: 6.2500e-05\n",
            "Epoch 40/100\n",
            "50/50 [==============================] - ETA: 0s - loss: 1.0189 - accuracy: 0.6240\n",
            "Epoch 40: val_accuracy did not improve from 0.86000\n",
            "50/50 [==============================] - 53s 1s/step - loss: 1.0189 - accuracy: 0.6240 - val_loss: 0.6795 - val_accuracy: 0.7400 - lr: 6.2500e-05\n",
            "Epoch 41/100\n",
            "50/50 [==============================] - ETA: 0s - loss: 0.9770 - accuracy: 0.6340\n",
            "Epoch 41: val_accuracy did not improve from 0.86000\n",
            "50/50 [==============================] - 52s 1s/step - loss: 0.9770 - accuracy: 0.6340 - val_loss: 0.5754 - val_accuracy: 0.8400 - lr: 6.2500e-05\n",
            "Epoch 42/100\n",
            "50/50 [==============================] - ETA: 0s - loss: 0.9030 - accuracy: 0.6780\n",
            "Epoch 42: val_accuracy did not improve from 0.86000\n",
            "\n",
            "Epoch 42: ReduceLROnPlateau reducing learning rate to 3.125000148429535e-05.\n",
            "50/50 [==============================] - 52s 1s/step - loss: 0.9030 - accuracy: 0.6780 - val_loss: 0.6973 - val_accuracy: 0.7400 - lr: 6.2500e-05\n",
            "Epoch 42: early stopping\n"
          ]
        }
      ],
      "source": [
        "history = network.fit_generator(train_dataset,\n",
        "                                steps_per_epoch = 50,\n",
        "                                validation_data = validation_dataset,\n",
        "                                validation_steps = 50,\n",
        "                                epochs=100,\n",
        "                                callbacks=[es, model_cp, learning_rate_reduction])"
      ]
    },
    {
      "cell_type": "markdown",
      "metadata": {
        "id": "0yfuhbovltQA"
      },
      "source": []
    },
    {
      "cell_type": "code",
      "execution_count": 41,
      "metadata": {
        "id": "4xXIb__YN8jO"
      },
      "outputs": [],
      "source": [
        "predictions=network.predict(test_datatset)\n",
        "predictions = np.argmax(predictions, axis=1)"
      ]
    },
    {
      "cell_type": "code",
      "execution_count": 42,
      "metadata": {
        "colab": {
          "base_uri": "https://localhost:8080/"
        },
        "id": "MfitKd4WOO0c",
        "outputId": "2595ac24-7a26-459c-8727-9997c6036c06"
      },
      "outputs": [
        {
          "output_type": "execute_result",
          "data": {
            "text/plain": [
              "0.754297994269341"
            ]
          },
          "metadata": {},
          "execution_count": 42
        }
      ],
      "source": [
        "from sklearn.metrics import accuracy_score\n",
        "accuracy_score(test_datatset.classes, predictions)"
      ]
    },
    {
      "cell_type": "code",
      "execution_count": 43,
      "metadata": {
        "colab": {
          "base_uri": "https://localhost:8080/",
          "height": 430
        },
        "id": "CwufQs6AOjVu",
        "outputId": "7a90a8a7-ff4e-4ab6-c5cf-aa310e3f7489"
      },
      "outputs": [
        {
          "output_type": "display_data",
          "data": {
            "text/plain": [
              "<Figure size 640x480 with 2 Axes>"
            ],
            "image/png": "[encoded data removed]"
          },
          "metadata": {}
        }
      ],
      "source": [
        "from sklearn.metrics import confusion_matrix\n",
        "cm = confusion_matrix(test_datatset.classes, predictions)\n",
        "sns.heatmap(cm, annot=True);"
      ]
    },
    {
      "cell_type": "code",
      "execution_count": 44,
      "metadata": {
        "colab": {
          "base_uri": "https://localhost:8080/"
        },
        "id": "lfg484OCPGqq",
        "outputId": "2a8530c3-9cd5-413d-f487-799f86777130"
      },
      "outputs": [
        {
          "output_type": "stream",
          "name": "stdout",
          "text": [
            "              precision    recall  f1-score   support\n",
            "\n",
            "           0       0.77      0.94      0.85       198\n",
            "           1       0.96      0.99      0.98       200\n",
            "           2       0.66      0.69      0.67       200\n",
            "           3       0.60      0.39      0.47       199\n",
            "           4       0.80      0.80      0.80       200\n",
            "           5       0.67      0.69      0.68       199\n",
            "           6       0.76      0.78      0.77       200\n",
            "\n",
            "    accuracy                           0.75      1396\n",
            "   macro avg       0.75      0.75      0.75      1396\n",
            "weighted avg       0.75      0.75      0.75      1396\n",
            "\n"
          ]
        }
      ],
      "source": [
        "from sklearn.metrics import classification_report\n",
        "print(classification_report(test_datatset.classes, predictions))"
      ]
    },
    {
      "cell_type": "code",
      "execution_count": 45,
      "metadata": {
        "colab": {
          "base_uri": "https://localhost:8080/",
          "height": 472
        },
        "id": "AwBdQqe9Porm",
        "outputId": "f038d353-a7b1-4c88-9c99-a9d77afb3a58"
      },
      "outputs": [
        {
          "output_type": "display_data",
          "data": {
            "text/plain": [
              "<Figure size 640x480 with 1 Axes>"
            ],
            "image/png": "[encoded data removed]"
          },
          "metadata": {}
        }
      ],
      "source": [
        "plt.plot(history.history['accuracy'])\n",
        "plt.plot(history.history['val_accuracy'])\n",
        "plt.title('model accuracy')\n",
        "plt.ylabel('accuracy')\n",
        "plt.xlabel('epoch')\n",
        "plt.legend(['train', 'val'], loc='upper left')\n",
        "plt.show()"
      ]
    },
    {
      "cell_type": "code",
      "execution_count": 46,
      "metadata": {
        "colab": {
          "base_uri": "https://localhost:8080/",
          "height": 472
        },
        "id": "vVr7AUw8SNre",
        "outputId": "db72840b-c981-4467-db10-fc6d26f72983"
      },
      "outputs": [
        {
          "output_type": "display_data",
          "data": {
            "text/plain": [
              "<Figure size 640x480 with 1 Axes>"
            ],
            "image/png": "[encoded data removed]"
          },
          "metadata": {}
        }
      ],
      "source": [
        "plt.plot(history.history['loss'])\n",
        "plt.plot(history.history['val_loss'])\n",
        "plt.title('model loss')\n",
        "plt.ylabel('loss')\n",
        "plt.xlabel('epoch')\n",
        "plt.legend(['train', 'val'], loc='upper left')\n",
        "plt.show()"
      ]
    },
    {
      "cell_type": "code",
      "execution_count": 47,
      "metadata": {
        "id": "pnmlR6M8gih2"
      },
      "outputs": [],
      "source": [
        "from tensorflow.keras.models import load_model\n",
        "model = load_model('/content/best_model1.h5')"
      ]
    },
    {
      "cell_type": "code",
      "execution_count": 48,
      "metadata": {
        "colab": {
          "base_uri": "https://localhost:8080/"
        },
        "id": "P5SUDIaUg8-G",
        "outputId": "3de307b0-edbc-4b44-9b1b-81e53b16e858"
      },
      "outputs": [
        {
          "output_type": "stream",
          "name": "stdout",
          "text": [
            "1396/1396 [==============================] - 40s 28ms/step - loss: 0.8160 - accuracy: 0.7221\n"
          ]
        },
        {
          "output_type": "execute_result",
          "data": {
            "text/plain": [
              "[0.8159525990486145, 0.7220630645751953]"
            ]
          },
          "metadata": {},
          "execution_count": 48
        }
      ],
      "source": [
        "model.evaluate(test_datatset)"
      ]
    },
    {
      "cell_type": "code",
      "execution_count": 49,
      "metadata": {
        "colab": {
          "base_uri": "https://localhost:8080/",
          "height": 430
        },
        "id": "Zqq4ec2JhKgt",
        "outputId": "c28cacf4-b0d1-40c0-91e6-a1aced22aafb"
      },
      "outputs": [
        {
          "output_type": "display_data",
          "data": {
            "text/plain": [
              "<Figure size 640x480 with 2 Axes>"
            ],
            "image/png": "[encoded data removed]"
          },
          "metadata": {}
        }
      ],
      "source": [
        "pred = model.predict(test_datatset)\n",
        "pred = np.argmax(pred, axis=1)\n",
        "cm = confusion_matrix(test_datatset.classes, pred)\n",
        "sns.heatmap(cm, annot=True);"
      ]
    },
    {
      "cell_type": "code",
      "execution_count": 50,
      "metadata": {
        "colab": {
          "base_uri": "https://localhost:8080/"
        },
        "id": "e2TSljdej81S",
        "outputId": "989e7f4d-71f2-4fe9-b045-84e6e73f9bbc"
      },
      "outputs": [
        {
          "output_type": "stream",
          "name": "stdout",
          "text": [
            "              precision    recall  f1-score   support\n",
            "\n",
            "           0       0.76      0.92      0.84       198\n",
            "           1       0.97      0.98      0.97       200\n",
            "           2       0.56      0.61      0.58       200\n",
            "           3       0.56      0.40      0.47       199\n",
            "           4       0.76      0.84      0.80       200\n",
            "           5       0.68      0.57      0.62       199\n",
            "           6       0.72      0.72      0.72       200\n",
            "\n",
            "    accuracy                           0.72      1396\n",
            "   macro avg       0.71      0.72      0.71      1396\n",
            "weighted avg       0.71      0.72      0.71      1396\n",
            "\n"
          ]
        }
      ],
      "source": [
        "print(classification_report(test_datatset.classes, pred))"
      ]
    },
    {
      "cell_type": "code",
      "execution_count": 51,
      "metadata": {
        "id": "jzbwiv0ikEVG"
      },
      "outputs": [],
      "source": [
        "network.save('network.h5')"
      ]
    },
    {
      "cell_type": "code",
      "execution_count": 52,
      "metadata": {
        "id": "mTxEZdsQtlC4"
      },
      "outputs": [],
      "source": [
        "net = load_model('/content/network.h5')"
      ]
    },
    {
      "cell_type": "code",
      "execution_count": 53,
      "metadata": {
        "colab": {
          "base_uri": "https://localhost:8080/"
        },
        "id": "JgEg6VxztpAx",
        "outputId": "ac2bfbda-6cd4-485c-f8cf-5e582fefec8e"
      },
      "outputs": [
        {
          "output_type": "stream",
          "name": "stdout",
          "text": [
            "1396/1396 [==============================] - 42s 30ms/step - loss: 0.7102 - accuracy: 0.7543\n"
          ]
        },
        {
          "output_type": "execute_result",
          "data": {
            "text/plain": [
              "[0.7101725339889526, 0.7542979717254639]"
            ]
          },
          "metadata": {},
          "execution_count": 53
        }
      ],
      "source": [
        "net.evaluate(test_datatset)"
      ]
    },
    {
      "cell_type": "code",
      "execution_count": 54,
      "metadata": {
        "colab": {
          "base_uri": "https://localhost:8080/",
          "height": 430
        },
        "id": "6wbroQ7EvUvp",
        "outputId": "caa52e30-d1ec-4b08-a3f4-32e1656774fc"
      },
      "outputs": [
        {
          "output_type": "display_data",
          "data": {
            "text/plain": [
              "<Figure size 640x480 with 2 Axes>"
            ],
            "image/png": "[encoded data removed]"
          },
          "metadata": {}
        }
      ],
      "source": [
        "pre = net.predict(test_datatset)\n",
        "pre = np.argmax(pre, axis=1)\n",
        "cm = confusion_matrix(test_datatset.classes, pre)\n",
        "sns.heatmap(cm, annot=True);"
      ]
    },
    {
      "cell_type": "code",
      "execution_count": 56,
      "metadata": {
        "colab": {
          "base_uri": "https://localhost:8080/"
        },
        "id": "0c6L1deT_TAY",
        "outputId": "d980f9dc-5368-46f6-b003-8da01455ed6c"
      },
      "outputs": [
        {
          "output_type": "stream",
          "name": "stdout",
          "text": [
            "              precision    recall  f1-score   support\n",
            "\n",
            "           0       0.76      0.92      0.84       198\n",
            "           1       0.97      0.98      0.97       200\n",
            "           2       0.56      0.61      0.58       200\n",
            "           3       0.56      0.40      0.47       199\n",
            "           4       0.76      0.84      0.80       200\n",
            "           5       0.68      0.57      0.62       199\n",
            "           6       0.72      0.72      0.72       200\n",
            "\n",
            "    accuracy                           0.72      1396\n",
            "   macro avg       0.71      0.72      0.71      1396\n",
            "weighted avg       0.71      0.72      0.71      1396\n",
            "\n"
          ]
        }
      ],
      "source": [
        "print(classification_report(test_datatset.classes, pred))"
      ]
    },
    {
      "cell_type": "markdown",
      "source": [],
      "metadata": {
        "id": "I501GKF6LLsg"
      }
    }
  ],
  "metadata": {
    "colab": {
      "provenance": [],
      "include_colab_link": true
    },
    "kernelspec": {
      "display_name": "Python 3",
      "name": "python3"
    },
    "language_info": {
      "name": "python"
    }
  },
  "nbformat": 4,
  "nbformat_minor": 0
}